{
 "cells": [
  {
   "cell_type": "code",
   "execution_count": 225,
   "metadata": {},
   "outputs": [
    {
     "data": {
      "text/html": [
       "<script type=\"text/javascript\">window.PlotlyConfig = {MathJaxConfig: 'local'};</script><script type=\"text/javascript\">if (window.MathJax) {MathJax.Hub.Config({SVG: {font: \"STIX-Web\"}});}</script><script>requirejs.config({paths: { 'plotly': ['https://cdn.plot.ly/plotly-latest.min']},});if(!window._Plotly) {require(['plotly'],function(plotly) {window._Plotly=plotly;});}</script>"
      ],
      "text/vnd.plotly.v1+html": [
       "<script type=\"text/javascript\">window.PlotlyConfig = {MathJaxConfig: 'local'};</script><script type=\"text/javascript\">if (window.MathJax) {MathJax.Hub.Config({SVG: {font: \"STIX-Web\"}});}</script><script>requirejs.config({paths: { 'plotly': ['https://cdn.plot.ly/plotly-latest.min']},});if(!window._Plotly) {require(['plotly'],function(plotly) {window._Plotly=plotly;});}</script>"
      ]
     },
     "metadata": {},
     "output_type": "display_data"
    },
    {
     "data": {
      "text/html": [
       "<script type=\"text/javascript\">window.PlotlyConfig = {MathJaxConfig: 'local'};</script><script type=\"text/javascript\">if (window.MathJax) {MathJax.Hub.Config({SVG: {font: \"STIX-Web\"}});}</script><script>requirejs.config({paths: { 'plotly': ['https://cdn.plot.ly/plotly-latest.min']},});if(!window._Plotly) {require(['plotly'],function(plotly) {window._Plotly=plotly;});}</script>"
      ],
      "text/vnd.plotly.v1+html": [
       "<script type=\"text/javascript\">window.PlotlyConfig = {MathJaxConfig: 'local'};</script><script type=\"text/javascript\">if (window.MathJax) {MathJax.Hub.Config({SVG: {font: \"STIX-Web\"}});}</script><script>requirejs.config({paths: { 'plotly': ['https://cdn.plot.ly/plotly-latest.min']},});if(!window._Plotly) {require(['plotly'],function(plotly) {window._Plotly=plotly;});}</script>"
      ]
     },
     "metadata": {},
     "output_type": "display_data"
    }
   ],
   "source": [
    "import pandas as pd\n",
    "import numpy as np\n",
    "\n",
    "#importing plotly and cufflinks in offline mode\n",
    "import plotly.plotly as py\n",
    "import plotly.graph_objs as go\n",
    "import cufflinks\n",
    "import plotly.offline as pyo\n",
    "from plotly.offline import plot, iplot, init_notebook_mode\n",
    "pyo.init_notebook_mode(connected=True)\n",
    "cufflinks.go_offline(connected=True)\n",
    "cufflinks.set_config_file(world_readable=True, theme='white')"
   ]
  },
  {
   "cell_type": "code",
   "execution_count": 226,
   "metadata": {},
   "outputs": [],
   "source": [
    "#Read CBC output file\n",
    "df = pd.read_csv(r'C:\\Users\\abhis\\Downloads\\vietnam_clews_18-03_v5\\res\\cbcoutput.txt', sep='\\t')"
   ]
  },
  {
   "cell_type": "code",
   "execution_count": 227,
   "metadata": {},
   "outputs": [],
   "source": [
    "df.columns = ['temp']\n",
    "df[['temp','value']] = df['temp'].str.split(')', expand=True)\n",
    "df = df.applymap(lambda x: x.strip() if isinstance(x,str) else x)\n",
    "df[['temp','parameter']] = df['temp'].str.split(' ', expand=True)\n",
    "df[['parameter','id']] = df['parameter'].str.split('(', expand=True)\n",
    "df['value'] = df['value'].str.replace(' 0','')\n",
    "df = df.drop('temp', axis=1)\n",
    "df = df[~df['value'].str.contains('e-')]"
   ]
  },
  {
   "cell_type": "code",
   "execution_count": 228,
   "metadata": {},
   "outputs": [],
   "source": [
    "params = df.parameter.unique()\n",
    "all_params = {}\n",
    "cols = {'NewCapacity':['r','t','y'],\n",
    "            'AccumulatedNewCapacity':['r','t','y'], \n",
    "            'TotalCapacityAnnual':['r','t','y'],\n",
    "            'CapitalInvestment':['r','t','y'],\n",
    "            'AnnualVariableOperatingCost':['r','t','y'],\n",
    "            'AnnualFixedOperatingCost':['r','t','y'],\n",
    "            'SalvageValue':['r','t','y'],\n",
    "            'DiscountedSalvageValue':['r','t','y'],\n",
    "            'TotalTechnologyAnnualActivity':['r','t','y'],\n",
    "            'RateOfActivity':['r','l','t','m','y'],\n",
    "            'RateOfTotalActivity':['r','t','l','y'],\n",
    "            'Demand':['r','l','f','y'],\n",
    "            'TotalAnnualTechnologyActivityByMode':['r','t','m','y'],\n",
    "            'TotalTechnologyModelPeriodActivity':['r','t'],\n",
    "            'ProductionByTechnologyAnnual':['r','t','f','y'],\n",
    "            'AnnualTechnologyEmissionByMode':['r','t','e','m','y'],\n",
    "            'AnnualTechnologyEmission':['r','t','e','y'],\n",
    "            'AnnualEmissions':['r','e','y']}\n",
    "\n",
    "for each in params:\n",
    "    df_p = df[df.parameter == each]\n",
    "    df_p[cols[each]] = df_p['id'].str.split(',',expand=True)\n",
    "    cols[each].append('value')\n",
    "    df_p = df_p[cols[each]] # Reorder dataframe to include 'value' as last column\n",
    "    all_params[each] = pd.DataFrame(df_p) # Create a dataframe for each parameter\n",
    "    df_p = df_p.rename(columns={'value':each})\n",
    "    df_p.to_csv(str(each) + '.csv', index=None) # Print data for each paramter to a CSV file"
   ]
  },
  {
   "cell_type": "code",
   "execution_count": 229,
   "metadata": {},
   "outputs": [],
   "source": [
    "# List of columns for detailed energy tables and figures\n",
    "years = pd.Series(range(2015,2041))\n",
    "\n",
    "det_col = {'BIO':'Biomass',\n",
    "           'COA':'Coal',\n",
    "           'CRU':'Crude oil',\n",
    "           'DSL':'Diesel',\n",
    "           'ELC':'Electricity',\n",
    "           'GEO':'Geothermal',\n",
    "           'GSL':'Gasoline',\n",
    "           'HFO':'HFO',\n",
    "           'HYD':'Hydro',\n",
    "           'JFL':'Jet fuel',\n",
    "           'LNG':'LNG',\n",
    "           'LPG':'LPG',\n",
    "           'PCK':'Petroleum coke',\n",
    "           'NGS':'Natural gas',\n",
    "           'OHC':'Other hydrocarbons',\n",
    "           'PET':'Petroleum products',\n",
    "           'SOL':'Solar',\n",
    "           'URN':'Nuclear',\n",
    "           'WAS':'MSW',\n",
    "           'WAT':'Water',\n",
    "           'LND':'Land',\n",
    "           'WND':'Wind',\n",
    "           'CP1':'Coffee',\n",
    "           'CP2':'Cotton',\n",
    "           'CP3':'Peanuts',\n",
    "           'CP4':'Maize',\n",
    "           'CP5':'Rice',\n",
    "           'CP6':'Soybean',\n",
    "           'CP7':'Sugarcane',\n",
    "           'CP8':'Tea',\n",
    "           'AGR':'Agriculture',\n",
    "           'BAR':'Barren land',\n",
    "           'FOR': 'Forests',\n",
    "           'GRS': 'Grassland & woodland',\n",
    "           'SET':'Built-up land',\n",
    "           'OTH':'Other agricultural land'}\n",
    "\n",
    "# List of columns for aggregated energy tables and figures\n",
    "agg_col = {'Coal':['Coal'],\n",
    "           'Oil': ['Diesel','HFO','JFL','Crude oil','Petroleum coke'],\n",
    "           'Gas': ['Natural gas','LNG','LPG'],\n",
    "           'Hydro': ['Hydro'],\n",
    "           'Nuclear': ['Nuclear'],\n",
    "           'Other renewables': ['Biomass','Geothermal','Solar','MSW','Wind']}\n",
    "\n",
    "color_dict = {'Biomass':'forestgreen',\n",
    "              'Coal':'black',\n",
    "              'Crude oil':'red',\n",
    "              'Diesel':'firebrick',\n",
    "              'Electricity':'grey',\n",
    "              'Geothermal':'purple',\n",
    "              'Gasoline':'orange',\n",
    "              'HFO':'brown',\n",
    "              'Hydro':'blue',\n",
    "              'Jet fuel':'firebrick',\n",
    "              'LNG':'purple',\n",
    "              'LPG':'gold',\n",
    "              'Natural gas':'orange',\n",
    "              'Other hydrocarbons':'grey',\n",
    "              'Petroleum products':'red',\n",
    "              'Petroleum coke':'red',\n",
    "              'Solar':'gold',\n",
    "              'Nuclear':'grey',\n",
    "              'MSW':'green',\n",
    "              'Wind':'violet',\n",
    "              'Oil':'firebrick',\n",
    "              'Gas':'orange',\n",
    "              'Other renewables':'green',\n",
    "              'Coffee':'brown',\n",
    "              'Cotton':'grey',\n",
    "              'Peanuts':'orange',\n",
    "              'Maize':'gold',\n",
    "              'Rice':'green',\n",
    "              'Soybean':'firebrick',\n",
    "              'Sugarcane':'purple',\n",
    "              'Tea':'pink',\n",
    "              'Agriculture':'brown',\n",
    "              'Barren land':'grey',\n",
    "              'Forests':'forestgreen',\n",
    "              'Grassland & woodland':'darkgreen',\n",
    "              'Built-up land':'black',\n",
    "              'Other agricultural land':'gold',\n",
    "              'Water':'blue'}"
   ]
  },
  {
   "cell_type": "code",
   "execution_count": 230,
   "metadata": {},
   "outputs": [],
   "source": [
    "def df_filter(df,lb,ub,t_exclude):\n",
    "    df['t'] = df['t'].str[lb:ub]\n",
    "    df['value'] = df['value'].astype('float64')\n",
    "    df = df[~df['t'].isin(t_exclude)].pivot_table(index='y', \n",
    "                                          columns='t',\n",
    "                                          values='value', \n",
    "                                          aggfunc='sum').reset_index().fillna(0)\n",
    "    df = df.reindex(sorted(df.columns), axis=1).set_index('y').reset_index().rename(columns=det_col)\n",
    "    df['y'] = years\n",
    "    return df\n",
    "\n",
    "def df_plot(df,y_title,p_title):\n",
    "    return df.iplot(x='y',\n",
    "             kind='bar', \n",
    "             barmode='stack',\n",
    "             xTitle='Year',\n",
    "             yTitle=y_title,\n",
    "             color=[color_dict[x] for x in df.columns if x != 'y'],\n",
    "             title=p_title)"
   ]
  },
  {
   "cell_type": "code",
   "execution_count": 231,
   "metadata": {},
   "outputs": [
    {
     "data": {
      "application/vnd.plotly.v1+json": {
       "config": {
        "linkText": "Export to plot.ly",
        "plotlyServerURL": "https://plot.ly",
        "showLink": true
       },
       "data": [
        {
         "marker": {
          "color": "rgba(34, 139, 34, 0.6)",
          "line": {
           "color": "rgba(34, 139, 34, 1.0)",
           "width": 1
          }
         },
         "name": "Biomass",
         "orientation": "v",
         "text": "",
         "type": "bar",
         "uid": "105b6b4d-3273-4137-8989-451fc94bdf64",
         "x": [
          2015,
          2016,
          2017,
          2018,
          2019,
          2020,
          2021,
          2022,
          2023,
          2024,
          2025,
          2026,
          2027,
          2028,
          2029,
          2030,
          2031,
          2032,
          2033,
          2034,
          2035,
          2036,
          2037,
          2038,
          2039,
          2040
         ],
         "y": [
          0.024,
          0.054,
          0.10900000000000001,
          0.194,
          0.194,
          0.194,
          0.194,
          0.194,
          0.194,
          0.194,
          0.194,
          0.194,
          0.194,
          0.17,
          0.17,
          0.17,
          0.17,
          0.17,
          0.17,
          0.17,
          0.17,
          0.17,
          0.17,
          0.17,
          0.17,
          0.17
         ]
        },
        {
         "marker": {
          "color": "rgba(0, 0, 0, 0.6)",
          "line": {
           "color": "rgba(0, 0, 0, 1.0)",
           "width": 1
          }
         },
         "name": "Coal",
         "orientation": "v",
         "text": "",
         "type": "bar",
         "uid": "de2b029e-86bf-458f-8953-d24bca2e7da5",
         "x": [
          2015,
          2016,
          2017,
          2018,
          2019,
          2020,
          2021,
          2022,
          2023,
          2024,
          2025,
          2026,
          2027,
          2028,
          2029,
          2030,
          2031,
          2032,
          2033,
          2034,
          2035,
          2036,
          2037,
          2038,
          2039,
          2040
         ],
         "y": [
          15.915129,
          17.025128999999996,
          18.460129,
          21.310128999999996,
          26.120129,
          28.210129,
          34.670128999999996,
          42.65012899999999,
          46.630129,
          46.630129,
          46.630129,
          46.630129,
          46.630129,
          46.630129,
          46.630129,
          46.630129,
          46.630129,
          46.030128999999995,
          46.030128999999995,
          46.030128999999995,
          46.030128999999995,
          45.920128999999996,
          45.805128999999994,
          45.805128999999994,
          45.805128999999994,
          46.6762869
         ]
        },
        {
         "marker": {
          "color": "rgba(178, 34, 34, 0.6)",
          "line": {
           "color": "rgba(178, 34, 34, 1.0)",
           "width": 1
          }
         },
         "name": "Diesel",
         "orientation": "v",
         "text": "",
         "type": "bar",
         "uid": "0588b449-9fbd-4056-ba39-b7a2ff733ca5",
         "x": [
          2015,
          2016,
          2017,
          2018,
          2019,
          2020,
          2021,
          2022,
          2023,
          2024,
          2025,
          2026,
          2027,
          2028,
          2029,
          2030,
          2031,
          2032,
          2033,
          2034,
          2035,
          2036,
          2037,
          2038,
          2039,
          2040
         ],
         "y": [
          0.66,
          0.66,
          0.66,
          0.66,
          0.66,
          0.66,
          0.66,
          0.66,
          0.66,
          0.66,
          0.66,
          0.66,
          0.66,
          0.66,
          0.66,
          0.66,
          0.66,
          0.66,
          0.66,
          0.66,
          0.66,
          0.66,
          0.66,
          0.66,
          0.66,
          0
         ]
        },
        {
         "marker": {
          "color": "rgba(165, 42, 42, 0.6)",
          "line": {
           "color": "rgba(165, 42, 42, 1.0)",
           "width": 1
          }
         },
         "name": "HFO",
         "orientation": "v",
         "text": "",
         "type": "bar",
         "uid": "cf183108-e3c3-43f9-afc6-96822730274d",
         "x": [
          2015,
          2016,
          2017,
          2018,
          2019,
          2020,
          2021,
          2022,
          2023,
          2024,
          2025,
          2026,
          2027,
          2028,
          2029,
          2030,
          2031,
          2032,
          2033,
          2034,
          2035,
          2036,
          2037,
          2038,
          2039,
          2040
         ],
         "y": [
          0.517,
          0.517,
          0.517,
          0.517,
          0.517,
          0.33,
          0.33,
          0.33,
          0.33,
          0.33,
          0.33,
          0.33,
          0.33,
          0.33,
          0.33,
          0.33,
          0.33,
          0.33,
          0.33,
          0.33,
          0.33,
          0.33,
          0.33,
          0.33,
          0.33,
          0
         ]
        },
        {
         "marker": {
          "color": "rgba(55, 128, 191, 0.6)",
          "line": {
           "color": "rgba(55, 128, 191, 1.0)",
           "width": 1
          }
         },
         "name": "Hydro",
         "orientation": "v",
         "text": "",
         "type": "bar",
         "uid": "a5eecc4f-5a63-4a31-b425-76b9c3d0d844",
         "x": [
          2015,
          2016,
          2017,
          2018,
          2019,
          2020,
          2021,
          2022,
          2023,
          2024,
          2025,
          2026,
          2027,
          2028,
          2029,
          2030,
          2031,
          2032,
          2033,
          2034,
          2035,
          2036,
          2037,
          2038,
          2039,
          2040
         ],
         "y": [
          17.087500000000002,
          19.2555,
          19.6815,
          20.177500000000002,
          20.6485,
          21.1925,
          21.6825,
          22.0425,
          22.7475,
          22.7475,
          22.7475,
          22.6275,
          22.6275,
          22.6275,
          22.6275,
          22.6275,
          22.6275,
          22.6275,
          22.6275,
          22.6275,
          22.6275,
          22.6275,
          22.6275,
          22.6275,
          22.6275,
          22.6275
         ]
        },
        {
         "marker": {
          "color": "rgba(255, 153, 51, 0.6)",
          "line": {
           "color": "rgba(255, 153, 51, 1.0)",
           "width": 1
          }
         },
         "name": "Natural gas",
         "orientation": "v",
         "text": "",
         "type": "bar",
         "uid": "36050c9c-1717-4dea-a6fa-4a287f71db07",
         "x": [
          2015,
          2016,
          2017,
          2018,
          2019,
          2020,
          2021,
          2022,
          2023,
          2024,
          2025,
          2026,
          2027,
          2028,
          2029,
          2030,
          2031,
          2032,
          2033,
          2034,
          2035,
          2036,
          2037,
          2038,
          2039,
          2040
         ],
         "y": [
          11.078000000000001,
          11.278,
          11.278,
          11.278,
          11.278,
          12.228,
          13.728,
          14.478,
          15.55,
          15.55,
          15.55,
          15.55,
          15.55,
          14.601,
          14.226,
          14.226,
          14.226,
          13.065,
          13.065,
          12.325,
          11.585,
          11.117,
          11.117,
          11.117,
          9.11,
          7.109999999999999
         ]
        },
        {
         "marker": {
          "color": "rgba(255, 215, 0, 0.6)",
          "line": {
           "color": "rgba(255, 215, 0, 1.0)",
           "width": 1
          }
         },
         "name": "Solar",
         "orientation": "v",
         "text": "",
         "type": "bar",
         "uid": "62617c3f-3d8e-49ba-8db5-b5567a321037",
         "x": [
          2015,
          2016,
          2017,
          2018,
          2019,
          2020,
          2021,
          2022,
          2023,
          2024,
          2025,
          2026,
          2027,
          2028,
          2029,
          2030,
          2031,
          2032,
          2033,
          2034,
          2035,
          2036,
          2037,
          2038,
          2039,
          2040
         ],
         "y": [
          0,
          0,
          0,
          0,
          0.3,
          0.7,
          1,
          1,
          1,
          1,
          1,
          1,
          1,
          1,
          1,
          1,
          1,
          1,
          1,
          1,
          1,
          1,
          1,
          1,
          0.7,
          0.3
         ]
        },
        {
         "marker": {
          "color": "rgba(238, 130, 238, 0.6)",
          "line": {
           "color": "rgba(238, 130, 238, 1.0)",
           "width": 1
          }
         },
         "name": "Wind",
         "orientation": "v",
         "text": "",
         "type": "bar",
         "uid": "68c79c9e-7ebf-4848-8992-88f8aececb93",
         "x": [
          2015,
          2016,
          2017,
          2018,
          2019,
          2020,
          2021,
          2022,
          2023,
          2024,
          2025,
          2026,
          2027,
          2028,
          2029,
          2030,
          2031,
          2032,
          2033,
          2034,
          2035,
          2036,
          2037,
          2038,
          2039,
          2040
         ],
         "y": [
          0.09,
          0.09,
          0.09,
          0.45699999999999996,
          0.646,
          0.7629999999999999,
          0.7629999999999999,
          0.7629999999999999,
          0.7629999999999999,
          0.7629999999999999,
          0.7629999999999999,
          0.7629999999999999,
          0.7629999999999999,
          0.7629999999999999,
          0.7629999999999999,
          0.7629999999999999,
          0.7629999999999999,
          0.7629999999999999,
          0.7629999999999999,
          0.7629999999999999,
          0.7629999999999999,
          0.7629999999999999,
          0.7629999999999999,
          0.306,
          0.117,
          0
         ]
        }
       ],
       "layout": {
        "barmode": "stack",
        "legend": {
         "bgcolor": "#FFFFFF",
         "font": {
          "color": "#4D5663"
         },
         "traceorder": "normal"
        },
        "paper_bgcolor": "#FFFFFF",
        "plot_bgcolor": "#FFFFFF",
        "title": {
         "font": {
          "color": "#4D5663"
         },
         "text": "Power Generation Capacity (Detail)"
        },
        "xaxis": {
         "gridcolor": "#E1E5ED",
         "showgrid": true,
         "tickfont": {
          "color": "#4D5663"
         },
         "title": {
          "font": {
           "color": "#4D5663"
          },
          "text": "Year"
         },
         "zerolinecolor": "#E1E5ED"
        },
        "yaxis": {
         "gridcolor": "#E1E5ED",
         "showgrid": true,
         "tickfont": {
          "color": "#4D5663"
         },
         "title": {
          "font": {
           "color": "#4D5663"
          },
          "text": "Gigawatts (GW)"
         },
         "zerolinecolor": "#E1E5ED"
        }
       }
      },
      "text/html": [
       "<div id=\"a3ff80e2-3ed8-4bf0-a408-4beb1183aa21\" style=\"height: 525px; width: 100%;\" class=\"plotly-graph-div\"></div><script type=\"text/javascript\">require([\"plotly\"], function(Plotly) { window.PLOTLYENV=window.PLOTLYENV || {};window.PLOTLYENV.BASE_URL=\"https://plot.ly\";\n",
       "if (document.getElementById(\"a3ff80e2-3ed8-4bf0-a408-4beb1183aa21\")) {\n",
       "    Plotly.newPlot(\"a3ff80e2-3ed8-4bf0-a408-4beb1183aa21\", [{\"marker\": {\"color\": \"rgba(34, 139, 34, 0.6)\", \"line\": {\"color\": \"rgba(34, 139, 34, 1.0)\", \"width\": 1}}, \"name\": \"Biomass\", \"orientation\": \"v\", \"text\": \"\", \"x\": [2015, 2016, 2017, 2018, 2019, 2020, 2021, 2022, 2023, 2024, 2025, 2026, 2027, 2028, 2029, 2030, 2031, 2032, 2033, 2034, 2035, 2036, 2037, 2038, 2039, 2040], \"y\": [0.024, 0.054, 0.10900000000000001, 0.194, 0.194, 0.194, 0.194, 0.194, 0.194, 0.194, 0.194, 0.194, 0.194, 0.17, 0.17, 0.17, 0.17, 0.17, 0.17, 0.17, 0.17, 0.17, 0.17, 0.17, 0.17, 0.17], \"type\": \"bar\", \"uid\": \"dd4de511-ddf9-457e-8d1c-6f1ee4e2a806\"}, {\"marker\": {\"color\": \"rgba(0, 0, 0, 0.6)\", \"line\": {\"color\": \"rgba(0, 0, 0, 1.0)\", \"width\": 1}}, \"name\": \"Coal\", \"orientation\": \"v\", \"text\": \"\", \"x\": [2015, 2016, 2017, 2018, 2019, 2020, 2021, 2022, 2023, 2024, 2025, 2026, 2027, 2028, 2029, 2030, 2031, 2032, 2033, 2034, 2035, 2036, 2037, 2038, 2039, 2040], \"y\": [15.915129, 17.025128999999996, 18.460129, 21.310128999999996, 26.120129, 28.210129, 34.670128999999996, 42.65012899999999, 46.630129, 46.630129, 46.630129, 46.630129, 46.630129, 46.630129, 46.630129, 46.630129, 46.630129, 46.030128999999995, 46.030128999999995, 46.030128999999995, 46.030128999999995, 45.920128999999996, 45.805128999999994, 45.805128999999994, 45.805128999999994, 46.6762869], \"type\": \"bar\", \"uid\": \"d6292745-4ecd-46d3-8a9d-5056991e5301\"}, {\"marker\": {\"color\": \"rgba(178, 34, 34, 0.6)\", \"line\": {\"color\": \"rgba(178, 34, 34, 1.0)\", \"width\": 1}}, \"name\": \"Diesel\", \"orientation\": \"v\", \"text\": \"\", \"x\": [2015, 2016, 2017, 2018, 2019, 2020, 2021, 2022, 2023, 2024, 2025, 2026, 2027, 2028, 2029, 2030, 2031, 2032, 2033, 2034, 2035, 2036, 2037, 2038, 2039, 2040], \"y\": [0.66, 0.66, 0.66, 0.66, 0.66, 0.66, 0.66, 0.66, 0.66, 0.66, 0.66, 0.66, 0.66, 0.66, 0.66, 0.66, 0.66, 0.66, 0.66, 0.66, 0.66, 0.66, 0.66, 0.66, 0.66, 0.0], \"type\": \"bar\", \"uid\": \"64e23d40-fc1c-4ded-891b-5f4af1ec99f7\"}, {\"marker\": {\"color\": \"rgba(165, 42, 42, 0.6)\", \"line\": {\"color\": \"rgba(165, 42, 42, 1.0)\", \"width\": 1}}, \"name\": \"HFO\", \"orientation\": \"v\", \"text\": \"\", \"x\": [2015, 2016, 2017, 2018, 2019, 2020, 2021, 2022, 2023, 2024, 2025, 2026, 2027, 2028, 2029, 2030, 2031, 2032, 2033, 2034, 2035, 2036, 2037, 2038, 2039, 2040], \"y\": [0.517, 0.517, 0.517, 0.517, 0.517, 0.33, 0.33, 0.33, 0.33, 0.33, 0.33, 0.33, 0.33, 0.33, 0.33, 0.33, 0.33, 0.33, 0.33, 0.33, 0.33, 0.33, 0.33, 0.33, 0.33, 0.0], \"type\": \"bar\", \"uid\": \"8b6459b9-7d2c-46ba-b5ac-7fcd7b787bc3\"}, {\"marker\": {\"color\": \"rgba(55, 128, 191, 0.6)\", \"line\": {\"color\": \"rgba(55, 128, 191, 1.0)\", \"width\": 1}}, \"name\": \"Hydro\", \"orientation\": \"v\", \"text\": \"\", \"x\": [2015, 2016, 2017, 2018, 2019, 2020, 2021, 2022, 2023, 2024, 2025, 2026, 2027, 2028, 2029, 2030, 2031, 2032, 2033, 2034, 2035, 2036, 2037, 2038, 2039, 2040], \"y\": [17.087500000000002, 19.2555, 19.6815, 20.177500000000002, 20.6485, 21.1925, 21.6825, 22.0425, 22.7475, 22.7475, 22.7475, 22.6275, 22.6275, 22.6275, 22.6275, 22.6275, 22.6275, 22.6275, 22.6275, 22.6275, 22.6275, 22.6275, 22.6275, 22.6275, 22.6275, 22.6275], \"type\": \"bar\", \"uid\": \"5978e187-03fc-4ac4-8623-e86dc32d27f4\"}, {\"marker\": {\"color\": \"rgba(255, 153, 51, 0.6)\", \"line\": {\"color\": \"rgba(255, 153, 51, 1.0)\", \"width\": 1}}, \"name\": \"Natural gas\", \"orientation\": \"v\", \"text\": \"\", \"x\": [2015, 2016, 2017, 2018, 2019, 2020, 2021, 2022, 2023, 2024, 2025, 2026, 2027, 2028, 2029, 2030, 2031, 2032, 2033, 2034, 2035, 2036, 2037, 2038, 2039, 2040], \"y\": [11.078000000000001, 11.278, 11.278, 11.278, 11.278, 12.228, 13.728, 14.478, 15.55, 15.55, 15.55, 15.55, 15.55, 14.601, 14.226, 14.226, 14.226, 13.065, 13.065, 12.325, 11.585, 11.117, 11.117, 11.117, 9.11, 7.109999999999999], \"type\": \"bar\", \"uid\": \"f9f8fc32-876f-4335-8ffe-69d4dbf15e98\"}, {\"marker\": {\"color\": \"rgba(255, 215, 0, 0.6)\", \"line\": {\"color\": \"rgba(255, 215, 0, 1.0)\", \"width\": 1}}, \"name\": \"Solar\", \"orientation\": \"v\", \"text\": \"\", \"x\": [2015, 2016, 2017, 2018, 2019, 2020, 2021, 2022, 2023, 2024, 2025, 2026, 2027, 2028, 2029, 2030, 2031, 2032, 2033, 2034, 2035, 2036, 2037, 2038, 2039, 2040], \"y\": [0.0, 0.0, 0.0, 0.0, 0.3, 0.7, 1.0, 1.0, 1.0, 1.0, 1.0, 1.0, 1.0, 1.0, 1.0, 1.0, 1.0, 1.0, 1.0, 1.0, 1.0, 1.0, 1.0, 1.0, 0.7, 0.3], \"type\": \"bar\", \"uid\": \"adfd65ff-ff7a-4f52-aaf8-6053bc6760e3\"}, {\"marker\": {\"color\": \"rgba(238, 130, 238, 0.6)\", \"line\": {\"color\": \"rgba(238, 130, 238, 1.0)\", \"width\": 1}}, \"name\": \"Wind\", \"orientation\": \"v\", \"text\": \"\", \"x\": [2015, 2016, 2017, 2018, 2019, 2020, 2021, 2022, 2023, 2024, 2025, 2026, 2027, 2028, 2029, 2030, 2031, 2032, 2033, 2034, 2035, 2036, 2037, 2038, 2039, 2040], \"y\": [0.09, 0.09, 0.09, 0.45699999999999996, 0.646, 0.7629999999999999, 0.7629999999999999, 0.7629999999999999, 0.7629999999999999, 0.7629999999999999, 0.7629999999999999, 0.7629999999999999, 0.7629999999999999, 0.7629999999999999, 0.7629999999999999, 0.7629999999999999, 0.7629999999999999, 0.7629999999999999, 0.7629999999999999, 0.7629999999999999, 0.7629999999999999, 0.7629999999999999, 0.7629999999999999, 0.306, 0.117, 0.0], \"type\": \"bar\", \"uid\": \"0687d247-5a8e-4948-a379-a79eb76a5311\"}], {\"barmode\": \"stack\", \"legend\": {\"bgcolor\": \"#FFFFFF\", \"font\": {\"color\": \"#4D5663\"}, \"traceorder\": \"normal\"}, \"paper_bgcolor\": \"#FFFFFF\", \"plot_bgcolor\": \"#FFFFFF\", \"title\": {\"text\": \"Power Generation Capacity (Detail)\", \"font\": {\"color\": \"#4D5663\"}}, \"xaxis\": {\"gridcolor\": \"#E1E5ED\", \"showgrid\": true, \"tickfont\": {\"color\": \"#4D5663\"}, \"title\": {\"text\": \"Year\", \"font\": {\"color\": \"#4D5663\"}}, \"zerolinecolor\": \"#E1E5ED\"}, \"yaxis\": {\"gridcolor\": \"#E1E5ED\", \"showgrid\": true, \"tickfont\": {\"color\": \"#4D5663\"}, \"title\": {\"text\": \"Gigawatts (GW)\", \"font\": {\"color\": \"#4D5663\"}}, \"zerolinecolor\": \"#E1E5ED\"}}, {\"showLink\": true, \"linkText\": \"Export to plot.ly\", \"plotlyServerURL\": \"https://plot.ly\"}); \n",
       "}\n",
       "});</script><script type=\"text/javascript\">window.addEventListener(\"resize\", function(){if (document.getElementById(\"a3ff80e2-3ed8-4bf0-a408-4beb1183aa21\")) {window._Plotly.Plots.resize(document.getElementById(\"a3ff80e2-3ed8-4bf0-a408-4beb1183aa21\"));};})</script>"
      ],
      "text/vnd.plotly.v1+html": [
       "<div id=\"a3ff80e2-3ed8-4bf0-a408-4beb1183aa21\" style=\"height: 525px; width: 100%;\" class=\"plotly-graph-div\"></div><script type=\"text/javascript\">require([\"plotly\"], function(Plotly) { window.PLOTLYENV=window.PLOTLYENV || {};window.PLOTLYENV.BASE_URL=\"https://plot.ly\";\n",
       "if (document.getElementById(\"a3ff80e2-3ed8-4bf0-a408-4beb1183aa21\")) {\n",
       "    Plotly.newPlot(\"a3ff80e2-3ed8-4bf0-a408-4beb1183aa21\", [{\"marker\": {\"color\": \"rgba(34, 139, 34, 0.6)\", \"line\": {\"color\": \"rgba(34, 139, 34, 1.0)\", \"width\": 1}}, \"name\": \"Biomass\", \"orientation\": \"v\", \"text\": \"\", \"x\": [2015, 2016, 2017, 2018, 2019, 2020, 2021, 2022, 2023, 2024, 2025, 2026, 2027, 2028, 2029, 2030, 2031, 2032, 2033, 2034, 2035, 2036, 2037, 2038, 2039, 2040], \"y\": [0.024, 0.054, 0.10900000000000001, 0.194, 0.194, 0.194, 0.194, 0.194, 0.194, 0.194, 0.194, 0.194, 0.194, 0.17, 0.17, 0.17, 0.17, 0.17, 0.17, 0.17, 0.17, 0.17, 0.17, 0.17, 0.17, 0.17], \"type\": \"bar\", \"uid\": \"dd4de511-ddf9-457e-8d1c-6f1ee4e2a806\"}, {\"marker\": {\"color\": \"rgba(0, 0, 0, 0.6)\", \"line\": {\"color\": \"rgba(0, 0, 0, 1.0)\", \"width\": 1}}, \"name\": \"Coal\", \"orientation\": \"v\", \"text\": \"\", \"x\": [2015, 2016, 2017, 2018, 2019, 2020, 2021, 2022, 2023, 2024, 2025, 2026, 2027, 2028, 2029, 2030, 2031, 2032, 2033, 2034, 2035, 2036, 2037, 2038, 2039, 2040], \"y\": [15.915129, 17.025128999999996, 18.460129, 21.310128999999996, 26.120129, 28.210129, 34.670128999999996, 42.65012899999999, 46.630129, 46.630129, 46.630129, 46.630129, 46.630129, 46.630129, 46.630129, 46.630129, 46.630129, 46.030128999999995, 46.030128999999995, 46.030128999999995, 46.030128999999995, 45.920128999999996, 45.805128999999994, 45.805128999999994, 45.805128999999994, 46.6762869], \"type\": \"bar\", \"uid\": \"d6292745-4ecd-46d3-8a9d-5056991e5301\"}, {\"marker\": {\"color\": \"rgba(178, 34, 34, 0.6)\", \"line\": {\"color\": \"rgba(178, 34, 34, 1.0)\", \"width\": 1}}, \"name\": \"Diesel\", \"orientation\": \"v\", \"text\": \"\", \"x\": [2015, 2016, 2017, 2018, 2019, 2020, 2021, 2022, 2023, 2024, 2025, 2026, 2027, 2028, 2029, 2030, 2031, 2032, 2033, 2034, 2035, 2036, 2037, 2038, 2039, 2040], \"y\": [0.66, 0.66, 0.66, 0.66, 0.66, 0.66, 0.66, 0.66, 0.66, 0.66, 0.66, 0.66, 0.66, 0.66, 0.66, 0.66, 0.66, 0.66, 0.66, 0.66, 0.66, 0.66, 0.66, 0.66, 0.66, 0.0], \"type\": \"bar\", \"uid\": \"64e23d40-fc1c-4ded-891b-5f4af1ec99f7\"}, {\"marker\": {\"color\": \"rgba(165, 42, 42, 0.6)\", \"line\": {\"color\": \"rgba(165, 42, 42, 1.0)\", \"width\": 1}}, \"name\": \"HFO\", \"orientation\": \"v\", \"text\": \"\", \"x\": [2015, 2016, 2017, 2018, 2019, 2020, 2021, 2022, 2023, 2024, 2025, 2026, 2027, 2028, 2029, 2030, 2031, 2032, 2033, 2034, 2035, 2036, 2037, 2038, 2039, 2040], \"y\": [0.517, 0.517, 0.517, 0.517, 0.517, 0.33, 0.33, 0.33, 0.33, 0.33, 0.33, 0.33, 0.33, 0.33, 0.33, 0.33, 0.33, 0.33, 0.33, 0.33, 0.33, 0.33, 0.33, 0.33, 0.33, 0.0], \"type\": \"bar\", \"uid\": \"8b6459b9-7d2c-46ba-b5ac-7fcd7b787bc3\"}, {\"marker\": {\"color\": \"rgba(55, 128, 191, 0.6)\", \"line\": {\"color\": \"rgba(55, 128, 191, 1.0)\", \"width\": 1}}, \"name\": \"Hydro\", \"orientation\": \"v\", \"text\": \"\", \"x\": [2015, 2016, 2017, 2018, 2019, 2020, 2021, 2022, 2023, 2024, 2025, 2026, 2027, 2028, 2029, 2030, 2031, 2032, 2033, 2034, 2035, 2036, 2037, 2038, 2039, 2040], \"y\": [17.087500000000002, 19.2555, 19.6815, 20.177500000000002, 20.6485, 21.1925, 21.6825, 22.0425, 22.7475, 22.7475, 22.7475, 22.6275, 22.6275, 22.6275, 22.6275, 22.6275, 22.6275, 22.6275, 22.6275, 22.6275, 22.6275, 22.6275, 22.6275, 22.6275, 22.6275, 22.6275], \"type\": \"bar\", \"uid\": \"5978e187-03fc-4ac4-8623-e86dc32d27f4\"}, {\"marker\": {\"color\": \"rgba(255, 153, 51, 0.6)\", \"line\": {\"color\": \"rgba(255, 153, 51, 1.0)\", \"width\": 1}}, \"name\": \"Natural gas\", \"orientation\": \"v\", \"text\": \"\", \"x\": [2015, 2016, 2017, 2018, 2019, 2020, 2021, 2022, 2023, 2024, 2025, 2026, 2027, 2028, 2029, 2030, 2031, 2032, 2033, 2034, 2035, 2036, 2037, 2038, 2039, 2040], \"y\": [11.078000000000001, 11.278, 11.278, 11.278, 11.278, 12.228, 13.728, 14.478, 15.55, 15.55, 15.55, 15.55, 15.55, 14.601, 14.226, 14.226, 14.226, 13.065, 13.065, 12.325, 11.585, 11.117, 11.117, 11.117, 9.11, 7.109999999999999], \"type\": \"bar\", \"uid\": \"f9f8fc32-876f-4335-8ffe-69d4dbf15e98\"}, {\"marker\": {\"color\": \"rgba(255, 215, 0, 0.6)\", \"line\": {\"color\": \"rgba(255, 215, 0, 1.0)\", \"width\": 1}}, \"name\": \"Solar\", \"orientation\": \"v\", \"text\": \"\", \"x\": [2015, 2016, 2017, 2018, 2019, 2020, 2021, 2022, 2023, 2024, 2025, 2026, 2027, 2028, 2029, 2030, 2031, 2032, 2033, 2034, 2035, 2036, 2037, 2038, 2039, 2040], \"y\": [0.0, 0.0, 0.0, 0.0, 0.3, 0.7, 1.0, 1.0, 1.0, 1.0, 1.0, 1.0, 1.0, 1.0, 1.0, 1.0, 1.0, 1.0, 1.0, 1.0, 1.0, 1.0, 1.0, 1.0, 0.7, 0.3], \"type\": \"bar\", \"uid\": \"adfd65ff-ff7a-4f52-aaf8-6053bc6760e3\"}, {\"marker\": {\"color\": \"rgba(238, 130, 238, 0.6)\", \"line\": {\"color\": \"rgba(238, 130, 238, 1.0)\", \"width\": 1}}, \"name\": \"Wind\", \"orientation\": \"v\", \"text\": \"\", \"x\": [2015, 2016, 2017, 2018, 2019, 2020, 2021, 2022, 2023, 2024, 2025, 2026, 2027, 2028, 2029, 2030, 2031, 2032, 2033, 2034, 2035, 2036, 2037, 2038, 2039, 2040], \"y\": [0.09, 0.09, 0.09, 0.45699999999999996, 0.646, 0.7629999999999999, 0.7629999999999999, 0.7629999999999999, 0.7629999999999999, 0.7629999999999999, 0.7629999999999999, 0.7629999999999999, 0.7629999999999999, 0.7629999999999999, 0.7629999999999999, 0.7629999999999999, 0.7629999999999999, 0.7629999999999999, 0.7629999999999999, 0.7629999999999999, 0.7629999999999999, 0.7629999999999999, 0.7629999999999999, 0.306, 0.117, 0.0], \"type\": \"bar\", \"uid\": \"0687d247-5a8e-4948-a379-a79eb76a5311\"}], {\"barmode\": \"stack\", \"legend\": {\"bgcolor\": \"#FFFFFF\", \"font\": {\"color\": \"#4D5663\"}, \"traceorder\": \"normal\"}, \"paper_bgcolor\": \"#FFFFFF\", \"plot_bgcolor\": \"#FFFFFF\", \"title\": {\"text\": \"Power Generation Capacity (Detail)\", \"font\": {\"color\": \"#4D5663\"}}, \"xaxis\": {\"gridcolor\": \"#E1E5ED\", \"showgrid\": true, \"tickfont\": {\"color\": \"#4D5663\"}, \"title\": {\"text\": \"Year\", \"font\": {\"color\": \"#4D5663\"}}, \"zerolinecolor\": \"#E1E5ED\"}, \"yaxis\": {\"gridcolor\": \"#E1E5ED\", \"showgrid\": true, \"tickfont\": {\"color\": \"#4D5663\"}, \"title\": {\"text\": \"Gigawatts (GW)\", \"font\": {\"color\": \"#4D5663\"}}, \"zerolinecolor\": \"#E1E5ED\"}}, {\"showLink\": true, \"linkText\": \"Export to plot.ly\", \"plotlyServerURL\": \"https://plot.ly\"}); \n",
       "}\n",
       "});</script><script type=\"text/javascript\">window.addEventListener(\"resize\", function(){if (document.getElementById(\"a3ff80e2-3ed8-4bf0-a408-4beb1183aa21\")) {window._Plotly.Plots.resize(document.getElementById(\"a3ff80e2-3ed8-4bf0-a408-4beb1183aa21\"));};})</script>"
      ]
     },
     "metadata": {},
     "output_type": "display_data"
    }
   ],
   "source": [
    "# Power generation capacity (detailed)\n",
    "cap_df = all_params['TotalCapacityAnnual'][all_params['TotalCapacityAnnual'].t.str.startswith('PWR')].drop('r', axis=1)\n",
    "cap_df = df_filter(cap_df,3,6,['TRN'])\n",
    "df_plot(cap_df,'Gigawatts (GW)','Power Generation Capacity (Detail)')"
   ]
  },
  {
   "cell_type": "code",
   "execution_count": 232,
   "metadata": {},
   "outputs": [
    {
     "data": {
      "application/vnd.plotly.v1+json": {
       "config": {
        "linkText": "Export to plot.ly",
        "plotlyServerURL": "https://plot.ly",
        "showLink": true
       },
       "data": [
        {
         "marker": {
          "color": "rgba(0, 0, 0, 0.6)",
          "line": {
           "color": "rgba(0, 0, 0, 1.0)",
           "width": 1
          }
         },
         "name": "Coal",
         "orientation": "v",
         "text": "",
         "type": "bar",
         "uid": "1c19048c-fbbc-4624-a5aa-8f33e6a803e6",
         "x": [
          2015,
          2016,
          2017,
          2018,
          2019,
          2020,
          2021,
          2022,
          2023,
          2024,
          2025,
          2026,
          2027,
          2028,
          2029,
          2030,
          2031,
          2032,
          2033,
          2034,
          2035,
          2036,
          2037,
          2038,
          2039,
          2040
         ],
         "y": [
          15.92,
          17.03,
          18.46,
          21.31,
          26.12,
          28.21,
          34.67,
          42.65,
          46.63,
          46.63,
          46.63,
          46.63,
          46.63,
          46.63,
          46.63,
          46.63,
          46.63,
          46.03,
          46.03,
          46.03,
          46.03,
          45.92,
          45.81,
          45.81,
          45.81,
          46.68
         ]
        },
        {
         "marker": {
          "color": "rgba(178, 34, 34, 0.6)",
          "line": {
           "color": "rgba(178, 34, 34, 1.0)",
           "width": 1
          }
         },
         "name": "Oil",
         "orientation": "v",
         "text": "",
         "type": "bar",
         "uid": "ba34555d-ec13-4e68-8c90-fdeea5f1f621",
         "x": [
          2015,
          2016,
          2017,
          2018,
          2019,
          2020,
          2021,
          2022,
          2023,
          2024,
          2025,
          2026,
          2027,
          2028,
          2029,
          2030,
          2031,
          2032,
          2033,
          2034,
          2035,
          2036,
          2037,
          2038,
          2039,
          2040
         ],
         "y": [
          1.18,
          1.18,
          1.18,
          1.18,
          1.18,
          0.99,
          0.99,
          0.99,
          0.99,
          0.99,
          0.99,
          0.99,
          0.99,
          0.99,
          0.99,
          0.99,
          0.99,
          0.99,
          0.99,
          0.99,
          0.99,
          0.99,
          0.99,
          0.99,
          0.99,
          0
         ]
        },
        {
         "marker": {
          "color": "rgba(255, 153, 51, 0.6)",
          "line": {
           "color": "rgba(255, 153, 51, 1.0)",
           "width": 1
          }
         },
         "name": "Gas",
         "orientation": "v",
         "text": "",
         "type": "bar",
         "uid": "1788b88e-3fb6-4fc6-9ea5-839a93c5b5f9",
         "x": [
          2015,
          2016,
          2017,
          2018,
          2019,
          2020,
          2021,
          2022,
          2023,
          2024,
          2025,
          2026,
          2027,
          2028,
          2029,
          2030,
          2031,
          2032,
          2033,
          2034,
          2035,
          2036,
          2037,
          2038,
          2039,
          2040
         ],
         "y": [
          11.08,
          11.28,
          11.28,
          11.28,
          11.28,
          12.23,
          13.73,
          14.48,
          15.55,
          15.55,
          15.55,
          15.55,
          15.55,
          14.6,
          14.23,
          14.23,
          14.23,
          13.06,
          13.06,
          12.32,
          11.58,
          11.12,
          11.12,
          11.12,
          9.11,
          7.11
         ]
        },
        {
         "marker": {
          "color": "rgba(55, 128, 191, 0.6)",
          "line": {
           "color": "rgba(55, 128, 191, 1.0)",
           "width": 1
          }
         },
         "name": "Hydro",
         "orientation": "v",
         "text": "",
         "type": "bar",
         "uid": "baa3b7ee-3e79-4fef-a956-51d21f70dde4",
         "x": [
          2015,
          2016,
          2017,
          2018,
          2019,
          2020,
          2021,
          2022,
          2023,
          2024,
          2025,
          2026,
          2027,
          2028,
          2029,
          2030,
          2031,
          2032,
          2033,
          2034,
          2035,
          2036,
          2037,
          2038,
          2039,
          2040
         ],
         "y": [
          17.09,
          19.26,
          19.68,
          20.18,
          20.65,
          21.19,
          21.68,
          22.04,
          22.75,
          22.75,
          22.75,
          22.63,
          22.63,
          22.63,
          22.63,
          22.63,
          22.63,
          22.63,
          22.63,
          22.63,
          22.63,
          22.63,
          22.63,
          22.63,
          22.63,
          22.63
         ]
        },
        {
         "marker": {
          "color": "rgba(128, 128, 128, 0.6)",
          "line": {
           "color": "rgba(128, 128, 128, 1.0)",
           "width": 1
          }
         },
         "name": "Nuclear",
         "orientation": "v",
         "text": "",
         "type": "bar",
         "uid": "d15296e9-0ece-44f1-9de9-5c57d38cd5dd",
         "x": [
          2015,
          2016,
          2017,
          2018,
          2019,
          2020,
          2021,
          2022,
          2023,
          2024,
          2025,
          2026,
          2027,
          2028,
          2029,
          2030,
          2031,
          2032,
          2033,
          2034,
          2035,
          2036,
          2037,
          2038,
          2039,
          2040
         ],
         "y": [
          0,
          0,
          0,
          0,
          0,
          0,
          0,
          0,
          0,
          0,
          0,
          0,
          0,
          0,
          0,
          0,
          0,
          0,
          0,
          0,
          0,
          0,
          0,
          0,
          0,
          0
         ]
        },
        {
         "marker": {
          "color": "rgba(0, 128, 0, 0.6)",
          "line": {
           "color": "rgba(0, 128, 0, 1.0)",
           "width": 1
          }
         },
         "name": "Other renewables",
         "orientation": "v",
         "text": "",
         "type": "bar",
         "uid": "670158c5-33f6-4a6b-ba5a-f4710bc56c51",
         "x": [
          2015,
          2016,
          2017,
          2018,
          2019,
          2020,
          2021,
          2022,
          2023,
          2024,
          2025,
          2026,
          2027,
          2028,
          2029,
          2030,
          2031,
          2032,
          2033,
          2034,
          2035,
          2036,
          2037,
          2038,
          2039,
          2040
         ],
         "y": [
          0.11,
          0.14,
          0.2,
          0.65,
          1.14,
          1.65,
          1.95,
          1.95,
          1.95,
          1.95,
          1.95,
          1.95,
          1.95,
          1.93,
          1.93,
          1.93,
          1.93,
          1.93,
          1.93,
          1.93,
          1.93,
          1.93,
          1.93,
          1.48,
          0.99,
          0.47
         ]
        }
       ],
       "layout": {
        "barmode": "stack",
        "legend": {
         "bgcolor": "#FFFFFF",
         "font": {
          "color": "#4D5663"
         },
         "traceorder": "normal"
        },
        "paper_bgcolor": "#FFFFFF",
        "plot_bgcolor": "#FFFFFF",
        "title": {
         "font": {
          "color": "#4D5663"
         },
         "text": "Power Generation Capacity (Aggregate)"
        },
        "xaxis": {
         "gridcolor": "#E1E5ED",
         "showgrid": true,
         "tickfont": {
          "color": "#4D5663"
         },
         "title": {
          "font": {
           "color": "#4D5663"
          },
          "text": "Year"
         },
         "zerolinecolor": "#E1E5ED"
        },
        "yaxis": {
         "gridcolor": "#E1E5ED",
         "showgrid": true,
         "tickfont": {
          "color": "#4D5663"
         },
         "title": {
          "font": {
           "color": "#4D5663"
          },
          "text": "Gigawatts (GW)"
         },
         "zerolinecolor": "#E1E5ED"
        }
       }
      },
      "text/html": [
       "<div id=\"44088465-7a0d-413b-a8e8-8a3a5564eb4b\" style=\"height: 525px; width: 100%;\" class=\"plotly-graph-div\"></div><script type=\"text/javascript\">require([\"plotly\"], function(Plotly) { window.PLOTLYENV=window.PLOTLYENV || {};window.PLOTLYENV.BASE_URL=\"https://plot.ly\";\n",
       "if (document.getElementById(\"44088465-7a0d-413b-a8e8-8a3a5564eb4b\")) {\n",
       "    Plotly.newPlot(\"44088465-7a0d-413b-a8e8-8a3a5564eb4b\", [{\"marker\": {\"color\": \"rgba(0, 0, 0, 0.6)\", \"line\": {\"color\": \"rgba(0, 0, 0, 1.0)\", \"width\": 1}}, \"name\": \"Coal\", \"orientation\": \"v\", \"text\": \"\", \"x\": [2015, 2016, 2017, 2018, 2019, 2020, 2021, 2022, 2023, 2024, 2025, 2026, 2027, 2028, 2029, 2030, 2031, 2032, 2033, 2034, 2035, 2036, 2037, 2038, 2039, 2040], \"y\": [15.92, 17.03, 18.46, 21.31, 26.12, 28.21, 34.67, 42.65, 46.63, 46.63, 46.63, 46.63, 46.63, 46.63, 46.63, 46.63, 46.63, 46.03, 46.03, 46.03, 46.03, 45.92, 45.81, 45.81, 45.81, 46.68], \"type\": \"bar\", \"uid\": \"ee9678e6-6347-4064-a82b-74e45db58709\"}, {\"marker\": {\"color\": \"rgba(178, 34, 34, 0.6)\", \"line\": {\"color\": \"rgba(178, 34, 34, 1.0)\", \"width\": 1}}, \"name\": \"Oil\", \"orientation\": \"v\", \"text\": \"\", \"x\": [2015, 2016, 2017, 2018, 2019, 2020, 2021, 2022, 2023, 2024, 2025, 2026, 2027, 2028, 2029, 2030, 2031, 2032, 2033, 2034, 2035, 2036, 2037, 2038, 2039, 2040], \"y\": [1.18, 1.18, 1.18, 1.18, 1.18, 0.99, 0.99, 0.99, 0.99, 0.99, 0.99, 0.99, 0.99, 0.99, 0.99, 0.99, 0.99, 0.99, 0.99, 0.99, 0.99, 0.99, 0.99, 0.99, 0.99, 0.0], \"type\": \"bar\", \"uid\": \"ce652509-7447-4152-b9e1-63c88a8edca4\"}, {\"marker\": {\"color\": \"rgba(255, 153, 51, 0.6)\", \"line\": {\"color\": \"rgba(255, 153, 51, 1.0)\", \"width\": 1}}, \"name\": \"Gas\", \"orientation\": \"v\", \"text\": \"\", \"x\": [2015, 2016, 2017, 2018, 2019, 2020, 2021, 2022, 2023, 2024, 2025, 2026, 2027, 2028, 2029, 2030, 2031, 2032, 2033, 2034, 2035, 2036, 2037, 2038, 2039, 2040], \"y\": [11.08, 11.28, 11.28, 11.28, 11.28, 12.23, 13.73, 14.48, 15.55, 15.55, 15.55, 15.55, 15.55, 14.6, 14.23, 14.23, 14.23, 13.06, 13.06, 12.32, 11.58, 11.12, 11.12, 11.12, 9.11, 7.11], \"type\": \"bar\", \"uid\": \"4ca836f7-de59-4325-bd68-0c6d841b7d11\"}, {\"marker\": {\"color\": \"rgba(55, 128, 191, 0.6)\", \"line\": {\"color\": \"rgba(55, 128, 191, 1.0)\", \"width\": 1}}, \"name\": \"Hydro\", \"orientation\": \"v\", \"text\": \"\", \"x\": [2015, 2016, 2017, 2018, 2019, 2020, 2021, 2022, 2023, 2024, 2025, 2026, 2027, 2028, 2029, 2030, 2031, 2032, 2033, 2034, 2035, 2036, 2037, 2038, 2039, 2040], \"y\": [17.09, 19.26, 19.68, 20.18, 20.65, 21.19, 21.68, 22.04, 22.75, 22.75, 22.75, 22.63, 22.63, 22.63, 22.63, 22.63, 22.63, 22.63, 22.63, 22.63, 22.63, 22.63, 22.63, 22.63, 22.63, 22.63], \"type\": \"bar\", \"uid\": \"0a249ebf-fc98-46b1-b58e-fbe5acb5ea5c\"}, {\"marker\": {\"color\": \"rgba(128, 128, 128, 0.6)\", \"line\": {\"color\": \"rgba(128, 128, 128, 1.0)\", \"width\": 1}}, \"name\": \"Nuclear\", \"orientation\": \"v\", \"text\": \"\", \"x\": [2015, 2016, 2017, 2018, 2019, 2020, 2021, 2022, 2023, 2024, 2025, 2026, 2027, 2028, 2029, 2030, 2031, 2032, 2033, 2034, 2035, 2036, 2037, 2038, 2039, 2040], \"y\": [0.0, 0.0, 0.0, 0.0, 0.0, 0.0, 0.0, 0.0, 0.0, 0.0, 0.0, 0.0, 0.0, 0.0, 0.0, 0.0, 0.0, 0.0, 0.0, 0.0, 0.0, 0.0, 0.0, 0.0, 0.0, 0.0], \"type\": \"bar\", \"uid\": \"ae6baccb-81ef-43a5-a3c4-dfd4ec8c31d2\"}, {\"marker\": {\"color\": \"rgba(0, 128, 0, 0.6)\", \"line\": {\"color\": \"rgba(0, 128, 0, 1.0)\", \"width\": 1}}, \"name\": \"Other renewables\", \"orientation\": \"v\", \"text\": \"\", \"x\": [2015, 2016, 2017, 2018, 2019, 2020, 2021, 2022, 2023, 2024, 2025, 2026, 2027, 2028, 2029, 2030, 2031, 2032, 2033, 2034, 2035, 2036, 2037, 2038, 2039, 2040], \"y\": [0.11, 0.14, 0.2, 0.65, 1.14, 1.65, 1.95, 1.95, 1.95, 1.95, 1.95, 1.95, 1.95, 1.93, 1.93, 1.93, 1.93, 1.93, 1.93, 1.93, 1.93, 1.93, 1.93, 1.48, 0.99, 0.47], \"type\": \"bar\", \"uid\": \"28fc9fef-675a-4d0d-b516-9683e7b2f1cb\"}], {\"barmode\": \"stack\", \"legend\": {\"bgcolor\": \"#FFFFFF\", \"font\": {\"color\": \"#4D5663\"}, \"traceorder\": \"normal\"}, \"paper_bgcolor\": \"#FFFFFF\", \"plot_bgcolor\": \"#FFFFFF\", \"title\": {\"text\": \"Power Generation Capacity (Aggregate)\", \"font\": {\"color\": \"#4D5663\"}}, \"xaxis\": {\"gridcolor\": \"#E1E5ED\", \"showgrid\": true, \"tickfont\": {\"color\": \"#4D5663\"}, \"title\": {\"text\": \"Year\", \"font\": {\"color\": \"#4D5663\"}}, \"zerolinecolor\": \"#E1E5ED\"}, \"yaxis\": {\"gridcolor\": \"#E1E5ED\", \"showgrid\": true, \"tickfont\": {\"color\": \"#4D5663\"}, \"title\": {\"text\": \"Gigawatts (GW)\", \"font\": {\"color\": \"#4D5663\"}}, \"zerolinecolor\": \"#E1E5ED\"}}, {\"showLink\": true, \"linkText\": \"Export to plot.ly\", \"plotlyServerURL\": \"https://plot.ly\"}); \n",
       "}\n",
       "});</script><script type=\"text/javascript\">window.addEventListener(\"resize\", function(){if (document.getElementById(\"44088465-7a0d-413b-a8e8-8a3a5564eb4b\")) {window._Plotly.Plots.resize(document.getElementById(\"44088465-7a0d-413b-a8e8-8a3a5564eb4b\"));};})</script>"
      ],
      "text/vnd.plotly.v1+html": [
       "<div id=\"44088465-7a0d-413b-a8e8-8a3a5564eb4b\" style=\"height: 525px; width: 100%;\" class=\"plotly-graph-div\"></div><script type=\"text/javascript\">require([\"plotly\"], function(Plotly) { window.PLOTLYENV=window.PLOTLYENV || {};window.PLOTLYENV.BASE_URL=\"https://plot.ly\";\n",
       "if (document.getElementById(\"44088465-7a0d-413b-a8e8-8a3a5564eb4b\")) {\n",
       "    Plotly.newPlot(\"44088465-7a0d-413b-a8e8-8a3a5564eb4b\", [{\"marker\": {\"color\": \"rgba(0, 0, 0, 0.6)\", \"line\": {\"color\": \"rgba(0, 0, 0, 1.0)\", \"width\": 1}}, \"name\": \"Coal\", \"orientation\": \"v\", \"text\": \"\", \"x\": [2015, 2016, 2017, 2018, 2019, 2020, 2021, 2022, 2023, 2024, 2025, 2026, 2027, 2028, 2029, 2030, 2031, 2032, 2033, 2034, 2035, 2036, 2037, 2038, 2039, 2040], \"y\": [15.92, 17.03, 18.46, 21.31, 26.12, 28.21, 34.67, 42.65, 46.63, 46.63, 46.63, 46.63, 46.63, 46.63, 46.63, 46.63, 46.63, 46.03, 46.03, 46.03, 46.03, 45.92, 45.81, 45.81, 45.81, 46.68], \"type\": \"bar\", \"uid\": \"ee9678e6-6347-4064-a82b-74e45db58709\"}, {\"marker\": {\"color\": \"rgba(178, 34, 34, 0.6)\", \"line\": {\"color\": \"rgba(178, 34, 34, 1.0)\", \"width\": 1}}, \"name\": \"Oil\", \"orientation\": \"v\", \"text\": \"\", \"x\": [2015, 2016, 2017, 2018, 2019, 2020, 2021, 2022, 2023, 2024, 2025, 2026, 2027, 2028, 2029, 2030, 2031, 2032, 2033, 2034, 2035, 2036, 2037, 2038, 2039, 2040], \"y\": [1.18, 1.18, 1.18, 1.18, 1.18, 0.99, 0.99, 0.99, 0.99, 0.99, 0.99, 0.99, 0.99, 0.99, 0.99, 0.99, 0.99, 0.99, 0.99, 0.99, 0.99, 0.99, 0.99, 0.99, 0.99, 0.0], \"type\": \"bar\", \"uid\": \"ce652509-7447-4152-b9e1-63c88a8edca4\"}, {\"marker\": {\"color\": \"rgba(255, 153, 51, 0.6)\", \"line\": {\"color\": \"rgba(255, 153, 51, 1.0)\", \"width\": 1}}, \"name\": \"Gas\", \"orientation\": \"v\", \"text\": \"\", \"x\": [2015, 2016, 2017, 2018, 2019, 2020, 2021, 2022, 2023, 2024, 2025, 2026, 2027, 2028, 2029, 2030, 2031, 2032, 2033, 2034, 2035, 2036, 2037, 2038, 2039, 2040], \"y\": [11.08, 11.28, 11.28, 11.28, 11.28, 12.23, 13.73, 14.48, 15.55, 15.55, 15.55, 15.55, 15.55, 14.6, 14.23, 14.23, 14.23, 13.06, 13.06, 12.32, 11.58, 11.12, 11.12, 11.12, 9.11, 7.11], \"type\": \"bar\", \"uid\": \"4ca836f7-de59-4325-bd68-0c6d841b7d11\"}, {\"marker\": {\"color\": \"rgba(55, 128, 191, 0.6)\", \"line\": {\"color\": \"rgba(55, 128, 191, 1.0)\", \"width\": 1}}, \"name\": \"Hydro\", \"orientation\": \"v\", \"text\": \"\", \"x\": [2015, 2016, 2017, 2018, 2019, 2020, 2021, 2022, 2023, 2024, 2025, 2026, 2027, 2028, 2029, 2030, 2031, 2032, 2033, 2034, 2035, 2036, 2037, 2038, 2039, 2040], \"y\": [17.09, 19.26, 19.68, 20.18, 20.65, 21.19, 21.68, 22.04, 22.75, 22.75, 22.75, 22.63, 22.63, 22.63, 22.63, 22.63, 22.63, 22.63, 22.63, 22.63, 22.63, 22.63, 22.63, 22.63, 22.63, 22.63], \"type\": \"bar\", \"uid\": \"0a249ebf-fc98-46b1-b58e-fbe5acb5ea5c\"}, {\"marker\": {\"color\": \"rgba(128, 128, 128, 0.6)\", \"line\": {\"color\": \"rgba(128, 128, 128, 1.0)\", \"width\": 1}}, \"name\": \"Nuclear\", \"orientation\": \"v\", \"text\": \"\", \"x\": [2015, 2016, 2017, 2018, 2019, 2020, 2021, 2022, 2023, 2024, 2025, 2026, 2027, 2028, 2029, 2030, 2031, 2032, 2033, 2034, 2035, 2036, 2037, 2038, 2039, 2040], \"y\": [0.0, 0.0, 0.0, 0.0, 0.0, 0.0, 0.0, 0.0, 0.0, 0.0, 0.0, 0.0, 0.0, 0.0, 0.0, 0.0, 0.0, 0.0, 0.0, 0.0, 0.0, 0.0, 0.0, 0.0, 0.0, 0.0], \"type\": \"bar\", \"uid\": \"ae6baccb-81ef-43a5-a3c4-dfd4ec8c31d2\"}, {\"marker\": {\"color\": \"rgba(0, 128, 0, 0.6)\", \"line\": {\"color\": \"rgba(0, 128, 0, 1.0)\", \"width\": 1}}, \"name\": \"Other renewables\", \"orientation\": \"v\", \"text\": \"\", \"x\": [2015, 2016, 2017, 2018, 2019, 2020, 2021, 2022, 2023, 2024, 2025, 2026, 2027, 2028, 2029, 2030, 2031, 2032, 2033, 2034, 2035, 2036, 2037, 2038, 2039, 2040], \"y\": [0.11, 0.14, 0.2, 0.65, 1.14, 1.65, 1.95, 1.95, 1.95, 1.95, 1.95, 1.95, 1.95, 1.93, 1.93, 1.93, 1.93, 1.93, 1.93, 1.93, 1.93, 1.93, 1.93, 1.48, 0.99, 0.47], \"type\": \"bar\", \"uid\": \"28fc9fef-675a-4d0d-b516-9683e7b2f1cb\"}], {\"barmode\": \"stack\", \"legend\": {\"bgcolor\": \"#FFFFFF\", \"font\": {\"color\": \"#4D5663\"}, \"traceorder\": \"normal\"}, \"paper_bgcolor\": \"#FFFFFF\", \"plot_bgcolor\": \"#FFFFFF\", \"title\": {\"text\": \"Power Generation Capacity (Aggregate)\", \"font\": {\"color\": \"#4D5663\"}}, \"xaxis\": {\"gridcolor\": \"#E1E5ED\", \"showgrid\": true, \"tickfont\": {\"color\": \"#4D5663\"}, \"title\": {\"text\": \"Year\", \"font\": {\"color\": \"#4D5663\"}}, \"zerolinecolor\": \"#E1E5ED\"}, \"yaxis\": {\"gridcolor\": \"#E1E5ED\", \"showgrid\": true, \"tickfont\": {\"color\": \"#4D5663\"}, \"title\": {\"text\": \"Gigawatts (GW)\", \"font\": {\"color\": \"#4D5663\"}}, \"zerolinecolor\": \"#E1E5ED\"}}, {\"showLink\": true, \"linkText\": \"Export to plot.ly\", \"plotlyServerURL\": \"https://plot.ly\"}); \n",
       "}\n",
       "});</script><script type=\"text/javascript\">window.addEventListener(\"resize\", function(){if (document.getElementById(\"44088465-7a0d-413b-a8e8-8a3a5564eb4b\")) {window._Plotly.Plots.resize(document.getElementById(\"44088465-7a0d-413b-a8e8-8a3a5564eb4b\"));};})</script>"
      ]
     },
     "metadata": {},
     "output_type": "display_data"
    }
   ],
   "source": [
    "# Power generation capacity (Aggregated)\n",
    "cap_agg_df = pd.DataFrame(columns=agg_col)\n",
    "cap_agg_df.insert(0,'y',cap_df['y'])\n",
    "cap_agg_df  = cap_agg_df.fillna(0.00)\n",
    "\n",
    "for each in agg_col:\n",
    "    for tech_exists in agg_col[each]:\n",
    "        if tech_exists in cap_df.columns:\n",
    "            cap_agg_df[each] = cap_agg_df[each] + cap_df[tech_exists]\n",
    "            cap_agg_df[each] = cap_agg_df[each].round(2)\n",
    "\n",
    "df_plot(cap_agg_df,'Gigawatts (GW)','Power Generation Capacity (Aggregate)')"
   ]
  },
  {
   "cell_type": "code",
   "execution_count": 233,
   "metadata": {},
   "outputs": [
    {
     "data": {
      "application/vnd.plotly.v1+json": {
       "config": {
        "linkText": "Export to plot.ly",
        "plotlyServerURL": "https://plot.ly",
        "showLink": true
       },
       "data": [
        {
         "marker": {
          "color": "rgba(34, 139, 34, 0.6)",
          "line": {
           "color": "rgba(34, 139, 34, 1.0)",
           "width": 1
          }
         },
         "name": "Biomass",
         "orientation": "v",
         "text": "",
         "type": "bar",
         "uid": "f18524e0-08f9-4726-b691-e7aa55db2964",
         "x": [
          2015,
          2016,
          2017,
          2018,
          2019,
          2020,
          2021,
          2022,
          2023,
          2024,
          2025,
          2026,
          2027,
          2028,
          2029,
          2030,
          2031,
          2032,
          2033,
          2034,
          2035,
          2036,
          2037,
          2038,
          2039,
          2040
         ],
         "y": [
          0,
          0.23652,
          0.67014,
          1.34028,
          1.34028,
          1.4191073859999999,
          1.4191073859999999,
          1.4191073859999999,
          1.4191073859999999,
          1.529496,
          1.529496,
          1.529496,
          1.529496,
          1.34028,
          1.34028,
          1.34028,
          1.34028,
          1.34028,
          1.34028,
          1.34028,
          1.34028,
          1.34028,
          1.34028,
          1.34028,
          1.34028,
          1.34028
         ]
        },
        {
         "marker": {
          "color": "rgba(0, 0, 0, 0.6)",
          "line": {
           "color": "rgba(0, 0, 0, 1.0)",
           "width": 1
          }
         },
         "name": "Coal",
         "orientation": "v",
         "text": "",
         "type": "bar",
         "uid": "bcd2fe35-a416-4193-8262-c4d96ae61e7b",
         "x": [
          2015,
          2016,
          2017,
          2018,
          2019,
          2020,
          2021,
          2022,
          2023,
          2024,
          2025,
          2026,
          2027,
          2028,
          2029,
          2030,
          2031,
          2032,
          2033,
          2034,
          2035,
          2036,
          2037,
          2038,
          2039,
          2040
         ],
         "y": [
          30.010598,
          21.1428829,
          26.2114246,
          29.294995,
          80.64136500000001,
          87.71901224,
          104.18105161,
          122.11397700999999,
          138.37691331,
          164.7432576,
          192.36173759999997,
          221.2950956,
          249.84963359999998,
          278.9649376,
          308.52008159999997,
          338.1307246,
          364.60351460000004,
          391.3549326,
          418.37164459999997,
          445.62975359999996,
          473.14780759999996,
          494.11094959999997,
          514.5496575999999,
          536.5510506,
          552.8239206000001,
          572.95195
         ]
        },
        {
         "marker": {
          "color": "rgba(55, 128, 191, 0.6)",
          "line": {
           "color": "rgba(55, 128, 191, 1.0)",
           "width": 1
          }
         },
         "name": "Hydro",
         "orientation": "v",
         "text": "",
         "type": "bar",
         "uid": "92dde907-f4bf-41d7-a080-cb32713ede8f",
         "x": [
          2015,
          2016,
          2017,
          2018,
          2019,
          2020,
          2021,
          2022,
          2023,
          2024,
          2025,
          2026,
          2027,
          2028,
          2029,
          2030,
          2031,
          2032,
          2033,
          2034,
          2035,
          2036,
          2037,
          2038,
          2039,
          2040
         ],
         "y": [
          68.475855,
          80.56119160000002,
          89.6483041,
          99.35456599999999,
          108.39263439999999,
          116.91964899999999,
          125.493897,
          133.923989,
          144.43244299999998,
          145.266446,
          145.266446,
          144.50011600000002,
          144.50011600000002,
          144.50011600000002,
          144.50011600000002,
          144.50011600000002,
          144.50011600000002,
          144.50011600000002,
          144.50011600000002,
          144.50011600000002,
          144.50011600000002,
          144.50011600000002,
          144.50011600000002,
          144.50011600000002,
          144.50011600000002,
          144.50011600000002
         ]
        },
        {
         "marker": {
          "color": "rgba(255, 153, 51, 0.6)",
          "line": {
           "color": "rgba(255, 153, 51, 1.0)",
           "width": 1
          }
         },
         "name": "Natural gas",
         "orientation": "v",
         "text": "",
         "type": "bar",
         "uid": "9b396ddf-6eb2-4e72-9277-43cc1d1d846b",
         "x": [
          2015,
          2016,
          2017,
          2018,
          2019,
          2020,
          2021,
          2022,
          2023,
          2024,
          2025,
          2026,
          2027,
          2028,
          2029,
          2030,
          2031,
          2032,
          2033,
          2034,
          2035,
          2036,
          2037,
          2038,
          2039,
          2040
         ],
         "y": [
          38.65734,
          49.59036,
          49.59036,
          49.59036,
          2.5329538,
          0.13794792,
          0.13794792,
          0.13794792,
          0.13794792,
          0.13794792,
          0.2814588,
          0.2814588,
          0.2814588,
          0.2814588,
          0,
          0,
          0,
          0,
          0,
          0,
          0,
          6.7832261,
          14.318857,
          22.5865286,
          36.491453,
          46.7052256
         ]
        },
        {
         "marker": {
          "color": "rgba(255, 215, 0, 0.6)",
          "line": {
           "color": "rgba(255, 215, 0, 1.0)",
           "width": 1
          }
         },
         "name": "Solar",
         "orientation": "v",
         "text": "",
         "type": "bar",
         "uid": "e25e0d70-440b-4628-b7ca-9ac045a9a1ce",
         "x": [
          2015,
          2016,
          2017,
          2018,
          2019,
          2020,
          2021,
          2022,
          2023,
          2024,
          2025,
          2026,
          2027,
          2028,
          2029,
          2030,
          2031,
          2032,
          2033,
          2034,
          2035,
          2036,
          2037,
          2038,
          2039,
          2040
         ],
         "y": [
          0,
          0,
          0,
          0,
          0.89442375,
          2.0869887,
          2.9814125,
          2.9814125,
          2.9814125,
          2.9814125,
          2.9814125,
          2.9814125,
          2.9814125,
          2.9814125,
          2.9814125,
          2.9814125,
          2.9814125,
          2.9814125,
          2.9814125,
          2.9814125,
          2.9814125,
          2.9814125,
          2.9814125,
          2.9814125,
          2.0869887,
          0.89442375
         ]
        },
        {
         "marker": {
          "color": "rgba(238, 130, 238, 0.6)",
          "line": {
           "color": "rgba(238, 130, 238, 1.0)",
           "width": 1
          }
         },
         "name": "Wind",
         "orientation": "v",
         "text": "",
         "type": "bar",
         "uid": "ff256313-79ac-4b46-b4ef-de0c269fafc5",
         "x": [
          2015,
          2016,
          2017,
          2018,
          2019,
          2020,
          2021,
          2022,
          2023,
          2024,
          2025,
          2026,
          2027,
          2028,
          2029,
          2030,
          2031,
          2032,
          2033,
          2034,
          2035,
          2036,
          2037,
          2038,
          2039,
          2040
         ],
         "y": [
          0.19208263,
          0.28817006,
          0.36498466,
          1.79513823,
          2.65969207,
          3.43973743,
          3.3436500000000002,
          3.3436500000000002,
          3.43973743,
          3.43973743,
          3.43973743,
          3.43973743,
          3.43973743,
          3.43973743,
          3.43973743,
          3.43973743,
          3.43973743,
          3.43973743,
          3.43973743,
          3.43973743,
          3.43973743,
          3.43973743,
          3.43973743,
          1.37560978,
          0.51105586,
          0
         ]
        }
       ],
       "layout": {
        "barmode": "stack",
        "legend": {
         "bgcolor": "#FFFFFF",
         "font": {
          "color": "#4D5663"
         },
         "traceorder": "normal"
        },
        "paper_bgcolor": "#FFFFFF",
        "plot_bgcolor": "#FFFFFF",
        "title": {
         "font": {
          "color": "#4D5663"
         },
         "text": "Power Generation (Detail)"
        },
        "xaxis": {
         "gridcolor": "#E1E5ED",
         "showgrid": true,
         "tickfont": {
          "color": "#4D5663"
         },
         "title": {
          "font": {
           "color": "#4D5663"
          },
          "text": "Year"
         },
         "zerolinecolor": "#E1E5ED"
        },
        "yaxis": {
         "gridcolor": "#E1E5ED",
         "showgrid": true,
         "tickfont": {
          "color": "#4D5663"
         },
         "title": {
          "font": {
           "color": "#4D5663"
          },
          "text": "Petajoules (PJ)"
         },
         "zerolinecolor": "#E1E5ED"
        }
       }
      },
      "text/html": [
       "<div id=\"b756a239-d1d2-4b37-926f-6eacfb39fa43\" style=\"height: 525px; width: 100%;\" class=\"plotly-graph-div\"></div><script type=\"text/javascript\">require([\"plotly\"], function(Plotly) { window.PLOTLYENV=window.PLOTLYENV || {};window.PLOTLYENV.BASE_URL=\"https://plot.ly\";\n",
       "if (document.getElementById(\"b756a239-d1d2-4b37-926f-6eacfb39fa43\")) {\n",
       "    Plotly.newPlot(\"b756a239-d1d2-4b37-926f-6eacfb39fa43\", [{\"marker\": {\"color\": \"rgba(34, 139, 34, 0.6)\", \"line\": {\"color\": \"rgba(34, 139, 34, 1.0)\", \"width\": 1}}, \"name\": \"Biomass\", \"orientation\": \"v\", \"text\": \"\", \"x\": [2015, 2016, 2017, 2018, 2019, 2020, 2021, 2022, 2023, 2024, 2025, 2026, 2027, 2028, 2029, 2030, 2031, 2032, 2033, 2034, 2035, 2036, 2037, 2038, 2039, 2040], \"y\": [0.0, 0.23652, 0.67014, 1.34028, 1.34028, 1.4191073859999999, 1.4191073859999999, 1.4191073859999999, 1.4191073859999999, 1.529496, 1.529496, 1.529496, 1.529496, 1.34028, 1.34028, 1.34028, 1.34028, 1.34028, 1.34028, 1.34028, 1.34028, 1.34028, 1.34028, 1.34028, 1.34028, 1.34028], \"type\": \"bar\", \"uid\": \"c1d56725-a2b5-43c3-b12b-6d551ba9046c\"}, {\"marker\": {\"color\": \"rgba(0, 0, 0, 0.6)\", \"line\": {\"color\": \"rgba(0, 0, 0, 1.0)\", \"width\": 1}}, \"name\": \"Coal\", \"orientation\": \"v\", \"text\": \"\", \"x\": [2015, 2016, 2017, 2018, 2019, 2020, 2021, 2022, 2023, 2024, 2025, 2026, 2027, 2028, 2029, 2030, 2031, 2032, 2033, 2034, 2035, 2036, 2037, 2038, 2039, 2040], \"y\": [30.010598, 21.1428829, 26.2114246, 29.294995, 80.64136500000001, 87.71901224, 104.18105161, 122.11397700999999, 138.37691331, 164.7432576, 192.36173759999997, 221.2950956, 249.84963359999998, 278.9649376, 308.52008159999997, 338.1307246, 364.60351460000004, 391.3549326, 418.37164459999997, 445.62975359999996, 473.14780759999996, 494.11094959999997, 514.5496575999999, 536.5510506, 552.8239206000001, 572.95195], \"type\": \"bar\", \"uid\": \"b984ad00-152e-43fe-8a14-d49640c55859\"}, {\"marker\": {\"color\": \"rgba(55, 128, 191, 0.6)\", \"line\": {\"color\": \"rgba(55, 128, 191, 1.0)\", \"width\": 1}}, \"name\": \"Hydro\", \"orientation\": \"v\", \"text\": \"\", \"x\": [2015, 2016, 2017, 2018, 2019, 2020, 2021, 2022, 2023, 2024, 2025, 2026, 2027, 2028, 2029, 2030, 2031, 2032, 2033, 2034, 2035, 2036, 2037, 2038, 2039, 2040], \"y\": [68.475855, 80.56119160000002, 89.6483041, 99.35456599999999, 108.39263439999999, 116.91964899999999, 125.493897, 133.923989, 144.43244299999998, 145.266446, 145.266446, 144.50011600000002, 144.50011600000002, 144.50011600000002, 144.50011600000002, 144.50011600000002, 144.50011600000002, 144.50011600000002, 144.50011600000002, 144.50011600000002, 144.50011600000002, 144.50011600000002, 144.50011600000002, 144.50011600000002, 144.50011600000002, 144.50011600000002], \"type\": \"bar\", \"uid\": \"0663d352-d1d0-40f4-89bb-d00e605af8ad\"}, {\"marker\": {\"color\": \"rgba(255, 153, 51, 0.6)\", \"line\": {\"color\": \"rgba(255, 153, 51, 1.0)\", \"width\": 1}}, \"name\": \"Natural gas\", \"orientation\": \"v\", \"text\": \"\", \"x\": [2015, 2016, 2017, 2018, 2019, 2020, 2021, 2022, 2023, 2024, 2025, 2026, 2027, 2028, 2029, 2030, 2031, 2032, 2033, 2034, 2035, 2036, 2037, 2038, 2039, 2040], \"y\": [38.65734, 49.59036, 49.59036, 49.59036, 2.5329538, 0.13794792, 0.13794792, 0.13794792, 0.13794792, 0.13794792, 0.2814588, 0.2814588, 0.2814588, 0.2814588, 0.0, 0.0, 0.0, 0.0, 0.0, 0.0, 0.0, 6.7832261, 14.318857, 22.5865286, 36.491453, 46.7052256], \"type\": \"bar\", \"uid\": \"1555f0ed-a923-4d40-8802-4e0d84a761fd\"}, {\"marker\": {\"color\": \"rgba(255, 215, 0, 0.6)\", \"line\": {\"color\": \"rgba(255, 215, 0, 1.0)\", \"width\": 1}}, \"name\": \"Solar\", \"orientation\": \"v\", \"text\": \"\", \"x\": [2015, 2016, 2017, 2018, 2019, 2020, 2021, 2022, 2023, 2024, 2025, 2026, 2027, 2028, 2029, 2030, 2031, 2032, 2033, 2034, 2035, 2036, 2037, 2038, 2039, 2040], \"y\": [0.0, 0.0, 0.0, 0.0, 0.89442375, 2.0869887, 2.9814125, 2.9814125, 2.9814125, 2.9814125, 2.9814125, 2.9814125, 2.9814125, 2.9814125, 2.9814125, 2.9814125, 2.9814125, 2.9814125, 2.9814125, 2.9814125, 2.9814125, 2.9814125, 2.9814125, 2.9814125, 2.0869887, 0.89442375], \"type\": \"bar\", \"uid\": \"96d6a343-9067-4aab-a071-ce1487069725\"}, {\"marker\": {\"color\": \"rgba(238, 130, 238, 0.6)\", \"line\": {\"color\": \"rgba(238, 130, 238, 1.0)\", \"width\": 1}}, \"name\": \"Wind\", \"orientation\": \"v\", \"text\": \"\", \"x\": [2015, 2016, 2017, 2018, 2019, 2020, 2021, 2022, 2023, 2024, 2025, 2026, 2027, 2028, 2029, 2030, 2031, 2032, 2033, 2034, 2035, 2036, 2037, 2038, 2039, 2040], \"y\": [0.19208263, 0.28817006, 0.36498466, 1.79513823, 2.65969207, 3.43973743, 3.3436500000000002, 3.3436500000000002, 3.43973743, 3.43973743, 3.43973743, 3.43973743, 3.43973743, 3.43973743, 3.43973743, 3.43973743, 3.43973743, 3.43973743, 3.43973743, 3.43973743, 3.43973743, 3.43973743, 3.43973743, 1.37560978, 0.51105586, 0.0], \"type\": \"bar\", \"uid\": \"c385d654-27db-4071-8049-cda421a6a746\"}], {\"barmode\": \"stack\", \"legend\": {\"bgcolor\": \"#FFFFFF\", \"font\": {\"color\": \"#4D5663\"}, \"traceorder\": \"normal\"}, \"paper_bgcolor\": \"#FFFFFF\", \"plot_bgcolor\": \"#FFFFFF\", \"title\": {\"text\": \"Power Generation (Detail)\", \"font\": {\"color\": \"#4D5663\"}}, \"xaxis\": {\"gridcolor\": \"#E1E5ED\", \"showgrid\": true, \"tickfont\": {\"color\": \"#4D5663\"}, \"title\": {\"text\": \"Year\", \"font\": {\"color\": \"#4D5663\"}}, \"zerolinecolor\": \"#E1E5ED\"}, \"yaxis\": {\"gridcolor\": \"#E1E5ED\", \"showgrid\": true, \"tickfont\": {\"color\": \"#4D5663\"}, \"title\": {\"text\": \"Petajoules (PJ)\", \"font\": {\"color\": \"#4D5663\"}}, \"zerolinecolor\": \"#E1E5ED\"}}, {\"showLink\": true, \"linkText\": \"Export to plot.ly\", \"plotlyServerURL\": \"https://plot.ly\"}); \n",
       "}\n",
       "});</script><script type=\"text/javascript\">window.addEventListener(\"resize\", function(){if (document.getElementById(\"b756a239-d1d2-4b37-926f-6eacfb39fa43\")) {window._Plotly.Plots.resize(document.getElementById(\"b756a239-d1d2-4b37-926f-6eacfb39fa43\"));};})</script>"
      ],
      "text/vnd.plotly.v1+html": [
       "<div id=\"b756a239-d1d2-4b37-926f-6eacfb39fa43\" style=\"height: 525px; width: 100%;\" class=\"plotly-graph-div\"></div><script type=\"text/javascript\">require([\"plotly\"], function(Plotly) { window.PLOTLYENV=window.PLOTLYENV || {};window.PLOTLYENV.BASE_URL=\"https://plot.ly\";\n",
       "if (document.getElementById(\"b756a239-d1d2-4b37-926f-6eacfb39fa43\")) {\n",
       "    Plotly.newPlot(\"b756a239-d1d2-4b37-926f-6eacfb39fa43\", [{\"marker\": {\"color\": \"rgba(34, 139, 34, 0.6)\", \"line\": {\"color\": \"rgba(34, 139, 34, 1.0)\", \"width\": 1}}, \"name\": \"Biomass\", \"orientation\": \"v\", \"text\": \"\", \"x\": [2015, 2016, 2017, 2018, 2019, 2020, 2021, 2022, 2023, 2024, 2025, 2026, 2027, 2028, 2029, 2030, 2031, 2032, 2033, 2034, 2035, 2036, 2037, 2038, 2039, 2040], \"y\": [0.0, 0.23652, 0.67014, 1.34028, 1.34028, 1.4191073859999999, 1.4191073859999999, 1.4191073859999999, 1.4191073859999999, 1.529496, 1.529496, 1.529496, 1.529496, 1.34028, 1.34028, 1.34028, 1.34028, 1.34028, 1.34028, 1.34028, 1.34028, 1.34028, 1.34028, 1.34028, 1.34028, 1.34028], \"type\": \"bar\", \"uid\": \"c1d56725-a2b5-43c3-b12b-6d551ba9046c\"}, {\"marker\": {\"color\": \"rgba(0, 0, 0, 0.6)\", \"line\": {\"color\": \"rgba(0, 0, 0, 1.0)\", \"width\": 1}}, \"name\": \"Coal\", \"orientation\": \"v\", \"text\": \"\", \"x\": [2015, 2016, 2017, 2018, 2019, 2020, 2021, 2022, 2023, 2024, 2025, 2026, 2027, 2028, 2029, 2030, 2031, 2032, 2033, 2034, 2035, 2036, 2037, 2038, 2039, 2040], \"y\": [30.010598, 21.1428829, 26.2114246, 29.294995, 80.64136500000001, 87.71901224, 104.18105161, 122.11397700999999, 138.37691331, 164.7432576, 192.36173759999997, 221.2950956, 249.84963359999998, 278.9649376, 308.52008159999997, 338.1307246, 364.60351460000004, 391.3549326, 418.37164459999997, 445.62975359999996, 473.14780759999996, 494.11094959999997, 514.5496575999999, 536.5510506, 552.8239206000001, 572.95195], \"type\": \"bar\", \"uid\": \"b984ad00-152e-43fe-8a14-d49640c55859\"}, {\"marker\": {\"color\": \"rgba(55, 128, 191, 0.6)\", \"line\": {\"color\": \"rgba(55, 128, 191, 1.0)\", \"width\": 1}}, \"name\": \"Hydro\", \"orientation\": \"v\", \"text\": \"\", \"x\": [2015, 2016, 2017, 2018, 2019, 2020, 2021, 2022, 2023, 2024, 2025, 2026, 2027, 2028, 2029, 2030, 2031, 2032, 2033, 2034, 2035, 2036, 2037, 2038, 2039, 2040], \"y\": [68.475855, 80.56119160000002, 89.6483041, 99.35456599999999, 108.39263439999999, 116.91964899999999, 125.493897, 133.923989, 144.43244299999998, 145.266446, 145.266446, 144.50011600000002, 144.50011600000002, 144.50011600000002, 144.50011600000002, 144.50011600000002, 144.50011600000002, 144.50011600000002, 144.50011600000002, 144.50011600000002, 144.50011600000002, 144.50011600000002, 144.50011600000002, 144.50011600000002, 144.50011600000002, 144.50011600000002], \"type\": \"bar\", \"uid\": \"0663d352-d1d0-40f4-89bb-d00e605af8ad\"}, {\"marker\": {\"color\": \"rgba(255, 153, 51, 0.6)\", \"line\": {\"color\": \"rgba(255, 153, 51, 1.0)\", \"width\": 1}}, \"name\": \"Natural gas\", \"orientation\": \"v\", \"text\": \"\", \"x\": [2015, 2016, 2017, 2018, 2019, 2020, 2021, 2022, 2023, 2024, 2025, 2026, 2027, 2028, 2029, 2030, 2031, 2032, 2033, 2034, 2035, 2036, 2037, 2038, 2039, 2040], \"y\": [38.65734, 49.59036, 49.59036, 49.59036, 2.5329538, 0.13794792, 0.13794792, 0.13794792, 0.13794792, 0.13794792, 0.2814588, 0.2814588, 0.2814588, 0.2814588, 0.0, 0.0, 0.0, 0.0, 0.0, 0.0, 0.0, 6.7832261, 14.318857, 22.5865286, 36.491453, 46.7052256], \"type\": \"bar\", \"uid\": \"1555f0ed-a923-4d40-8802-4e0d84a761fd\"}, {\"marker\": {\"color\": \"rgba(255, 215, 0, 0.6)\", \"line\": {\"color\": \"rgba(255, 215, 0, 1.0)\", \"width\": 1}}, \"name\": \"Solar\", \"orientation\": \"v\", \"text\": \"\", \"x\": [2015, 2016, 2017, 2018, 2019, 2020, 2021, 2022, 2023, 2024, 2025, 2026, 2027, 2028, 2029, 2030, 2031, 2032, 2033, 2034, 2035, 2036, 2037, 2038, 2039, 2040], \"y\": [0.0, 0.0, 0.0, 0.0, 0.89442375, 2.0869887, 2.9814125, 2.9814125, 2.9814125, 2.9814125, 2.9814125, 2.9814125, 2.9814125, 2.9814125, 2.9814125, 2.9814125, 2.9814125, 2.9814125, 2.9814125, 2.9814125, 2.9814125, 2.9814125, 2.9814125, 2.9814125, 2.0869887, 0.89442375], \"type\": \"bar\", \"uid\": \"96d6a343-9067-4aab-a071-ce1487069725\"}, {\"marker\": {\"color\": \"rgba(238, 130, 238, 0.6)\", \"line\": {\"color\": \"rgba(238, 130, 238, 1.0)\", \"width\": 1}}, \"name\": \"Wind\", \"orientation\": \"v\", \"text\": \"\", \"x\": [2015, 2016, 2017, 2018, 2019, 2020, 2021, 2022, 2023, 2024, 2025, 2026, 2027, 2028, 2029, 2030, 2031, 2032, 2033, 2034, 2035, 2036, 2037, 2038, 2039, 2040], \"y\": [0.19208263, 0.28817006, 0.36498466, 1.79513823, 2.65969207, 3.43973743, 3.3436500000000002, 3.3436500000000002, 3.43973743, 3.43973743, 3.43973743, 3.43973743, 3.43973743, 3.43973743, 3.43973743, 3.43973743, 3.43973743, 3.43973743, 3.43973743, 3.43973743, 3.43973743, 3.43973743, 3.43973743, 1.37560978, 0.51105586, 0.0], \"type\": \"bar\", \"uid\": \"c385d654-27db-4071-8049-cda421a6a746\"}], {\"barmode\": \"stack\", \"legend\": {\"bgcolor\": \"#FFFFFF\", \"font\": {\"color\": \"#4D5663\"}, \"traceorder\": \"normal\"}, \"paper_bgcolor\": \"#FFFFFF\", \"plot_bgcolor\": \"#FFFFFF\", \"title\": {\"text\": \"Power Generation (Detail)\", \"font\": {\"color\": \"#4D5663\"}}, \"xaxis\": {\"gridcolor\": \"#E1E5ED\", \"showgrid\": true, \"tickfont\": {\"color\": \"#4D5663\"}, \"title\": {\"text\": \"Year\", \"font\": {\"color\": \"#4D5663\"}}, \"zerolinecolor\": \"#E1E5ED\"}, \"yaxis\": {\"gridcolor\": \"#E1E5ED\", \"showgrid\": true, \"tickfont\": {\"color\": \"#4D5663\"}, \"title\": {\"text\": \"Petajoules (PJ)\", \"font\": {\"color\": \"#4D5663\"}}, \"zerolinecolor\": \"#E1E5ED\"}}, {\"showLink\": true, \"linkText\": \"Export to plot.ly\", \"plotlyServerURL\": \"https://plot.ly\"}); \n",
       "}\n",
       "});</script><script type=\"text/javascript\">window.addEventListener(\"resize\", function(){if (document.getElementById(\"b756a239-d1d2-4b37-926f-6eacfb39fa43\")) {window._Plotly.Plots.resize(document.getElementById(\"b756a239-d1d2-4b37-926f-6eacfb39fa43\"));};})</script>"
      ]
     },
     "metadata": {},
     "output_type": "display_data"
    }
   ],
   "source": [
    "#Power generation (Detailed)\n",
    "gen_df = all_params['ProductionByTechnologyAnnual'][all_params['ProductionByTechnologyAnnual'].t.str.startswith('PWR') & \n",
    "                                                   all_params['ProductionByTechnologyAnnual'].f.str.startswith('ELC001')].drop('r', axis=1)\n",
    "gen_df = df_filter(gen_df,3,6,['TRN'])\n",
    "df_plot(gen_df,'Petajoules (PJ)','Power Generation (Detail)')"
   ]
  },
  {
   "cell_type": "code",
   "execution_count": 234,
   "metadata": {},
   "outputs": [
    {
     "data": {
      "application/vnd.plotly.v1+json": {
       "config": {
        "linkText": "Export to plot.ly",
        "plotlyServerURL": "https://plot.ly",
        "showLink": true
       },
       "data": [
        {
         "marker": {
          "color": "rgba(0, 0, 0, 0.6)",
          "line": {
           "color": "rgba(0, 0, 0, 1.0)",
           "width": 1
          }
         },
         "name": "Coal",
         "orientation": "v",
         "text": "",
         "type": "bar",
         "uid": "3f5d1bb2-f63f-4c8f-bf97-3f165de9a40e",
         "x": [
          2015,
          2016,
          2017,
          2018,
          2019,
          2020,
          2021,
          2022,
          2023,
          2024,
          2025,
          2026,
          2027,
          2028,
          2029,
          2030,
          2031,
          2032,
          2033,
          2034,
          2035,
          2036,
          2037,
          2038,
          2039,
          2040
         ],
         "y": [
          30.01,
          21.14,
          26.21,
          29.29,
          80.64,
          87.72,
          104.18,
          122.11,
          138.38,
          164.74,
          192.36,
          221.3,
          249.85,
          278.96,
          308.52,
          338.13,
          364.6,
          391.35,
          418.37,
          445.63,
          473.15,
          494.11,
          514.55,
          536.55,
          552.82,
          572.95
         ]
        },
        {
         "marker": {
          "color": "rgba(178, 34, 34, 0.6)",
          "line": {
           "color": "rgba(178, 34, 34, 1.0)",
           "width": 1
          }
         },
         "name": "Oil",
         "orientation": "v",
         "text": "",
         "type": "bar",
         "uid": "f47d7813-db8d-43ae-8d96-c935fee9e5ec",
         "x": [
          2015,
          2016,
          2017,
          2018,
          2019,
          2020,
          2021,
          2022,
          2023,
          2024,
          2025,
          2026,
          2027,
          2028,
          2029,
          2030,
          2031,
          2032,
          2033,
          2034,
          2035,
          2036,
          2037,
          2038,
          2039,
          2040
         ],
         "y": [
          0,
          0,
          0,
          0,
          0,
          0,
          0,
          0,
          0,
          0,
          0,
          0,
          0,
          0,
          0,
          0,
          0,
          0,
          0,
          0,
          0,
          0,
          0,
          0,
          0,
          0
         ]
        },
        {
         "marker": {
          "color": "rgba(255, 153, 51, 0.6)",
          "line": {
           "color": "rgba(255, 153, 51, 1.0)",
           "width": 1
          }
         },
         "name": "Gas",
         "orientation": "v",
         "text": "",
         "type": "bar",
         "uid": "8353ab4b-ee87-4304-b7e3-dee833dc69b6",
         "x": [
          2015,
          2016,
          2017,
          2018,
          2019,
          2020,
          2021,
          2022,
          2023,
          2024,
          2025,
          2026,
          2027,
          2028,
          2029,
          2030,
          2031,
          2032,
          2033,
          2034,
          2035,
          2036,
          2037,
          2038,
          2039,
          2040
         ],
         "y": [
          38.66,
          49.59,
          49.59,
          49.59,
          2.53,
          0.14,
          0.14,
          0.14,
          0.14,
          0.14,
          0.28,
          0.28,
          0.28,
          0.28,
          0,
          0,
          0,
          0,
          0,
          0,
          0,
          6.78,
          14.32,
          22.59,
          36.49,
          46.71
         ]
        },
        {
         "marker": {
          "color": "rgba(55, 128, 191, 0.6)",
          "line": {
           "color": "rgba(55, 128, 191, 1.0)",
           "width": 1
          }
         },
         "name": "Hydro",
         "orientation": "v",
         "text": "",
         "type": "bar",
         "uid": "c906282a-91c2-4b8d-a73a-33391ec8ea7c",
         "x": [
          2015,
          2016,
          2017,
          2018,
          2019,
          2020,
          2021,
          2022,
          2023,
          2024,
          2025,
          2026,
          2027,
          2028,
          2029,
          2030,
          2031,
          2032,
          2033,
          2034,
          2035,
          2036,
          2037,
          2038,
          2039,
          2040
         ],
         "y": [
          68.48,
          80.56,
          89.65,
          99.35,
          108.39,
          116.92,
          125.49,
          133.92,
          144.43,
          145.27,
          145.27,
          144.5,
          144.5,
          144.5,
          144.5,
          144.5,
          144.5,
          144.5,
          144.5,
          144.5,
          144.5,
          144.5,
          144.5,
          144.5,
          144.5,
          144.5
         ]
        },
        {
         "marker": {
          "color": "rgba(128, 128, 128, 0.6)",
          "line": {
           "color": "rgba(128, 128, 128, 1.0)",
           "width": 1
          }
         },
         "name": "Nuclear",
         "orientation": "v",
         "text": "",
         "type": "bar",
         "uid": "3e9ddf36-2b56-457f-853a-cf19b29c9d6c",
         "x": [
          2015,
          2016,
          2017,
          2018,
          2019,
          2020,
          2021,
          2022,
          2023,
          2024,
          2025,
          2026,
          2027,
          2028,
          2029,
          2030,
          2031,
          2032,
          2033,
          2034,
          2035,
          2036,
          2037,
          2038,
          2039,
          2040
         ],
         "y": [
          0,
          0,
          0,
          0,
          0,
          0,
          0,
          0,
          0,
          0,
          0,
          0,
          0,
          0,
          0,
          0,
          0,
          0,
          0,
          0,
          0,
          0,
          0,
          0,
          0,
          0
         ]
        },
        {
         "marker": {
          "color": "rgba(0, 128, 0, 0.6)",
          "line": {
           "color": "rgba(0, 128, 0, 1.0)",
           "width": 1
          }
         },
         "name": "Other renewables",
         "orientation": "v",
         "text": "",
         "type": "bar",
         "uid": "f13e3137-0621-42be-9a75-37042661f195",
         "x": [
          2015,
          2016,
          2017,
          2018,
          2019,
          2020,
          2021,
          2022,
          2023,
          2024,
          2025,
          2026,
          2027,
          2028,
          2029,
          2030,
          2031,
          2032,
          2033,
          2034,
          2035,
          2036,
          2037,
          2038,
          2039,
          2040
         ],
         "y": [
          0.19,
          0.53,
          1.03,
          3.14,
          4.89,
          6.95,
          7.74,
          7.74,
          7.84,
          7.95,
          7.95,
          7.95,
          7.95,
          7.76,
          7.76,
          7.76,
          7.76,
          7.76,
          7.76,
          7.76,
          7.76,
          7.76,
          7.76,
          5.7,
          3.94,
          2.23
         ]
        }
       ],
       "layout": {
        "barmode": "stack",
        "legend": {
         "bgcolor": "#FFFFFF",
         "font": {
          "color": "#4D5663"
         },
         "traceorder": "normal"
        },
        "paper_bgcolor": "#FFFFFF",
        "plot_bgcolor": "#FFFFFF",
        "title": {
         "font": {
          "color": "#4D5663"
         },
         "text": "Power Generation (Aggregate)"
        },
        "xaxis": {
         "gridcolor": "#E1E5ED",
         "showgrid": true,
         "tickfont": {
          "color": "#4D5663"
         },
         "title": {
          "font": {
           "color": "#4D5663"
          },
          "text": "Year"
         },
         "zerolinecolor": "#E1E5ED"
        },
        "yaxis": {
         "gridcolor": "#E1E5ED",
         "showgrid": true,
         "tickfont": {
          "color": "#4D5663"
         },
         "title": {
          "font": {
           "color": "#4D5663"
          },
          "text": "Petajoules (PJ)"
         },
         "zerolinecolor": "#E1E5ED"
        }
       }
      },
      "text/html": [
       "<div id=\"b8f3f06e-da47-4a59-bdec-d6da9437ca5b\" style=\"height: 525px; width: 100%;\" class=\"plotly-graph-div\"></div><script type=\"text/javascript\">require([\"plotly\"], function(Plotly) { window.PLOTLYENV=window.PLOTLYENV || {};window.PLOTLYENV.BASE_URL=\"https://plot.ly\";\n",
       "if (document.getElementById(\"b8f3f06e-da47-4a59-bdec-d6da9437ca5b\")) {\n",
       "    Plotly.newPlot(\"b8f3f06e-da47-4a59-bdec-d6da9437ca5b\", [{\"marker\": {\"color\": \"rgba(0, 0, 0, 0.6)\", \"line\": {\"color\": \"rgba(0, 0, 0, 1.0)\", \"width\": 1}}, \"name\": \"Coal\", \"orientation\": \"v\", \"text\": \"\", \"x\": [2015, 2016, 2017, 2018, 2019, 2020, 2021, 2022, 2023, 2024, 2025, 2026, 2027, 2028, 2029, 2030, 2031, 2032, 2033, 2034, 2035, 2036, 2037, 2038, 2039, 2040], \"y\": [30.01, 21.14, 26.21, 29.29, 80.64, 87.72, 104.18, 122.11, 138.38, 164.74, 192.36, 221.3, 249.85, 278.96, 308.52, 338.13, 364.6, 391.35, 418.37, 445.63, 473.15, 494.11, 514.55, 536.55, 552.82, 572.95], \"type\": \"bar\", \"uid\": \"602e81dd-020a-4e49-a732-b169d2e4d1dd\"}, {\"marker\": {\"color\": \"rgba(178, 34, 34, 0.6)\", \"line\": {\"color\": \"rgba(178, 34, 34, 1.0)\", \"width\": 1}}, \"name\": \"Oil\", \"orientation\": \"v\", \"text\": \"\", \"x\": [2015, 2016, 2017, 2018, 2019, 2020, 2021, 2022, 2023, 2024, 2025, 2026, 2027, 2028, 2029, 2030, 2031, 2032, 2033, 2034, 2035, 2036, 2037, 2038, 2039, 2040], \"y\": [0.0, 0.0, 0.0, 0.0, 0.0, 0.0, 0.0, 0.0, 0.0, 0.0, 0.0, 0.0, 0.0, 0.0, 0.0, 0.0, 0.0, 0.0, 0.0, 0.0, 0.0, 0.0, 0.0, 0.0, 0.0, 0.0], \"type\": \"bar\", \"uid\": \"694bc01e-2be4-4cb9-b71b-7359797e33cf\"}, {\"marker\": {\"color\": \"rgba(255, 153, 51, 0.6)\", \"line\": {\"color\": \"rgba(255, 153, 51, 1.0)\", \"width\": 1}}, \"name\": \"Gas\", \"orientation\": \"v\", \"text\": \"\", \"x\": [2015, 2016, 2017, 2018, 2019, 2020, 2021, 2022, 2023, 2024, 2025, 2026, 2027, 2028, 2029, 2030, 2031, 2032, 2033, 2034, 2035, 2036, 2037, 2038, 2039, 2040], \"y\": [38.66, 49.59, 49.59, 49.59, 2.53, 0.14, 0.14, 0.14, 0.14, 0.14, 0.28, 0.28, 0.28, 0.28, 0.0, 0.0, 0.0, 0.0, 0.0, 0.0, 0.0, 6.78, 14.32, 22.59, 36.49, 46.71], \"type\": \"bar\", \"uid\": \"d3614b08-265b-4fb6-ad0b-bfe39b93a66f\"}, {\"marker\": {\"color\": \"rgba(55, 128, 191, 0.6)\", \"line\": {\"color\": \"rgba(55, 128, 191, 1.0)\", \"width\": 1}}, \"name\": \"Hydro\", \"orientation\": \"v\", \"text\": \"\", \"x\": [2015, 2016, 2017, 2018, 2019, 2020, 2021, 2022, 2023, 2024, 2025, 2026, 2027, 2028, 2029, 2030, 2031, 2032, 2033, 2034, 2035, 2036, 2037, 2038, 2039, 2040], \"y\": [68.48, 80.56, 89.65, 99.35, 108.39, 116.92, 125.49, 133.92, 144.43, 145.27, 145.27, 144.5, 144.5, 144.5, 144.5, 144.5, 144.5, 144.5, 144.5, 144.5, 144.5, 144.5, 144.5, 144.5, 144.5, 144.5], \"type\": \"bar\", \"uid\": \"45eede4d-f275-4d1d-95b7-b0570c4c1393\"}, {\"marker\": {\"color\": \"rgba(128, 128, 128, 0.6)\", \"line\": {\"color\": \"rgba(128, 128, 128, 1.0)\", \"width\": 1}}, \"name\": \"Nuclear\", \"orientation\": \"v\", \"text\": \"\", \"x\": [2015, 2016, 2017, 2018, 2019, 2020, 2021, 2022, 2023, 2024, 2025, 2026, 2027, 2028, 2029, 2030, 2031, 2032, 2033, 2034, 2035, 2036, 2037, 2038, 2039, 2040], \"y\": [0.0, 0.0, 0.0, 0.0, 0.0, 0.0, 0.0, 0.0, 0.0, 0.0, 0.0, 0.0, 0.0, 0.0, 0.0, 0.0, 0.0, 0.0, 0.0, 0.0, 0.0, 0.0, 0.0, 0.0, 0.0, 0.0], \"type\": \"bar\", \"uid\": \"dbaf7b4c-9d00-41e7-aa66-4f07fa150424\"}, {\"marker\": {\"color\": \"rgba(0, 128, 0, 0.6)\", \"line\": {\"color\": \"rgba(0, 128, 0, 1.0)\", \"width\": 1}}, \"name\": \"Other renewables\", \"orientation\": \"v\", \"text\": \"\", \"x\": [2015, 2016, 2017, 2018, 2019, 2020, 2021, 2022, 2023, 2024, 2025, 2026, 2027, 2028, 2029, 2030, 2031, 2032, 2033, 2034, 2035, 2036, 2037, 2038, 2039, 2040], \"y\": [0.19, 0.53, 1.03, 3.14, 4.89, 6.95, 7.74, 7.74, 7.84, 7.95, 7.95, 7.95, 7.95, 7.76, 7.76, 7.76, 7.76, 7.76, 7.76, 7.76, 7.76, 7.76, 7.76, 5.7, 3.94, 2.23], \"type\": \"bar\", \"uid\": \"465eb16a-beb5-4e82-ac50-6e5bcf961089\"}], {\"barmode\": \"stack\", \"legend\": {\"bgcolor\": \"#FFFFFF\", \"font\": {\"color\": \"#4D5663\"}, \"traceorder\": \"normal\"}, \"paper_bgcolor\": \"#FFFFFF\", \"plot_bgcolor\": \"#FFFFFF\", \"title\": {\"text\": \"Power Generation (Aggregate)\", \"font\": {\"color\": \"#4D5663\"}}, \"xaxis\": {\"gridcolor\": \"#E1E5ED\", \"showgrid\": true, \"tickfont\": {\"color\": \"#4D5663\"}, \"title\": {\"text\": \"Year\", \"font\": {\"color\": \"#4D5663\"}}, \"zerolinecolor\": \"#E1E5ED\"}, \"yaxis\": {\"gridcolor\": \"#E1E5ED\", \"showgrid\": true, \"tickfont\": {\"color\": \"#4D5663\"}, \"title\": {\"text\": \"Petajoules (PJ)\", \"font\": {\"color\": \"#4D5663\"}}, \"zerolinecolor\": \"#E1E5ED\"}}, {\"showLink\": true, \"linkText\": \"Export to plot.ly\", \"plotlyServerURL\": \"https://plot.ly\"}); \n",
       "}\n",
       "});</script><script type=\"text/javascript\">window.addEventListener(\"resize\", function(){if (document.getElementById(\"b8f3f06e-da47-4a59-bdec-d6da9437ca5b\")) {window._Plotly.Plots.resize(document.getElementById(\"b8f3f06e-da47-4a59-bdec-d6da9437ca5b\"));};})</script>"
      ],
      "text/vnd.plotly.v1+html": [
       "<div id=\"b8f3f06e-da47-4a59-bdec-d6da9437ca5b\" style=\"height: 525px; width: 100%;\" class=\"plotly-graph-div\"></div><script type=\"text/javascript\">require([\"plotly\"], function(Plotly) { window.PLOTLYENV=window.PLOTLYENV || {};window.PLOTLYENV.BASE_URL=\"https://plot.ly\";\n",
       "if (document.getElementById(\"b8f3f06e-da47-4a59-bdec-d6da9437ca5b\")) {\n",
       "    Plotly.newPlot(\"b8f3f06e-da47-4a59-bdec-d6da9437ca5b\", [{\"marker\": {\"color\": \"rgba(0, 0, 0, 0.6)\", \"line\": {\"color\": \"rgba(0, 0, 0, 1.0)\", \"width\": 1}}, \"name\": \"Coal\", \"orientation\": \"v\", \"text\": \"\", \"x\": [2015, 2016, 2017, 2018, 2019, 2020, 2021, 2022, 2023, 2024, 2025, 2026, 2027, 2028, 2029, 2030, 2031, 2032, 2033, 2034, 2035, 2036, 2037, 2038, 2039, 2040], \"y\": [30.01, 21.14, 26.21, 29.29, 80.64, 87.72, 104.18, 122.11, 138.38, 164.74, 192.36, 221.3, 249.85, 278.96, 308.52, 338.13, 364.6, 391.35, 418.37, 445.63, 473.15, 494.11, 514.55, 536.55, 552.82, 572.95], \"type\": \"bar\", \"uid\": \"602e81dd-020a-4e49-a732-b169d2e4d1dd\"}, {\"marker\": {\"color\": \"rgba(178, 34, 34, 0.6)\", \"line\": {\"color\": \"rgba(178, 34, 34, 1.0)\", \"width\": 1}}, \"name\": \"Oil\", \"orientation\": \"v\", \"text\": \"\", \"x\": [2015, 2016, 2017, 2018, 2019, 2020, 2021, 2022, 2023, 2024, 2025, 2026, 2027, 2028, 2029, 2030, 2031, 2032, 2033, 2034, 2035, 2036, 2037, 2038, 2039, 2040], \"y\": [0.0, 0.0, 0.0, 0.0, 0.0, 0.0, 0.0, 0.0, 0.0, 0.0, 0.0, 0.0, 0.0, 0.0, 0.0, 0.0, 0.0, 0.0, 0.0, 0.0, 0.0, 0.0, 0.0, 0.0, 0.0, 0.0], \"type\": \"bar\", \"uid\": \"694bc01e-2be4-4cb9-b71b-7359797e33cf\"}, {\"marker\": {\"color\": \"rgba(255, 153, 51, 0.6)\", \"line\": {\"color\": \"rgba(255, 153, 51, 1.0)\", \"width\": 1}}, \"name\": \"Gas\", \"orientation\": \"v\", \"text\": \"\", \"x\": [2015, 2016, 2017, 2018, 2019, 2020, 2021, 2022, 2023, 2024, 2025, 2026, 2027, 2028, 2029, 2030, 2031, 2032, 2033, 2034, 2035, 2036, 2037, 2038, 2039, 2040], \"y\": [38.66, 49.59, 49.59, 49.59, 2.53, 0.14, 0.14, 0.14, 0.14, 0.14, 0.28, 0.28, 0.28, 0.28, 0.0, 0.0, 0.0, 0.0, 0.0, 0.0, 0.0, 6.78, 14.32, 22.59, 36.49, 46.71], \"type\": \"bar\", \"uid\": \"d3614b08-265b-4fb6-ad0b-bfe39b93a66f\"}, {\"marker\": {\"color\": \"rgba(55, 128, 191, 0.6)\", \"line\": {\"color\": \"rgba(55, 128, 191, 1.0)\", \"width\": 1}}, \"name\": \"Hydro\", \"orientation\": \"v\", \"text\": \"\", \"x\": [2015, 2016, 2017, 2018, 2019, 2020, 2021, 2022, 2023, 2024, 2025, 2026, 2027, 2028, 2029, 2030, 2031, 2032, 2033, 2034, 2035, 2036, 2037, 2038, 2039, 2040], \"y\": [68.48, 80.56, 89.65, 99.35, 108.39, 116.92, 125.49, 133.92, 144.43, 145.27, 145.27, 144.5, 144.5, 144.5, 144.5, 144.5, 144.5, 144.5, 144.5, 144.5, 144.5, 144.5, 144.5, 144.5, 144.5, 144.5], \"type\": \"bar\", \"uid\": \"45eede4d-f275-4d1d-95b7-b0570c4c1393\"}, {\"marker\": {\"color\": \"rgba(128, 128, 128, 0.6)\", \"line\": {\"color\": \"rgba(128, 128, 128, 1.0)\", \"width\": 1}}, \"name\": \"Nuclear\", \"orientation\": \"v\", \"text\": \"\", \"x\": [2015, 2016, 2017, 2018, 2019, 2020, 2021, 2022, 2023, 2024, 2025, 2026, 2027, 2028, 2029, 2030, 2031, 2032, 2033, 2034, 2035, 2036, 2037, 2038, 2039, 2040], \"y\": [0.0, 0.0, 0.0, 0.0, 0.0, 0.0, 0.0, 0.0, 0.0, 0.0, 0.0, 0.0, 0.0, 0.0, 0.0, 0.0, 0.0, 0.0, 0.0, 0.0, 0.0, 0.0, 0.0, 0.0, 0.0, 0.0], \"type\": \"bar\", \"uid\": \"dbaf7b4c-9d00-41e7-aa66-4f07fa150424\"}, {\"marker\": {\"color\": \"rgba(0, 128, 0, 0.6)\", \"line\": {\"color\": \"rgba(0, 128, 0, 1.0)\", \"width\": 1}}, \"name\": \"Other renewables\", \"orientation\": \"v\", \"text\": \"\", \"x\": [2015, 2016, 2017, 2018, 2019, 2020, 2021, 2022, 2023, 2024, 2025, 2026, 2027, 2028, 2029, 2030, 2031, 2032, 2033, 2034, 2035, 2036, 2037, 2038, 2039, 2040], \"y\": [0.19, 0.53, 1.03, 3.14, 4.89, 6.95, 7.74, 7.74, 7.84, 7.95, 7.95, 7.95, 7.95, 7.76, 7.76, 7.76, 7.76, 7.76, 7.76, 7.76, 7.76, 7.76, 7.76, 5.7, 3.94, 2.23], \"type\": \"bar\", \"uid\": \"465eb16a-beb5-4e82-ac50-6e5bcf961089\"}], {\"barmode\": \"stack\", \"legend\": {\"bgcolor\": \"#FFFFFF\", \"font\": {\"color\": \"#4D5663\"}, \"traceorder\": \"normal\"}, \"paper_bgcolor\": \"#FFFFFF\", \"plot_bgcolor\": \"#FFFFFF\", \"title\": {\"text\": \"Power Generation (Aggregate)\", \"font\": {\"color\": \"#4D5663\"}}, \"xaxis\": {\"gridcolor\": \"#E1E5ED\", \"showgrid\": true, \"tickfont\": {\"color\": \"#4D5663\"}, \"title\": {\"text\": \"Year\", \"font\": {\"color\": \"#4D5663\"}}, \"zerolinecolor\": \"#E1E5ED\"}, \"yaxis\": {\"gridcolor\": \"#E1E5ED\", \"showgrid\": true, \"tickfont\": {\"color\": \"#4D5663\"}, \"title\": {\"text\": \"Petajoules (PJ)\", \"font\": {\"color\": \"#4D5663\"}}, \"zerolinecolor\": \"#E1E5ED\"}}, {\"showLink\": true, \"linkText\": \"Export to plot.ly\", \"plotlyServerURL\": \"https://plot.ly\"}); \n",
       "}\n",
       "});</script><script type=\"text/javascript\">window.addEventListener(\"resize\", function(){if (document.getElementById(\"b8f3f06e-da47-4a59-bdec-d6da9437ca5b\")) {window._Plotly.Plots.resize(document.getElementById(\"b8f3f06e-da47-4a59-bdec-d6da9437ca5b\"));};})</script>"
      ]
     },
     "metadata": {},
     "output_type": "display_data"
    }
   ],
   "source": [
    "# Power generation (Aggregated)\n",
    "gen_agg_df = pd.DataFrame(columns=agg_col)\n",
    "gen_agg_df.insert(0,'y',gen_df['y'])\n",
    "gen_agg_df  = gen_agg_df.fillna(0.00)\n",
    "\n",
    "for each in agg_col:\n",
    "    for tech_exists in agg_col[each]:\n",
    "        if tech_exists in gen_df.columns:\n",
    "            gen_agg_df[each] = gen_agg_df[each] + gen_df[tech_exists]\n",
    "            gen_agg_df[each] = gen_agg_df[each].round(2)\n",
    "\n",
    "df_plot(gen_agg_df,'Petajoules (PJ)','Power Generation (Aggregate)')"
   ]
  },
  {
   "cell_type": "code",
   "execution_count": 235,
   "metadata": {},
   "outputs": [
    {
     "data": {
      "application/vnd.plotly.v1+json": {
       "config": {
        "linkText": "Export to plot.ly",
        "plotlyServerURL": "https://plot.ly",
        "showLink": true
       },
       "data": [
        {
         "marker": {
          "color": "rgba(34, 139, 34, 0.6)",
          "line": {
           "color": "rgba(34, 139, 34, 1.0)",
           "width": 1
          }
         },
         "name": "Biomass",
         "orientation": "v",
         "text": "",
         "type": "bar",
         "uid": "b3b2b0ce-0999-4573-9236-dfd9b9dab314",
         "x": [
          2015,
          2016,
          2017,
          2018,
          2019,
          2020,
          2021,
          2022,
          2023,
          2024,
          2025,
          2026,
          2027,
          2028,
          2029,
          2030,
          2031,
          2032,
          2033,
          2034,
          2035,
          2036,
          2037,
          2038,
          2039,
          2040
         ],
         "y": [
          0,
          0.6764472,
          1.9166004,
          3.8332008,
          3.8332008,
          3.945924,
          3.945924,
          3.945924,
          3.945924,
          4.1037797,
          4.1037797,
          4.1037797,
          4.1037797,
          3.8332008,
          3.8332008,
          3.8332008,
          3.8332008,
          3.8332008,
          3.8332008,
          3.8332008,
          3.8332008,
          3.8332008,
          3.8332008,
          3.8332008,
          3.8332008,
          3.8332008
         ]
        },
        {
         "marker": {
          "color": "rgba(0, 0, 0, 0.6)",
          "line": {
           "color": "rgba(0, 0, 0, 1.0)",
           "width": 1
          }
         },
         "name": "Coal",
         "orientation": "v",
         "text": "",
         "type": "bar",
         "uid": "83000e9d-aea5-4a9d-b471-3ef489a9b1fa",
         "x": [
          2015,
          2016,
          2017,
          2018,
          2019,
          2020,
          2021,
          2022,
          2023,
          2024,
          2025,
          2026,
          2027,
          2028,
          2029,
          2030,
          2031,
          2032,
          2033,
          2034,
          2035,
          2036,
          2037,
          2038,
          2039,
          2040
         ],
         "y": [
          81.028614,
          57.085784,
          70.770846,
          79.096486,
          217.73168,
          236.02218,
          278.69734,
          326.38792,
          370.29785,
          439.44337,
          512.60318,
          590.72325,
          667.82051,
          746.43182,
          826.23071,
          906.17945,
          977.65598,
          1049.8848,
          1122.83,
          1196.4268,
          1270.7256,
          1327.7094,
          1383.2946,
          1442.6984,
          1486.6351,
          1524.7474
         ]
        },
        {
         "marker": {
          "color": "rgba(55, 128, 191, 0.6)",
          "line": {
           "color": "rgba(55, 128, 191, 1.0)",
           "width": 1
          }
         },
         "name": "Hydro",
         "orientation": "v",
         "text": "",
         "type": "bar",
         "uid": "730fe789-8127-416e-a423-8fb0208ed445",
         "x": [
          2015,
          2016,
          2017,
          2018,
          2019,
          2020,
          2021,
          2022,
          2023,
          2024,
          2025,
          2026,
          2027,
          2028,
          2029,
          2030,
          2031,
          2032,
          2033,
          2034,
          2035,
          2036,
          2037,
          2038,
          2039,
          2040
         ],
         "y": [
          68.475855,
          80.561192,
          89.648304,
          99.354566,
          108.39263,
          116.91965,
          125.4939,
          133.92399,
          144.43244,
          145.26644,
          145.26644,
          144.50012,
          144.50012,
          144.50012,
          144.50012,
          144.50012,
          144.50012,
          144.50012,
          144.50012,
          144.50012,
          144.50012,
          144.50012,
          144.50012,
          144.50012,
          144.50012,
          144.50012
         ]
        },
        {
         "marker": {
          "color": "rgba(255, 153, 51, 0.6)",
          "line": {
           "color": "rgba(255, 153, 51, 1.0)",
           "width": 1
          }
         },
         "name": "Natural gas",
         "orientation": "v",
         "text": "",
         "type": "bar",
         "uid": "aee700c7-fac1-496e-b176-683aa557abc8",
         "x": [
          2015,
          2016,
          2017,
          2018,
          2019,
          2020,
          2021,
          2022,
          2023,
          2024,
          2025,
          2026,
          2027,
          2028,
          2029,
          2030,
          2031,
          2032,
          2033,
          2034,
          2035,
          2036,
          2037,
          2038,
          2039,
          2040
         ],
         "y": [
          68.423492,
          87.774937,
          87.774937,
          87.774937,
          4.4833282,
          0.17381439,
          0.17381439,
          0.17381439,
          0.17381439,
          0.17381439,
          0.35463809,
          0.35463809,
          0.35463809,
          0.35463809,
          0,
          0,
          0,
          0,
          0,
          0,
          0,
          12.00631,
          25.344377,
          39.978156,
          64.589871,
          82.66825
         ]
        },
        {
         "marker": {
          "color": "rgba(255, 215, 0, 0.6)",
          "line": {
           "color": "rgba(255, 215, 0, 1.0)",
           "width": 1
          }
         },
         "name": "Solar",
         "orientation": "v",
         "text": "",
         "type": "bar",
         "uid": "34e3e7a9-421c-4f9c-94ca-596bc19bc134",
         "x": [
          2015,
          2016,
          2017,
          2018,
          2019,
          2020,
          2021,
          2022,
          2023,
          2024,
          2025,
          2026,
          2027,
          2028,
          2029,
          2030,
          2031,
          2032,
          2033,
          2034,
          2035,
          2036,
          2037,
          2038,
          2039,
          2040
         ],
         "y": [
          0,
          0,
          0,
          0,
          0.89442375,
          2.0869887,
          2.9814125,
          2.9814125,
          2.9814125,
          2.9814125,
          2.9814125,
          2.9814125,
          2.9814125,
          2.9814125,
          2.9814125,
          2.9814125,
          2.9814125,
          2.9814125,
          2.9814125,
          2.9814125,
          2.9814125,
          2.9814125,
          2.9814125,
          2.9814125,
          2.0869887,
          0.89442375
         ]
        },
        {
         "marker": {
          "color": "rgba(238, 130, 238, 0.6)",
          "line": {
           "color": "rgba(238, 130, 238, 1.0)",
           "width": 1
          }
         },
         "name": "Wind",
         "orientation": "v",
         "text": "",
         "type": "bar",
         "uid": "19788a1d-c5b4-43d0-9fff-9efd9a4e0af2",
         "x": [
          2015,
          2016,
          2017,
          2018,
          2019,
          2020,
          2021,
          2022,
          2023,
          2024,
          2025,
          2026,
          2027,
          2028,
          2029,
          2030,
          2031,
          2032,
          2033,
          2034,
          2035,
          2036,
          2037,
          2038,
          2039,
          2040
         ],
         "y": [
          0.19208263,
          0.28817006,
          0.36498466,
          1.7951382,
          2.6596921,
          3.4397374,
          3.34365,
          3.34365,
          3.4397374,
          3.4397374,
          3.4397374,
          3.4397374,
          3.4397374,
          3.4397374,
          3.4397374,
          3.4397374,
          3.4397374,
          3.4397374,
          3.4397374,
          3.4397374,
          3.4397374,
          3.4397374,
          3.4397374,
          1.3756098,
          0.51105586,
          0
         ]
        }
       ],
       "layout": {
        "barmode": "stack",
        "legend": {
         "bgcolor": "#FFFFFF",
         "font": {
          "color": "#4D5663"
         },
         "traceorder": "normal"
        },
        "paper_bgcolor": "#FFFFFF",
        "plot_bgcolor": "#FFFFFF",
        "title": {
         "font": {
          "color": "#4D5663"
         },
         "text": "Power Generation (Fuel use)"
        },
        "xaxis": {
         "gridcolor": "#E1E5ED",
         "showgrid": true,
         "tickfont": {
          "color": "#4D5663"
         },
         "title": {
          "font": {
           "color": "#4D5663"
          },
          "text": "Year"
         },
         "zerolinecolor": "#E1E5ED"
        },
        "yaxis": {
         "gridcolor": "#E1E5ED",
         "showgrid": true,
         "tickfont": {
          "color": "#4D5663"
         },
         "title": {
          "font": {
           "color": "#4D5663"
          },
          "text": "Petajoules (PJ)"
         },
         "zerolinecolor": "#E1E5ED"
        }
       }
      },
      "text/html": [
       "<div id=\"f6d64730-da33-4985-b8ad-c5248c9c4903\" style=\"height: 525px; width: 100%;\" class=\"plotly-graph-div\"></div><script type=\"text/javascript\">require([\"plotly\"], function(Plotly) { window.PLOTLYENV=window.PLOTLYENV || {};window.PLOTLYENV.BASE_URL=\"https://plot.ly\";\n",
       "if (document.getElementById(\"f6d64730-da33-4985-b8ad-c5248c9c4903\")) {\n",
       "    Plotly.newPlot(\"f6d64730-da33-4985-b8ad-c5248c9c4903\", [{\"marker\": {\"color\": \"rgba(34, 139, 34, 0.6)\", \"line\": {\"color\": \"rgba(34, 139, 34, 1.0)\", \"width\": 1}}, \"name\": \"Biomass\", \"orientation\": \"v\", \"text\": \"\", \"x\": [2015, 2016, 2017, 2018, 2019, 2020, 2021, 2022, 2023, 2024, 2025, 2026, 2027, 2028, 2029, 2030, 2031, 2032, 2033, 2034, 2035, 2036, 2037, 2038, 2039, 2040], \"y\": [0.0, 0.6764472, 1.9166004, 3.8332008, 3.8332008, 3.945924, 3.945924, 3.945924, 3.945924, 4.1037797, 4.1037797, 4.1037797, 4.1037797, 3.8332008, 3.8332008, 3.8332008, 3.8332008, 3.8332008, 3.8332008, 3.8332008, 3.8332008, 3.8332008, 3.8332008, 3.8332008, 3.8332008, 3.8332008], \"type\": \"bar\", \"uid\": \"ca034b58-15c3-42de-a913-da06387ca25c\"}, {\"marker\": {\"color\": \"rgba(0, 0, 0, 0.6)\", \"line\": {\"color\": \"rgba(0, 0, 0, 1.0)\", \"width\": 1}}, \"name\": \"Coal\", \"orientation\": \"v\", \"text\": \"\", \"x\": [2015, 2016, 2017, 2018, 2019, 2020, 2021, 2022, 2023, 2024, 2025, 2026, 2027, 2028, 2029, 2030, 2031, 2032, 2033, 2034, 2035, 2036, 2037, 2038, 2039, 2040], \"y\": [81.028614, 57.085784, 70.770846, 79.096486, 217.73168, 236.02218, 278.69734, 326.38792, 370.29785, 439.44337, 512.60318, 590.72325, 667.82051, 746.43182, 826.23071, 906.17945, 977.65598, 1049.8848, 1122.83, 1196.4268, 1270.7256, 1327.7094, 1383.2946, 1442.6984, 1486.6351, 1524.7474], \"type\": \"bar\", \"uid\": \"91507ecd-1d40-4a7b-8260-8bc24b489072\"}, {\"marker\": {\"color\": \"rgba(55, 128, 191, 0.6)\", \"line\": {\"color\": \"rgba(55, 128, 191, 1.0)\", \"width\": 1}}, \"name\": \"Hydro\", \"orientation\": \"v\", \"text\": \"\", \"x\": [2015, 2016, 2017, 2018, 2019, 2020, 2021, 2022, 2023, 2024, 2025, 2026, 2027, 2028, 2029, 2030, 2031, 2032, 2033, 2034, 2035, 2036, 2037, 2038, 2039, 2040], \"y\": [68.475855, 80.561192, 89.648304, 99.354566, 108.39263, 116.91965, 125.4939, 133.92399, 144.43244, 145.26644, 145.26644, 144.50012, 144.50012, 144.50012, 144.50012, 144.50012, 144.50012, 144.50012, 144.50012, 144.50012, 144.50012, 144.50012, 144.50012, 144.50012, 144.50012, 144.50012], \"type\": \"bar\", \"uid\": \"621c1aec-675a-4e4b-8bb3-341318d19774\"}, {\"marker\": {\"color\": \"rgba(255, 153, 51, 0.6)\", \"line\": {\"color\": \"rgba(255, 153, 51, 1.0)\", \"width\": 1}}, \"name\": \"Natural gas\", \"orientation\": \"v\", \"text\": \"\", \"x\": [2015, 2016, 2017, 2018, 2019, 2020, 2021, 2022, 2023, 2024, 2025, 2026, 2027, 2028, 2029, 2030, 2031, 2032, 2033, 2034, 2035, 2036, 2037, 2038, 2039, 2040], \"y\": [68.423492, 87.774937, 87.774937, 87.774937, 4.4833282, 0.17381439, 0.17381439, 0.17381439, 0.17381439, 0.17381439, 0.35463809, 0.35463809, 0.35463809, 0.35463809, 0.0, 0.0, 0.0, 0.0, 0.0, 0.0, 0.0, 12.00631, 25.344377, 39.978156, 64.589871, 82.66825], \"type\": \"bar\", \"uid\": \"a97f19ea-fe0d-49b9-a77d-ddf64d71af23\"}, {\"marker\": {\"color\": \"rgba(255, 215, 0, 0.6)\", \"line\": {\"color\": \"rgba(255, 215, 0, 1.0)\", \"width\": 1}}, \"name\": \"Solar\", \"orientation\": \"v\", \"text\": \"\", \"x\": [2015, 2016, 2017, 2018, 2019, 2020, 2021, 2022, 2023, 2024, 2025, 2026, 2027, 2028, 2029, 2030, 2031, 2032, 2033, 2034, 2035, 2036, 2037, 2038, 2039, 2040], \"y\": [0.0, 0.0, 0.0, 0.0, 0.89442375, 2.0869887, 2.9814125, 2.9814125, 2.9814125, 2.9814125, 2.9814125, 2.9814125, 2.9814125, 2.9814125, 2.9814125, 2.9814125, 2.9814125, 2.9814125, 2.9814125, 2.9814125, 2.9814125, 2.9814125, 2.9814125, 2.9814125, 2.0869887, 0.89442375], \"type\": \"bar\", \"uid\": \"f7d8dd67-6fc3-4050-8ac5-f4dd9413e120\"}, {\"marker\": {\"color\": \"rgba(238, 130, 238, 0.6)\", \"line\": {\"color\": \"rgba(238, 130, 238, 1.0)\", \"width\": 1}}, \"name\": \"Wind\", \"orientation\": \"v\", \"text\": \"\", \"x\": [2015, 2016, 2017, 2018, 2019, 2020, 2021, 2022, 2023, 2024, 2025, 2026, 2027, 2028, 2029, 2030, 2031, 2032, 2033, 2034, 2035, 2036, 2037, 2038, 2039, 2040], \"y\": [0.19208263, 0.28817006, 0.36498466, 1.7951382, 2.6596921, 3.4397374, 3.34365, 3.34365, 3.4397374, 3.4397374, 3.4397374, 3.4397374, 3.4397374, 3.4397374, 3.4397374, 3.4397374, 3.4397374, 3.4397374, 3.4397374, 3.4397374, 3.4397374, 3.4397374, 3.4397374, 1.3756098, 0.51105586, 0.0], \"type\": \"bar\", \"uid\": \"dec366b1-2dc1-4868-9fd2-7efff8304e62\"}], {\"barmode\": \"stack\", \"legend\": {\"bgcolor\": \"#FFFFFF\", \"font\": {\"color\": \"#4D5663\"}, \"traceorder\": \"normal\"}, \"paper_bgcolor\": \"#FFFFFF\", \"plot_bgcolor\": \"#FFFFFF\", \"title\": {\"text\": \"Power Generation (Fuel use)\", \"font\": {\"color\": \"#4D5663\"}}, \"xaxis\": {\"gridcolor\": \"#E1E5ED\", \"showgrid\": true, \"tickfont\": {\"color\": \"#4D5663\"}, \"title\": {\"text\": \"Year\", \"font\": {\"color\": \"#4D5663\"}}, \"zerolinecolor\": \"#E1E5ED\"}, \"yaxis\": {\"gridcolor\": \"#E1E5ED\", \"showgrid\": true, \"tickfont\": {\"color\": \"#4D5663\"}, \"title\": {\"text\": \"Petajoules (PJ)\", \"font\": {\"color\": \"#4D5663\"}}, \"zerolinecolor\": \"#E1E5ED\"}}, {\"showLink\": true, \"linkText\": \"Export to plot.ly\", \"plotlyServerURL\": \"https://plot.ly\"}); \n",
       "}\n",
       "});</script><script type=\"text/javascript\">window.addEventListener(\"resize\", function(){if (document.getElementById(\"f6d64730-da33-4985-b8ad-c5248c9c4903\")) {window._Plotly.Plots.resize(document.getElementById(\"f6d64730-da33-4985-b8ad-c5248c9c4903\"));};})</script>"
      ],
      "text/vnd.plotly.v1+html": [
       "<div id=\"f6d64730-da33-4985-b8ad-c5248c9c4903\" style=\"height: 525px; width: 100%;\" class=\"plotly-graph-div\"></div><script type=\"text/javascript\">require([\"plotly\"], function(Plotly) { window.PLOTLYENV=window.PLOTLYENV || {};window.PLOTLYENV.BASE_URL=\"https://plot.ly\";\n",
       "if (document.getElementById(\"f6d64730-da33-4985-b8ad-c5248c9c4903\")) {\n",
       "    Plotly.newPlot(\"f6d64730-da33-4985-b8ad-c5248c9c4903\", [{\"marker\": {\"color\": \"rgba(34, 139, 34, 0.6)\", \"line\": {\"color\": \"rgba(34, 139, 34, 1.0)\", \"width\": 1}}, \"name\": \"Biomass\", \"orientation\": \"v\", \"text\": \"\", \"x\": [2015, 2016, 2017, 2018, 2019, 2020, 2021, 2022, 2023, 2024, 2025, 2026, 2027, 2028, 2029, 2030, 2031, 2032, 2033, 2034, 2035, 2036, 2037, 2038, 2039, 2040], \"y\": [0.0, 0.6764472, 1.9166004, 3.8332008, 3.8332008, 3.945924, 3.945924, 3.945924, 3.945924, 4.1037797, 4.1037797, 4.1037797, 4.1037797, 3.8332008, 3.8332008, 3.8332008, 3.8332008, 3.8332008, 3.8332008, 3.8332008, 3.8332008, 3.8332008, 3.8332008, 3.8332008, 3.8332008, 3.8332008], \"type\": \"bar\", \"uid\": \"ca034b58-15c3-42de-a913-da06387ca25c\"}, {\"marker\": {\"color\": \"rgba(0, 0, 0, 0.6)\", \"line\": {\"color\": \"rgba(0, 0, 0, 1.0)\", \"width\": 1}}, \"name\": \"Coal\", \"orientation\": \"v\", \"text\": \"\", \"x\": [2015, 2016, 2017, 2018, 2019, 2020, 2021, 2022, 2023, 2024, 2025, 2026, 2027, 2028, 2029, 2030, 2031, 2032, 2033, 2034, 2035, 2036, 2037, 2038, 2039, 2040], \"y\": [81.028614, 57.085784, 70.770846, 79.096486, 217.73168, 236.02218, 278.69734, 326.38792, 370.29785, 439.44337, 512.60318, 590.72325, 667.82051, 746.43182, 826.23071, 906.17945, 977.65598, 1049.8848, 1122.83, 1196.4268, 1270.7256, 1327.7094, 1383.2946, 1442.6984, 1486.6351, 1524.7474], \"type\": \"bar\", \"uid\": \"91507ecd-1d40-4a7b-8260-8bc24b489072\"}, {\"marker\": {\"color\": \"rgba(55, 128, 191, 0.6)\", \"line\": {\"color\": \"rgba(55, 128, 191, 1.0)\", \"width\": 1}}, \"name\": \"Hydro\", \"orientation\": \"v\", \"text\": \"\", \"x\": [2015, 2016, 2017, 2018, 2019, 2020, 2021, 2022, 2023, 2024, 2025, 2026, 2027, 2028, 2029, 2030, 2031, 2032, 2033, 2034, 2035, 2036, 2037, 2038, 2039, 2040], \"y\": [68.475855, 80.561192, 89.648304, 99.354566, 108.39263, 116.91965, 125.4939, 133.92399, 144.43244, 145.26644, 145.26644, 144.50012, 144.50012, 144.50012, 144.50012, 144.50012, 144.50012, 144.50012, 144.50012, 144.50012, 144.50012, 144.50012, 144.50012, 144.50012, 144.50012, 144.50012], \"type\": \"bar\", \"uid\": \"621c1aec-675a-4e4b-8bb3-341318d19774\"}, {\"marker\": {\"color\": \"rgba(255, 153, 51, 0.6)\", \"line\": {\"color\": \"rgba(255, 153, 51, 1.0)\", \"width\": 1}}, \"name\": \"Natural gas\", \"orientation\": \"v\", \"text\": \"\", \"x\": [2015, 2016, 2017, 2018, 2019, 2020, 2021, 2022, 2023, 2024, 2025, 2026, 2027, 2028, 2029, 2030, 2031, 2032, 2033, 2034, 2035, 2036, 2037, 2038, 2039, 2040], \"y\": [68.423492, 87.774937, 87.774937, 87.774937, 4.4833282, 0.17381439, 0.17381439, 0.17381439, 0.17381439, 0.17381439, 0.35463809, 0.35463809, 0.35463809, 0.35463809, 0.0, 0.0, 0.0, 0.0, 0.0, 0.0, 0.0, 12.00631, 25.344377, 39.978156, 64.589871, 82.66825], \"type\": \"bar\", \"uid\": \"a97f19ea-fe0d-49b9-a77d-ddf64d71af23\"}, {\"marker\": {\"color\": \"rgba(255, 215, 0, 0.6)\", \"line\": {\"color\": \"rgba(255, 215, 0, 1.0)\", \"width\": 1}}, \"name\": \"Solar\", \"orientation\": \"v\", \"text\": \"\", \"x\": [2015, 2016, 2017, 2018, 2019, 2020, 2021, 2022, 2023, 2024, 2025, 2026, 2027, 2028, 2029, 2030, 2031, 2032, 2033, 2034, 2035, 2036, 2037, 2038, 2039, 2040], \"y\": [0.0, 0.0, 0.0, 0.0, 0.89442375, 2.0869887, 2.9814125, 2.9814125, 2.9814125, 2.9814125, 2.9814125, 2.9814125, 2.9814125, 2.9814125, 2.9814125, 2.9814125, 2.9814125, 2.9814125, 2.9814125, 2.9814125, 2.9814125, 2.9814125, 2.9814125, 2.9814125, 2.0869887, 0.89442375], \"type\": \"bar\", \"uid\": \"f7d8dd67-6fc3-4050-8ac5-f4dd9413e120\"}, {\"marker\": {\"color\": \"rgba(238, 130, 238, 0.6)\", \"line\": {\"color\": \"rgba(238, 130, 238, 1.0)\", \"width\": 1}}, \"name\": \"Wind\", \"orientation\": \"v\", \"text\": \"\", \"x\": [2015, 2016, 2017, 2018, 2019, 2020, 2021, 2022, 2023, 2024, 2025, 2026, 2027, 2028, 2029, 2030, 2031, 2032, 2033, 2034, 2035, 2036, 2037, 2038, 2039, 2040], \"y\": [0.19208263, 0.28817006, 0.36498466, 1.7951382, 2.6596921, 3.4397374, 3.34365, 3.34365, 3.4397374, 3.4397374, 3.4397374, 3.4397374, 3.4397374, 3.4397374, 3.4397374, 3.4397374, 3.4397374, 3.4397374, 3.4397374, 3.4397374, 3.4397374, 3.4397374, 3.4397374, 1.3756098, 0.51105586, 0.0], \"type\": \"bar\", \"uid\": \"dec366b1-2dc1-4868-9fd2-7efff8304e62\"}], {\"barmode\": \"stack\", \"legend\": {\"bgcolor\": \"#FFFFFF\", \"font\": {\"color\": \"#4D5663\"}, \"traceorder\": \"normal\"}, \"paper_bgcolor\": \"#FFFFFF\", \"plot_bgcolor\": \"#FFFFFF\", \"title\": {\"text\": \"Power Generation (Fuel use)\", \"font\": {\"color\": \"#4D5663\"}}, \"xaxis\": {\"gridcolor\": \"#E1E5ED\", \"showgrid\": true, \"tickfont\": {\"color\": \"#4D5663\"}, \"title\": {\"text\": \"Year\", \"font\": {\"color\": \"#4D5663\"}}, \"zerolinecolor\": \"#E1E5ED\"}, \"yaxis\": {\"gridcolor\": \"#E1E5ED\", \"showgrid\": true, \"tickfont\": {\"color\": \"#4D5663\"}, \"title\": {\"text\": \"Petajoules (PJ)\", \"font\": {\"color\": \"#4D5663\"}}, \"zerolinecolor\": \"#E1E5ED\"}}, {\"showLink\": true, \"linkText\": \"Export to plot.ly\", \"plotlyServerURL\": \"https://plot.ly\"}); \n",
       "}\n",
       "});</script><script type=\"text/javascript\">window.addEventListener(\"resize\", function(){if (document.getElementById(\"f6d64730-da33-4985-b8ad-c5248c9c4903\")) {window._Plotly.Plots.resize(document.getElementById(\"f6d64730-da33-4985-b8ad-c5248c9c4903\"));};})</script>"
      ]
     },
     "metadata": {},
     "output_type": "display_data"
    }
   ],
   "source": [
    "# Fuel use for power generation\n",
    "gen_use_df = all_params['ProductionByTechnologyAnnual'][all_params['ProductionByTechnologyAnnual'].t.str.startswith('DEMPWR')].drop('r', axis=1)\n",
    "gen_use_df = df_filter(gen_use_df,6,9,[])\n",
    "df_plot(gen_use_df,'Petajoules (PJ)','Power Generation (Fuel use)')"
   ]
  },
  {
   "cell_type": "code",
   "execution_count": 236,
   "metadata": {},
   "outputs": [
    {
     "data": {
      "application/vnd.plotly.v1+json": {
       "config": {
        "linkText": "Export to plot.ly",
        "plotlyServerURL": "https://plot.ly",
        "showLink": true
       },
       "data": [
        {
         "marker": {
          "color": "rgba(34, 139, 34, 0.6)",
          "line": {
           "color": "rgba(34, 139, 34, 1.0)",
           "width": 1
          }
         },
         "name": "Biomass",
         "orientation": "v",
         "text": "",
         "type": "bar",
         "uid": "1263314e-b90d-455a-b7c1-3b97964ab1b9",
         "x": [
          2015,
          2016,
          2017,
          2018,
          2019,
          2020,
          2021,
          2022,
          2023,
          2024,
          2025,
          2026,
          2027,
          2028,
          2029,
          2030,
          2031,
          2032,
          2033,
          2034,
          2035,
          2036,
          2037,
          2038,
          2039,
          2040
         ],
         "y": [
          610.4,
          675.24645,
          741.6766,
          809.7432,
          876.7632,
          944.71592,
          1059.5259,
          1176.6859,
          1296.0559,
          1417.6438,
          1541.0038,
          1666.1838,
          1793.1038,
          1921.3732,
          2051.4832,
          2183.0932,
          2300.8032,
          2419.7232,
          2539.7932,
          2661.0032,
          2783.2732,
          2906.6332,
          3031.0032,
          3156.3832,
          3282.7332,
          3410.0632
         ]
        },
        {
         "marker": {
          "color": "rgba(0, 0, 0, 0.6)",
          "line": {
           "color": "rgba(0, 0, 0, 1.0)",
           "width": 1
          }
         },
         "name": "Coal",
         "orientation": "v",
         "text": "",
         "type": "bar",
         "uid": "b54ba6d1-9ba6-4109-abed-93456c3b15fb",
         "x": [
          2015,
          2016,
          2017,
          2018,
          2019,
          2020,
          2021,
          2022,
          2023,
          2024,
          2025,
          2026,
          2027,
          2028,
          2029,
          2030,
          2031,
          2032,
          2033,
          2034,
          2035,
          2036,
          2037,
          2038,
          2039,
          2040
         ],
         "y": [
          557.65861,
          583.82578,
          648.41085,
          708.38649,
          899.36168,
          970.63218,
          1102.9373,
          1242.1279,
          1379.2379,
          1543.2034,
          1712.6932,
          1888.5532,
          2064.7605,
          2243.7518,
          2425.1407,
          2607.8494,
          2771.246,
          2936.3348,
          3103.04,
          3271.2668,
          3441.0556,
          3594.3494,
          3747.0546,
          3904.3684,
          4046.9651,
          4184.4974
         ]
        },
        {
         "marker": {
          "color": "rgba(255, 153, 51, 0.6)",
          "line": {
           "color": "rgba(255, 153, 51, 1.0)",
           "width": 1
          }
         },
         "name": "Natural gas",
         "orientation": "v",
         "text": "",
         "type": "bar",
         "uid": "9e3d825d-b4c1-41b9-9d2d-cff8bda834f2",
         "x": [
          2015,
          2016,
          2017,
          2018,
          2019,
          2020,
          2021,
          2022,
          2023,
          2024,
          2025,
          2026,
          2027,
          2028,
          2029,
          2030,
          2031,
          2032,
          2033,
          2034,
          2035,
          2036,
          2037,
          2038,
          2039,
          2040
         ],
         "y": [
          130.85349,
          156.76494,
          163.43494,
          170.19494,
          93.753328,
          96.383814,
          108.12381,
          120.11381,
          132.31381,
          144.73381,
          157.53464,
          170.33464,
          183.31464,
          196.46464,
          209.41,
          222.87,
          234.91,
          247.07,
          259.35,
          271.75,
          284.25,
          308.87631,
          334.93438,
          362.38816,
          399.92987,
          431.02825
         ]
        }
       ],
       "layout": {
        "barmode": "stack",
        "legend": {
         "bgcolor": "#FFFFFF",
         "font": {
          "color": "#4D5663"
         },
         "traceorder": "normal"
        },
        "paper_bgcolor": "#FFFFFF",
        "plot_bgcolor": "#FFFFFF",
        "title": {
         "font": {
          "color": "#4D5663"
         },
         "text": "Domestic energy production"
        },
        "xaxis": {
         "gridcolor": "#E1E5ED",
         "showgrid": true,
         "tickfont": {
          "color": "#4D5663"
         },
         "title": {
          "font": {
           "color": "#4D5663"
          },
          "text": "Year"
         },
         "zerolinecolor": "#E1E5ED"
        },
        "yaxis": {
         "gridcolor": "#E1E5ED",
         "showgrid": true,
         "tickfont": {
          "color": "#4D5663"
         },
         "title": {
          "font": {
           "color": "#4D5663"
          },
          "text": "Petajoules (PJ)"
         },
         "zerolinecolor": "#E1E5ED"
        }
       }
      },
      "text/html": [
       "<div id=\"23e94c01-aab9-4ca7-9496-4bb245dfee69\" style=\"height: 525px; width: 100%;\" class=\"plotly-graph-div\"></div><script type=\"text/javascript\">require([\"plotly\"], function(Plotly) { window.PLOTLYENV=window.PLOTLYENV || {};window.PLOTLYENV.BASE_URL=\"https://plot.ly\";\n",
       "if (document.getElementById(\"23e94c01-aab9-4ca7-9496-4bb245dfee69\")) {\n",
       "    Plotly.newPlot(\"23e94c01-aab9-4ca7-9496-4bb245dfee69\", [{\"marker\": {\"color\": \"rgba(34, 139, 34, 0.6)\", \"line\": {\"color\": \"rgba(34, 139, 34, 1.0)\", \"width\": 1}}, \"name\": \"Biomass\", \"orientation\": \"v\", \"text\": \"\", \"x\": [2015, 2016, 2017, 2018, 2019, 2020, 2021, 2022, 2023, 2024, 2025, 2026, 2027, 2028, 2029, 2030, 2031, 2032, 2033, 2034, 2035, 2036, 2037, 2038, 2039, 2040], \"y\": [610.4, 675.24645, 741.6766, 809.7432, 876.7632, 944.71592, 1059.5259, 1176.6859, 1296.0559, 1417.6438, 1541.0038, 1666.1838, 1793.1038, 1921.3732, 2051.4832, 2183.0932, 2300.8032, 2419.7232, 2539.7932, 2661.0032, 2783.2732, 2906.6332, 3031.0032, 3156.3832, 3282.7332, 3410.0632], \"type\": \"bar\", \"uid\": \"a2a69f29-190a-49fd-a93e-39ad1a5b9030\"}, {\"marker\": {\"color\": \"rgba(0, 0, 0, 0.6)\", \"line\": {\"color\": \"rgba(0, 0, 0, 1.0)\", \"width\": 1}}, \"name\": \"Coal\", \"orientation\": \"v\", \"text\": \"\", \"x\": [2015, 2016, 2017, 2018, 2019, 2020, 2021, 2022, 2023, 2024, 2025, 2026, 2027, 2028, 2029, 2030, 2031, 2032, 2033, 2034, 2035, 2036, 2037, 2038, 2039, 2040], \"y\": [557.65861, 583.82578, 648.41085, 708.38649, 899.36168, 970.63218, 1102.9373, 1242.1279, 1379.2379, 1543.2034, 1712.6932, 1888.5532, 2064.7605, 2243.7518, 2425.1407, 2607.8494, 2771.246, 2936.3348, 3103.04, 3271.2668, 3441.0556, 3594.3494, 3747.0546, 3904.3684, 4046.9651, 4184.4974], \"type\": \"bar\", \"uid\": \"8cd595ce-98e8-499d-91ea-0a4b8515887a\"}, {\"marker\": {\"color\": \"rgba(255, 153, 51, 0.6)\", \"line\": {\"color\": \"rgba(255, 153, 51, 1.0)\", \"width\": 1}}, \"name\": \"Natural gas\", \"orientation\": \"v\", \"text\": \"\", \"x\": [2015, 2016, 2017, 2018, 2019, 2020, 2021, 2022, 2023, 2024, 2025, 2026, 2027, 2028, 2029, 2030, 2031, 2032, 2033, 2034, 2035, 2036, 2037, 2038, 2039, 2040], \"y\": [130.85349, 156.76494, 163.43494, 170.19494, 93.753328, 96.383814, 108.12381, 120.11381, 132.31381, 144.73381, 157.53464, 170.33464, 183.31464, 196.46464, 209.41, 222.87, 234.91, 247.07, 259.35, 271.75, 284.25, 308.87631, 334.93438, 362.38816, 399.92987, 431.02825], \"type\": \"bar\", \"uid\": \"c9815a91-bb2a-484c-8053-54c643959dc8\"}], {\"barmode\": \"stack\", \"legend\": {\"bgcolor\": \"#FFFFFF\", \"font\": {\"color\": \"#4D5663\"}, \"traceorder\": \"normal\"}, \"paper_bgcolor\": \"#FFFFFF\", \"plot_bgcolor\": \"#FFFFFF\", \"title\": {\"text\": \"Domestic energy production\", \"font\": {\"color\": \"#4D5663\"}}, \"xaxis\": {\"gridcolor\": \"#E1E5ED\", \"showgrid\": true, \"tickfont\": {\"color\": \"#4D5663\"}, \"title\": {\"text\": \"Year\", \"font\": {\"color\": \"#4D5663\"}}, \"zerolinecolor\": \"#E1E5ED\"}, \"yaxis\": {\"gridcolor\": \"#E1E5ED\", \"showgrid\": true, \"tickfont\": {\"color\": \"#4D5663\"}, \"title\": {\"text\": \"Petajoules (PJ)\", \"font\": {\"color\": \"#4D5663\"}}, \"zerolinecolor\": \"#E1E5ED\"}}, {\"showLink\": true, \"linkText\": \"Export to plot.ly\", \"plotlyServerURL\": \"https://plot.ly\"}); \n",
       "}\n",
       "});</script><script type=\"text/javascript\">window.addEventListener(\"resize\", function(){if (document.getElementById(\"23e94c01-aab9-4ca7-9496-4bb245dfee69\")) {window._Plotly.Plots.resize(document.getElementById(\"23e94c01-aab9-4ca7-9496-4bb245dfee69\"));};})</script>"
      ],
      "text/vnd.plotly.v1+html": [
       "<div id=\"23e94c01-aab9-4ca7-9496-4bb245dfee69\" style=\"height: 525px; width: 100%;\" class=\"plotly-graph-div\"></div><script type=\"text/javascript\">require([\"plotly\"], function(Plotly) { window.PLOTLYENV=window.PLOTLYENV || {};window.PLOTLYENV.BASE_URL=\"https://plot.ly\";\n",
       "if (document.getElementById(\"23e94c01-aab9-4ca7-9496-4bb245dfee69\")) {\n",
       "    Plotly.newPlot(\"23e94c01-aab9-4ca7-9496-4bb245dfee69\", [{\"marker\": {\"color\": \"rgba(34, 139, 34, 0.6)\", \"line\": {\"color\": \"rgba(34, 139, 34, 1.0)\", \"width\": 1}}, \"name\": \"Biomass\", \"orientation\": \"v\", \"text\": \"\", \"x\": [2015, 2016, 2017, 2018, 2019, 2020, 2021, 2022, 2023, 2024, 2025, 2026, 2027, 2028, 2029, 2030, 2031, 2032, 2033, 2034, 2035, 2036, 2037, 2038, 2039, 2040], \"y\": [610.4, 675.24645, 741.6766, 809.7432, 876.7632, 944.71592, 1059.5259, 1176.6859, 1296.0559, 1417.6438, 1541.0038, 1666.1838, 1793.1038, 1921.3732, 2051.4832, 2183.0932, 2300.8032, 2419.7232, 2539.7932, 2661.0032, 2783.2732, 2906.6332, 3031.0032, 3156.3832, 3282.7332, 3410.0632], \"type\": \"bar\", \"uid\": \"a2a69f29-190a-49fd-a93e-39ad1a5b9030\"}, {\"marker\": {\"color\": \"rgba(0, 0, 0, 0.6)\", \"line\": {\"color\": \"rgba(0, 0, 0, 1.0)\", \"width\": 1}}, \"name\": \"Coal\", \"orientation\": \"v\", \"text\": \"\", \"x\": [2015, 2016, 2017, 2018, 2019, 2020, 2021, 2022, 2023, 2024, 2025, 2026, 2027, 2028, 2029, 2030, 2031, 2032, 2033, 2034, 2035, 2036, 2037, 2038, 2039, 2040], \"y\": [557.65861, 583.82578, 648.41085, 708.38649, 899.36168, 970.63218, 1102.9373, 1242.1279, 1379.2379, 1543.2034, 1712.6932, 1888.5532, 2064.7605, 2243.7518, 2425.1407, 2607.8494, 2771.246, 2936.3348, 3103.04, 3271.2668, 3441.0556, 3594.3494, 3747.0546, 3904.3684, 4046.9651, 4184.4974], \"type\": \"bar\", \"uid\": \"8cd595ce-98e8-499d-91ea-0a4b8515887a\"}, {\"marker\": {\"color\": \"rgba(255, 153, 51, 0.6)\", \"line\": {\"color\": \"rgba(255, 153, 51, 1.0)\", \"width\": 1}}, \"name\": \"Natural gas\", \"orientation\": \"v\", \"text\": \"\", \"x\": [2015, 2016, 2017, 2018, 2019, 2020, 2021, 2022, 2023, 2024, 2025, 2026, 2027, 2028, 2029, 2030, 2031, 2032, 2033, 2034, 2035, 2036, 2037, 2038, 2039, 2040], \"y\": [130.85349, 156.76494, 163.43494, 170.19494, 93.753328, 96.383814, 108.12381, 120.11381, 132.31381, 144.73381, 157.53464, 170.33464, 183.31464, 196.46464, 209.41, 222.87, 234.91, 247.07, 259.35, 271.75, 284.25, 308.87631, 334.93438, 362.38816, 399.92987, 431.02825], \"type\": \"bar\", \"uid\": \"c9815a91-bb2a-484c-8053-54c643959dc8\"}], {\"barmode\": \"stack\", \"legend\": {\"bgcolor\": \"#FFFFFF\", \"font\": {\"color\": \"#4D5663\"}, \"traceorder\": \"normal\"}, \"paper_bgcolor\": \"#FFFFFF\", \"plot_bgcolor\": \"#FFFFFF\", \"title\": {\"text\": \"Domestic energy production\", \"font\": {\"color\": \"#4D5663\"}}, \"xaxis\": {\"gridcolor\": \"#E1E5ED\", \"showgrid\": true, \"tickfont\": {\"color\": \"#4D5663\"}, \"title\": {\"text\": \"Year\", \"font\": {\"color\": \"#4D5663\"}}, \"zerolinecolor\": \"#E1E5ED\"}, \"yaxis\": {\"gridcolor\": \"#E1E5ED\", \"showgrid\": true, \"tickfont\": {\"color\": \"#4D5663\"}, \"title\": {\"text\": \"Petajoules (PJ)\", \"font\": {\"color\": \"#4D5663\"}}, \"zerolinecolor\": \"#E1E5ED\"}}, {\"showLink\": true, \"linkText\": \"Export to plot.ly\", \"plotlyServerURL\": \"https://plot.ly\"}); \n",
       "}\n",
       "});</script><script type=\"text/javascript\">window.addEventListener(\"resize\", function(){if (document.getElementById(\"23e94c01-aab9-4ca7-9496-4bb245dfee69\")) {window._Plotly.Plots.resize(document.getElementById(\"23e94c01-aab9-4ca7-9496-4bb245dfee69\"));};})</script>"
      ]
     },
     "metadata": {},
     "output_type": "display_data"
    }
   ],
   "source": [
    "#Domestic fuel production\n",
    "fuels = ['OHC', 'GSL','DSL','LPG', 'JFL','HFO','NGS']\n",
    "\n",
    "dom_prd_df = all_params['ProductionByTechnologyAnnual'][all_params['ProductionByTechnologyAnnual'].t.str.startswith('MIN')|\n",
    "                                                       all_params['ProductionByTechnologyAnnual'].t.str.startswith('RNW')].drop('r', axis=1)\n",
    "dom_prd_df = df_filter(dom_prd_df,3,6,[])\n",
    "\n",
    "for each in dom_prd_df.columns:\n",
    "    if each in ['Land','Water','Geothermal','Hydro','Solar','Wind']:\n",
    "        dom_prd_df = dom_prd_df.drop(each, axis=1)\n",
    "df_plot(dom_prd_df,'Petajoules (PJ)','Domestic energy production')"
   ]
  },
  {
   "cell_type": "code",
   "execution_count": 237,
   "metadata": {},
   "outputs": [],
   "source": [
    "#Energy imports\n",
    "ene_imp_df = all_params['ProductionByTechnologyAnnual'][all_params['ProductionByTechnologyAnnual'].t.str.startswith('IMP')].drop('r', axis=1)\n",
    "ene_imp_df = df_filter(ene_imp_df,3,6,[])\n",
    "#if len(ene_imp_df.columns) > 1:\n",
    "#    df_plot(ene_imp_df,'Petajoules (PJ)','Energy imports')"
   ]
  },
  {
   "cell_type": "code",
   "execution_count": 238,
   "metadata": {},
   "outputs": [],
   "source": [
    "#Energy exports\n",
    "ene_exp_df = all_params['TotalTechnologyAnnualActivity'][all_params['TotalTechnologyAnnualActivity'].t.str.startswith('EXP')].drop('r', axis=1)\n",
    "ene_exp_df = df_filter(ene_exp_df,3,6,[])\n",
    "if len(ene_exp_df.columns) > 1:\n",
    "    df_plot(ene_exp_df,'Petajoules (PJ)','Energy exports')"
   ]
  },
  {
   "cell_type": "code",
   "execution_count": 239,
   "metadata": {},
   "outputs": [
    {
     "data": {
      "application/vnd.plotly.v1+json": {
       "config": {
        "linkText": "Export to plot.ly",
        "plotlyServerURL": "https://plot.ly",
        "showLink": true
       },
       "data": [
        {
         "marker": {
          "color": "rgba(34, 139, 34, 0.6)",
          "line": {
           "color": "rgba(34, 139, 34, 1.0)",
           "width": 1
          }
         },
         "name": "Biomass",
         "orientation": "v",
         "text": "",
         "type": "bar",
         "uid": "69ac8848-68d2-44f5-98e1-354808e87082",
         "x": [
          2015,
          2016,
          2017,
          2018,
          2019,
          2020,
          2021,
          2022,
          2023,
          2024
         ],
         "y": [
          0,
          58.62,
          107.47,
          166.09,
          0,
          0,
          0,
          0,
          0,
          0
         ]
        },
        {
         "marker": {
          "color": "rgba(0, 0, 0, 0.6)",
          "line": {
           "color": "rgba(0, 0, 0, 1.0)",
           "width": 1
          }
         },
         "name": "Coal",
         "orientation": "v",
         "text": "",
         "type": "bar",
         "uid": "fa306873-3ea2-4f66-925c-b967d5a22032",
         "x": [
          2015,
          2016,
          2017,
          2018,
          2019,
          2020,
          2021,
          2022,
          2023,
          2024
         ],
         "y": [
          3935.5129000000006,
          938.8799999999999,
          1503.4499999999998,
          2395.2,
          4157.7300000000005,
          1586.31,
          5314.88,
          6475.700000000001,
          3177.9,
          3150.7286599999998
         ]
        },
        {
         "marker": {
          "color": "rgba(165, 42, 42, 0.6)",
          "line": {
           "color": "rgba(165, 42, 42, 1.0)",
           "width": 1
          }
         },
         "name": "HFO",
         "orientation": "v",
         "text": "",
         "type": "bar",
         "uid": "c71d2d6f-62c9-44a1-9816-623f813f764d",
         "x": [
          2015,
          2016,
          2017,
          2018,
          2019,
          2020,
          2021,
          2022,
          2023,
          2024
         ],
         "y": [
          366.63,
          0,
          0,
          0,
          0,
          0,
          0,
          0,
          0,
          0
         ]
        },
        {
         "marker": {
          "color": "rgba(55, 128, 191, 0.6)",
          "line": {
           "color": "rgba(55, 128, 191, 1.0)",
           "width": 1
          }
         },
         "name": "Hydro",
         "orientation": "v",
         "text": "",
         "type": "bar",
         "uid": "937c50ef-2dc7-4a75-989f-8fd4bcf6aed8",
         "x": [
          2015,
          2016,
          2017,
          2018,
          2019,
          2020,
          2021,
          2022,
          2023,
          2024
         ],
         "y": [
          2795.478,
          4626.512000000001,
          914.622,
          1071.856,
          1023.954,
          1189.728,
          1075.06,
          792,
          1555.935,
          0
         ]
        },
        {
         "marker": {
          "color": "rgba(255, 153, 51, 0.6)",
          "line": {
           "color": "rgba(255, 153, 51, 1.0)",
           "width": 1
          }
         },
         "name": "Natural gas",
         "orientation": "v",
         "text": "",
         "type": "bar",
         "uid": "0abf9c7b-f5ed-4fae-a607-2619fb9b2abd",
         "x": [
          2015,
          2016,
          2017,
          2018,
          2019,
          2020,
          2021,
          2022,
          2023,
          2024
         ],
         "y": [
          2184,
          124.8,
          0,
          0,
          0,
          592.8,
          936,
          468,
          911.04,
          0
         ]
        },
        {
         "marker": {
          "color": "rgba(255, 215, 0, 0.6)",
          "line": {
           "color": "rgba(255, 215, 0, 1.0)",
           "width": 1
          }
         },
         "name": "Solar",
         "orientation": "v",
         "text": "",
         "type": "bar",
         "uid": "807fa635-f971-4f6c-a05f-cd8254082757",
         "x": [
          2015,
          2016,
          2017,
          2018,
          2019,
          2020,
          2021,
          2022,
          2023,
          2024
         ],
         "y": [
          0,
          0,
          0,
          0,
          335.7,
          447.6,
          335.7,
          0,
          0,
          0
         ]
        },
        {
         "marker": {
          "color": "rgba(238, 130, 238, 0.6)",
          "line": {
           "color": "rgba(238, 130, 238, 1.0)",
           "width": 1
          }
         },
         "name": "Wind",
         "orientation": "v",
         "text": "",
         "type": "bar",
         "uid": "55f5da7a-d8d7-4b25-bf7b-a606c2014dbc",
         "x": [
          2015,
          2016,
          2017,
          2018,
          2019,
          2020,
          2021,
          2022,
          2023,
          2024
         ],
         "y": [
          0,
          0,
          0,
          723.357,
          372.519,
          230.607,
          0,
          0,
          0,
          0
         ]
        }
       ],
       "layout": {
        "barmode": "stack",
        "legend": {
         "bgcolor": "#FFFFFF",
         "font": {
          "color": "#4D5663"
         },
         "traceorder": "normal"
        },
        "paper_bgcolor": "#FFFFFF",
        "plot_bgcolor": "#FFFFFF",
        "title": {
         "font": {
          "color": "#4D5663"
         },
         "text": "Capital Investment"
        },
        "xaxis": {
         "gridcolor": "#E1E5ED",
         "showgrid": true,
         "tickfont": {
          "color": "#4D5663"
         },
         "title": {
          "font": {
           "color": "#4D5663"
          },
          "text": "Year"
         },
         "zerolinecolor": "#E1E5ED"
        },
        "yaxis": {
         "gridcolor": "#E1E5ED",
         "showgrid": true,
         "tickfont": {
          "color": "#4D5663"
         },
         "title": {
          "font": {
           "color": "#4D5663"
          },
          "text": "Million $"
         },
         "zerolinecolor": "#E1E5ED"
        }
       }
      },
      "text/html": [
       "<div id=\"5babfa23-47df-40e4-afd7-dc3bacb4e1ec\" style=\"height: 525px; width: 100%;\" class=\"plotly-graph-div\"></div><script type=\"text/javascript\">require([\"plotly\"], function(Plotly) { window.PLOTLYENV=window.PLOTLYENV || {};window.PLOTLYENV.BASE_URL=\"https://plot.ly\";\n",
       "if (document.getElementById(\"5babfa23-47df-40e4-afd7-dc3bacb4e1ec\")) {\n",
       "    Plotly.newPlot(\"5babfa23-47df-40e4-afd7-dc3bacb4e1ec\", [{\"marker\": {\"color\": \"rgba(34, 139, 34, 0.6)\", \"line\": {\"color\": \"rgba(34, 139, 34, 1.0)\", \"width\": 1}}, \"name\": \"Biomass\", \"orientation\": \"v\", \"text\": \"\", \"x\": [2015, 2016, 2017, 2018, 2019, 2020, 2021, 2022, 2023, 2024], \"y\": [0.0, 58.62, 107.47, 166.09, 0.0, 0.0, 0.0, 0.0, 0.0, 0.0], \"type\": \"bar\", \"uid\": \"cd8ede43-c06c-49ab-af1c-dfc07beb1201\"}, {\"marker\": {\"color\": \"rgba(0, 0, 0, 0.6)\", \"line\": {\"color\": \"rgba(0, 0, 0, 1.0)\", \"width\": 1}}, \"name\": \"Coal\", \"orientation\": \"v\", \"text\": \"\", \"x\": [2015, 2016, 2017, 2018, 2019, 2020, 2021, 2022, 2023, 2024], \"y\": [3935.5129000000006, 938.8799999999999, 1503.4499999999998, 2395.2, 4157.7300000000005, 1586.31, 5314.88, 6475.700000000001, 3177.9, 3150.7286599999998], \"type\": \"bar\", \"uid\": \"4a016827-9411-453d-b1d0-c48d348a7835\"}, {\"marker\": {\"color\": \"rgba(165, 42, 42, 0.6)\", \"line\": {\"color\": \"rgba(165, 42, 42, 1.0)\", \"width\": 1}}, \"name\": \"HFO\", \"orientation\": \"v\", \"text\": \"\", \"x\": [2015, 2016, 2017, 2018, 2019, 2020, 2021, 2022, 2023, 2024], \"y\": [366.63, 0.0, 0.0, 0.0, 0.0, 0.0, 0.0, 0.0, 0.0, 0.0], \"type\": \"bar\", \"uid\": \"c13cf921-6c29-4156-917a-cca39fd5f4a1\"}, {\"marker\": {\"color\": \"rgba(55, 128, 191, 0.6)\", \"line\": {\"color\": \"rgba(55, 128, 191, 1.0)\", \"width\": 1}}, \"name\": \"Hydro\", \"orientation\": \"v\", \"text\": \"\", \"x\": [2015, 2016, 2017, 2018, 2019, 2020, 2021, 2022, 2023, 2024], \"y\": [2795.478, 4626.512000000001, 914.622, 1071.856, 1023.954, 1189.728, 1075.06, 792.0, 1555.935, 0.0], \"type\": \"bar\", \"uid\": \"e6158f4e-37ee-4165-94a9-9c22b9b1cba0\"}, {\"marker\": {\"color\": \"rgba(255, 153, 51, 0.6)\", \"line\": {\"color\": \"rgba(255, 153, 51, 1.0)\", \"width\": 1}}, \"name\": \"Natural gas\", \"orientation\": \"v\", \"text\": \"\", \"x\": [2015, 2016, 2017, 2018, 2019, 2020, 2021, 2022, 2023, 2024], \"y\": [2184.0, 124.8, 0.0, 0.0, 0.0, 592.8, 936.0, 468.0, 911.04, 0.0], \"type\": \"bar\", \"uid\": \"0d2dde86-84f4-4cec-9373-df7817cf3dbc\"}, {\"marker\": {\"color\": \"rgba(255, 215, 0, 0.6)\", \"line\": {\"color\": \"rgba(255, 215, 0, 1.0)\", \"width\": 1}}, \"name\": \"Solar\", \"orientation\": \"v\", \"text\": \"\", \"x\": [2015, 2016, 2017, 2018, 2019, 2020, 2021, 2022, 2023, 2024], \"y\": [0.0, 0.0, 0.0, 0.0, 335.7, 447.6, 335.7, 0.0, 0.0, 0.0], \"type\": \"bar\", \"uid\": \"ac4efa23-b4bc-4da6-952e-beebc2c62a67\"}, {\"marker\": {\"color\": \"rgba(238, 130, 238, 0.6)\", \"line\": {\"color\": \"rgba(238, 130, 238, 1.0)\", \"width\": 1}}, \"name\": \"Wind\", \"orientation\": \"v\", \"text\": \"\", \"x\": [2015, 2016, 2017, 2018, 2019, 2020, 2021, 2022, 2023, 2024], \"y\": [0.0, 0.0, 0.0, 723.357, 372.519, 230.607, 0.0, 0.0, 0.0, 0.0], \"type\": \"bar\", \"uid\": \"b21217c2-c8d8-4c22-b21c-8b9b885dd1c0\"}], {\"barmode\": \"stack\", \"legend\": {\"bgcolor\": \"#FFFFFF\", \"font\": {\"color\": \"#4D5663\"}, \"traceorder\": \"normal\"}, \"paper_bgcolor\": \"#FFFFFF\", \"plot_bgcolor\": \"#FFFFFF\", \"title\": {\"text\": \"Capital Investment\", \"font\": {\"color\": \"#4D5663\"}}, \"xaxis\": {\"gridcolor\": \"#E1E5ED\", \"showgrid\": true, \"tickfont\": {\"color\": \"#4D5663\"}, \"title\": {\"text\": \"Year\", \"font\": {\"color\": \"#4D5663\"}}, \"zerolinecolor\": \"#E1E5ED\"}, \"yaxis\": {\"gridcolor\": \"#E1E5ED\", \"showgrid\": true, \"tickfont\": {\"color\": \"#4D5663\"}, \"title\": {\"text\": \"Million $\", \"font\": {\"color\": \"#4D5663\"}}, \"zerolinecolor\": \"#E1E5ED\"}}, {\"showLink\": true, \"linkText\": \"Export to plot.ly\", \"plotlyServerURL\": \"https://plot.ly\"}); \n",
       "}\n",
       "});</script><script type=\"text/javascript\">window.addEventListener(\"resize\", function(){if (document.getElementById(\"5babfa23-47df-40e4-afd7-dc3bacb4e1ec\")) {window._Plotly.Plots.resize(document.getElementById(\"5babfa23-47df-40e4-afd7-dc3bacb4e1ec\"));};})</script>"
      ],
      "text/vnd.plotly.v1+html": [
       "<div id=\"5babfa23-47df-40e4-afd7-dc3bacb4e1ec\" style=\"height: 525px; width: 100%;\" class=\"plotly-graph-div\"></div><script type=\"text/javascript\">require([\"plotly\"], function(Plotly) { window.PLOTLYENV=window.PLOTLYENV || {};window.PLOTLYENV.BASE_URL=\"https://plot.ly\";\n",
       "if (document.getElementById(\"5babfa23-47df-40e4-afd7-dc3bacb4e1ec\")) {\n",
       "    Plotly.newPlot(\"5babfa23-47df-40e4-afd7-dc3bacb4e1ec\", [{\"marker\": {\"color\": \"rgba(34, 139, 34, 0.6)\", \"line\": {\"color\": \"rgba(34, 139, 34, 1.0)\", \"width\": 1}}, \"name\": \"Biomass\", \"orientation\": \"v\", \"text\": \"\", \"x\": [2015, 2016, 2017, 2018, 2019, 2020, 2021, 2022, 2023, 2024], \"y\": [0.0, 58.62, 107.47, 166.09, 0.0, 0.0, 0.0, 0.0, 0.0, 0.0], \"type\": \"bar\", \"uid\": \"cd8ede43-c06c-49ab-af1c-dfc07beb1201\"}, {\"marker\": {\"color\": \"rgba(0, 0, 0, 0.6)\", \"line\": {\"color\": \"rgba(0, 0, 0, 1.0)\", \"width\": 1}}, \"name\": \"Coal\", \"orientation\": \"v\", \"text\": \"\", \"x\": [2015, 2016, 2017, 2018, 2019, 2020, 2021, 2022, 2023, 2024], \"y\": [3935.5129000000006, 938.8799999999999, 1503.4499999999998, 2395.2, 4157.7300000000005, 1586.31, 5314.88, 6475.700000000001, 3177.9, 3150.7286599999998], \"type\": \"bar\", \"uid\": \"4a016827-9411-453d-b1d0-c48d348a7835\"}, {\"marker\": {\"color\": \"rgba(165, 42, 42, 0.6)\", \"line\": {\"color\": \"rgba(165, 42, 42, 1.0)\", \"width\": 1}}, \"name\": \"HFO\", \"orientation\": \"v\", \"text\": \"\", \"x\": [2015, 2016, 2017, 2018, 2019, 2020, 2021, 2022, 2023, 2024], \"y\": [366.63, 0.0, 0.0, 0.0, 0.0, 0.0, 0.0, 0.0, 0.0, 0.0], \"type\": \"bar\", \"uid\": \"c13cf921-6c29-4156-917a-cca39fd5f4a1\"}, {\"marker\": {\"color\": \"rgba(55, 128, 191, 0.6)\", \"line\": {\"color\": \"rgba(55, 128, 191, 1.0)\", \"width\": 1}}, \"name\": \"Hydro\", \"orientation\": \"v\", \"text\": \"\", \"x\": [2015, 2016, 2017, 2018, 2019, 2020, 2021, 2022, 2023, 2024], \"y\": [2795.478, 4626.512000000001, 914.622, 1071.856, 1023.954, 1189.728, 1075.06, 792.0, 1555.935, 0.0], \"type\": \"bar\", \"uid\": \"e6158f4e-37ee-4165-94a9-9c22b9b1cba0\"}, {\"marker\": {\"color\": \"rgba(255, 153, 51, 0.6)\", \"line\": {\"color\": \"rgba(255, 153, 51, 1.0)\", \"width\": 1}}, \"name\": \"Natural gas\", \"orientation\": \"v\", \"text\": \"\", \"x\": [2015, 2016, 2017, 2018, 2019, 2020, 2021, 2022, 2023, 2024], \"y\": [2184.0, 124.8, 0.0, 0.0, 0.0, 592.8, 936.0, 468.0, 911.04, 0.0], \"type\": \"bar\", \"uid\": \"0d2dde86-84f4-4cec-9373-df7817cf3dbc\"}, {\"marker\": {\"color\": \"rgba(255, 215, 0, 0.6)\", \"line\": {\"color\": \"rgba(255, 215, 0, 1.0)\", \"width\": 1}}, \"name\": \"Solar\", \"orientation\": \"v\", \"text\": \"\", \"x\": [2015, 2016, 2017, 2018, 2019, 2020, 2021, 2022, 2023, 2024], \"y\": [0.0, 0.0, 0.0, 0.0, 335.7, 447.6, 335.7, 0.0, 0.0, 0.0], \"type\": \"bar\", \"uid\": \"ac4efa23-b4bc-4da6-952e-beebc2c62a67\"}, {\"marker\": {\"color\": \"rgba(238, 130, 238, 0.6)\", \"line\": {\"color\": \"rgba(238, 130, 238, 1.0)\", \"width\": 1}}, \"name\": \"Wind\", \"orientation\": \"v\", \"text\": \"\", \"x\": [2015, 2016, 2017, 2018, 2019, 2020, 2021, 2022, 2023, 2024], \"y\": [0.0, 0.0, 0.0, 723.357, 372.519, 230.607, 0.0, 0.0, 0.0, 0.0], \"type\": \"bar\", \"uid\": \"b21217c2-c8d8-4c22-b21c-8b9b885dd1c0\"}], {\"barmode\": \"stack\", \"legend\": {\"bgcolor\": \"#FFFFFF\", \"font\": {\"color\": \"#4D5663\"}, \"traceorder\": \"normal\"}, \"paper_bgcolor\": \"#FFFFFF\", \"plot_bgcolor\": \"#FFFFFF\", \"title\": {\"text\": \"Capital Investment\", \"font\": {\"color\": \"#4D5663\"}}, \"xaxis\": {\"gridcolor\": \"#E1E5ED\", \"showgrid\": true, \"tickfont\": {\"color\": \"#4D5663\"}, \"title\": {\"text\": \"Year\", \"font\": {\"color\": \"#4D5663\"}}, \"zerolinecolor\": \"#E1E5ED\"}, \"yaxis\": {\"gridcolor\": \"#E1E5ED\", \"showgrid\": true, \"tickfont\": {\"color\": \"#4D5663\"}, \"title\": {\"text\": \"Million $\", \"font\": {\"color\": \"#4D5663\"}}, \"zerolinecolor\": \"#E1E5ED\"}}, {\"showLink\": true, \"linkText\": \"Export to plot.ly\", \"plotlyServerURL\": \"https://plot.ly\"}); \n",
       "}\n",
       "});</script><script type=\"text/javascript\">window.addEventListener(\"resize\", function(){if (document.getElementById(\"5babfa23-47df-40e4-afd7-dc3bacb4e1ec\")) {window._Plotly.Plots.resize(document.getElementById(\"5babfa23-47df-40e4-afd7-dc3bacb4e1ec\"));};})</script>"
      ]
     },
     "metadata": {},
     "output_type": "display_data"
    }
   ],
   "source": [
    "cap_cos_df = all_params['CapitalInvestment'][all_params['CapitalInvestment'].t.str.startswith('PWR')].drop('r', axis=1)\n",
    "cap_cos_df = df_filter(cap_cos_df,3,6,['TRN'])\n",
    "df_plot(cap_cos_df,'Million $','Capital Investment')"
   ]
  },
  {
   "cell_type": "code",
   "execution_count": 240,
   "metadata": {},
   "outputs": [],
   "source": [
    "ele_cos_df = pd.DataFrame(columns=['Total capital investment', 'Capital costs'])\n",
    "ele_cos_df.insert(0,'y',years)\n",
    "ele_cos_df['Total capital investment'] = cap_cos_df.iloc[:,1:].sum(axis=1)\n",
    "ele_cos_df['Capital costs'] = 0\n",
    "ele_cos_df = ele_cos_df.fillna(0)\n",
    "\n",
    "R = 0.1 # Discount rate\n",
    "n = 20 # Amortization period\n",
    "\n",
    "for i in ele_cos_df['y']:\n",
    "    for j in ele_cos_df['y']:\n",
    "        if i < j + n and i >= j:\n",
    "            ele_cos_df.loc[ele_cos_df['y']==i,'Capital costs'] = ele_cos_df.loc[ele_cos_df['y']==i,'Capital costs'] + (((ele_cos_df.loc[ele_cos_df['y']==j,'Total capital investment'].iloc[0])*R)/(1-(1+R)**(-n)))\n",
    "\n",
    "ele_cos_df.drop('Total capital investment', axis=1, inplace=True)"
   ]
  },
  {
   "cell_type": "code",
   "execution_count": 241,
   "metadata": {},
   "outputs": [],
   "source": [
    "fix_cos_df = all_params['AnnualFixedOperatingCost'][all_params['AnnualFixedOperatingCost'].t.str.startswith('PWR')].drop('r', axis=1)\n",
    "fix_cos_df = df_filter(fix_cos_df,3,6,['TRN'])\n",
    "\n",
    "var_cos_df = all_params['AnnualVariableOperatingCost'][all_params['AnnualVariableOperatingCost'].t.str.startswith('PWR')].drop('r', axis=1)\n",
    "var_cos_df = df_filter(var_cos_df,3,6,['TRN'])\n",
    "\n",
    "dis_cos_df = all_params['AnnualVariableOperatingCost'][all_params['AnnualVariableOperatingCost'].t.str.startswith('DEMPWR')].drop('r', axis=1)\n",
    "dis_cos_df = df_filter(dis_cos_df,6,9,[])\n",
    "\n",
    "dom_val_df = all_params['AnnualVariableOperatingCost'][all_params['AnnualVariableOperatingCost'].t.str.startswith('MIN')|\n",
    "                                                       all_params['AnnualVariableOperatingCost'].t.str.startswith('RNW')].drop('r', axis=1)\n",
    "dom_val_df = df_filter(dom_val_df,3,6,[])\n",
    "for each in dom_val_df.columns:\n",
    "    if each in ['Land','Water','Geothermal','Hydro','Solar','Wind']:\n",
    "        dom_val_df = dom_val_df.drop(each, axis=1)\n",
    "        \n",
    "imp_val_df = all_params['AnnualVariableOperatingCost'][all_params['AnnualVariableOperatingCost'].t.str.startswith('IMP')].drop('r', axis=1)\n",
    "imp_val_df = df_filter(imp_val_df,3,6,[])\n",
    "\n",
    "exp_val_df = all_params['AnnualVariableOperatingCost'][all_params['AnnualVariableOperatingCost'].t.str.startswith('EXP')].drop('r', axis=1)\n",
    "exp_val_df = df_filter(exp_val_df,3,6,[])"
   ]
  },
  {
   "cell_type": "code",
   "execution_count": 242,
   "metadata": {},
   "outputs": [],
   "source": [
    "temp_col_list = []\n",
    "temp_col_list = dom_val_df.columns\n",
    "\n",
    "if len(imp_val_df.columns) > 1:\n",
    "    temp_col_list = temp_col_list.append(imp_val_df.columns)\n",
    "\n",
    "if len(ene_exp_df.columns) > 1:\n",
    "    temp_col_list = temp_col_list.append(exp_val_df.columns)\n",
    "\n",
    "fue_val_df = pd.DataFrame(columns=list(set(temp_col_list)))\n",
    "fue_val_df['y'] = years\n",
    "fue_val_df = fue_val_df.reindex(sorted(fue_val_df.columns),axis=1).set_index('y').reset_index()\n",
    "\n",
    "for each in dom_prd_df.columns:\n",
    "    if each != 'y':\n",
    "        fue_val_df[each] = dom_val_df[each]\n",
    "        fue_val_df = fue_val_df.fillna(0)\n",
    "for each in imp_val_df.columns :\n",
    "    if each != 'y' and len(imp_val_df.columns) > 1:\n",
    "        fue_val_df[each] = fue_val_df[each] + imp_val_df[each]\n",
    "        fue_val_df = fue_val_df.fillna(0)\n",
    "for each in exp_val_df.columns:\n",
    "    if each != 'y' and len(ene_exp_df.columns) > 1:\n",
    "        fue_val_df[each] = fue_val_df[each] - exp_val_df[each]"
   ]
  },
  {
   "cell_type": "code",
   "execution_count": 243,
   "metadata": {},
   "outputs": [],
   "source": [
    "temp_col_list = []\n",
    "temp_col_list = dom_prd_df.columns\n",
    "temp_col_list = temp_col_list.append(ene_imp_df.columns)\n",
    "#temp_col_list = temp_col_list.append(ene_exp_df.columns)\n",
    "\n",
    "fue_prd_df = pd.DataFrame(columns=list(set(temp_col_list)))\n",
    "fue_prd_df['y'] = years\n",
    "fue_prd_df = fue_prd_df.reindex(sorted(fue_prd_df.columns),axis=1).set_index('y').reset_index()\n",
    "\n",
    "for each in dom_prd_df.columns:\n",
    "    if each != 'y':\n",
    "        fue_prd_df[each] = dom_prd_df[each]\n",
    "        fue_prd_df = fue_prd_df.fillna(0)\n",
    "for each in ene_imp_df.columns:\n",
    "    if each != 'y' and len(ene_imp_df.columns) > 1:\n",
    "        fue_prd_df[each] = fue_prd_df[each] + ene_imp_df[each]\n",
    "        fue_prd_df = fue_prd_df.fillna(0)\n",
    "for each in ene_exp_df.columns:\n",
    "    if each != 'y' and len(ene_exp_df.columns) > 1:\n",
    "        fue_prd_df[each] = fue_prd_df[each] - ene_exp_df[each]"
   ]
  },
  {
   "cell_type": "code",
   "execution_count": 244,
   "metadata": {},
   "outputs": [],
   "source": [
    "fue_cos_df = pd.DataFrame(columns=list(set(temp_col_list)))\n",
    "fue_cos_df['y'] = years\n",
    "\n",
    "fue_cos_df = (fue_val_df/fue_prd_df)*gen_use_df\n",
    "fue_cos_df = fue_cos_df.fillna(0)\n",
    "fue_cos_df = fue_cos_df.reindex(sorted(fue_cos_df.columns),axis=1).set_index('y').reset_index()\n",
    "fue_cos_df['y'] = fue_cos_df['y'].astype(int)"
   ]
  },
  {
   "cell_type": "code",
   "execution_count": 245,
   "metadata": {},
   "outputs": [],
   "source": [
    "ele_cos_df['Electricity generation'] = gen_df.iloc[:,1:].sum(axis=1)/3.6\n",
    "ele_cos_df['Capital costs'] = ele_cos_df['Capital costs']/ele_cos_df['Electricity generation']\n",
    "ele_cos_df['Fixed costs'] = fix_cos_df.iloc[:,1:].sum(axis=1)/ele_cos_df['Electricity generation']\n",
    "ele_cos_df['Variable costs'] = var_cos_df.iloc[:,1:].sum(axis=1)/ele_cos_df['Electricity generation']\n",
    "ele_cos_df['Fuel distribution costs'] = dis_cos_df.iloc[:,1:].sum(axis=1)/ele_cos_df['Electricity generation']\n",
    "ele_cos_df['Fuel costs'] = fue_cos_df.iloc[:,1:].sum(axis=1)/ele_cos_df['Electricity generation']"
   ]
  },
  {
   "cell_type": "code",
   "execution_count": 246,
   "metadata": {},
   "outputs": [],
   "source": [
    "ele_cos_df.drop('Electricity generation',axis=1,inplace=True)"
   ]
  },
  {
   "cell_type": "code",
   "execution_count": 247,
   "metadata": {},
   "outputs": [
    {
     "data": {
      "application/vnd.plotly.v1+json": {
       "config": {
        "linkText": "Export to plot.ly",
        "plotlyServerURL": "https://plot.ly",
        "showLink": true
       },
       "data": [
        {
         "marker": {
          "color": "rgba(255, 153, 51, 0.6)",
          "line": {
           "color": "rgba(255, 153, 51, 1.0)",
           "width": 1
          }
         },
         "name": "Capital costs",
         "orientation": "v",
         "text": "",
         "type": "bar",
         "uid": "a8349739-9e36-4ab5-afdf-b67b09ce9617",
         "x": [
          2015,
          2016,
          2017,
          2018,
          2019,
          2020,
          2021,
          2022,
          2023,
          2024,
          2025,
          2026,
          2027,
          2028,
          2029,
          2030,
          2031,
          2032,
          2033,
          2034,
          2035,
          2036,
          2037,
          2038,
          2039,
          2040
         ],
         "y": [
          28.577940989548186,
          41.86355605323441,
          44.59029998850605,
          51.086289869565356,
          59.84060519035632,
          63.61006252027644,
          70.33020807160928,
          75.69910683083049,
          76.91345578358803,
          74.49828153607113,
          68.51835067275472,
          63.35841123076347,
          58.86449243723169,
          54.91851758652424,
          51.429516941909995,
          48.32412324517922,
          45.84905873744877,
          43.59282224787673,
          41.52891369246269,
          39.63559352377885,
          31.61609249760675,
          26.551230455925495,
          23.89286841860853,
          20.34579347663919,
          16.18617249888536,
          13.348389291744947
         ]
        },
        {
         "marker": {
          "color": "rgba(55, 128, 191, 0.6)",
          "line": {
           "color": "rgba(55, 128, 191, 1.0)",
           "width": 1
          }
         },
         "name": "Fixed costs",
         "orientation": "v",
         "text": "",
         "type": "bar",
         "uid": "519fce2d-1158-428c-8bd0-d832d64ef7d4",
         "x": [
          2015,
          2016,
          2017,
          2018,
          2019,
          2020,
          2021,
          2022,
          2023,
          2024,
          2025,
          2026,
          2027,
          2028,
          2029,
          2030,
          2031,
          2032,
          2033,
          2034,
          2035,
          2036,
          2037,
          2038,
          2039,
          2040
         ],
         "y": [
          33.2422716457544,
          32.787756475520546,
          30.953875004241997,
          30.240423354603372,
          30.166190927441285,
          29.438943957104346,
          28.98019085799048,
          28.663408326567776,
          27.615050263178848,
          25.244124826736016,
          23.20336065973233,
          21.409775859618698,
          19.89121199048356,
          18.380438063720398,
          17.154123636332216,
          16.106857066616005,
          15.281896206914414,
          14.295244009184575,
          13.61843358740179,
          12.908450439180116,
          12.255285541763712,
          11.664896985034774,
          11.167579657372897,
          10.661138044599614,
          10.021293588861868,
          9.426873799093627
         ]
        },
        {
         "marker": {
          "color": "rgba(50, 171, 96, 0.6)",
          "line": {
           "color": "rgba(50, 171, 96, 1.0)",
           "width": 1
          }
         },
         "name": "Variable costs",
         "orientation": "v",
         "text": "",
         "type": "bar",
         "uid": "1842701e-367f-428a-a751-1b287701ead9",
         "x": [
          2015,
          2016,
          2017,
          2018,
          2019,
          2020,
          2021,
          2022,
          2023,
          2024,
          2025,
          2026,
          2027,
          2028,
          2029,
          2030,
          2031,
          2032,
          2033,
          2034,
          2035,
          2036,
          2037,
          2038,
          2039,
          2040
         ],
         "y": [
          0,
          0,
          0,
          0,
          0,
          0,
          0,
          0,
          0,
          0,
          0,
          0,
          0,
          0,
          0,
          0,
          0,
          0,
          0,
          0,
          0,
          0,
          0,
          0,
          0,
          0
         ]
        },
        {
         "marker": {
          "color": "rgba(128, 0, 128, 0.6)",
          "line": {
           "color": "rgba(128, 0, 128, 1.0)",
           "width": 1
          }
         },
         "name": "Fuel distribution costs",
         "orientation": "v",
         "text": "",
         "type": "bar",
         "uid": "377b0819-e9e8-4213-8d95-5d89c90300a4",
         "x": [
          2015,
          2016,
          2017,
          2018,
          2019,
          2020,
          2021,
          2022,
          2023,
          2024,
          2025,
          2026,
          2027,
          2028,
          2029,
          2030,
          2031,
          2032,
          2033,
          2034,
          2035,
          2036,
          2037,
          2038,
          2039,
          2040
         ],
         "y": [
          0,
          0,
          0,
          0,
          0,
          0,
          0,
          0,
          0,
          0,
          0,
          0,
          0,
          0,
          0,
          0,
          0,
          0,
          0,
          0,
          0,
          0,
          0,
          0,
          0,
          0
         ]
        },
        {
         "marker": {
          "color": "rgba(219, 64, 82, 0.6)",
          "line": {
           "color": "rgba(219, 64, 82, 1.0)",
           "width": 1
          }
         },
         "name": "Fuel costs",
         "orientation": "v",
         "text": "",
         "type": "bar",
         "uid": "ce36732f-dc6c-4db5-bf3e-2a3138a1ae48",
         "x": [
          2015,
          2016,
          2017,
          2018,
          2019,
          2020,
          2021,
          2022,
          2023,
          2024,
          2025,
          2026,
          2027,
          2028,
          2029,
          2030,
          2031,
          2032,
          2033,
          2034,
          2035,
          2036,
          2037,
          2038,
          2039,
          2040
         ],
         "y": [
          17.795803678498263,
          13.6458742673895,
          16.5596998967548,
          14.598724582220726,
          13.041668359248504,
          11.42608408880829,
          11.87424672371086,
          12.407751902993605,
          12.670013428239415,
          13.5808978336288,
          14.404655996064221,
          15.221435987994449,
          15.79667650207474,
          16.333696846043406,
          16.77882473591498,
          17.086217566258238,
          17.485562812024742,
          17.849601256100712,
          18.182609016937477,
          18.48809044840784,
          18.769476229132913,
          19.148745489636365,
          19.51128401332139,
          19.925401671502872,
          20.3828646055561,
          20.557613840838656
         ]
        }
       ],
       "layout": {
        "barmode": "stack",
        "legend": {
         "bgcolor": "#FFFFFF",
         "font": {
          "color": "#4D5663"
         },
         "traceorder": "normal"
        },
        "paper_bgcolor": "#FFFFFF",
        "plot_bgcolor": "#FFFFFF",
        "title": {
         "font": {
          "color": "#4D5663"
         },
         "text": "Cost of electricity generation ($/MWh)"
        },
        "xaxis": {
         "gridcolor": "#E1E5ED",
         "showgrid": true,
         "tickfont": {
          "color": "#4D5663"
         },
         "title": {
          "font": {
           "color": "#4D5663"
          },
          "text": ""
         },
         "zerolinecolor": "#E1E5ED"
        },
        "yaxis": {
         "gridcolor": "#E1E5ED",
         "showgrid": true,
         "tickfont": {
          "color": "#4D5663"
         },
         "title": {
          "font": {
           "color": "#4D5663"
          },
          "text": ""
         },
         "zerolinecolor": "#E1E5ED"
        }
       }
      },
      "text/html": [
       "<div id=\"2e3c9454-1391-4ba2-a53d-fc989b6a5f11\" style=\"height: 525px; width: 100%;\" class=\"plotly-graph-div\"></div><script type=\"text/javascript\">require([\"plotly\"], function(Plotly) { window.PLOTLYENV=window.PLOTLYENV || {};window.PLOTLYENV.BASE_URL=\"https://plot.ly\";\n",
       "if (document.getElementById(\"2e3c9454-1391-4ba2-a53d-fc989b6a5f11\")) {\n",
       "    Plotly.newPlot(\"2e3c9454-1391-4ba2-a53d-fc989b6a5f11\", [{\"marker\": {\"color\": \"rgba(255, 153, 51, 0.6)\", \"line\": {\"color\": \"rgba(255, 153, 51, 1.0)\", \"width\": 1}}, \"name\": \"Capital costs\", \"orientation\": \"v\", \"text\": \"\", \"x\": [2015, 2016, 2017, 2018, 2019, 2020, 2021, 2022, 2023, 2024, 2025, 2026, 2027, 2028, 2029, 2030, 2031, 2032, 2033, 2034, 2035, 2036, 2037, 2038, 2039, 2040], \"y\": [28.577940989548186, 41.86355605323441, 44.59029998850605, 51.086289869565356, 59.84060519035632, 63.61006252027644, 70.33020807160928, 75.69910683083049, 76.91345578358803, 74.49828153607113, 68.51835067275472, 63.35841123076347, 58.86449243723169, 54.91851758652424, 51.429516941909995, 48.32412324517922, 45.84905873744877, 43.59282224787673, 41.52891369246269, 39.63559352377885, 31.61609249760675, 26.551230455925495, 23.89286841860853, 20.34579347663919, 16.18617249888536, 13.348389291744947], \"type\": \"bar\", \"uid\": \"ff2442a3-05bc-494e-98a9-0314e66e4db1\"}, {\"marker\": {\"color\": \"rgba(55, 128, 191, 0.6)\", \"line\": {\"color\": \"rgba(55, 128, 191, 1.0)\", \"width\": 1}}, \"name\": \"Fixed costs\", \"orientation\": \"v\", \"text\": \"\", \"x\": [2015, 2016, 2017, 2018, 2019, 2020, 2021, 2022, 2023, 2024, 2025, 2026, 2027, 2028, 2029, 2030, 2031, 2032, 2033, 2034, 2035, 2036, 2037, 2038, 2039, 2040], \"y\": [33.2422716457544, 32.787756475520546, 30.953875004241997, 30.240423354603372, 30.166190927441285, 29.438943957104346, 28.98019085799048, 28.663408326567776, 27.615050263178848, 25.244124826736016, 23.20336065973233, 21.409775859618698, 19.89121199048356, 18.380438063720398, 17.154123636332216, 16.106857066616005, 15.281896206914414, 14.295244009184575, 13.61843358740179, 12.908450439180116, 12.255285541763712, 11.664896985034774, 11.167579657372897, 10.661138044599614, 10.021293588861868, 9.426873799093627], \"type\": \"bar\", \"uid\": \"eb821be5-0bfd-48b3-9868-66693ec15080\"}, {\"marker\": {\"color\": \"rgba(50, 171, 96, 0.6)\", \"line\": {\"color\": \"rgba(50, 171, 96, 1.0)\", \"width\": 1}}, \"name\": \"Variable costs\", \"orientation\": \"v\", \"text\": \"\", \"x\": [2015, 2016, 2017, 2018, 2019, 2020, 2021, 2022, 2023, 2024, 2025, 2026, 2027, 2028, 2029, 2030, 2031, 2032, 2033, 2034, 2035, 2036, 2037, 2038, 2039, 2040], \"y\": [0.0, 0.0, 0.0, 0.0, 0.0, 0.0, 0.0, 0.0, 0.0, 0.0, 0.0, 0.0, 0.0, 0.0, 0.0, 0.0, 0.0, 0.0, 0.0, 0.0, 0.0, 0.0, 0.0, 0.0, 0.0, 0.0], \"type\": \"bar\", \"uid\": \"bab1b7bd-4dc6-4ac2-832b-1e63f1fe8724\"}, {\"marker\": {\"color\": \"rgba(128, 0, 128, 0.6)\", \"line\": {\"color\": \"rgba(128, 0, 128, 1.0)\", \"width\": 1}}, \"name\": \"Fuel distribution costs\", \"orientation\": \"v\", \"text\": \"\", \"x\": [2015, 2016, 2017, 2018, 2019, 2020, 2021, 2022, 2023, 2024, 2025, 2026, 2027, 2028, 2029, 2030, 2031, 2032, 2033, 2034, 2035, 2036, 2037, 2038, 2039, 2040], \"y\": [0.0, 0.0, 0.0, 0.0, 0.0, 0.0, 0.0, 0.0, 0.0, 0.0, 0.0, 0.0, 0.0, 0.0, 0.0, 0.0, 0.0, 0.0, 0.0, 0.0, 0.0, 0.0, 0.0, 0.0, 0.0, 0.0], \"type\": \"bar\", \"uid\": \"df83ed1b-3dd4-4817-9db8-a9b3c455e547\"}, {\"marker\": {\"color\": \"rgba(219, 64, 82, 0.6)\", \"line\": {\"color\": \"rgba(219, 64, 82, 1.0)\", \"width\": 1}}, \"name\": \"Fuel costs\", \"orientation\": \"v\", \"text\": \"\", \"x\": [2015, 2016, 2017, 2018, 2019, 2020, 2021, 2022, 2023, 2024, 2025, 2026, 2027, 2028, 2029, 2030, 2031, 2032, 2033, 2034, 2035, 2036, 2037, 2038, 2039, 2040], \"y\": [17.795803678498263, 13.6458742673895, 16.5596998967548, 14.598724582220726, 13.041668359248504, 11.42608408880829, 11.87424672371086, 12.407751902993605, 12.670013428239415, 13.5808978336288, 14.404655996064221, 15.221435987994449, 15.79667650207474, 16.333696846043406, 16.77882473591498, 17.086217566258238, 17.485562812024742, 17.849601256100712, 18.182609016937477, 18.48809044840784, 18.769476229132913, 19.148745489636365, 19.51128401332139, 19.925401671502872, 20.3828646055561, 20.557613840838656], \"type\": \"bar\", \"uid\": \"8736c754-6535-4376-a22f-0e81eba64a79\"}], {\"barmode\": \"stack\", \"legend\": {\"bgcolor\": \"#FFFFFF\", \"font\": {\"color\": \"#4D5663\"}, \"traceorder\": \"normal\"}, \"paper_bgcolor\": \"#FFFFFF\", \"plot_bgcolor\": \"#FFFFFF\", \"title\": {\"text\": \"Cost of electricity generation ($/MWh)\", \"font\": {\"color\": \"#4D5663\"}}, \"xaxis\": {\"gridcolor\": \"#E1E5ED\", \"showgrid\": true, \"tickfont\": {\"color\": \"#4D5663\"}, \"title\": {\"text\": \"\", \"font\": {\"color\": \"#4D5663\"}}, \"zerolinecolor\": \"#E1E5ED\"}, \"yaxis\": {\"gridcolor\": \"#E1E5ED\", \"showgrid\": true, \"tickfont\": {\"color\": \"#4D5663\"}, \"title\": {\"text\": \"\", \"font\": {\"color\": \"#4D5663\"}}, \"zerolinecolor\": \"#E1E5ED\"}}, {\"showLink\": true, \"linkText\": \"Export to plot.ly\", \"plotlyServerURL\": \"https://plot.ly\"}); \n",
       "}\n",
       "});</script><script type=\"text/javascript\">window.addEventListener(\"resize\", function(){if (document.getElementById(\"2e3c9454-1391-4ba2-a53d-fc989b6a5f11\")) {window._Plotly.Plots.resize(document.getElementById(\"2e3c9454-1391-4ba2-a53d-fc989b6a5f11\"));};})</script>"
      ],
      "text/vnd.plotly.v1+html": [
       "<div id=\"2e3c9454-1391-4ba2-a53d-fc989b6a5f11\" style=\"height: 525px; width: 100%;\" class=\"plotly-graph-div\"></div><script type=\"text/javascript\">require([\"plotly\"], function(Plotly) { window.PLOTLYENV=window.PLOTLYENV || {};window.PLOTLYENV.BASE_URL=\"https://plot.ly\";\n",
       "if (document.getElementById(\"2e3c9454-1391-4ba2-a53d-fc989b6a5f11\")) {\n",
       "    Plotly.newPlot(\"2e3c9454-1391-4ba2-a53d-fc989b6a5f11\", [{\"marker\": {\"color\": \"rgba(255, 153, 51, 0.6)\", \"line\": {\"color\": \"rgba(255, 153, 51, 1.0)\", \"width\": 1}}, \"name\": \"Capital costs\", \"orientation\": \"v\", \"text\": \"\", \"x\": [2015, 2016, 2017, 2018, 2019, 2020, 2021, 2022, 2023, 2024, 2025, 2026, 2027, 2028, 2029, 2030, 2031, 2032, 2033, 2034, 2035, 2036, 2037, 2038, 2039, 2040], \"y\": [28.577940989548186, 41.86355605323441, 44.59029998850605, 51.086289869565356, 59.84060519035632, 63.61006252027644, 70.33020807160928, 75.69910683083049, 76.91345578358803, 74.49828153607113, 68.51835067275472, 63.35841123076347, 58.86449243723169, 54.91851758652424, 51.429516941909995, 48.32412324517922, 45.84905873744877, 43.59282224787673, 41.52891369246269, 39.63559352377885, 31.61609249760675, 26.551230455925495, 23.89286841860853, 20.34579347663919, 16.18617249888536, 13.348389291744947], \"type\": \"bar\", \"uid\": \"ff2442a3-05bc-494e-98a9-0314e66e4db1\"}, {\"marker\": {\"color\": \"rgba(55, 128, 191, 0.6)\", \"line\": {\"color\": \"rgba(55, 128, 191, 1.0)\", \"width\": 1}}, \"name\": \"Fixed costs\", \"orientation\": \"v\", \"text\": \"\", \"x\": [2015, 2016, 2017, 2018, 2019, 2020, 2021, 2022, 2023, 2024, 2025, 2026, 2027, 2028, 2029, 2030, 2031, 2032, 2033, 2034, 2035, 2036, 2037, 2038, 2039, 2040], \"y\": [33.2422716457544, 32.787756475520546, 30.953875004241997, 30.240423354603372, 30.166190927441285, 29.438943957104346, 28.98019085799048, 28.663408326567776, 27.615050263178848, 25.244124826736016, 23.20336065973233, 21.409775859618698, 19.89121199048356, 18.380438063720398, 17.154123636332216, 16.106857066616005, 15.281896206914414, 14.295244009184575, 13.61843358740179, 12.908450439180116, 12.255285541763712, 11.664896985034774, 11.167579657372897, 10.661138044599614, 10.021293588861868, 9.426873799093627], \"type\": \"bar\", \"uid\": \"eb821be5-0bfd-48b3-9868-66693ec15080\"}, {\"marker\": {\"color\": \"rgba(50, 171, 96, 0.6)\", \"line\": {\"color\": \"rgba(50, 171, 96, 1.0)\", \"width\": 1}}, \"name\": \"Variable costs\", \"orientation\": \"v\", \"text\": \"\", \"x\": [2015, 2016, 2017, 2018, 2019, 2020, 2021, 2022, 2023, 2024, 2025, 2026, 2027, 2028, 2029, 2030, 2031, 2032, 2033, 2034, 2035, 2036, 2037, 2038, 2039, 2040], \"y\": [0.0, 0.0, 0.0, 0.0, 0.0, 0.0, 0.0, 0.0, 0.0, 0.0, 0.0, 0.0, 0.0, 0.0, 0.0, 0.0, 0.0, 0.0, 0.0, 0.0, 0.0, 0.0, 0.0, 0.0, 0.0, 0.0], \"type\": \"bar\", \"uid\": \"bab1b7bd-4dc6-4ac2-832b-1e63f1fe8724\"}, {\"marker\": {\"color\": \"rgba(128, 0, 128, 0.6)\", \"line\": {\"color\": \"rgba(128, 0, 128, 1.0)\", \"width\": 1}}, \"name\": \"Fuel distribution costs\", \"orientation\": \"v\", \"text\": \"\", \"x\": [2015, 2016, 2017, 2018, 2019, 2020, 2021, 2022, 2023, 2024, 2025, 2026, 2027, 2028, 2029, 2030, 2031, 2032, 2033, 2034, 2035, 2036, 2037, 2038, 2039, 2040], \"y\": [0.0, 0.0, 0.0, 0.0, 0.0, 0.0, 0.0, 0.0, 0.0, 0.0, 0.0, 0.0, 0.0, 0.0, 0.0, 0.0, 0.0, 0.0, 0.0, 0.0, 0.0, 0.0, 0.0, 0.0, 0.0, 0.0], \"type\": \"bar\", \"uid\": \"df83ed1b-3dd4-4817-9db8-a9b3c455e547\"}, {\"marker\": {\"color\": \"rgba(219, 64, 82, 0.6)\", \"line\": {\"color\": \"rgba(219, 64, 82, 1.0)\", \"width\": 1}}, \"name\": \"Fuel costs\", \"orientation\": \"v\", \"text\": \"\", \"x\": [2015, 2016, 2017, 2018, 2019, 2020, 2021, 2022, 2023, 2024, 2025, 2026, 2027, 2028, 2029, 2030, 2031, 2032, 2033, 2034, 2035, 2036, 2037, 2038, 2039, 2040], \"y\": [17.795803678498263, 13.6458742673895, 16.5596998967548, 14.598724582220726, 13.041668359248504, 11.42608408880829, 11.87424672371086, 12.407751902993605, 12.670013428239415, 13.5808978336288, 14.404655996064221, 15.221435987994449, 15.79667650207474, 16.333696846043406, 16.77882473591498, 17.086217566258238, 17.485562812024742, 17.849601256100712, 18.182609016937477, 18.48809044840784, 18.769476229132913, 19.148745489636365, 19.51128401332139, 19.925401671502872, 20.3828646055561, 20.557613840838656], \"type\": \"bar\", \"uid\": \"8736c754-6535-4376-a22f-0e81eba64a79\"}], {\"barmode\": \"stack\", \"legend\": {\"bgcolor\": \"#FFFFFF\", \"font\": {\"color\": \"#4D5663\"}, \"traceorder\": \"normal\"}, \"paper_bgcolor\": \"#FFFFFF\", \"plot_bgcolor\": \"#FFFFFF\", \"title\": {\"text\": \"Cost of electricity generation ($/MWh)\", \"font\": {\"color\": \"#4D5663\"}}, \"xaxis\": {\"gridcolor\": \"#E1E5ED\", \"showgrid\": true, \"tickfont\": {\"color\": \"#4D5663\"}, \"title\": {\"text\": \"\", \"font\": {\"color\": \"#4D5663\"}}, \"zerolinecolor\": \"#E1E5ED\"}, \"yaxis\": {\"gridcolor\": \"#E1E5ED\", \"showgrid\": true, \"tickfont\": {\"color\": \"#4D5663\"}, \"title\": {\"text\": \"\", \"font\": {\"color\": \"#4D5663\"}}, \"zerolinecolor\": \"#E1E5ED\"}}, {\"showLink\": true, \"linkText\": \"Export to plot.ly\", \"plotlyServerURL\": \"https://plot.ly\"}); \n",
       "}\n",
       "});</script><script type=\"text/javascript\">window.addEventListener(\"resize\", function(){if (document.getElementById(\"2e3c9454-1391-4ba2-a53d-fc989b6a5f11\")) {window._Plotly.Plots.resize(document.getElementById(\"2e3c9454-1391-4ba2-a53d-fc989b6a5f11\"));};})</script>"
      ]
     },
     "metadata": {},
     "output_type": "display_data"
    }
   ],
   "source": [
    "ele_cos_df.iplot(kind='bar',barmode='stack',x='y',title='Cost of electricity generation ($/MWh)')"
   ]
  },
  {
   "cell_type": "code",
   "execution_count": 248,
   "metadata": {},
   "outputs": [],
   "source": [
    "# Land use\n",
    "\n",
    "regions = {'C':'Center',\n",
    "           'N':'North',\n",
    "           'S':'South'}\n",
    "\n",
    "crops = {'CP1':'Coffee',\n",
    "         'CP2':'Cotton',\n",
    "         'CP3':'Peanuts',\n",
    "         'CP4':'Maize',\n",
    "         'CP5':'Rice',\n",
    "         'CP6':'Soybean',\n",
    "         'CP7':'Sugarcane',\n",
    "         'CP8':'Tea'}\n",
    "\n",
    "water_supply = {'I':'Irrigated',\n",
    "                'R':'Rain-fed'}\n",
    "\n",
    "input_level = {'L':'Low',\n",
    "               'I':'Intermediate',\n",
    "               'H':'High'}"
   ]
  },
  {
   "cell_type": "code",
   "execution_count": 249,
   "metadata": {},
   "outputs": [
    {
     "data": {
      "application/vnd.plotly.v1+json": {
       "config": {
        "linkText": "Export to plot.ly",
        "plotlyServerURL": "https://plot.ly",
        "showLink": true
       },
       "data": [
        {
         "marker": {
          "color": "rgba(165, 42, 42, 0.6)",
          "line": {
           "color": "rgba(165, 42, 42, 1.0)",
           "width": 1
          }
         },
         "name": "Coffee",
         "orientation": "v",
         "text": "",
         "type": "bar",
         "uid": "b3c89881-3eac-4059-94c2-02c04699bce1",
         "x": [
          2015,
          2016,
          2017,
          2018,
          2019,
          2020,
          2021,
          2022,
          2023,
          2024,
          2025,
          2026,
          2027,
          2028,
          2029,
          2030,
          2031,
          2032,
          2033,
          2034,
          2035,
          2036,
          2037,
          2038,
          2039,
          2040
         ],
         "y": [
          667.8810600000002,
          672.89667,
          685.2024153,
          698.6805030000002,
          709.5790350000002,
          717.548109,
          720.5104249999999,
          723.245315,
          726.0222080000001,
          728.8676600000001,
          735.38736,
          748.1474349999999,
          793.5641969999997,
          840.590245,
          886.9170850000003,
          885.4189550000001,
          915.4011150000001,
          980.6179910000001,
          1059.523642,
          1140.4341399999998,
          1211.5756299999998,
          1264.3053,
          1315.9649299999999,
          1367.33936,
          1400.3207100000002,
          1430.74458
         ]
        },
        {
         "marker": {
          "color": "rgba(128, 128, 128, 0.6)",
          "line": {
           "color": "rgba(128, 128, 128, 1.0)",
           "width": 1
          }
         },
         "name": "Cotton",
         "orientation": "v",
         "text": "",
         "type": "bar",
         "uid": "3c886265-1cae-4778-aefc-d82429bd2bcc",
         "x": [
          2015,
          2016,
          2017,
          2018,
          2019,
          2020,
          2021,
          2022,
          2023,
          2024,
          2025,
          2026,
          2027,
          2028,
          2029,
          2030,
          2031,
          2032,
          2033,
          2034,
          2035,
          2036,
          2037,
          2038,
          2039,
          2040
         ],
         "y": [
          28.958000000000002,
          28.53027088,
          29.237000000000002,
          29.451999999999998,
          29.617,
          32.439169,
          34.922555,
          36.161283000000005,
          37.225841,
          37.246154,
          37.335897,
          37.389672,
          37.24871799999999,
          37.342307999999996,
          37.452564,
          30.318420999999997,
          32.433046000000004,
          35.398238,
          35.183237999999996,
          40.0794118,
          58.440233,
          70.457105,
          76.213423,
          82.288588,
          86.1423,
          87.902556
         ]
        },
        {
         "marker": {
          "color": "rgba(255, 153, 51, 0.6)",
          "line": {
           "color": "rgba(255, 153, 51, 1.0)",
           "width": 1
          }
         },
         "name": "Peanuts",
         "orientation": "v",
         "text": "",
         "type": "bar",
         "uid": "a082ca84-b976-41e4-a9c2-7b8ff668ecd9",
         "x": [
          2015,
          2016,
          2017,
          2018,
          2019,
          2020,
          2021,
          2022,
          2023,
          2024,
          2025,
          2026,
          2027,
          2028,
          2029,
          2030,
          2031,
          2032,
          2033,
          2034,
          2035,
          2036,
          2037,
          2038,
          2039,
          2040
         ],
         "y": [
          249.36387,
          247.99820000000003,
          246.39296,
          255.54797000000002,
          255.34192,
          257.93973,
          256.89782,
          255.71525000000003,
          254.67016,
          253.95376,
          253.38975,
          252.45685999999998,
          251.56595,
          250.95591,
          257.81043,
          254.14817,
          251.11513000000002,
          247.91611999999998,
          245.87458,
          243.69179999999997,
          240.90621,
          241.17749,
          239.13467000000006,
          236.99177,
          235.53451999999996,
          233.1785
         ]
        },
        {
         "marker": {
          "color": "rgba(255, 215, 0, 0.6)",
          "line": {
           "color": "rgba(255, 215, 0, 1.0)",
           "width": 1
          }
         },
         "name": "Maize",
         "orientation": "v",
         "text": "",
         "type": "bar",
         "uid": "81cf09df-0199-42c8-aa84-c74addb3aecb",
         "x": [
          2015,
          2016,
          2017,
          2018,
          2019,
          2020,
          2021,
          2022,
          2023,
          2024,
          2025,
          2026,
          2027,
          2028,
          2029,
          2030,
          2031,
          2032,
          2033,
          2034,
          2035,
          2036,
          2037,
          2038,
          2039,
          2040
         ],
         "y": [
          710.3571199999999,
          736.803692,
          765.99377,
          767.8178700000001,
          769.9530200000002,
          770.2405,
          781.9095,
          777.4163699999999,
          772.86207,
          768.40905,
          764.53748,
          772.0404900000002,
          766.8019900000002,
          761.3969199999999,
          755.89891,
          735.2296230000001,
          734.1104599999999,
          732.27182,
          724.25847,
          716.0535300000003,
          708.881,
          700.7970499999999,
          692.53774,
          684.4305499999999,
          675.90019,
          668.08729
         ]
        },
        {
         "marker": {
          "color": "rgba(0, 128, 0, 0.6)",
          "line": {
           "color": "rgba(0, 128, 0, 1.0)",
           "width": 1
          }
         },
         "name": "Rice",
         "orientation": "v",
         "text": "",
         "type": "bar",
         "uid": "d147dc3d-9112-464d-b180-3ddeb211a849",
         "x": [
          2015,
          2016,
          2017,
          2018,
          2019,
          2020,
          2021,
          2022,
          2023,
          2024,
          2025,
          2026,
          2027,
          2028,
          2029,
          2030,
          2031,
          2032,
          2033,
          2034,
          2035,
          2036,
          2037,
          2038,
          2039,
          2040
         ],
         "y": [
          7675.6258800000005,
          7763.27239,
          7787.901280000001,
          7810.317740000001,
          7832.327769999999,
          7853.011990000001,
          7839.845584799999,
          7855.011259,
          7869.826398000002,
          7889.356352000001,
          7877.812149999999,
          7840.67602,
          7795.8831,
          7756.0123,
          7715.4631100000015,
          7650.058880000001,
          7619.697739999999,
          7535.335209999998,
          7458.6426599999995,
          7385.58452,
          7313.3818,
          7268.344541000001,
          7227.181430999999,
          7184.137739999999,
          7127.939289999999,
          7077.193630000001
         ]
        },
        {
         "marker": {
          "color": "rgba(178, 34, 34, 0.6)",
          "line": {
           "color": "rgba(178, 34, 34, 1.0)",
           "width": 1
          }
         },
         "name": "Soybean",
         "orientation": "v",
         "text": "",
         "type": "bar",
         "uid": "fefa08d7-9846-4d05-bf35-d7e68671611d",
         "x": [
          2015,
          2016,
          2017,
          2018,
          2019,
          2020,
          2021,
          2022,
          2023,
          2024,
          2025,
          2026,
          2027,
          2028,
          2029,
          2030,
          2031,
          2032,
          2033,
          2034,
          2035,
          2036,
          2037,
          2038,
          2039,
          2040
         ],
         "y": [
          111.509431,
          111.72440099999997,
          111.906737,
          112.09505999999999,
          112.32200600000002,
          112.519311,
          112.20868599999999,
          111.8652485,
          111.55462349999999,
          111.21431100000001,
          110.98274850000001,
          110.67399799999997,
          110.33556100000001,
          109.99868599999999,
          114.108209,
          110.200333,
          108.362309,
          107.58626100000001,
          106.744644,
          106.49704,
          105.94064655000001,
          104.709461,
          103.75259950000002,
          102.7433135,
          102.35189000000003,
          100.77551849999999
         ]
        },
        {
         "marker": {
          "color": "rgba(128, 0, 128, 0.6)",
          "line": {
           "color": "rgba(128, 0, 128, 1.0)",
           "width": 1
          }
         },
         "name": "Sugarcane",
         "orientation": "v",
         "text": "",
         "type": "bar",
         "uid": "5992d326-ceb4-40bc-9327-4cc727800611",
         "x": [
          2015,
          2016,
          2017,
          2018,
          2019,
          2020,
          2021,
          2022,
          2023,
          2024,
          2025,
          2026,
          2027,
          2028,
          2029,
          2030,
          2031,
          2032,
          2033,
          2034,
          2035,
          2036,
          2037,
          2038,
          2039,
          2040
         ],
         "y": [
          1799.8633485000003,
          1821.6231200000002,
          1839.8866200000002,
          1857.9834500000002,
          1876.5748800000001,
          1895.7784599600002,
          1908.02997,
          1914.7159100000001,
          1921.3749100000002,
          1928.0133399999997,
          1936.59425,
          1949.4994700000002,
          1956.1523,
          1958.0644000000002,
          1962.3462300000003,
          1958.2379700000001,
          1958.7914799999999,
          1956.6840500000003,
          1951.18095,
          1947.76466,
          1942.92802,
          1938.2979799999996,
          1932.7476899999997,
          1927.4698700000004,
          1925.48054,
          1923.9598099999998
         ]
        },
        {
         "marker": {
          "color": "rgba(255, 0, 136, 0.6)",
          "line": {
           "color": "rgba(255, 0, 136, 1.0)",
           "width": 1
          }
         },
         "name": "Tea",
         "orientation": "v",
         "text": "",
         "type": "bar",
         "uid": "58c0fbbd-497e-4792-846f-f9d7dfdcf047",
         "x": [
          2015,
          2016,
          2017,
          2018,
          2019,
          2020,
          2021,
          2022,
          2023,
          2024,
          2025,
          2026,
          2027,
          2028,
          2029,
          2030,
          2031,
          2032,
          2033,
          2034,
          2035,
          2036,
          2037,
          2038,
          2039,
          2040
         ],
         "y": [
          3797.7473,
          3843.3898,
          3880.8464,
          3912.4372000000003,
          3941.2071,
          3970.3881,
          3979.3498000000004,
          3988.5980999999997,
          3997.9123,
          4007.1788999999994,
          4012.3496,
          4017.2362000000003,
          4029.2793000000006,
          4055.3006,
          4066.5504,
          3829.139500000001,
          3836.3185999999996,
          3841.9782,
          3844.2276,
          3841.625000000001,
          3839.0006,
          3837.253399999999,
          3831.897200000001,
          3826.3307999999993,
          3819.9646999999995,
          3812.7598
         ]
        }
       ],
       "layout": {
        "barmode": "stack",
        "legend": {
         "bgcolor": "#FFFFFF",
         "font": {
          "color": "#4D5663"
         },
         "traceorder": "normal"
        },
        "paper_bgcolor": "#FFFFFF",
        "plot_bgcolor": "#FFFFFF",
        "title": {
         "font": {
          "color": "#4D5663"
         },
         "text": "Planted area by crop"
        },
        "xaxis": {
         "gridcolor": "#E1E5ED",
         "showgrid": true,
         "tickfont": {
          "color": "#4D5663"
         },
         "title": {
          "font": {
           "color": "#4D5663"
          },
          "text": "Year"
         },
         "zerolinecolor": "#E1E5ED"
        },
        "yaxis": {
         "gridcolor": "#E1E5ED",
         "showgrid": true,
         "tickfont": {
          "color": "#4D5663"
         },
         "title": {
          "font": {
           "color": "#4D5663"
          },
          "text": "Land area (kha)"
         },
         "zerolinecolor": "#E1E5ED"
        }
       }
      },
      "text/html": [
       "<div id=\"bc1f84d5-cfd9-4b9d-b12b-f4021c4d6652\" style=\"height: 525px; width: 100%;\" class=\"plotly-graph-div\"></div><script type=\"text/javascript\">require([\"plotly\"], function(Plotly) { window.PLOTLYENV=window.PLOTLYENV || {};window.PLOTLYENV.BASE_URL=\"https://plot.ly\";\n",
       "if (document.getElementById(\"bc1f84d5-cfd9-4b9d-b12b-f4021c4d6652\")) {\n",
       "    Plotly.newPlot(\"bc1f84d5-cfd9-4b9d-b12b-f4021c4d6652\", [{\"marker\": {\"color\": \"rgba(165, 42, 42, 0.6)\", \"line\": {\"color\": \"rgba(165, 42, 42, 1.0)\", \"width\": 1}}, \"name\": \"Coffee\", \"orientation\": \"v\", \"text\": \"\", \"x\": [2015, 2016, 2017, 2018, 2019, 2020, 2021, 2022, 2023, 2024, 2025, 2026, 2027, 2028, 2029, 2030, 2031, 2032, 2033, 2034, 2035, 2036, 2037, 2038, 2039, 2040], \"y\": [667.8810600000002, 672.89667, 685.2024153, 698.6805030000002, 709.5790350000002, 717.548109, 720.5104249999999, 723.245315, 726.0222080000001, 728.8676600000001, 735.38736, 748.1474349999999, 793.5641969999997, 840.590245, 886.9170850000003, 885.4189550000001, 915.4011150000001, 980.6179910000001, 1059.523642, 1140.4341399999998, 1211.5756299999998, 1264.3053, 1315.9649299999999, 1367.33936, 1400.3207100000002, 1430.74458], \"type\": \"bar\", \"uid\": \"c1091188-fab4-433b-80a1-98f1d9b6fd3d\"}, {\"marker\": {\"color\": \"rgba(128, 128, 128, 0.6)\", \"line\": {\"color\": \"rgba(128, 128, 128, 1.0)\", \"width\": 1}}, \"name\": \"Cotton\", \"orientation\": \"v\", \"text\": \"\", \"x\": [2015, 2016, 2017, 2018, 2019, 2020, 2021, 2022, 2023, 2024, 2025, 2026, 2027, 2028, 2029, 2030, 2031, 2032, 2033, 2034, 2035, 2036, 2037, 2038, 2039, 2040], \"y\": [28.958000000000002, 28.53027088, 29.237000000000002, 29.451999999999998, 29.617, 32.439169, 34.922555, 36.161283000000005, 37.225841, 37.246154, 37.335897, 37.389672, 37.24871799999999, 37.342307999999996, 37.452564, 30.318420999999997, 32.433046000000004, 35.398238, 35.183237999999996, 40.0794118, 58.440233, 70.457105, 76.213423, 82.288588, 86.1423, 87.902556], \"type\": \"bar\", \"uid\": \"86b398cf-3b34-4106-989f-03b6d7914ee9\"}, {\"marker\": {\"color\": \"rgba(255, 153, 51, 0.6)\", \"line\": {\"color\": \"rgba(255, 153, 51, 1.0)\", \"width\": 1}}, \"name\": \"Peanuts\", \"orientation\": \"v\", \"text\": \"\", \"x\": [2015, 2016, 2017, 2018, 2019, 2020, 2021, 2022, 2023, 2024, 2025, 2026, 2027, 2028, 2029, 2030, 2031, 2032, 2033, 2034, 2035, 2036, 2037, 2038, 2039, 2040], \"y\": [249.36387, 247.99820000000003, 246.39296, 255.54797000000002, 255.34192, 257.93973, 256.89782, 255.71525000000003, 254.67016, 253.95376, 253.38975, 252.45685999999998, 251.56595, 250.95591, 257.81043, 254.14817, 251.11513000000002, 247.91611999999998, 245.87458, 243.69179999999997, 240.90621, 241.17749, 239.13467000000006, 236.99177, 235.53451999999996, 233.1785], \"type\": \"bar\", \"uid\": \"2adb8392-806e-4572-94e4-0ef8185492a0\"}, {\"marker\": {\"color\": \"rgba(255, 215, 0, 0.6)\", \"line\": {\"color\": \"rgba(255, 215, 0, 1.0)\", \"width\": 1}}, \"name\": \"Maize\", \"orientation\": \"v\", \"text\": \"\", \"x\": [2015, 2016, 2017, 2018, 2019, 2020, 2021, 2022, 2023, 2024, 2025, 2026, 2027, 2028, 2029, 2030, 2031, 2032, 2033, 2034, 2035, 2036, 2037, 2038, 2039, 2040], \"y\": [710.3571199999999, 736.803692, 765.99377, 767.8178700000001, 769.9530200000002, 770.2405, 781.9095, 777.4163699999999, 772.86207, 768.40905, 764.53748, 772.0404900000002, 766.8019900000002, 761.3969199999999, 755.89891, 735.2296230000001, 734.1104599999999, 732.27182, 724.25847, 716.0535300000003, 708.881, 700.7970499999999, 692.53774, 684.4305499999999, 675.90019, 668.08729], \"type\": \"bar\", \"uid\": \"2b541313-2937-4713-a24e-5ed2de9f13b2\"}, {\"marker\": {\"color\": \"rgba(0, 128, 0, 0.6)\", \"line\": {\"color\": \"rgba(0, 128, 0, 1.0)\", \"width\": 1}}, \"name\": \"Rice\", \"orientation\": \"v\", \"text\": \"\", \"x\": [2015, 2016, 2017, 2018, 2019, 2020, 2021, 2022, 2023, 2024, 2025, 2026, 2027, 2028, 2029, 2030, 2031, 2032, 2033, 2034, 2035, 2036, 2037, 2038, 2039, 2040], \"y\": [7675.6258800000005, 7763.27239, 7787.901280000001, 7810.317740000001, 7832.327769999999, 7853.011990000001, 7839.845584799999, 7855.011259, 7869.826398000002, 7889.356352000001, 7877.812149999999, 7840.67602, 7795.8831, 7756.0123, 7715.4631100000015, 7650.058880000001, 7619.697739999999, 7535.335209999998, 7458.6426599999995, 7385.58452, 7313.3818, 7268.344541000001, 7227.181430999999, 7184.137739999999, 7127.939289999999, 7077.193630000001], \"type\": \"bar\", \"uid\": \"eace8fc2-75da-46cd-b41c-98596a24e925\"}, {\"marker\": {\"color\": \"rgba(178, 34, 34, 0.6)\", \"line\": {\"color\": \"rgba(178, 34, 34, 1.0)\", \"width\": 1}}, \"name\": \"Soybean\", \"orientation\": \"v\", \"text\": \"\", \"x\": [2015, 2016, 2017, 2018, 2019, 2020, 2021, 2022, 2023, 2024, 2025, 2026, 2027, 2028, 2029, 2030, 2031, 2032, 2033, 2034, 2035, 2036, 2037, 2038, 2039, 2040], \"y\": [111.509431, 111.72440099999997, 111.906737, 112.09505999999999, 112.32200600000002, 112.519311, 112.20868599999999, 111.8652485, 111.55462349999999, 111.21431100000001, 110.98274850000001, 110.67399799999997, 110.33556100000001, 109.99868599999999, 114.108209, 110.200333, 108.362309, 107.58626100000001, 106.744644, 106.49704, 105.94064655000001, 104.709461, 103.75259950000002, 102.7433135, 102.35189000000003, 100.77551849999999], \"type\": \"bar\", \"uid\": \"bc89d8d7-1ada-4dfc-b932-bed29373b99e\"}, {\"marker\": {\"color\": \"rgba(128, 0, 128, 0.6)\", \"line\": {\"color\": \"rgba(128, 0, 128, 1.0)\", \"width\": 1}}, \"name\": \"Sugarcane\", \"orientation\": \"v\", \"text\": \"\", \"x\": [2015, 2016, 2017, 2018, 2019, 2020, 2021, 2022, 2023, 2024, 2025, 2026, 2027, 2028, 2029, 2030, 2031, 2032, 2033, 2034, 2035, 2036, 2037, 2038, 2039, 2040], \"y\": [1799.8633485000003, 1821.6231200000002, 1839.8866200000002, 1857.9834500000002, 1876.5748800000001, 1895.7784599600002, 1908.02997, 1914.7159100000001, 1921.3749100000002, 1928.0133399999997, 1936.59425, 1949.4994700000002, 1956.1523, 1958.0644000000002, 1962.3462300000003, 1958.2379700000001, 1958.7914799999999, 1956.6840500000003, 1951.18095, 1947.76466, 1942.92802, 1938.2979799999996, 1932.7476899999997, 1927.4698700000004, 1925.48054, 1923.9598099999998], \"type\": \"bar\", \"uid\": \"b1feddc5-71f0-4fe2-bcd9-666090bf7ef7\"}, {\"marker\": {\"color\": \"rgba(255, 0, 136, 0.6)\", \"line\": {\"color\": \"rgba(255, 0, 136, 1.0)\", \"width\": 1}}, \"name\": \"Tea\", \"orientation\": \"v\", \"text\": \"\", \"x\": [2015, 2016, 2017, 2018, 2019, 2020, 2021, 2022, 2023, 2024, 2025, 2026, 2027, 2028, 2029, 2030, 2031, 2032, 2033, 2034, 2035, 2036, 2037, 2038, 2039, 2040], \"y\": [3797.7473, 3843.3898, 3880.8464, 3912.4372000000003, 3941.2071, 3970.3881, 3979.3498000000004, 3988.5980999999997, 3997.9123, 4007.1788999999994, 4012.3496, 4017.2362000000003, 4029.2793000000006, 4055.3006, 4066.5504, 3829.139500000001, 3836.3185999999996, 3841.9782, 3844.2276, 3841.625000000001, 3839.0006, 3837.253399999999, 3831.897200000001, 3826.3307999999993, 3819.9646999999995, 3812.7598], \"type\": \"bar\", \"uid\": \"ff6da423-8fad-4d71-8a89-6a9890a454a7\"}], {\"barmode\": \"stack\", \"legend\": {\"bgcolor\": \"#FFFFFF\", \"font\": {\"color\": \"#4D5663\"}, \"traceorder\": \"normal\"}, \"paper_bgcolor\": \"#FFFFFF\", \"plot_bgcolor\": \"#FFFFFF\", \"title\": {\"text\": \"Planted area by crop\", \"font\": {\"color\": \"#4D5663\"}}, \"xaxis\": {\"gridcolor\": \"#E1E5ED\", \"showgrid\": true, \"tickfont\": {\"color\": \"#4D5663\"}, \"title\": {\"text\": \"Year\", \"font\": {\"color\": \"#4D5663\"}}, \"zerolinecolor\": \"#E1E5ED\"}, \"yaxis\": {\"gridcolor\": \"#E1E5ED\", \"showgrid\": true, \"tickfont\": {\"color\": \"#4D5663\"}, \"title\": {\"text\": \"Land area (kha)\", \"font\": {\"color\": \"#4D5663\"}}, \"zerolinecolor\": \"#E1E5ED\"}}, {\"showLink\": true, \"linkText\": \"Export to plot.ly\", \"plotlyServerURL\": \"https://plot.ly\"}); \n",
       "}\n",
       "});</script><script type=\"text/javascript\">window.addEventListener(\"resize\", function(){if (document.getElementById(\"bc1f84d5-cfd9-4b9d-b12b-f4021c4d6652\")) {window._Plotly.Plots.resize(document.getElementById(\"bc1f84d5-cfd9-4b9d-b12b-f4021c4d6652\"));};})</script>"
      ],
      "text/vnd.plotly.v1+html": [
       "<div id=\"bc1f84d5-cfd9-4b9d-b12b-f4021c4d6652\" style=\"height: 525px; width: 100%;\" class=\"plotly-graph-div\"></div><script type=\"text/javascript\">require([\"plotly\"], function(Plotly) { window.PLOTLYENV=window.PLOTLYENV || {};window.PLOTLYENV.BASE_URL=\"https://plot.ly\";\n",
       "if (document.getElementById(\"bc1f84d5-cfd9-4b9d-b12b-f4021c4d6652\")) {\n",
       "    Plotly.newPlot(\"bc1f84d5-cfd9-4b9d-b12b-f4021c4d6652\", [{\"marker\": {\"color\": \"rgba(165, 42, 42, 0.6)\", \"line\": {\"color\": \"rgba(165, 42, 42, 1.0)\", \"width\": 1}}, \"name\": \"Coffee\", \"orientation\": \"v\", \"text\": \"\", \"x\": [2015, 2016, 2017, 2018, 2019, 2020, 2021, 2022, 2023, 2024, 2025, 2026, 2027, 2028, 2029, 2030, 2031, 2032, 2033, 2034, 2035, 2036, 2037, 2038, 2039, 2040], \"y\": [667.8810600000002, 672.89667, 685.2024153, 698.6805030000002, 709.5790350000002, 717.548109, 720.5104249999999, 723.245315, 726.0222080000001, 728.8676600000001, 735.38736, 748.1474349999999, 793.5641969999997, 840.590245, 886.9170850000003, 885.4189550000001, 915.4011150000001, 980.6179910000001, 1059.523642, 1140.4341399999998, 1211.5756299999998, 1264.3053, 1315.9649299999999, 1367.33936, 1400.3207100000002, 1430.74458], \"type\": \"bar\", \"uid\": \"c1091188-fab4-433b-80a1-98f1d9b6fd3d\"}, {\"marker\": {\"color\": \"rgba(128, 128, 128, 0.6)\", \"line\": {\"color\": \"rgba(128, 128, 128, 1.0)\", \"width\": 1}}, \"name\": \"Cotton\", \"orientation\": \"v\", \"text\": \"\", \"x\": [2015, 2016, 2017, 2018, 2019, 2020, 2021, 2022, 2023, 2024, 2025, 2026, 2027, 2028, 2029, 2030, 2031, 2032, 2033, 2034, 2035, 2036, 2037, 2038, 2039, 2040], \"y\": [28.958000000000002, 28.53027088, 29.237000000000002, 29.451999999999998, 29.617, 32.439169, 34.922555, 36.161283000000005, 37.225841, 37.246154, 37.335897, 37.389672, 37.24871799999999, 37.342307999999996, 37.452564, 30.318420999999997, 32.433046000000004, 35.398238, 35.183237999999996, 40.0794118, 58.440233, 70.457105, 76.213423, 82.288588, 86.1423, 87.902556], \"type\": \"bar\", \"uid\": \"86b398cf-3b34-4106-989f-03b6d7914ee9\"}, {\"marker\": {\"color\": \"rgba(255, 153, 51, 0.6)\", \"line\": {\"color\": \"rgba(255, 153, 51, 1.0)\", \"width\": 1}}, \"name\": \"Peanuts\", \"orientation\": \"v\", \"text\": \"\", \"x\": [2015, 2016, 2017, 2018, 2019, 2020, 2021, 2022, 2023, 2024, 2025, 2026, 2027, 2028, 2029, 2030, 2031, 2032, 2033, 2034, 2035, 2036, 2037, 2038, 2039, 2040], \"y\": [249.36387, 247.99820000000003, 246.39296, 255.54797000000002, 255.34192, 257.93973, 256.89782, 255.71525000000003, 254.67016, 253.95376, 253.38975, 252.45685999999998, 251.56595, 250.95591, 257.81043, 254.14817, 251.11513000000002, 247.91611999999998, 245.87458, 243.69179999999997, 240.90621, 241.17749, 239.13467000000006, 236.99177, 235.53451999999996, 233.1785], \"type\": \"bar\", \"uid\": \"2adb8392-806e-4572-94e4-0ef8185492a0\"}, {\"marker\": {\"color\": \"rgba(255, 215, 0, 0.6)\", \"line\": {\"color\": \"rgba(255, 215, 0, 1.0)\", \"width\": 1}}, \"name\": \"Maize\", \"orientation\": \"v\", \"text\": \"\", \"x\": [2015, 2016, 2017, 2018, 2019, 2020, 2021, 2022, 2023, 2024, 2025, 2026, 2027, 2028, 2029, 2030, 2031, 2032, 2033, 2034, 2035, 2036, 2037, 2038, 2039, 2040], \"y\": [710.3571199999999, 736.803692, 765.99377, 767.8178700000001, 769.9530200000002, 770.2405, 781.9095, 777.4163699999999, 772.86207, 768.40905, 764.53748, 772.0404900000002, 766.8019900000002, 761.3969199999999, 755.89891, 735.2296230000001, 734.1104599999999, 732.27182, 724.25847, 716.0535300000003, 708.881, 700.7970499999999, 692.53774, 684.4305499999999, 675.90019, 668.08729], \"type\": \"bar\", \"uid\": \"2b541313-2937-4713-a24e-5ed2de9f13b2\"}, {\"marker\": {\"color\": \"rgba(0, 128, 0, 0.6)\", \"line\": {\"color\": \"rgba(0, 128, 0, 1.0)\", \"width\": 1}}, \"name\": \"Rice\", \"orientation\": \"v\", \"text\": \"\", \"x\": [2015, 2016, 2017, 2018, 2019, 2020, 2021, 2022, 2023, 2024, 2025, 2026, 2027, 2028, 2029, 2030, 2031, 2032, 2033, 2034, 2035, 2036, 2037, 2038, 2039, 2040], \"y\": [7675.6258800000005, 7763.27239, 7787.901280000001, 7810.317740000001, 7832.327769999999, 7853.011990000001, 7839.845584799999, 7855.011259, 7869.826398000002, 7889.356352000001, 7877.812149999999, 7840.67602, 7795.8831, 7756.0123, 7715.4631100000015, 7650.058880000001, 7619.697739999999, 7535.335209999998, 7458.6426599999995, 7385.58452, 7313.3818, 7268.344541000001, 7227.181430999999, 7184.137739999999, 7127.939289999999, 7077.193630000001], \"type\": \"bar\", \"uid\": \"eace8fc2-75da-46cd-b41c-98596a24e925\"}, {\"marker\": {\"color\": \"rgba(178, 34, 34, 0.6)\", \"line\": {\"color\": \"rgba(178, 34, 34, 1.0)\", \"width\": 1}}, \"name\": \"Soybean\", \"orientation\": \"v\", \"text\": \"\", \"x\": [2015, 2016, 2017, 2018, 2019, 2020, 2021, 2022, 2023, 2024, 2025, 2026, 2027, 2028, 2029, 2030, 2031, 2032, 2033, 2034, 2035, 2036, 2037, 2038, 2039, 2040], \"y\": [111.509431, 111.72440099999997, 111.906737, 112.09505999999999, 112.32200600000002, 112.519311, 112.20868599999999, 111.8652485, 111.55462349999999, 111.21431100000001, 110.98274850000001, 110.67399799999997, 110.33556100000001, 109.99868599999999, 114.108209, 110.200333, 108.362309, 107.58626100000001, 106.744644, 106.49704, 105.94064655000001, 104.709461, 103.75259950000002, 102.7433135, 102.35189000000003, 100.77551849999999], \"type\": \"bar\", \"uid\": \"bc89d8d7-1ada-4dfc-b932-bed29373b99e\"}, {\"marker\": {\"color\": \"rgba(128, 0, 128, 0.6)\", \"line\": {\"color\": \"rgba(128, 0, 128, 1.0)\", \"width\": 1}}, \"name\": \"Sugarcane\", \"orientation\": \"v\", \"text\": \"\", \"x\": [2015, 2016, 2017, 2018, 2019, 2020, 2021, 2022, 2023, 2024, 2025, 2026, 2027, 2028, 2029, 2030, 2031, 2032, 2033, 2034, 2035, 2036, 2037, 2038, 2039, 2040], \"y\": [1799.8633485000003, 1821.6231200000002, 1839.8866200000002, 1857.9834500000002, 1876.5748800000001, 1895.7784599600002, 1908.02997, 1914.7159100000001, 1921.3749100000002, 1928.0133399999997, 1936.59425, 1949.4994700000002, 1956.1523, 1958.0644000000002, 1962.3462300000003, 1958.2379700000001, 1958.7914799999999, 1956.6840500000003, 1951.18095, 1947.76466, 1942.92802, 1938.2979799999996, 1932.7476899999997, 1927.4698700000004, 1925.48054, 1923.9598099999998], \"type\": \"bar\", \"uid\": \"b1feddc5-71f0-4fe2-bcd9-666090bf7ef7\"}, {\"marker\": {\"color\": \"rgba(255, 0, 136, 0.6)\", \"line\": {\"color\": \"rgba(255, 0, 136, 1.0)\", \"width\": 1}}, \"name\": \"Tea\", \"orientation\": \"v\", \"text\": \"\", \"x\": [2015, 2016, 2017, 2018, 2019, 2020, 2021, 2022, 2023, 2024, 2025, 2026, 2027, 2028, 2029, 2030, 2031, 2032, 2033, 2034, 2035, 2036, 2037, 2038, 2039, 2040], \"y\": [3797.7473, 3843.3898, 3880.8464, 3912.4372000000003, 3941.2071, 3970.3881, 3979.3498000000004, 3988.5980999999997, 3997.9123, 4007.1788999999994, 4012.3496, 4017.2362000000003, 4029.2793000000006, 4055.3006, 4066.5504, 3829.139500000001, 3836.3185999999996, 3841.9782, 3844.2276, 3841.625000000001, 3839.0006, 3837.253399999999, 3831.897200000001, 3826.3307999999993, 3819.9646999999995, 3812.7598], \"type\": \"bar\", \"uid\": \"ff6da423-8fad-4d71-8a89-6a9890a454a7\"}], {\"barmode\": \"stack\", \"legend\": {\"bgcolor\": \"#FFFFFF\", \"font\": {\"color\": \"#4D5663\"}, \"traceorder\": \"normal\"}, \"paper_bgcolor\": \"#FFFFFF\", \"plot_bgcolor\": \"#FFFFFF\", \"title\": {\"text\": \"Planted area by crop\", \"font\": {\"color\": \"#4D5663\"}}, \"xaxis\": {\"gridcolor\": \"#E1E5ED\", \"showgrid\": true, \"tickfont\": {\"color\": \"#4D5663\"}, \"title\": {\"text\": \"Year\", \"font\": {\"color\": \"#4D5663\"}}, \"zerolinecolor\": \"#E1E5ED\"}, \"yaxis\": {\"gridcolor\": \"#E1E5ED\", \"showgrid\": true, \"tickfont\": {\"color\": \"#4D5663\"}, \"title\": {\"text\": \"Land area (kha)\", \"font\": {\"color\": \"#4D5663\"}}, \"zerolinecolor\": \"#E1E5ED\"}}, {\"showLink\": true, \"linkText\": \"Export to plot.ly\", \"plotlyServerURL\": \"https://plot.ly\"}); \n",
       "}\n",
       "});</script><script type=\"text/javascript\">window.addEventListener(\"resize\", function(){if (document.getElementById(\"bc1f84d5-cfd9-4b9d-b12b-f4021c4d6652\")) {window._Plotly.Plots.resize(document.getElementById(\"bc1f84d5-cfd9-4b9d-b12b-f4021c4d6652\"));};})</script>"
      ]
     },
     "metadata": {},
     "output_type": "display_data"
    }
   ],
   "source": [
    "crops_total_df = all_params['TotalTechnologyAnnualActivity'][all_params['TotalTechnologyAnnualActivity'].t.str.startswith('LNDCP')].drop('r', axis=1)\n",
    "crops_total_df = df_filter(crops_total_df,3,6,[])\n",
    "df_plot(crops_total_df,'Land area (kha)','Planted area by crop')"
   ]
  },
  {
   "cell_type": "code",
   "execution_count": 250,
   "metadata": {},
   "outputs": [
    {
     "data": {
      "application/vnd.plotly.v1+json": {
       "config": {
        "linkText": "Export to plot.ly",
        "plotlyServerURL": "https://plot.ly",
        "showLink": true
       },
       "data": [
        {
         "marker": {
          "color": "rgba(128, 128, 128, 0.6)",
          "line": {
           "color": "rgba(128, 128, 128, 1.0)",
           "width": 1
          }
         },
         "name": "Barren land",
         "orientation": "v",
         "text": "",
         "type": "bar",
         "uid": "16bfe464-66e9-49fa-9f1e-1f1d3204a3dc",
         "x": [
          2015,
          2016,
          2017,
          2018,
          2019,
          2020,
          2021,
          2022,
          2023,
          2024,
          2025,
          2026,
          2027,
          2028,
          2029,
          2030,
          2031,
          2032,
          2033,
          2034,
          2035,
          2036,
          2037,
          2038,
          2039,
          2040
         ],
         "y": [
          9.72,
          9.72,
          9.72,
          9.72,
          9.72,
          9.72,
          9.72,
          9.72,
          9.72,
          9.72,
          9.72,
          9.72,
          9.72,
          9.72,
          9.72,
          9.72,
          9.72,
          9.72,
          9.72,
          9.72,
          9.72,
          9.72,
          9.72,
          9.72,
          9.72,
          9.72
         ]
        },
        {
         "marker": {
          "color": "rgba(34, 139, 34, 0.6)",
          "line": {
           "color": "rgba(34, 139, 34, 1.0)",
           "width": 1
          }
         },
         "name": "Forests",
         "orientation": "v",
         "text": "",
         "type": "bar",
         "uid": "f722a726-d722-483d-8fe2-265d72b39872",
         "x": [
          2015,
          2016,
          2017,
          2018,
          2019,
          2020,
          2021,
          2022,
          2023,
          2024,
          2025,
          2026,
          2027,
          2028,
          2029,
          2030,
          2031,
          2032,
          2033,
          2034,
          2035,
          2036,
          2037,
          2038,
          2039,
          2040
         ],
         "y": [
          11725.489999999998,
          11490.9802,
          11261.1606,
          11035.9373,
          10815.2187,
          10598.9143,
          10386.936,
          10179.1973,
          9975.6133,
          9776.1011,
          9580.579,
          9388.967400000001,
          9201.188199999999,
          9017.1643,
          8836.8211,
          8660.0847,
          8632.202,
          8604.8769,
          8567.0105,
          8520.3835,
          8469.537,
          8428.619200000001,
          8397.3369,
          8369.3436,
          8406.9949,
          8405.059
         ]
        },
        {
         "marker": {
          "color": "rgba(0, 100, 0, 0.6)",
          "line": {
           "color": "rgba(0, 100, 0, 1.0)",
           "width": 1
          }
         },
         "name": "Grassland & woodland",
         "orientation": "v",
         "text": "",
         "type": "bar",
         "uid": "aab0f1bb-6244-4c46-b144-1df773bf5c4b",
         "x": [
          2015,
          2016,
          2017,
          2018,
          2019,
          2020,
          2021,
          2022,
          2023,
          2024,
          2025,
          2026,
          2027,
          2028,
          2029,
          2030,
          2031,
          2032,
          2033,
          2034,
          2035,
          2036,
          2037,
          2038,
          2039,
          2040
         ],
         "y": [
          1927.4541,
          1977.0313999999998,
          2085.72231,
          2213.98093,
          2352.10861,
          2485.47035,
          2673.63969,
          2852.32404,
          3027.18819,
          3193.90944,
          3385.2818,
          3577.1625999999997,
          3752.2307,
          3907.4243,
          4017.9247000000005,
          4581.413500000001,
          4605.8183,
          4651.5853,
          4701.6039,
          4752.1365,
          4803.6589,
          4840.2885,
          4877.4834,
          4913.1746,
          4913.621,
          4954.5894
         ]
        },
        {
         "marker": {
          "color": "rgba(255, 215, 0, 0.6)",
          "line": {
           "color": "rgba(255, 215, 0, 1.0)",
           "width": 1
          }
         },
         "name": "Other agricultural land",
         "orientation": "v",
         "text": "",
         "type": "bar",
         "uid": "0e72acc4-71f9-4e1d-9d12-eceffd802dce",
         "x": [
          2015,
          2016,
          2017,
          2018,
          2019,
          2020,
          2021,
          2022,
          2023,
          2024,
          2025,
          2026,
          2027,
          2028,
          2029,
          2030,
          2031,
          2032,
          2033,
          2034,
          2035,
          2036,
          2037,
          2038,
          2039,
          2040
         ],
         "y": [
          2542.6,
          2542.6,
          2542.6,
          2542.6,
          2542.6,
          2542.6,
          2542.6,
          2542.6,
          2542.6,
          2542.6,
          2542.6,
          2542.6,
          2542.6,
          2542.6,
          2542.6,
          2542.6,
          2542.6,
          2542.6,
          2542.6,
          2542.6,
          2542.6,
          2542.6,
          2542.6,
          2542.6,
          2542.6,
          2542.6
         ]
        },
        {
         "marker": {
          "color": "rgba(0, 0, 0, 0.6)",
          "line": {
           "color": "rgba(0, 0, 0, 1.0)",
           "width": 1
          }
         },
         "name": "Built-up land",
         "orientation": "v",
         "text": "",
         "type": "bar",
         "uid": "eb0264fd-9042-48bc-8f37-e0553c1645de",
         "x": [
          2015,
          2016,
          2017,
          2018,
          2019,
          2020,
          2021,
          2022,
          2023,
          2024,
          2025,
          2026,
          2027,
          2028,
          2029,
          2030,
          2031,
          2032,
          2033,
          2034,
          2035,
          2036,
          2037,
          2038,
          2039,
          2040
         ],
         "y": [
          1626.31,
          1626.31,
          1626.31,
          1626.31,
          1626.31,
          1626.31,
          1626.31,
          1626.31,
          1626.31,
          1626.31,
          1626.31,
          1626.31,
          1626.31,
          1626.31,
          1626.31,
          1626.31,
          1626.31,
          1626.31,
          1626.31,
          1626.31,
          1626.31,
          1626.31,
          1626.31,
          1626.31,
          1626.31,
          1626.31
         ]
        },
        {
         "marker": {
          "color": "rgba(55, 128, 191, 0.6)",
          "line": {
           "color": "rgba(55, 128, 191, 1.0)",
           "width": 1
          }
         },
         "name": "Water",
         "orientation": "v",
         "text": "",
         "type": "bar",
         "uid": "4c02be07-ca65-4069-9247-c3adba53a94e",
         "x": [
          2015,
          2016,
          2017,
          2018,
          2019,
          2020,
          2021,
          2022,
          2023,
          2024,
          2025,
          2026,
          2027,
          2028,
          2029,
          2030,
          2031,
          2032,
          2033,
          2034,
          2035,
          2036,
          2037,
          2038,
          2039,
          2040
         ],
         "y": [
          320.12,
          320.12,
          320.12,
          320.12,
          320.12,
          320.12,
          320.12,
          320.12,
          320.12,
          320.12,
          320.12,
          320.12,
          320.12,
          320.12,
          320.12,
          320.12,
          320.12,
          320.12,
          320.12,
          320.12,
          320.12,
          320.12,
          320.12,
          320.12,
          320.12,
          320.12
         ]
        },
        {
         "marker": {
          "color": "rgba(165, 42, 42, 0.6)",
          "line": {
           "color": "rgba(165, 42, 42, 1.0)",
           "width": 1
          }
         },
         "name": "Agriculture",
         "orientation": "v",
         "text": "",
         "type": "bar",
         "uid": "81f042bd-aa55-4ee4-9648-bd432736cec3",
         "x": [
          2015,
          2016,
          2017,
          2018,
          2019,
          2020,
          2021,
          2022,
          2023,
          2024,
          2025,
          2026,
          2027,
          2028,
          2029,
          2030,
          2031,
          2032,
          2033,
          2034,
          2035,
          2036,
          2037,
          2038,
          2039,
          2040
         ],
         "y": [
          15041.3060095,
          15226.238543880001,
          15347.367182300002,
          15444.331793000001,
          15526.922730999999,
          15609.865368960001,
          15633.674340799998,
          15662.7287355,
          15691.448510500002,
          15724.239527,
          15728.389235499999,
          15728.120145,
          15740.831116,
          15769.661369000003,
          15796.546938000003,
          15452.751852000003,
          15456.229879999999,
          15437.787889999998,
          15425.635784,
          15421.730101800003,
          15421.054139549999,
          15425.342327,
          15419.4296835,
          15411.731991499999,
          15373.634139999998,
          15334.601684500001
         ]
        }
       ],
       "layout": {
        "barmode": "stack",
        "legend": {
         "bgcolor": "#FFFFFF",
         "font": {
          "color": "#4D5663"
         },
         "traceorder": "normal"
        },
        "paper_bgcolor": "#FFFFFF",
        "plot_bgcolor": "#FFFFFF",
        "title": {
         "font": {
          "color": "#4D5663"
         },
         "text": "Area by land cover type"
        },
        "xaxis": {
         "gridcolor": "#E1E5ED",
         "showgrid": true,
         "tickfont": {
          "color": "#4D5663"
         },
         "title": {
          "font": {
           "color": "#4D5663"
          },
          "text": "Year"
         },
         "zerolinecolor": "#E1E5ED"
        },
        "yaxis": {
         "gridcolor": "#E1E5ED",
         "showgrid": true,
         "tickfont": {
          "color": "#4D5663"
         },
         "title": {
          "font": {
           "color": "#4D5663"
          },
          "text": "Land area (kha)"
         },
         "zerolinecolor": "#E1E5ED"
        }
       }
      },
      "text/html": [
       "<div id=\"07ceec0b-8ef8-41a2-ba13-a289636a00fa\" style=\"height: 525px; width: 100%;\" class=\"plotly-graph-div\"></div><script type=\"text/javascript\">require([\"plotly\"], function(Plotly) { window.PLOTLYENV=window.PLOTLYENV || {};window.PLOTLYENV.BASE_URL=\"https://plot.ly\";\n",
       "if (document.getElementById(\"07ceec0b-8ef8-41a2-ba13-a289636a00fa\")) {\n",
       "    Plotly.newPlot(\"07ceec0b-8ef8-41a2-ba13-a289636a00fa\", [{\"marker\": {\"color\": \"rgba(128, 128, 128, 0.6)\", \"line\": {\"color\": \"rgba(128, 128, 128, 1.0)\", \"width\": 1}}, \"name\": \"Barren land\", \"orientation\": \"v\", \"text\": \"\", \"x\": [2015, 2016, 2017, 2018, 2019, 2020, 2021, 2022, 2023, 2024, 2025, 2026, 2027, 2028, 2029, 2030, 2031, 2032, 2033, 2034, 2035, 2036, 2037, 2038, 2039, 2040], \"y\": [9.72, 9.72, 9.72, 9.72, 9.72, 9.72, 9.72, 9.72, 9.72, 9.72, 9.72, 9.72, 9.72, 9.72, 9.72, 9.72, 9.72, 9.72, 9.72, 9.72, 9.72, 9.72, 9.72, 9.72, 9.72, 9.72], \"type\": \"bar\", \"uid\": \"82ac9e2e-fba0-4c7a-b9a1-5a2b915589b4\"}, {\"marker\": {\"color\": \"rgba(34, 139, 34, 0.6)\", \"line\": {\"color\": \"rgba(34, 139, 34, 1.0)\", \"width\": 1}}, \"name\": \"Forests\", \"orientation\": \"v\", \"text\": \"\", \"x\": [2015, 2016, 2017, 2018, 2019, 2020, 2021, 2022, 2023, 2024, 2025, 2026, 2027, 2028, 2029, 2030, 2031, 2032, 2033, 2034, 2035, 2036, 2037, 2038, 2039, 2040], \"y\": [11725.489999999998, 11490.9802, 11261.1606, 11035.9373, 10815.2187, 10598.9143, 10386.936, 10179.1973, 9975.6133, 9776.1011, 9580.579, 9388.967400000001, 9201.188199999999, 9017.1643, 8836.8211, 8660.0847, 8632.202, 8604.8769, 8567.0105, 8520.3835, 8469.537, 8428.619200000001, 8397.3369, 8369.3436, 8406.9949, 8405.059], \"type\": \"bar\", \"uid\": \"3b4bd310-dac4-4a8c-b633-0e426e1898d7\"}, {\"marker\": {\"color\": \"rgba(0, 100, 0, 0.6)\", \"line\": {\"color\": \"rgba(0, 100, 0, 1.0)\", \"width\": 1}}, \"name\": \"Grassland & woodland\", \"orientation\": \"v\", \"text\": \"\", \"x\": [2015, 2016, 2017, 2018, 2019, 2020, 2021, 2022, 2023, 2024, 2025, 2026, 2027, 2028, 2029, 2030, 2031, 2032, 2033, 2034, 2035, 2036, 2037, 2038, 2039, 2040], \"y\": [1927.4541, 1977.0313999999998, 2085.72231, 2213.98093, 2352.10861, 2485.47035, 2673.63969, 2852.32404, 3027.18819, 3193.90944, 3385.2818, 3577.1625999999997, 3752.2307, 3907.4243, 4017.9247000000005, 4581.413500000001, 4605.8183, 4651.5853, 4701.6039, 4752.1365, 4803.6589, 4840.2885, 4877.4834, 4913.1746, 4913.621, 4954.5894], \"type\": \"bar\", \"uid\": \"bc099df2-6ac4-4dfc-a873-c700745d52a1\"}, {\"marker\": {\"color\": \"rgba(255, 215, 0, 0.6)\", \"line\": {\"color\": \"rgba(255, 215, 0, 1.0)\", \"width\": 1}}, \"name\": \"Other agricultural land\", \"orientation\": \"v\", \"text\": \"\", \"x\": [2015, 2016, 2017, 2018, 2019, 2020, 2021, 2022, 2023, 2024, 2025, 2026, 2027, 2028, 2029, 2030, 2031, 2032, 2033, 2034, 2035, 2036, 2037, 2038, 2039, 2040], \"y\": [2542.6, 2542.6, 2542.6, 2542.6, 2542.6, 2542.6, 2542.6, 2542.6, 2542.6, 2542.6, 2542.6, 2542.6, 2542.6, 2542.6, 2542.6, 2542.6, 2542.6, 2542.6, 2542.6, 2542.6, 2542.6, 2542.6, 2542.6, 2542.6, 2542.6, 2542.6], \"type\": \"bar\", \"uid\": \"fecfcd6b-a3de-404a-b15c-dba2762dbc07\"}, {\"marker\": {\"color\": \"rgba(0, 0, 0, 0.6)\", \"line\": {\"color\": \"rgba(0, 0, 0, 1.0)\", \"width\": 1}}, \"name\": \"Built-up land\", \"orientation\": \"v\", \"text\": \"\", \"x\": [2015, 2016, 2017, 2018, 2019, 2020, 2021, 2022, 2023, 2024, 2025, 2026, 2027, 2028, 2029, 2030, 2031, 2032, 2033, 2034, 2035, 2036, 2037, 2038, 2039, 2040], \"y\": [1626.31, 1626.31, 1626.31, 1626.31, 1626.31, 1626.31, 1626.31, 1626.31, 1626.31, 1626.31, 1626.31, 1626.31, 1626.31, 1626.31, 1626.31, 1626.31, 1626.31, 1626.31, 1626.31, 1626.31, 1626.31, 1626.31, 1626.31, 1626.31, 1626.31, 1626.31], \"type\": \"bar\", \"uid\": \"b52e4520-08ea-4a88-a86a-8f997510d5a4\"}, {\"marker\": {\"color\": \"rgba(55, 128, 191, 0.6)\", \"line\": {\"color\": \"rgba(55, 128, 191, 1.0)\", \"width\": 1}}, \"name\": \"Water\", \"orientation\": \"v\", \"text\": \"\", \"x\": [2015, 2016, 2017, 2018, 2019, 2020, 2021, 2022, 2023, 2024, 2025, 2026, 2027, 2028, 2029, 2030, 2031, 2032, 2033, 2034, 2035, 2036, 2037, 2038, 2039, 2040], \"y\": [320.12, 320.12, 320.12, 320.12, 320.12, 320.12, 320.12, 320.12, 320.12, 320.12, 320.12, 320.12, 320.12, 320.12, 320.12, 320.12, 320.12, 320.12, 320.12, 320.12, 320.12, 320.12, 320.12, 320.12, 320.12, 320.12], \"type\": \"bar\", \"uid\": \"a558306b-eda7-427b-9ebf-04ca64388508\"}, {\"marker\": {\"color\": \"rgba(165, 42, 42, 0.6)\", \"line\": {\"color\": \"rgba(165, 42, 42, 1.0)\", \"width\": 1}}, \"name\": \"Agriculture\", \"orientation\": \"v\", \"text\": \"\", \"x\": [2015, 2016, 2017, 2018, 2019, 2020, 2021, 2022, 2023, 2024, 2025, 2026, 2027, 2028, 2029, 2030, 2031, 2032, 2033, 2034, 2035, 2036, 2037, 2038, 2039, 2040], \"y\": [15041.3060095, 15226.238543880001, 15347.367182300002, 15444.331793000001, 15526.922730999999, 15609.865368960001, 15633.674340799998, 15662.7287355, 15691.448510500002, 15724.239527, 15728.389235499999, 15728.120145, 15740.831116, 15769.661369000003, 15796.546938000003, 15452.751852000003, 15456.229879999999, 15437.787889999998, 15425.635784, 15421.730101800003, 15421.054139549999, 15425.342327, 15419.4296835, 15411.731991499999, 15373.634139999998, 15334.601684500001], \"type\": \"bar\", \"uid\": \"20329103-438e-472f-8149-242e92af9059\"}], {\"barmode\": \"stack\", \"legend\": {\"bgcolor\": \"#FFFFFF\", \"font\": {\"color\": \"#4D5663\"}, \"traceorder\": \"normal\"}, \"paper_bgcolor\": \"#FFFFFF\", \"plot_bgcolor\": \"#FFFFFF\", \"title\": {\"text\": \"Area by land cover type\", \"font\": {\"color\": \"#4D5663\"}}, \"xaxis\": {\"gridcolor\": \"#E1E5ED\", \"showgrid\": true, \"tickfont\": {\"color\": \"#4D5663\"}, \"title\": {\"text\": \"Year\", \"font\": {\"color\": \"#4D5663\"}}, \"zerolinecolor\": \"#E1E5ED\"}, \"yaxis\": {\"gridcolor\": \"#E1E5ED\", \"showgrid\": true, \"tickfont\": {\"color\": \"#4D5663\"}, \"title\": {\"text\": \"Land area (kha)\", \"font\": {\"color\": \"#4D5663\"}}, \"zerolinecolor\": \"#E1E5ED\"}}, {\"showLink\": true, \"linkText\": \"Export to plot.ly\", \"plotlyServerURL\": \"https://plot.ly\"}); \n",
       "}\n",
       "});</script><script type=\"text/javascript\">window.addEventListener(\"resize\", function(){if (document.getElementById(\"07ceec0b-8ef8-41a2-ba13-a289636a00fa\")) {window._Plotly.Plots.resize(document.getElementById(\"07ceec0b-8ef8-41a2-ba13-a289636a00fa\"));};})</script>"
      ],
      "text/vnd.plotly.v1+html": [
       "<div id=\"07ceec0b-8ef8-41a2-ba13-a289636a00fa\" style=\"height: 525px; width: 100%;\" class=\"plotly-graph-div\"></div><script type=\"text/javascript\">require([\"plotly\"], function(Plotly) { window.PLOTLYENV=window.PLOTLYENV || {};window.PLOTLYENV.BASE_URL=\"https://plot.ly\";\n",
       "if (document.getElementById(\"07ceec0b-8ef8-41a2-ba13-a289636a00fa\")) {\n",
       "    Plotly.newPlot(\"07ceec0b-8ef8-41a2-ba13-a289636a00fa\", [{\"marker\": {\"color\": \"rgba(128, 128, 128, 0.6)\", \"line\": {\"color\": \"rgba(128, 128, 128, 1.0)\", \"width\": 1}}, \"name\": \"Barren land\", \"orientation\": \"v\", \"text\": \"\", \"x\": [2015, 2016, 2017, 2018, 2019, 2020, 2021, 2022, 2023, 2024, 2025, 2026, 2027, 2028, 2029, 2030, 2031, 2032, 2033, 2034, 2035, 2036, 2037, 2038, 2039, 2040], \"y\": [9.72, 9.72, 9.72, 9.72, 9.72, 9.72, 9.72, 9.72, 9.72, 9.72, 9.72, 9.72, 9.72, 9.72, 9.72, 9.72, 9.72, 9.72, 9.72, 9.72, 9.72, 9.72, 9.72, 9.72, 9.72, 9.72], \"type\": \"bar\", \"uid\": \"82ac9e2e-fba0-4c7a-b9a1-5a2b915589b4\"}, {\"marker\": {\"color\": \"rgba(34, 139, 34, 0.6)\", \"line\": {\"color\": \"rgba(34, 139, 34, 1.0)\", \"width\": 1}}, \"name\": \"Forests\", \"orientation\": \"v\", \"text\": \"\", \"x\": [2015, 2016, 2017, 2018, 2019, 2020, 2021, 2022, 2023, 2024, 2025, 2026, 2027, 2028, 2029, 2030, 2031, 2032, 2033, 2034, 2035, 2036, 2037, 2038, 2039, 2040], \"y\": [11725.489999999998, 11490.9802, 11261.1606, 11035.9373, 10815.2187, 10598.9143, 10386.936, 10179.1973, 9975.6133, 9776.1011, 9580.579, 9388.967400000001, 9201.188199999999, 9017.1643, 8836.8211, 8660.0847, 8632.202, 8604.8769, 8567.0105, 8520.3835, 8469.537, 8428.619200000001, 8397.3369, 8369.3436, 8406.9949, 8405.059], \"type\": \"bar\", \"uid\": \"3b4bd310-dac4-4a8c-b633-0e426e1898d7\"}, {\"marker\": {\"color\": \"rgba(0, 100, 0, 0.6)\", \"line\": {\"color\": \"rgba(0, 100, 0, 1.0)\", \"width\": 1}}, \"name\": \"Grassland & woodland\", \"orientation\": \"v\", \"text\": \"\", \"x\": [2015, 2016, 2017, 2018, 2019, 2020, 2021, 2022, 2023, 2024, 2025, 2026, 2027, 2028, 2029, 2030, 2031, 2032, 2033, 2034, 2035, 2036, 2037, 2038, 2039, 2040], \"y\": [1927.4541, 1977.0313999999998, 2085.72231, 2213.98093, 2352.10861, 2485.47035, 2673.63969, 2852.32404, 3027.18819, 3193.90944, 3385.2818, 3577.1625999999997, 3752.2307, 3907.4243, 4017.9247000000005, 4581.413500000001, 4605.8183, 4651.5853, 4701.6039, 4752.1365, 4803.6589, 4840.2885, 4877.4834, 4913.1746, 4913.621, 4954.5894], \"type\": \"bar\", \"uid\": \"bc099df2-6ac4-4dfc-a873-c700745d52a1\"}, {\"marker\": {\"color\": \"rgba(255, 215, 0, 0.6)\", \"line\": {\"color\": \"rgba(255, 215, 0, 1.0)\", \"width\": 1}}, \"name\": \"Other agricultural land\", \"orientation\": \"v\", \"text\": \"\", \"x\": [2015, 2016, 2017, 2018, 2019, 2020, 2021, 2022, 2023, 2024, 2025, 2026, 2027, 2028, 2029, 2030, 2031, 2032, 2033, 2034, 2035, 2036, 2037, 2038, 2039, 2040], \"y\": [2542.6, 2542.6, 2542.6, 2542.6, 2542.6, 2542.6, 2542.6, 2542.6, 2542.6, 2542.6, 2542.6, 2542.6, 2542.6, 2542.6, 2542.6, 2542.6, 2542.6, 2542.6, 2542.6, 2542.6, 2542.6, 2542.6, 2542.6, 2542.6, 2542.6, 2542.6], \"type\": \"bar\", \"uid\": \"fecfcd6b-a3de-404a-b15c-dba2762dbc07\"}, {\"marker\": {\"color\": \"rgba(0, 0, 0, 0.6)\", \"line\": {\"color\": \"rgba(0, 0, 0, 1.0)\", \"width\": 1}}, \"name\": \"Built-up land\", \"orientation\": \"v\", \"text\": \"\", \"x\": [2015, 2016, 2017, 2018, 2019, 2020, 2021, 2022, 2023, 2024, 2025, 2026, 2027, 2028, 2029, 2030, 2031, 2032, 2033, 2034, 2035, 2036, 2037, 2038, 2039, 2040], \"y\": [1626.31, 1626.31, 1626.31, 1626.31, 1626.31, 1626.31, 1626.31, 1626.31, 1626.31, 1626.31, 1626.31, 1626.31, 1626.31, 1626.31, 1626.31, 1626.31, 1626.31, 1626.31, 1626.31, 1626.31, 1626.31, 1626.31, 1626.31, 1626.31, 1626.31, 1626.31], \"type\": \"bar\", \"uid\": \"b52e4520-08ea-4a88-a86a-8f997510d5a4\"}, {\"marker\": {\"color\": \"rgba(55, 128, 191, 0.6)\", \"line\": {\"color\": \"rgba(55, 128, 191, 1.0)\", \"width\": 1}}, \"name\": \"Water\", \"orientation\": \"v\", \"text\": \"\", \"x\": [2015, 2016, 2017, 2018, 2019, 2020, 2021, 2022, 2023, 2024, 2025, 2026, 2027, 2028, 2029, 2030, 2031, 2032, 2033, 2034, 2035, 2036, 2037, 2038, 2039, 2040], \"y\": [320.12, 320.12, 320.12, 320.12, 320.12, 320.12, 320.12, 320.12, 320.12, 320.12, 320.12, 320.12, 320.12, 320.12, 320.12, 320.12, 320.12, 320.12, 320.12, 320.12, 320.12, 320.12, 320.12, 320.12, 320.12, 320.12], \"type\": \"bar\", \"uid\": \"a558306b-eda7-427b-9ebf-04ca64388508\"}, {\"marker\": {\"color\": \"rgba(165, 42, 42, 0.6)\", \"line\": {\"color\": \"rgba(165, 42, 42, 1.0)\", \"width\": 1}}, \"name\": \"Agriculture\", \"orientation\": \"v\", \"text\": \"\", \"x\": [2015, 2016, 2017, 2018, 2019, 2020, 2021, 2022, 2023, 2024, 2025, 2026, 2027, 2028, 2029, 2030, 2031, 2032, 2033, 2034, 2035, 2036, 2037, 2038, 2039, 2040], \"y\": [15041.3060095, 15226.238543880001, 15347.367182300002, 15444.331793000001, 15526.922730999999, 15609.865368960001, 15633.674340799998, 15662.7287355, 15691.448510500002, 15724.239527, 15728.389235499999, 15728.120145, 15740.831116, 15769.661369000003, 15796.546938000003, 15452.751852000003, 15456.229879999999, 15437.787889999998, 15425.635784, 15421.730101800003, 15421.054139549999, 15425.342327, 15419.4296835, 15411.731991499999, 15373.634139999998, 15334.601684500001], \"type\": \"bar\", \"uid\": \"20329103-438e-472f-8149-242e92af9059\"}], {\"barmode\": \"stack\", \"legend\": {\"bgcolor\": \"#FFFFFF\", \"font\": {\"color\": \"#4D5663\"}, \"traceorder\": \"normal\"}, \"paper_bgcolor\": \"#FFFFFF\", \"plot_bgcolor\": \"#FFFFFF\", \"title\": {\"text\": \"Area by land cover type\", \"font\": {\"color\": \"#4D5663\"}}, \"xaxis\": {\"gridcolor\": \"#E1E5ED\", \"showgrid\": true, \"tickfont\": {\"color\": \"#4D5663\"}, \"title\": {\"text\": \"Year\", \"font\": {\"color\": \"#4D5663\"}}, \"zerolinecolor\": \"#E1E5ED\"}, \"yaxis\": {\"gridcolor\": \"#E1E5ED\", \"showgrid\": true, \"tickfont\": {\"color\": \"#4D5663\"}, \"title\": {\"text\": \"Land area (kha)\", \"font\": {\"color\": \"#4D5663\"}}, \"zerolinecolor\": \"#E1E5ED\"}}, {\"showLink\": true, \"linkText\": \"Export to plot.ly\", \"plotlyServerURL\": \"https://plot.ly\"}); \n",
       "}\n",
       "});</script><script type=\"text/javascript\">window.addEventListener(\"resize\", function(){if (document.getElementById(\"07ceec0b-8ef8-41a2-ba13-a289636a00fa\")) {window._Plotly.Plots.resize(document.getElementById(\"07ceec0b-8ef8-41a2-ba13-a289636a00fa\"));};})</script>"
      ]
     },
     "metadata": {},
     "output_type": "display_data"
    }
   ],
   "source": [
    "land_total_df = all_params['TotalTechnologyAnnualActivity'][all_params['TotalTechnologyAnnualActivity'].t.str.startswith('LND')].drop('r', axis=1)\n",
    "land_total_df = df_filter(land_total_df,3,6,['AGR'])\n",
    "land_total_df['Agriculture'] = 0\n",
    "for each in ['Coffee','Cotton','Peanuts','Maize','Rice','Soybean','Sugarcane','Tea']:\n",
    "    if each in land_total_df:\n",
    "        land_total_df['Agriculture'] = land_total_df['Agriculture'] + land_total_df[each]\n",
    "        land_total_df = land_total_df.drop(each,axis=1)\n",
    "df_plot(land_total_df,'Land area (kha)','Area by land cover type')"
   ]
  },
  {
   "cell_type": "code",
   "execution_count": 251,
   "metadata": {},
   "outputs": [
    {
     "data": {
      "application/vnd.plotly.v1+json": {
       "config": {
        "linkText": "Export to plot.ly",
        "plotlyServerURL": "https://plot.ly",
        "showLink": true
       },
       "data": [
        {
         "marker": {
          "color": "rgba(165, 42, 42, 0.6)",
          "line": {
           "color": "rgba(165, 42, 42, 1.0)",
           "width": 1
          }
         },
         "name": "Coffee",
         "orientation": "v",
         "text": "",
         "type": "bar",
         "uid": "e121412b-d621-43c2-b9ea-69e12fc19ecd",
         "x": [
          2015,
          2016,
          2017,
          2018,
          2019,
          2020,
          2021,
          2022,
          2023,
          2024,
          2025,
          2026,
          2027,
          2028,
          2029,
          2030,
          2031,
          2032,
          2033,
          2034,
          2035,
          2036,
          2037,
          2038,
          2039,
          2040
         ],
         "y": [
          560.28106,
          569.64667,
          573.8327699999999,
          571.2827700000001,
          568.7327700000001,
          566.18277,
          563.6327699999999,
          561.0827699999999,
          558.5327700000001,
          555.9827700000001,
          553.43277,
          559.067065,
          556.5170649999999,
          553.967065,
          551.4170650000001,
          449.53436500000004,
          438.493075,
          476.78794100000005,
          505.29862199999997,
          544.19902,
          599.84564,
          646.4803499999999,
          685.84676,
          722.5285899999999,
          719.97859,
          717.42859
         ]
        },
        {
         "marker": {
          "color": "rgba(128, 128, 128, 0.6)",
          "line": {
           "color": "rgba(128, 128, 128, 1.0)",
           "width": 1
          }
         },
         "name": "Cotton",
         "orientation": "v",
         "text": "",
         "type": "bar",
         "uid": "8872c46f-a89e-4702-9641-92b32007d21a",
         "x": [
          2015,
          2016,
          2017,
          2018,
          2019,
          2020,
          2021,
          2022,
          2023,
          2024,
          2025,
          2026,
          2027,
          2028,
          2029,
          2030,
          2031,
          2032,
          2033,
          2034,
          2035,
          2036,
          2037,
          2038,
          2039,
          2040
         ],
         "y": [
          2.45,
          2.3,
          2.2,
          2.2,
          2.1,
          1.9500000000000002,
          1.85,
          1.75,
          1.65,
          1.5,
          1.5,
          1.4,
          1.3,
          1.15,
          1.05,
          0.9500000000000001,
          0.9,
          0.7999999999999999,
          1,
          0.85,
          0.65,
          0.5,
          0.5,
          0.35,
          0.15000000000000002,
          0
         ]
        },
        {
         "marker": {
          "color": "rgba(255, 153, 51, 0.6)",
          "line": {
           "color": "rgba(255, 153, 51, 1.0)",
           "width": 1
          }
         },
         "name": "Peanuts",
         "orientation": "v",
         "text": "",
         "type": "bar",
         "uid": "94c0d6da-c30e-4353-b67b-e84ec4ae2bf4",
         "x": [
          2015,
          2016,
          2017,
          2018,
          2019,
          2020,
          2021,
          2022,
          2023,
          2024,
          2025,
          2026,
          2027,
          2028,
          2029,
          2030,
          2031,
          2032,
          2033,
          2034,
          2035,
          2036,
          2037,
          2038,
          2039,
          2040
         ],
         "y": [
          37,
          35.5,
          34,
          32.5,
          31,
          29.6,
          28.099999999999998,
          26.6,
          25.1,
          23.599999999999998,
          22.2,
          20.7,
          19.200000000000003,
          17.8,
          23.950000000000003,
          14.8,
          13.3,
          11.799999999999999,
          10.299999999999999,
          8.8,
          7.4,
          6,
          4.5,
          3,
          1.5,
          0
         ]
        },
        {
         "marker": {
          "color": "rgba(255, 215, 0, 0.6)",
          "line": {
           "color": "rgba(255, 215, 0, 1.0)",
           "width": 1
          }
         },
         "name": "Maize",
         "orientation": "v",
         "text": "",
         "type": "bar",
         "uid": "cf2f4919-3c78-4403-a758-66eb6768c3dd",
         "x": [
          2015,
          2016,
          2017,
          2018,
          2019,
          2020,
          2021,
          2022,
          2023,
          2024,
          2025,
          2026,
          2027,
          2028,
          2029,
          2030,
          2031,
          2032,
          2033,
          2034,
          2035,
          2036,
          2037,
          2038,
          2039,
          2040
         ],
         "y": [
          61.900000000000006,
          59.5,
          57,
          54.5,
          52,
          49.5,
          64.05,
          60.74999999999999,
          57.35,
          53.95,
          50.55,
          47.300000000000004,
          44,
          40.6,
          37.199999999999996,
          24.8,
          30.4,
          27.099999999999998,
          23.7,
          20.3,
          16.9,
          13.5,
          10.100000000000001,
          6.8,
          3.4,
          0
         ]
        },
        {
         "marker": {
          "color": "rgba(0, 128, 0, 0.6)",
          "line": {
           "color": "rgba(0, 128, 0, 1.0)",
           "width": 1
          }
         },
         "name": "Rice",
         "orientation": "v",
         "text": "",
         "type": "bar",
         "uid": "54878097-6b81-4b56-8a5b-7d4a8a18bab1",
         "x": [
          2015,
          2016,
          2017,
          2018,
          2019,
          2020,
          2021,
          2022,
          2023,
          2024,
          2025,
          2026,
          2027,
          2028,
          2029,
          2030,
          2031,
          2032,
          2033,
          2034,
          2035,
          2036,
          2037,
          2038,
          2039,
          2040
         ],
         "y": [
          1939.6452000000002,
          1975.6055999999996,
          2023.3013,
          2081.5155,
          2138.9752,
          2189.7469,
          2182.3044698,
          2204.0911659999997,
          2225.995929,
          2252.719032,
          2252.6704,
          2242.9325,
          2248.1467,
          2281.9774000000007,
          2314.7179,
          2296.1422,
          2310.3967,
          2260.4450999999995,
          2269.6990000000005,
          2282.5222000000003,
          2289.8208,
          2290.1702999999998,
          2292.2157999999995,
          2293.5659000000005,
          2266.4275000000002,
          2226.1484
         ]
        },
        {
         "marker": {
          "color": "rgba(178, 34, 34, 0.6)",
          "line": {
           "color": "rgba(178, 34, 34, 1.0)",
           "width": 1
          }
         },
         "name": "Soybean",
         "orientation": "v",
         "text": "",
         "type": "bar",
         "uid": "ce0152de-24b1-4c78-a918-cabf6314fc04",
         "x": [
          2015,
          2016,
          2017,
          2018,
          2019,
          2020,
          2021,
          2022,
          2023,
          2024,
          2025,
          2026,
          2027,
          2028,
          2029,
          2030,
          2031,
          2032,
          2033,
          2034,
          2035,
          2036,
          2037,
          2038,
          2039,
          2040
         ],
         "y": [
          72.609431,
          74.324401,
          76.106737,
          77.89506,
          79.622006,
          81.41931100000001,
          81.21931099999999,
          81.019311,
          80.819311,
          80.619311,
          80.41931100000001,
          80.21931099999999,
          80.019311,
          79.819311,
          84.12883399999998,
          83.120958,
          82.882934,
          83.606886,
          84.365269,
          85.71766499999998,
          86.287445,
          87.91946100000001,
          90.019162,
          92.149251,
          94.167515,
          96.559581
         ]
        },
        {
         "marker": {
          "color": "rgba(128, 0, 128, 0.6)",
          "line": {
           "color": "rgba(128, 0, 128, 1.0)",
           "width": 1
          }
         },
         "name": "Sugarcane",
         "orientation": "v",
         "text": "",
         "type": "bar",
         "uid": "78474c43-7ae3-413e-8dec-c5a9de23bd34",
         "x": [
          2015,
          2016,
          2017,
          2018,
          2019,
          2020,
          2021,
          2022,
          2023,
          2024,
          2025,
          2026,
          2027,
          2028,
          2029,
          2030,
          2031,
          2032,
          2033,
          2034,
          2035,
          2036,
          2037,
          2038,
          2039,
          2040
         ],
         "y": [
          1334.2562000000003,
          1332.2562,
          1330.3562000000002,
          1328.5562,
          1327.0898000000002,
          1332.6365899599998,
          1343.3204,
          1348.4089999999999,
          1353.6396000000002,
          1359.0171999999995,
          1366.3035,
          1372.4789999999998,
          1378.3656999999998,
          1379.5740000000003,
          1383.0631,
          1451.1143000000002,
          1452.5142999999998,
          1450.2143000000003,
          1447.9642999999999,
          1445.1806000000001,
          1436.3550999999998,
          1431.327,
          1425.6805999999997,
          1420.2576000000001,
          1418.0229999999997,
          1416.4559
         ]
        },
        {
         "marker": {
          "color": "rgba(255, 0, 136, 0.6)",
          "line": {
           "color": "rgba(255, 0, 136, 1.0)",
           "width": 1
          }
         },
         "name": "Tea",
         "orientation": "v",
         "text": "",
         "type": "bar",
         "uid": "6ec69881-e885-4d2d-8712-f767af77e737",
         "x": [
          2015,
          2016,
          2017,
          2018,
          2019,
          2020,
          2021,
          2022,
          2023,
          2024,
          2025,
          2026,
          2027,
          2028,
          2029,
          2030,
          2031,
          2032,
          2033,
          2034,
          2035,
          2036,
          2037,
          2038,
          2039,
          2040
         ],
         "y": [
          1203.7681,
          1250.7605999999998,
          1289.2672,
          1322.058,
          1352.0279,
          1382.4089,
          1392.4206,
          1403.0189,
          1413.5330999999999,
          1423.8497,
          1430.3704,
          1436.307,
          1449.7001,
          1476.7713999999999,
          1489.2212000000002,
          1724.4082,
          1732.7873,
          1739.6469,
          1743.0963,
          1741.6937,
          1740.1193,
          1739.7221,
          1735.4159,
          1731.0494999999999,
          1725.8834000000002,
          1719.8785
         ]
        }
       ],
       "layout": {
        "barmode": "stack",
        "legend": {
         "bgcolor": "#FFFFFF",
         "font": {
          "color": "#4D5663"
         },
         "traceorder": "normal"
        },
        "paper_bgcolor": "#FFFFFF",
        "plot_bgcolor": "#FFFFFF",
        "title": {
         "font": {
          "color": "#4D5663"
         },
         "text": "Area by crop (Center region)"
        },
        "xaxis": {
         "gridcolor": "#E1E5ED",
         "showgrid": true,
         "tickfont": {
          "color": "#4D5663"
         },
         "title": {
          "font": {
           "color": "#4D5663"
          },
          "text": "Year"
         },
         "zerolinecolor": "#E1E5ED"
        },
        "yaxis": {
         "gridcolor": "#E1E5ED",
         "showgrid": true,
         "tickfont": {
          "color": "#4D5663"
         },
         "title": {
          "font": {
           "color": "#4D5663"
          },
          "text": "Land area (kha)"
         },
         "zerolinecolor": "#E1E5ED"
        }
       }
      },
      "text/html": [
       "<div id=\"d7ba1e1c-0a64-41c4-b816-661ecba94bc7\" style=\"height: 525px; width: 100%;\" class=\"plotly-graph-div\"></div><script type=\"text/javascript\">require([\"plotly\"], function(Plotly) { window.PLOTLYENV=window.PLOTLYENV || {};window.PLOTLYENV.BASE_URL=\"https://plot.ly\";\n",
       "if (document.getElementById(\"d7ba1e1c-0a64-41c4-b816-661ecba94bc7\")) {\n",
       "    Plotly.newPlot(\"d7ba1e1c-0a64-41c4-b816-661ecba94bc7\", [{\"marker\": {\"color\": \"rgba(165, 42, 42, 0.6)\", \"line\": {\"color\": \"rgba(165, 42, 42, 1.0)\", \"width\": 1}}, \"name\": \"Coffee\", \"orientation\": \"v\", \"text\": \"\", \"x\": [2015, 2016, 2017, 2018, 2019, 2020, 2021, 2022, 2023, 2024, 2025, 2026, 2027, 2028, 2029, 2030, 2031, 2032, 2033, 2034, 2035, 2036, 2037, 2038, 2039, 2040], \"y\": [560.28106, 569.64667, 573.8327699999999, 571.2827700000001, 568.7327700000001, 566.18277, 563.6327699999999, 561.0827699999999, 558.5327700000001, 555.9827700000001, 553.43277, 559.067065, 556.5170649999999, 553.967065, 551.4170650000001, 449.53436500000004, 438.493075, 476.78794100000005, 505.29862199999997, 544.19902, 599.84564, 646.4803499999999, 685.84676, 722.5285899999999, 719.97859, 717.42859], \"type\": \"bar\", \"uid\": \"2a4de7c3-a870-46eb-bd0d-16ae9334abae\"}, {\"marker\": {\"color\": \"rgba(128, 128, 128, 0.6)\", \"line\": {\"color\": \"rgba(128, 128, 128, 1.0)\", \"width\": 1}}, \"name\": \"Cotton\", \"orientation\": \"v\", \"text\": \"\", \"x\": [2015, 2016, 2017, 2018, 2019, 2020, 2021, 2022, 2023, 2024, 2025, 2026, 2027, 2028, 2029, 2030, 2031, 2032, 2033, 2034, 2035, 2036, 2037, 2038, 2039, 2040], \"y\": [2.45, 2.3, 2.2, 2.2, 2.1, 1.9500000000000002, 1.85, 1.75, 1.65, 1.5, 1.5, 1.4, 1.3, 1.15, 1.05, 0.9500000000000001, 0.9, 0.7999999999999999, 1.0, 0.85, 0.65, 0.5, 0.5, 0.35, 0.15000000000000002, 0.0], \"type\": \"bar\", \"uid\": \"64491b60-9a2d-474c-8d2c-ca97b52aaf32\"}, {\"marker\": {\"color\": \"rgba(255, 153, 51, 0.6)\", \"line\": {\"color\": \"rgba(255, 153, 51, 1.0)\", \"width\": 1}}, \"name\": \"Peanuts\", \"orientation\": \"v\", \"text\": \"\", \"x\": [2015, 2016, 2017, 2018, 2019, 2020, 2021, 2022, 2023, 2024, 2025, 2026, 2027, 2028, 2029, 2030, 2031, 2032, 2033, 2034, 2035, 2036, 2037, 2038, 2039, 2040], \"y\": [37.0, 35.5, 34.0, 32.5, 31.0, 29.6, 28.099999999999998, 26.6, 25.1, 23.599999999999998, 22.2, 20.7, 19.200000000000003, 17.8, 23.950000000000003, 14.8, 13.3, 11.799999999999999, 10.299999999999999, 8.8, 7.4, 6.0, 4.5, 3.0, 1.5, 0.0], \"type\": \"bar\", \"uid\": \"834933bc-ed7f-47aa-a2d0-fb0319f4303b\"}, {\"marker\": {\"color\": \"rgba(255, 215, 0, 0.6)\", \"line\": {\"color\": \"rgba(255, 215, 0, 1.0)\", \"width\": 1}}, \"name\": \"Maize\", \"orientation\": \"v\", \"text\": \"\", \"x\": [2015, 2016, 2017, 2018, 2019, 2020, 2021, 2022, 2023, 2024, 2025, 2026, 2027, 2028, 2029, 2030, 2031, 2032, 2033, 2034, 2035, 2036, 2037, 2038, 2039, 2040], \"y\": [61.900000000000006, 59.5, 57.0, 54.5, 52.0, 49.5, 64.05, 60.74999999999999, 57.35, 53.95, 50.55, 47.300000000000004, 44.0, 40.6, 37.199999999999996, 24.8, 30.4, 27.099999999999998, 23.7, 20.3, 16.9, 13.5, 10.100000000000001, 6.8, 3.4, 0.0], \"type\": \"bar\", \"uid\": \"14096ef7-3584-4a02-9cda-57efc7f7e544\"}, {\"marker\": {\"color\": \"rgba(0, 128, 0, 0.6)\", \"line\": {\"color\": \"rgba(0, 128, 0, 1.0)\", \"width\": 1}}, \"name\": \"Rice\", \"orientation\": \"v\", \"text\": \"\", \"x\": [2015, 2016, 2017, 2018, 2019, 2020, 2021, 2022, 2023, 2024, 2025, 2026, 2027, 2028, 2029, 2030, 2031, 2032, 2033, 2034, 2035, 2036, 2037, 2038, 2039, 2040], \"y\": [1939.6452000000002, 1975.6055999999996, 2023.3013, 2081.5155, 2138.9752, 2189.7469, 2182.3044698, 2204.0911659999997, 2225.995929, 2252.719032, 2252.6704, 2242.9325, 2248.1467, 2281.9774000000007, 2314.7179, 2296.1422, 2310.3967, 2260.4450999999995, 2269.6990000000005, 2282.5222000000003, 2289.8208, 2290.1702999999998, 2292.2157999999995, 2293.5659000000005, 2266.4275000000002, 2226.1484], \"type\": \"bar\", \"uid\": \"a6cf31c9-ebde-4ec1-90d9-6a7c88c89a87\"}, {\"marker\": {\"color\": \"rgba(178, 34, 34, 0.6)\", \"line\": {\"color\": \"rgba(178, 34, 34, 1.0)\", \"width\": 1}}, \"name\": \"Soybean\", \"orientation\": \"v\", \"text\": \"\", \"x\": [2015, 2016, 2017, 2018, 2019, 2020, 2021, 2022, 2023, 2024, 2025, 2026, 2027, 2028, 2029, 2030, 2031, 2032, 2033, 2034, 2035, 2036, 2037, 2038, 2039, 2040], \"y\": [72.609431, 74.324401, 76.106737, 77.89506, 79.622006, 81.41931100000001, 81.21931099999999, 81.019311, 80.819311, 80.619311, 80.41931100000001, 80.21931099999999, 80.019311, 79.819311, 84.12883399999998, 83.120958, 82.882934, 83.606886, 84.365269, 85.71766499999998, 86.287445, 87.91946100000001, 90.019162, 92.149251, 94.167515, 96.559581], \"type\": \"bar\", \"uid\": \"5c3b7228-5352-4728-b61b-32da096e1921\"}, {\"marker\": {\"color\": \"rgba(128, 0, 128, 0.6)\", \"line\": {\"color\": \"rgba(128, 0, 128, 1.0)\", \"width\": 1}}, \"name\": \"Sugarcane\", \"orientation\": \"v\", \"text\": \"\", \"x\": [2015, 2016, 2017, 2018, 2019, 2020, 2021, 2022, 2023, 2024, 2025, 2026, 2027, 2028, 2029, 2030, 2031, 2032, 2033, 2034, 2035, 2036, 2037, 2038, 2039, 2040], \"y\": [1334.2562000000003, 1332.2562, 1330.3562000000002, 1328.5562, 1327.0898000000002, 1332.6365899599998, 1343.3204, 1348.4089999999999, 1353.6396000000002, 1359.0171999999995, 1366.3035, 1372.4789999999998, 1378.3656999999998, 1379.5740000000003, 1383.0631, 1451.1143000000002, 1452.5142999999998, 1450.2143000000003, 1447.9642999999999, 1445.1806000000001, 1436.3550999999998, 1431.327, 1425.6805999999997, 1420.2576000000001, 1418.0229999999997, 1416.4559], \"type\": \"bar\", \"uid\": \"6793b86e-4b7a-4eec-8466-022dced79409\"}, {\"marker\": {\"color\": \"rgba(255, 0, 136, 0.6)\", \"line\": {\"color\": \"rgba(255, 0, 136, 1.0)\", \"width\": 1}}, \"name\": \"Tea\", \"orientation\": \"v\", \"text\": \"\", \"x\": [2015, 2016, 2017, 2018, 2019, 2020, 2021, 2022, 2023, 2024, 2025, 2026, 2027, 2028, 2029, 2030, 2031, 2032, 2033, 2034, 2035, 2036, 2037, 2038, 2039, 2040], \"y\": [1203.7681, 1250.7605999999998, 1289.2672, 1322.058, 1352.0279, 1382.4089, 1392.4206, 1403.0189, 1413.5330999999999, 1423.8497, 1430.3704, 1436.307, 1449.7001, 1476.7713999999999, 1489.2212000000002, 1724.4082, 1732.7873, 1739.6469, 1743.0963, 1741.6937, 1740.1193, 1739.7221, 1735.4159, 1731.0494999999999, 1725.8834000000002, 1719.8785], \"type\": \"bar\", \"uid\": \"bd4101d5-f242-42f8-ae2b-ac1b93ebe16e\"}], {\"barmode\": \"stack\", \"legend\": {\"bgcolor\": \"#FFFFFF\", \"font\": {\"color\": \"#4D5663\"}, \"traceorder\": \"normal\"}, \"paper_bgcolor\": \"#FFFFFF\", \"plot_bgcolor\": \"#FFFFFF\", \"title\": {\"text\": \"Area by crop (Center region)\", \"font\": {\"color\": \"#4D5663\"}}, \"xaxis\": {\"gridcolor\": \"#E1E5ED\", \"showgrid\": true, \"tickfont\": {\"color\": \"#4D5663\"}, \"title\": {\"text\": \"Year\", \"font\": {\"color\": \"#4D5663\"}}, \"zerolinecolor\": \"#E1E5ED\"}, \"yaxis\": {\"gridcolor\": \"#E1E5ED\", \"showgrid\": true, \"tickfont\": {\"color\": \"#4D5663\"}, \"title\": {\"text\": \"Land area (kha)\", \"font\": {\"color\": \"#4D5663\"}}, \"zerolinecolor\": \"#E1E5ED\"}}, {\"showLink\": true, \"linkText\": \"Export to plot.ly\", \"plotlyServerURL\": \"https://plot.ly\"}); \n",
       "}\n",
       "});</script><script type=\"text/javascript\">window.addEventListener(\"resize\", function(){if (document.getElementById(\"d7ba1e1c-0a64-41c4-b816-661ecba94bc7\")) {window._Plotly.Plots.resize(document.getElementById(\"d7ba1e1c-0a64-41c4-b816-661ecba94bc7\"));};})</script>"
      ],
      "text/vnd.plotly.v1+html": [
       "<div id=\"d7ba1e1c-0a64-41c4-b816-661ecba94bc7\" style=\"height: 525px; width: 100%;\" class=\"plotly-graph-div\"></div><script type=\"text/javascript\">require([\"plotly\"], function(Plotly) { window.PLOTLYENV=window.PLOTLYENV || {};window.PLOTLYENV.BASE_URL=\"https://plot.ly\";\n",
       "if (document.getElementById(\"d7ba1e1c-0a64-41c4-b816-661ecba94bc7\")) {\n",
       "    Plotly.newPlot(\"d7ba1e1c-0a64-41c4-b816-661ecba94bc7\", [{\"marker\": {\"color\": \"rgba(165, 42, 42, 0.6)\", \"line\": {\"color\": \"rgba(165, 42, 42, 1.0)\", \"width\": 1}}, \"name\": \"Coffee\", \"orientation\": \"v\", \"text\": \"\", \"x\": [2015, 2016, 2017, 2018, 2019, 2020, 2021, 2022, 2023, 2024, 2025, 2026, 2027, 2028, 2029, 2030, 2031, 2032, 2033, 2034, 2035, 2036, 2037, 2038, 2039, 2040], \"y\": [560.28106, 569.64667, 573.8327699999999, 571.2827700000001, 568.7327700000001, 566.18277, 563.6327699999999, 561.0827699999999, 558.5327700000001, 555.9827700000001, 553.43277, 559.067065, 556.5170649999999, 553.967065, 551.4170650000001, 449.53436500000004, 438.493075, 476.78794100000005, 505.29862199999997, 544.19902, 599.84564, 646.4803499999999, 685.84676, 722.5285899999999, 719.97859, 717.42859], \"type\": \"bar\", \"uid\": \"2a4de7c3-a870-46eb-bd0d-16ae9334abae\"}, {\"marker\": {\"color\": \"rgba(128, 128, 128, 0.6)\", \"line\": {\"color\": \"rgba(128, 128, 128, 1.0)\", \"width\": 1}}, \"name\": \"Cotton\", \"orientation\": \"v\", \"text\": \"\", \"x\": [2015, 2016, 2017, 2018, 2019, 2020, 2021, 2022, 2023, 2024, 2025, 2026, 2027, 2028, 2029, 2030, 2031, 2032, 2033, 2034, 2035, 2036, 2037, 2038, 2039, 2040], \"y\": [2.45, 2.3, 2.2, 2.2, 2.1, 1.9500000000000002, 1.85, 1.75, 1.65, 1.5, 1.5, 1.4, 1.3, 1.15, 1.05, 0.9500000000000001, 0.9, 0.7999999999999999, 1.0, 0.85, 0.65, 0.5, 0.5, 0.35, 0.15000000000000002, 0.0], \"type\": \"bar\", \"uid\": \"64491b60-9a2d-474c-8d2c-ca97b52aaf32\"}, {\"marker\": {\"color\": \"rgba(255, 153, 51, 0.6)\", \"line\": {\"color\": \"rgba(255, 153, 51, 1.0)\", \"width\": 1}}, \"name\": \"Peanuts\", \"orientation\": \"v\", \"text\": \"\", \"x\": [2015, 2016, 2017, 2018, 2019, 2020, 2021, 2022, 2023, 2024, 2025, 2026, 2027, 2028, 2029, 2030, 2031, 2032, 2033, 2034, 2035, 2036, 2037, 2038, 2039, 2040], \"y\": [37.0, 35.5, 34.0, 32.5, 31.0, 29.6, 28.099999999999998, 26.6, 25.1, 23.599999999999998, 22.2, 20.7, 19.200000000000003, 17.8, 23.950000000000003, 14.8, 13.3, 11.799999999999999, 10.299999999999999, 8.8, 7.4, 6.0, 4.5, 3.0, 1.5, 0.0], \"type\": \"bar\", \"uid\": \"834933bc-ed7f-47aa-a2d0-fb0319f4303b\"}, {\"marker\": {\"color\": \"rgba(255, 215, 0, 0.6)\", \"line\": {\"color\": \"rgba(255, 215, 0, 1.0)\", \"width\": 1}}, \"name\": \"Maize\", \"orientation\": \"v\", \"text\": \"\", \"x\": [2015, 2016, 2017, 2018, 2019, 2020, 2021, 2022, 2023, 2024, 2025, 2026, 2027, 2028, 2029, 2030, 2031, 2032, 2033, 2034, 2035, 2036, 2037, 2038, 2039, 2040], \"y\": [61.900000000000006, 59.5, 57.0, 54.5, 52.0, 49.5, 64.05, 60.74999999999999, 57.35, 53.95, 50.55, 47.300000000000004, 44.0, 40.6, 37.199999999999996, 24.8, 30.4, 27.099999999999998, 23.7, 20.3, 16.9, 13.5, 10.100000000000001, 6.8, 3.4, 0.0], \"type\": \"bar\", \"uid\": \"14096ef7-3584-4a02-9cda-57efc7f7e544\"}, {\"marker\": {\"color\": \"rgba(0, 128, 0, 0.6)\", \"line\": {\"color\": \"rgba(0, 128, 0, 1.0)\", \"width\": 1}}, \"name\": \"Rice\", \"orientation\": \"v\", \"text\": \"\", \"x\": [2015, 2016, 2017, 2018, 2019, 2020, 2021, 2022, 2023, 2024, 2025, 2026, 2027, 2028, 2029, 2030, 2031, 2032, 2033, 2034, 2035, 2036, 2037, 2038, 2039, 2040], \"y\": [1939.6452000000002, 1975.6055999999996, 2023.3013, 2081.5155, 2138.9752, 2189.7469, 2182.3044698, 2204.0911659999997, 2225.995929, 2252.719032, 2252.6704, 2242.9325, 2248.1467, 2281.9774000000007, 2314.7179, 2296.1422, 2310.3967, 2260.4450999999995, 2269.6990000000005, 2282.5222000000003, 2289.8208, 2290.1702999999998, 2292.2157999999995, 2293.5659000000005, 2266.4275000000002, 2226.1484], \"type\": \"bar\", \"uid\": \"a6cf31c9-ebde-4ec1-90d9-6a7c88c89a87\"}, {\"marker\": {\"color\": \"rgba(178, 34, 34, 0.6)\", \"line\": {\"color\": \"rgba(178, 34, 34, 1.0)\", \"width\": 1}}, \"name\": \"Soybean\", \"orientation\": \"v\", \"text\": \"\", \"x\": [2015, 2016, 2017, 2018, 2019, 2020, 2021, 2022, 2023, 2024, 2025, 2026, 2027, 2028, 2029, 2030, 2031, 2032, 2033, 2034, 2035, 2036, 2037, 2038, 2039, 2040], \"y\": [72.609431, 74.324401, 76.106737, 77.89506, 79.622006, 81.41931100000001, 81.21931099999999, 81.019311, 80.819311, 80.619311, 80.41931100000001, 80.21931099999999, 80.019311, 79.819311, 84.12883399999998, 83.120958, 82.882934, 83.606886, 84.365269, 85.71766499999998, 86.287445, 87.91946100000001, 90.019162, 92.149251, 94.167515, 96.559581], \"type\": \"bar\", \"uid\": \"5c3b7228-5352-4728-b61b-32da096e1921\"}, {\"marker\": {\"color\": \"rgba(128, 0, 128, 0.6)\", \"line\": {\"color\": \"rgba(128, 0, 128, 1.0)\", \"width\": 1}}, \"name\": \"Sugarcane\", \"orientation\": \"v\", \"text\": \"\", \"x\": [2015, 2016, 2017, 2018, 2019, 2020, 2021, 2022, 2023, 2024, 2025, 2026, 2027, 2028, 2029, 2030, 2031, 2032, 2033, 2034, 2035, 2036, 2037, 2038, 2039, 2040], \"y\": [1334.2562000000003, 1332.2562, 1330.3562000000002, 1328.5562, 1327.0898000000002, 1332.6365899599998, 1343.3204, 1348.4089999999999, 1353.6396000000002, 1359.0171999999995, 1366.3035, 1372.4789999999998, 1378.3656999999998, 1379.5740000000003, 1383.0631, 1451.1143000000002, 1452.5142999999998, 1450.2143000000003, 1447.9642999999999, 1445.1806000000001, 1436.3550999999998, 1431.327, 1425.6805999999997, 1420.2576000000001, 1418.0229999999997, 1416.4559], \"type\": \"bar\", \"uid\": \"6793b86e-4b7a-4eec-8466-022dced79409\"}, {\"marker\": {\"color\": \"rgba(255, 0, 136, 0.6)\", \"line\": {\"color\": \"rgba(255, 0, 136, 1.0)\", \"width\": 1}}, \"name\": \"Tea\", \"orientation\": \"v\", \"text\": \"\", \"x\": [2015, 2016, 2017, 2018, 2019, 2020, 2021, 2022, 2023, 2024, 2025, 2026, 2027, 2028, 2029, 2030, 2031, 2032, 2033, 2034, 2035, 2036, 2037, 2038, 2039, 2040], \"y\": [1203.7681, 1250.7605999999998, 1289.2672, 1322.058, 1352.0279, 1382.4089, 1392.4206, 1403.0189, 1413.5330999999999, 1423.8497, 1430.3704, 1436.307, 1449.7001, 1476.7713999999999, 1489.2212000000002, 1724.4082, 1732.7873, 1739.6469, 1743.0963, 1741.6937, 1740.1193, 1739.7221, 1735.4159, 1731.0494999999999, 1725.8834000000002, 1719.8785], \"type\": \"bar\", \"uid\": \"bd4101d5-f242-42f8-ae2b-ac1b93ebe16e\"}], {\"barmode\": \"stack\", \"legend\": {\"bgcolor\": \"#FFFFFF\", \"font\": {\"color\": \"#4D5663\"}, \"traceorder\": \"normal\"}, \"paper_bgcolor\": \"#FFFFFF\", \"plot_bgcolor\": \"#FFFFFF\", \"title\": {\"text\": \"Area by crop (Center region)\", \"font\": {\"color\": \"#4D5663\"}}, \"xaxis\": {\"gridcolor\": \"#E1E5ED\", \"showgrid\": true, \"tickfont\": {\"color\": \"#4D5663\"}, \"title\": {\"text\": \"Year\", \"font\": {\"color\": \"#4D5663\"}}, \"zerolinecolor\": \"#E1E5ED\"}, \"yaxis\": {\"gridcolor\": \"#E1E5ED\", \"showgrid\": true, \"tickfont\": {\"color\": \"#4D5663\"}, \"title\": {\"text\": \"Land area (kha)\", \"font\": {\"color\": \"#4D5663\"}}, \"zerolinecolor\": \"#E1E5ED\"}}, {\"showLink\": true, \"linkText\": \"Export to plot.ly\", \"plotlyServerURL\": \"https://plot.ly\"}); \n",
       "}\n",
       "});</script><script type=\"text/javascript\">window.addEventListener(\"resize\", function(){if (document.getElementById(\"d7ba1e1c-0a64-41c4-b816-661ecba94bc7\")) {window._Plotly.Plots.resize(document.getElementById(\"d7ba1e1c-0a64-41c4-b816-661ecba94bc7\"));};})</script>"
      ]
     },
     "metadata": {},
     "output_type": "display_data"
    },
    {
     "data": {
      "application/vnd.plotly.v1+json": {
       "config": {
        "linkText": "Export to plot.ly",
        "plotlyServerURL": "https://plot.ly",
        "showLink": true
       },
       "data": [
        {
         "marker": {
          "color": "rgba(165, 42, 42, 0.6)",
          "line": {
           "color": "rgba(165, 42, 42, 1.0)",
           "width": 1
          }
         },
         "name": "Coffee",
         "orientation": "v",
         "text": "",
         "type": "bar",
         "uid": "8c138921-d5ea-43da-adec-750caac969fb",
         "x": [
          2015,
          2016,
          2017,
          2018,
          2019,
          2020,
          2021,
          2022,
          2023,
          2024,
          2025,
          2026,
          2027,
          2028,
          2029,
          2030,
          2031,
          2032,
          2033,
          2034,
          2035,
          2036,
          2037,
          2038,
          2039,
          2040
         ],
         "y": [
          69.6,
          66.75,
          64.05000000000001,
          61.199999999999996,
          58.5,
          55.650000000000006,
          52.949999999999996,
          50.099999999999994,
          47.25,
          44.55,
          41.7,
          39,
          36.150000000000006,
          33.45,
          30.599999999999998,
          27.900000000000002,
          25.049999999999997,
          22.200000000000003,
          19.5,
          16.65,
          13.950000000000001,
          11.100000000000001,
          8.399999999999999,
          5.550000000000001,
          2.8499999999999996,
          0
         ]
        },
        {
         "marker": {
          "color": "rgba(128, 128, 128, 0.6)",
          "line": {
           "color": "rgba(128, 128, 128, 1.0)",
           "width": 1
          }
         },
         "name": "Cotton",
         "orientation": "v",
         "text": "",
         "type": "bar",
         "uid": "a2ef10e4-8fa8-415a-8953-d6d5ac288fa9",
         "x": [
          2015,
          2016,
          2017,
          2018,
          2019,
          2020,
          2021,
          2022,
          2023,
          2024,
          2025,
          2026,
          2027,
          2028,
          2029,
          2030,
          2031,
          2032,
          2033,
          2034,
          2035,
          2036,
          2037,
          2038,
          2039,
          2040
         ],
         "y": [
          1.95,
          1.22770388,
          1.8,
          1.7,
          1.7,
          1.6,
          1.45,
          1.45,
          1.35,
          1.2,
          1.2,
          1.1,
          1,
          0.9500000000000001,
          0.85,
          0.5,
          0.75,
          0.6,
          0.7,
          0.6000000000000001,
          0.4,
          0.4,
          0.30000000000000004,
          0.2,
          0.1,
          0
         ]
        },
        {
         "marker": {
          "color": "rgba(255, 153, 51, 0.6)",
          "line": {
           "color": "rgba(255, 153, 51, 1.0)",
           "width": 1
          }
         },
         "name": "Peanuts",
         "orientation": "v",
         "text": "",
         "type": "bar",
         "uid": "db562a88-ce6c-4bba-92ba-0ae28380becb",
         "x": [
          2015,
          2016,
          2017,
          2018,
          2019,
          2020,
          2021,
          2022,
          2023,
          2024,
          2025,
          2026,
          2027,
          2028,
          2029,
          2030,
          2031,
          2032,
          2033,
          2034,
          2035,
          2036,
          2037,
          2038,
          2039,
          2040
         ],
         "y": [
          12,
          11.5,
          11.05,
          20.1,
          19.15,
          18.299999999999997,
          18.2,
          17.2,
          16.400000000000002,
          15.399999999999999,
          14.4,
          13.5,
          12.5,
          11.5,
          10.6,
          9.6,
          8.6,
          7.6000000000000005,
          6.699999999999999,
          5.7,
          4.8,
          3.9,
          2.9,
          1.9,
          1.45,
          0
         ]
        },
        {
         "marker": {
          "color": "rgba(255, 215, 0, 0.6)",
          "line": {
           "color": "rgba(255, 215, 0, 1.0)",
           "width": 1
          }
         },
         "name": "Maize",
         "orientation": "v",
         "text": "",
         "type": "bar",
         "uid": "27404027-66a0-4039-b018-9a28c80d31fd",
         "x": [
          2015,
          2016,
          2017,
          2018,
          2019,
          2020,
          2021,
          2022,
          2023,
          2024,
          2025,
          2026,
          2027,
          2028,
          2029,
          2030,
          2031,
          2032,
          2033,
          2034,
          2035,
          2036,
          2037,
          2038,
          2039,
          2040
         ],
         "y": [
          600.15712,
          630.803692,
          664.49377,
          670.8178700000001,
          677.2530200000001,
          682.0405,
          681.0595000000001,
          681.86637,
          682.6120700000001,
          683.4590499999999,
          684.98748,
          686.69049,
          687.4019900000001,
          688.1969199999999,
          688.7989100000001,
          688.9833699999999,
          686.31046,
          683.42182,
          681.4584700000001,
          679.45353,
          678.4810000000001,
          676.34705,
          674.2877400000001,
          672.28055,
          669.7001899999999,
          668.08729
         ]
        },
        {
         "marker": {
          "color": "rgba(0, 128, 0, 0.6)",
          "line": {
           "color": "rgba(0, 128, 0, 1.0)",
           "width": 1
          }
         },
         "name": "Rice",
         "orientation": "v",
         "text": "",
         "type": "bar",
         "uid": "f3e6cff5-ddcb-4a56-ab54-a117aeeaa2b4",
         "x": [
          2015,
          2016,
          2017,
          2018,
          2019,
          2020,
          2021,
          2022,
          2023,
          2024,
          2025,
          2026,
          2027,
          2028,
          2029,
          2030,
          2031,
          2032,
          2033,
          2034,
          2035,
          2036,
          2037,
          2038,
          2039,
          2040
         ],
         "y": [
          1496.33288,
          1532.15529,
          1502.15348,
          1469.0432400000002,
          1435.47667,
          1403.7633899999998,
          1376.97512,
          1349.00636,
          1321.107,
          1293.31544,
          1265.30232,
          1236.27532,
          1208.3513,
          1159.1513,
          1110.2135099999998,
          1131.9588800000001,
          1099.92274,
          1075.36751,
          1010.07776,
          945.09432,
          878.4076000000001,
          828.3350399999999,
          778.07294,
          729.7540600000001,
          716.4858499999999,
          716.97811
         ]
        },
        {
         "marker": {
          "color": "rgba(178, 34, 34, 0.6)",
          "line": {
           "color": "rgba(178, 34, 34, 1.0)",
           "width": 1
          }
         },
         "name": "Soybean",
         "orientation": "v",
         "text": "",
         "type": "bar",
         "uid": "f4c133bb-ba56-486a-b630-4fab4d809c27",
         "x": [
          2015,
          2016,
          2017,
          2018,
          2019,
          2020,
          2021,
          2022,
          2023,
          2024,
          2025,
          2026,
          2027,
          2028,
          2029,
          2030,
          2031,
          2032,
          2033,
          2034,
          2035,
          2036,
          2037,
          2038,
          2039,
          2040
         ],
         "y": [
          32.5,
          31.2,
          29.9,
          28.6,
          27.3,
          26,
          24.7,
          23.4,
          22.1,
          20.8,
          19.5,
          18.2,
          16.9,
          15.6,
          14.3,
          13,
          11.7,
          10.4,
          9.1,
          7.8,
          6.5,
          5.2,
          3.9,
          2.6,
          1.9500000000000002,
          0
         ]
        },
        {
         "marker": {
          "color": "rgba(128, 0, 128, 0.6)",
          "line": {
           "color": "rgba(128, 0, 128, 1.0)",
           "width": 1
          }
         },
         "name": "Sugarcane",
         "orientation": "v",
         "text": "",
         "type": "bar",
         "uid": "9da0d879-f426-458a-adb8-4d24bac59c37",
         "x": [
          2015,
          2016,
          2017,
          2018,
          2019,
          2020,
          2021,
          2022,
          2023,
          2024,
          2025,
          2026,
          2027,
          2028,
          2029,
          2030,
          2031,
          2032,
          2033,
          2034,
          2035,
          2036,
          2037,
          2038,
          2039,
          2040
         ],
         "y": [
          346.12677999999994,
          344.97677999999996,
          343.72677999999996,
          342.57678,
          341.42678,
          340.2767799999999,
          339.12677999999994,
          337.97677999999996,
          336.82678,
          335.57678,
          334.42678,
          333.2767799999999,
          332.12677999999994,
          330.97677999999996,
          329.82678,
          253.02607999999998,
          252.02608,
          250.87608,
          249.72608,
          248.57608,
          247.42608,
          246.27608,
          245.02608,
          243.87608,
          242.72608,
          241.57608
         ]
        },
        {
         "marker": {
          "color": "rgba(255, 0, 136, 0.6)",
          "line": {
           "color": "rgba(255, 0, 136, 1.0)",
           "width": 1
          }
         },
         "name": "Tea",
         "orientation": "v",
         "text": "",
         "type": "bar",
         "uid": "fd684530-cb78-4939-be08-02725f621f2d",
         "x": [
          2015,
          2016,
          2017,
          2018,
          2019,
          2020,
          2021,
          2022,
          2023,
          2024,
          2025,
          2026,
          2027,
          2028,
          2029,
          2030,
          2031,
          2032,
          2033,
          2034,
          2035,
          2036,
          2037,
          2038,
          2039,
          2040
         ],
         "y": [
          2580.6292000000003,
          2579.8792000000003,
          2579.2792,
          2578.6792,
          2577.9292,
          2577.3291999999997,
          2576.7292,
          2575.9792,
          2575.3792000000003,
          2574.7792,
          2574.0292,
          2573.4292,
          2572.6792,
          2572.0791999999997,
          2571.4792,
          2099.3313000000003,
          2098.7313,
          2098.1313,
          2097.3813,
          2096.7813,
          2096.1812999999997,
          2095.4312999999997,
          2094.8313000000003,
          2094.2313,
          2093.4813,
          2092.8813
         ]
        }
       ],
       "layout": {
        "barmode": "stack",
        "legend": {
         "bgcolor": "#FFFFFF",
         "font": {
          "color": "#4D5663"
         },
         "traceorder": "normal"
        },
        "paper_bgcolor": "#FFFFFF",
        "plot_bgcolor": "#FFFFFF",
        "title": {
         "font": {
          "color": "#4D5663"
         },
         "text": "Area by crop (North region)"
        },
        "xaxis": {
         "gridcolor": "#E1E5ED",
         "showgrid": true,
         "tickfont": {
          "color": "#4D5663"
         },
         "title": {
          "font": {
           "color": "#4D5663"
          },
          "text": "Year"
         },
         "zerolinecolor": "#E1E5ED"
        },
        "yaxis": {
         "gridcolor": "#E1E5ED",
         "showgrid": true,
         "tickfont": {
          "color": "#4D5663"
         },
         "title": {
          "font": {
           "color": "#4D5663"
          },
          "text": "Land area (kha)"
         },
         "zerolinecolor": "#E1E5ED"
        }
       }
      },
      "text/html": [
       "<div id=\"cc126e4d-ff37-4a4a-b369-e5e82fee200a\" style=\"height: 525px; width: 100%;\" class=\"plotly-graph-div\"></div><script type=\"text/javascript\">require([\"plotly\"], function(Plotly) { window.PLOTLYENV=window.PLOTLYENV || {};window.PLOTLYENV.BASE_URL=\"https://plot.ly\";\n",
       "if (document.getElementById(\"cc126e4d-ff37-4a4a-b369-e5e82fee200a\")) {\n",
       "    Plotly.newPlot(\"cc126e4d-ff37-4a4a-b369-e5e82fee200a\", [{\"marker\": {\"color\": \"rgba(165, 42, 42, 0.6)\", \"line\": {\"color\": \"rgba(165, 42, 42, 1.0)\", \"width\": 1}}, \"name\": \"Coffee\", \"orientation\": \"v\", \"text\": \"\", \"x\": [2015, 2016, 2017, 2018, 2019, 2020, 2021, 2022, 2023, 2024, 2025, 2026, 2027, 2028, 2029, 2030, 2031, 2032, 2033, 2034, 2035, 2036, 2037, 2038, 2039, 2040], \"y\": [69.6, 66.75, 64.05000000000001, 61.199999999999996, 58.5, 55.650000000000006, 52.949999999999996, 50.099999999999994, 47.25, 44.55, 41.7, 39.0, 36.150000000000006, 33.45, 30.599999999999998, 27.900000000000002, 25.049999999999997, 22.200000000000003, 19.5, 16.65, 13.950000000000001, 11.100000000000001, 8.399999999999999, 5.550000000000001, 2.8499999999999996, 0.0], \"type\": \"bar\", \"uid\": \"06b07292-d238-4a92-a16b-d27ef8ad40c5\"}, {\"marker\": {\"color\": \"rgba(128, 128, 128, 0.6)\", \"line\": {\"color\": \"rgba(128, 128, 128, 1.0)\", \"width\": 1}}, \"name\": \"Cotton\", \"orientation\": \"v\", \"text\": \"\", \"x\": [2015, 2016, 2017, 2018, 2019, 2020, 2021, 2022, 2023, 2024, 2025, 2026, 2027, 2028, 2029, 2030, 2031, 2032, 2033, 2034, 2035, 2036, 2037, 2038, 2039, 2040], \"y\": [1.95, 1.22770388, 1.8, 1.7, 1.7, 1.6, 1.45, 1.45, 1.35, 1.2, 1.2, 1.1, 1.0, 0.9500000000000001, 0.85, 0.5, 0.75, 0.6, 0.7, 0.6000000000000001, 0.4, 0.4, 0.30000000000000004, 0.2, 0.1, 0.0], \"type\": \"bar\", \"uid\": \"b945d0f7-dab9-4a37-96e0-01f54aaf8bbf\"}, {\"marker\": {\"color\": \"rgba(255, 153, 51, 0.6)\", \"line\": {\"color\": \"rgba(255, 153, 51, 1.0)\", \"width\": 1}}, \"name\": \"Peanuts\", \"orientation\": \"v\", \"text\": \"\", \"x\": [2015, 2016, 2017, 2018, 2019, 2020, 2021, 2022, 2023, 2024, 2025, 2026, 2027, 2028, 2029, 2030, 2031, 2032, 2033, 2034, 2035, 2036, 2037, 2038, 2039, 2040], \"y\": [12.0, 11.5, 11.05, 20.1, 19.15, 18.299999999999997, 18.2, 17.2, 16.400000000000002, 15.399999999999999, 14.4, 13.5, 12.5, 11.5, 10.6, 9.6, 8.6, 7.6000000000000005, 6.699999999999999, 5.7, 4.8, 3.9, 2.9, 1.9, 1.45, 0.0], \"type\": \"bar\", \"uid\": \"1cd61d89-3323-4f95-b5a4-05d196c81c13\"}, {\"marker\": {\"color\": \"rgba(255, 215, 0, 0.6)\", \"line\": {\"color\": \"rgba(255, 215, 0, 1.0)\", \"width\": 1}}, \"name\": \"Maize\", \"orientation\": \"v\", \"text\": \"\", \"x\": [2015, 2016, 2017, 2018, 2019, 2020, 2021, 2022, 2023, 2024, 2025, 2026, 2027, 2028, 2029, 2030, 2031, 2032, 2033, 2034, 2035, 2036, 2037, 2038, 2039, 2040], \"y\": [600.15712, 630.803692, 664.49377, 670.8178700000001, 677.2530200000001, 682.0405, 681.0595000000001, 681.86637, 682.6120700000001, 683.4590499999999, 684.98748, 686.69049, 687.4019900000001, 688.1969199999999, 688.7989100000001, 688.9833699999999, 686.31046, 683.42182, 681.4584700000001, 679.45353, 678.4810000000001, 676.34705, 674.2877400000001, 672.28055, 669.7001899999999, 668.08729], \"type\": \"bar\", \"uid\": \"b03b29dc-ac2e-4e69-9263-a803e688eae1\"}, {\"marker\": {\"color\": \"rgba(0, 128, 0, 0.6)\", \"line\": {\"color\": \"rgba(0, 128, 0, 1.0)\", \"width\": 1}}, \"name\": \"Rice\", \"orientation\": \"v\", \"text\": \"\", \"x\": [2015, 2016, 2017, 2018, 2019, 2020, 2021, 2022, 2023, 2024, 2025, 2026, 2027, 2028, 2029, 2030, 2031, 2032, 2033, 2034, 2035, 2036, 2037, 2038, 2039, 2040], \"y\": [1496.33288, 1532.15529, 1502.15348, 1469.0432400000002, 1435.47667, 1403.7633899999998, 1376.97512, 1349.00636, 1321.107, 1293.31544, 1265.30232, 1236.27532, 1208.3513, 1159.1513, 1110.2135099999998, 1131.9588800000001, 1099.92274, 1075.36751, 1010.07776, 945.09432, 878.4076000000001, 828.3350399999999, 778.07294, 729.7540600000001, 716.4858499999999, 716.97811], \"type\": \"bar\", \"uid\": \"1319035d-6d0a-46f6-a61e-a3bc0ed8834c\"}, {\"marker\": {\"color\": \"rgba(178, 34, 34, 0.6)\", \"line\": {\"color\": \"rgba(178, 34, 34, 1.0)\", \"width\": 1}}, \"name\": \"Soybean\", \"orientation\": \"v\", \"text\": \"\", \"x\": [2015, 2016, 2017, 2018, 2019, 2020, 2021, 2022, 2023, 2024, 2025, 2026, 2027, 2028, 2029, 2030, 2031, 2032, 2033, 2034, 2035, 2036, 2037, 2038, 2039, 2040], \"y\": [32.5, 31.2, 29.9, 28.6, 27.3, 26.0, 24.7, 23.4, 22.1, 20.8, 19.5, 18.2, 16.9, 15.6, 14.3, 13.0, 11.7, 10.4, 9.1, 7.8, 6.5, 5.2, 3.9, 2.6, 1.9500000000000002, 0.0], \"type\": \"bar\", \"uid\": \"b1a89d1f-cb47-411b-a425-011e99471f1e\"}, {\"marker\": {\"color\": \"rgba(128, 0, 128, 0.6)\", \"line\": {\"color\": \"rgba(128, 0, 128, 1.0)\", \"width\": 1}}, \"name\": \"Sugarcane\", \"orientation\": \"v\", \"text\": \"\", \"x\": [2015, 2016, 2017, 2018, 2019, 2020, 2021, 2022, 2023, 2024, 2025, 2026, 2027, 2028, 2029, 2030, 2031, 2032, 2033, 2034, 2035, 2036, 2037, 2038, 2039, 2040], \"y\": [346.12677999999994, 344.97677999999996, 343.72677999999996, 342.57678, 341.42678, 340.2767799999999, 339.12677999999994, 337.97677999999996, 336.82678, 335.57678, 334.42678, 333.2767799999999, 332.12677999999994, 330.97677999999996, 329.82678, 253.02607999999998, 252.02608, 250.87608, 249.72608, 248.57608, 247.42608, 246.27608, 245.02608, 243.87608, 242.72608, 241.57608], \"type\": \"bar\", \"uid\": \"550e7ae4-9f44-42a9-9c34-da3bbc1d9369\"}, {\"marker\": {\"color\": \"rgba(255, 0, 136, 0.6)\", \"line\": {\"color\": \"rgba(255, 0, 136, 1.0)\", \"width\": 1}}, \"name\": \"Tea\", \"orientation\": \"v\", \"text\": \"\", \"x\": [2015, 2016, 2017, 2018, 2019, 2020, 2021, 2022, 2023, 2024, 2025, 2026, 2027, 2028, 2029, 2030, 2031, 2032, 2033, 2034, 2035, 2036, 2037, 2038, 2039, 2040], \"y\": [2580.6292000000003, 2579.8792000000003, 2579.2792, 2578.6792, 2577.9292, 2577.3291999999997, 2576.7292, 2575.9792, 2575.3792000000003, 2574.7792, 2574.0292, 2573.4292, 2572.6792, 2572.0791999999997, 2571.4792, 2099.3313000000003, 2098.7313, 2098.1313, 2097.3813, 2096.7813, 2096.1812999999997, 2095.4312999999997, 2094.8313000000003, 2094.2313, 2093.4813, 2092.8813], \"type\": \"bar\", \"uid\": \"a9dea988-133b-44d2-b949-024456561229\"}], {\"barmode\": \"stack\", \"legend\": {\"bgcolor\": \"#FFFFFF\", \"font\": {\"color\": \"#4D5663\"}, \"traceorder\": \"normal\"}, \"paper_bgcolor\": \"#FFFFFF\", \"plot_bgcolor\": \"#FFFFFF\", \"title\": {\"text\": \"Area by crop (North region)\", \"font\": {\"color\": \"#4D5663\"}}, \"xaxis\": {\"gridcolor\": \"#E1E5ED\", \"showgrid\": true, \"tickfont\": {\"color\": \"#4D5663\"}, \"title\": {\"text\": \"Year\", \"font\": {\"color\": \"#4D5663\"}}, \"zerolinecolor\": \"#E1E5ED\"}, \"yaxis\": {\"gridcolor\": \"#E1E5ED\", \"showgrid\": true, \"tickfont\": {\"color\": \"#4D5663\"}, \"title\": {\"text\": \"Land area (kha)\", \"font\": {\"color\": \"#4D5663\"}}, \"zerolinecolor\": \"#E1E5ED\"}}, {\"showLink\": true, \"linkText\": \"Export to plot.ly\", \"plotlyServerURL\": \"https://plot.ly\"}); \n",
       "}\n",
       "});</script><script type=\"text/javascript\">window.addEventListener(\"resize\", function(){if (document.getElementById(\"cc126e4d-ff37-4a4a-b369-e5e82fee200a\")) {window._Plotly.Plots.resize(document.getElementById(\"cc126e4d-ff37-4a4a-b369-e5e82fee200a\"));};})</script>"
      ],
      "text/vnd.plotly.v1+html": [
       "<div id=\"cc126e4d-ff37-4a4a-b369-e5e82fee200a\" style=\"height: 525px; width: 100%;\" class=\"plotly-graph-div\"></div><script type=\"text/javascript\">require([\"plotly\"], function(Plotly) { window.PLOTLYENV=window.PLOTLYENV || {};window.PLOTLYENV.BASE_URL=\"https://plot.ly\";\n",
       "if (document.getElementById(\"cc126e4d-ff37-4a4a-b369-e5e82fee200a\")) {\n",
       "    Plotly.newPlot(\"cc126e4d-ff37-4a4a-b369-e5e82fee200a\", [{\"marker\": {\"color\": \"rgba(165, 42, 42, 0.6)\", \"line\": {\"color\": \"rgba(165, 42, 42, 1.0)\", \"width\": 1}}, \"name\": \"Coffee\", \"orientation\": \"v\", \"text\": \"\", \"x\": [2015, 2016, 2017, 2018, 2019, 2020, 2021, 2022, 2023, 2024, 2025, 2026, 2027, 2028, 2029, 2030, 2031, 2032, 2033, 2034, 2035, 2036, 2037, 2038, 2039, 2040], \"y\": [69.6, 66.75, 64.05000000000001, 61.199999999999996, 58.5, 55.650000000000006, 52.949999999999996, 50.099999999999994, 47.25, 44.55, 41.7, 39.0, 36.150000000000006, 33.45, 30.599999999999998, 27.900000000000002, 25.049999999999997, 22.200000000000003, 19.5, 16.65, 13.950000000000001, 11.100000000000001, 8.399999999999999, 5.550000000000001, 2.8499999999999996, 0.0], \"type\": \"bar\", \"uid\": \"06b07292-d238-4a92-a16b-d27ef8ad40c5\"}, {\"marker\": {\"color\": \"rgba(128, 128, 128, 0.6)\", \"line\": {\"color\": \"rgba(128, 128, 128, 1.0)\", \"width\": 1}}, \"name\": \"Cotton\", \"orientation\": \"v\", \"text\": \"\", \"x\": [2015, 2016, 2017, 2018, 2019, 2020, 2021, 2022, 2023, 2024, 2025, 2026, 2027, 2028, 2029, 2030, 2031, 2032, 2033, 2034, 2035, 2036, 2037, 2038, 2039, 2040], \"y\": [1.95, 1.22770388, 1.8, 1.7, 1.7, 1.6, 1.45, 1.45, 1.35, 1.2, 1.2, 1.1, 1.0, 0.9500000000000001, 0.85, 0.5, 0.75, 0.6, 0.7, 0.6000000000000001, 0.4, 0.4, 0.30000000000000004, 0.2, 0.1, 0.0], \"type\": \"bar\", \"uid\": \"b945d0f7-dab9-4a37-96e0-01f54aaf8bbf\"}, {\"marker\": {\"color\": \"rgba(255, 153, 51, 0.6)\", \"line\": {\"color\": \"rgba(255, 153, 51, 1.0)\", \"width\": 1}}, \"name\": \"Peanuts\", \"orientation\": \"v\", \"text\": \"\", \"x\": [2015, 2016, 2017, 2018, 2019, 2020, 2021, 2022, 2023, 2024, 2025, 2026, 2027, 2028, 2029, 2030, 2031, 2032, 2033, 2034, 2035, 2036, 2037, 2038, 2039, 2040], \"y\": [12.0, 11.5, 11.05, 20.1, 19.15, 18.299999999999997, 18.2, 17.2, 16.400000000000002, 15.399999999999999, 14.4, 13.5, 12.5, 11.5, 10.6, 9.6, 8.6, 7.6000000000000005, 6.699999999999999, 5.7, 4.8, 3.9, 2.9, 1.9, 1.45, 0.0], \"type\": \"bar\", \"uid\": \"1cd61d89-3323-4f95-b5a4-05d196c81c13\"}, {\"marker\": {\"color\": \"rgba(255, 215, 0, 0.6)\", \"line\": {\"color\": \"rgba(255, 215, 0, 1.0)\", \"width\": 1}}, \"name\": \"Maize\", \"orientation\": \"v\", \"text\": \"\", \"x\": [2015, 2016, 2017, 2018, 2019, 2020, 2021, 2022, 2023, 2024, 2025, 2026, 2027, 2028, 2029, 2030, 2031, 2032, 2033, 2034, 2035, 2036, 2037, 2038, 2039, 2040], \"y\": [600.15712, 630.803692, 664.49377, 670.8178700000001, 677.2530200000001, 682.0405, 681.0595000000001, 681.86637, 682.6120700000001, 683.4590499999999, 684.98748, 686.69049, 687.4019900000001, 688.1969199999999, 688.7989100000001, 688.9833699999999, 686.31046, 683.42182, 681.4584700000001, 679.45353, 678.4810000000001, 676.34705, 674.2877400000001, 672.28055, 669.7001899999999, 668.08729], \"type\": \"bar\", \"uid\": \"b03b29dc-ac2e-4e69-9263-a803e688eae1\"}, {\"marker\": {\"color\": \"rgba(0, 128, 0, 0.6)\", \"line\": {\"color\": \"rgba(0, 128, 0, 1.0)\", \"width\": 1}}, \"name\": \"Rice\", \"orientation\": \"v\", \"text\": \"\", \"x\": [2015, 2016, 2017, 2018, 2019, 2020, 2021, 2022, 2023, 2024, 2025, 2026, 2027, 2028, 2029, 2030, 2031, 2032, 2033, 2034, 2035, 2036, 2037, 2038, 2039, 2040], \"y\": [1496.33288, 1532.15529, 1502.15348, 1469.0432400000002, 1435.47667, 1403.7633899999998, 1376.97512, 1349.00636, 1321.107, 1293.31544, 1265.30232, 1236.27532, 1208.3513, 1159.1513, 1110.2135099999998, 1131.9588800000001, 1099.92274, 1075.36751, 1010.07776, 945.09432, 878.4076000000001, 828.3350399999999, 778.07294, 729.7540600000001, 716.4858499999999, 716.97811], \"type\": \"bar\", \"uid\": \"1319035d-6d0a-46f6-a61e-a3bc0ed8834c\"}, {\"marker\": {\"color\": \"rgba(178, 34, 34, 0.6)\", \"line\": {\"color\": \"rgba(178, 34, 34, 1.0)\", \"width\": 1}}, \"name\": \"Soybean\", \"orientation\": \"v\", \"text\": \"\", \"x\": [2015, 2016, 2017, 2018, 2019, 2020, 2021, 2022, 2023, 2024, 2025, 2026, 2027, 2028, 2029, 2030, 2031, 2032, 2033, 2034, 2035, 2036, 2037, 2038, 2039, 2040], \"y\": [32.5, 31.2, 29.9, 28.6, 27.3, 26.0, 24.7, 23.4, 22.1, 20.8, 19.5, 18.2, 16.9, 15.6, 14.3, 13.0, 11.7, 10.4, 9.1, 7.8, 6.5, 5.2, 3.9, 2.6, 1.9500000000000002, 0.0], \"type\": \"bar\", \"uid\": \"b1a89d1f-cb47-411b-a425-011e99471f1e\"}, {\"marker\": {\"color\": \"rgba(128, 0, 128, 0.6)\", \"line\": {\"color\": \"rgba(128, 0, 128, 1.0)\", \"width\": 1}}, \"name\": \"Sugarcane\", \"orientation\": \"v\", \"text\": \"\", \"x\": [2015, 2016, 2017, 2018, 2019, 2020, 2021, 2022, 2023, 2024, 2025, 2026, 2027, 2028, 2029, 2030, 2031, 2032, 2033, 2034, 2035, 2036, 2037, 2038, 2039, 2040], \"y\": [346.12677999999994, 344.97677999999996, 343.72677999999996, 342.57678, 341.42678, 340.2767799999999, 339.12677999999994, 337.97677999999996, 336.82678, 335.57678, 334.42678, 333.2767799999999, 332.12677999999994, 330.97677999999996, 329.82678, 253.02607999999998, 252.02608, 250.87608, 249.72608, 248.57608, 247.42608, 246.27608, 245.02608, 243.87608, 242.72608, 241.57608], \"type\": \"bar\", \"uid\": \"550e7ae4-9f44-42a9-9c34-da3bbc1d9369\"}, {\"marker\": {\"color\": \"rgba(255, 0, 136, 0.6)\", \"line\": {\"color\": \"rgba(255, 0, 136, 1.0)\", \"width\": 1}}, \"name\": \"Tea\", \"orientation\": \"v\", \"text\": \"\", \"x\": [2015, 2016, 2017, 2018, 2019, 2020, 2021, 2022, 2023, 2024, 2025, 2026, 2027, 2028, 2029, 2030, 2031, 2032, 2033, 2034, 2035, 2036, 2037, 2038, 2039, 2040], \"y\": [2580.6292000000003, 2579.8792000000003, 2579.2792, 2578.6792, 2577.9292, 2577.3291999999997, 2576.7292, 2575.9792, 2575.3792000000003, 2574.7792, 2574.0292, 2573.4292, 2572.6792, 2572.0791999999997, 2571.4792, 2099.3313000000003, 2098.7313, 2098.1313, 2097.3813, 2096.7813, 2096.1812999999997, 2095.4312999999997, 2094.8313000000003, 2094.2313, 2093.4813, 2092.8813], \"type\": \"bar\", \"uid\": \"a9dea988-133b-44d2-b949-024456561229\"}], {\"barmode\": \"stack\", \"legend\": {\"bgcolor\": \"#FFFFFF\", \"font\": {\"color\": \"#4D5663\"}, \"traceorder\": \"normal\"}, \"paper_bgcolor\": \"#FFFFFF\", \"plot_bgcolor\": \"#FFFFFF\", \"title\": {\"text\": \"Area by crop (North region)\", \"font\": {\"color\": \"#4D5663\"}}, \"xaxis\": {\"gridcolor\": \"#E1E5ED\", \"showgrid\": true, \"tickfont\": {\"color\": \"#4D5663\"}, \"title\": {\"text\": \"Year\", \"font\": {\"color\": \"#4D5663\"}}, \"zerolinecolor\": \"#E1E5ED\"}, \"yaxis\": {\"gridcolor\": \"#E1E5ED\", \"showgrid\": true, \"tickfont\": {\"color\": \"#4D5663\"}, \"title\": {\"text\": \"Land area (kha)\", \"font\": {\"color\": \"#4D5663\"}}, \"zerolinecolor\": \"#E1E5ED\"}}, {\"showLink\": true, \"linkText\": \"Export to plot.ly\", \"plotlyServerURL\": \"https://plot.ly\"}); \n",
       "}\n",
       "});</script><script type=\"text/javascript\">window.addEventListener(\"resize\", function(){if (document.getElementById(\"cc126e4d-ff37-4a4a-b369-e5e82fee200a\")) {window._Plotly.Plots.resize(document.getElementById(\"cc126e4d-ff37-4a4a-b369-e5e82fee200a\"));};})</script>"
      ]
     },
     "metadata": {},
     "output_type": "display_data"
    },
    {
     "data": {
      "application/vnd.plotly.v1+json": {
       "config": {
        "linkText": "Export to plot.ly",
        "plotlyServerURL": "https://plot.ly",
        "showLink": true
       },
       "data": [
        {
         "marker": {
          "color": "rgba(165, 42, 42, 0.6)",
          "line": {
           "color": "rgba(165, 42, 42, 1.0)",
           "width": 1
          }
         },
         "name": "Coffee",
         "orientation": "v",
         "text": "",
         "type": "bar",
         "uid": "abf821b2-9d73-4dfb-8c8d-f075751baee8",
         "x": [
          2015,
          2016,
          2017,
          2018,
          2019,
          2020,
          2021,
          2022,
          2023,
          2024,
          2025,
          2026,
          2027,
          2028,
          2029,
          2030,
          2031,
          2032,
          2033,
          2034,
          2035,
          2036,
          2037,
          2038,
          2039,
          2040
         ],
         "y": [
          38,
          36.5,
          47.3196453,
          66.197733,
          82.346265,
          95.715339,
          103.927655,
          112.06254500000001,
          120.239438,
          128.33489,
          140.25459,
          150.08037000000002,
          200.897132,
          253.17318,
          304.90002000000004,
          407.98459,
          451.85803999999996,
          481.63005,
          534.7250200000001,
          579.58512,
          597.77999,
          606.72495,
          621.71817,
          639.26077,
          677.49212,
          713.3159899999999
         ]
        },
        {
         "marker": {
          "color": "rgba(128, 128, 128, 0.6)",
          "line": {
           "color": "rgba(128, 128, 128, 1.0)",
           "width": 1
          }
         },
         "name": "Cotton",
         "orientation": "v",
         "text": "",
         "type": "bar",
         "uid": "37b180a6-9dc0-4ddc-a339-c8d64e4c006f",
         "x": [
          2015,
          2016,
          2017,
          2018,
          2019,
          2020,
          2021,
          2022,
          2023,
          2024,
          2025,
          2026,
          2027,
          2028,
          2029,
          2030,
          2031,
          2032,
          2033,
          2034,
          2035,
          2036,
          2037,
          2038,
          2039,
          2040
         ],
         "y": [
          24.558000000000003,
          25.002567000000003,
          25.237000000000002,
          25.552,
          25.817,
          28.889169000000003,
          31.622555,
          32.961282999999995,
          34.225841,
          34.546153999999994,
          34.63589700000001,
          34.889672,
          34.948717999999985,
          35.242307999999994,
          35.552564000000004,
          28.868420999999998,
          30.783046000000002,
          33.998238,
          33.48323799999999,
          38.6294118,
          57.390233,
          69.557105,
          75.41342300000001,
          81.73858800000001,
          85.8923,
          87.902556
         ]
        },
        {
         "marker": {
          "color": "rgba(255, 153, 51, 0.6)",
          "line": {
           "color": "rgba(255, 153, 51, 1.0)",
           "width": 1
          }
         },
         "name": "Peanuts",
         "orientation": "v",
         "text": "",
         "type": "bar",
         "uid": "a764531a-6f90-4659-9f5d-6a8dfa5840b3",
         "x": [
          2015,
          2016,
          2017,
          2018,
          2019,
          2020,
          2021,
          2022,
          2023,
          2024,
          2025,
          2026,
          2027,
          2028,
          2029,
          2030,
          2031,
          2032,
          2033,
          2034,
          2035,
          2036,
          2037,
          2038,
          2039,
          2040
         ],
         "y": [
          200.36387,
          200.99820000000003,
          201.34296,
          202.94797000000003,
          205.19191999999998,
          210.03973,
          210.59782,
          211.91525000000004,
          213.17016,
          214.95376,
          216.78975,
          218.25686,
          219.86595,
          221.65590999999998,
          223.26042999999999,
          229.74817,
          229.21513000000002,
          228.51611999999997,
          228.87458,
          229.19179999999997,
          228.70621,
          231.27749,
          231.73467000000005,
          232.09177,
          232.58451999999997,
          233.1785
         ]
        },
        {
         "marker": {
          "color": "rgba(255, 215, 0, 0.6)",
          "line": {
           "color": "rgba(255, 215, 0, 1.0)",
           "width": 1
          }
         },
         "name": "Maize",
         "orientation": "v",
         "text": "",
         "type": "bar",
         "uid": "cf0a75fa-f79c-44ef-a44b-fb05f2e2bf80",
         "x": [
          2015,
          2016,
          2017,
          2018,
          2019,
          2020,
          2021,
          2022,
          2023,
          2024,
          2025,
          2026,
          2027,
          2028,
          2029,
          2030,
          2031,
          2032,
          2033,
          2034,
          2035,
          2036,
          2037,
          2038,
          2039,
          2040
         ],
         "y": [
          48.3,
          46.5,
          44.5,
          42.5,
          40.699999999999996,
          38.7,
          36.8,
          34.8,
          32.9,
          31,
          29,
          38.05,
          35.4,
          32.6,
          29.9,
          21.446253,
          17.4,
          21.75,
          19.1,
          16.3,
          13.5,
          10.950000000000001,
          8.15,
          5.35,
          2.8,
          0
         ]
        },
        {
         "marker": {
          "color": "rgba(0, 128, 0, 0.6)",
          "line": {
           "color": "rgba(0, 128, 0, 1.0)",
           "width": 1
          }
         },
         "name": "Rice",
         "orientation": "v",
         "text": "",
         "type": "bar",
         "uid": "0b8c6242-1203-418e-828c-48e34d5506e4",
         "x": [
          2015,
          2016,
          2017,
          2018,
          2019,
          2020,
          2021,
          2022,
          2023,
          2024,
          2025,
          2026,
          2027,
          2028,
          2029,
          2030,
          2031,
          2032,
          2033,
          2034,
          2035,
          2036,
          2037,
          2038,
          2039,
          2040
         ],
         "y": [
          4239.647800000001,
          4255.5115000000005,
          4262.4465,
          4259.759,
          4257.8759,
          4259.5017,
          4280.565995000001,
          4301.913733,
          4322.7234690000005,
          4343.3218799999995,
          4359.83943,
          4361.4682,
          4339.3850999999995,
          4314.8836,
          4290.5317000000005,
          4221.9578,
          4209.378299999999,
          4199.522599999999,
          4178.8659,
          4157.968,
          4145.1534,
          4149.839201,
          4156.892691000001,
          4160.81778,
          4145.0259399999995,
          4134.067120000001
         ]
        },
        {
         "marker": {
          "color": "rgba(178, 34, 34, 0.6)",
          "line": {
           "color": "rgba(178, 34, 34, 1.0)",
           "width": 1
          }
         },
         "name": "Soybean",
         "orientation": "v",
         "text": "",
         "type": "bar",
         "uid": "76703722-b89d-44cf-87f7-66d1c5d194a2",
         "x": [
          2015,
          2016,
          2017,
          2018,
          2019,
          2020,
          2021,
          2022,
          2023,
          2024,
          2025,
          2026,
          2027,
          2028,
          2029,
          2030,
          2031,
          2032,
          2033,
          2034,
          2035,
          2036,
          2037,
          2038,
          2039,
          2040
         ],
         "y": [
          6.4,
          6.2,
          5.9,
          5.6,
          5.4,
          5.1,
          6.289375,
          7.445937499999999,
          8.635312500000001,
          9.795,
          11.063437500000001,
          12.254687,
          13.41625,
          14.579375,
          15.679375,
          14.079375,
          13.779375,
          13.579375,
          13.279375,
          12.979375,
          13.15320155,
          11.59,
          9.8334375,
          7.9940625,
          6.234375000000001,
          4.2159375
         ]
        },
        {
         "marker": {
          "color": "rgba(128, 0, 128, 0.6)",
          "line": {
           "color": "rgba(128, 0, 128, 1.0)",
           "width": 1
          }
         },
         "name": "Sugarcane",
         "orientation": "v",
         "text": "",
         "type": "bar",
         "uid": "4c0a2b1e-6092-4750-9c78-0e30aa97b3d7",
         "x": [
          2015,
          2016,
          2017,
          2018,
          2019,
          2020,
          2021,
          2022,
          2023,
          2024,
          2025,
          2026,
          2027,
          2028,
          2029,
          2030,
          2031,
          2032,
          2033,
          2034,
          2035,
          2036,
          2037,
          2038,
          2039,
          2040
         ],
         "y": [
          119.48036849999998,
          144.39014,
          165.80364,
          186.85047,
          208.0583,
          222.86508999999998,
          225.58279000000005,
          228.33012999999997,
          230.90853000000004,
          233.41936,
          235.86397,
          243.74369000000002,
          245.65982000000002,
          247.51361999999997,
          249.45635000000001,
          254.09759,
          254.25109999999998,
          255.59367,
          253.49056999999996,
          254.00798000000003,
          259.14684,
          260.6949,
          262.0410099999999,
          263.33619,
          264.73145999999997,
          265.92783
         ]
        },
        {
         "marker": {
          "color": "rgba(255, 0, 136, 0.6)",
          "line": {
           "color": "rgba(255, 0, 136, 1.0)",
           "width": 1
          }
         },
         "name": "Tea",
         "orientation": "v",
         "text": "",
         "type": "bar",
         "uid": "8f48acaf-35c6-43f6-8139-747b3528ebbb",
         "x": [
          2015,
          2016,
          2017,
          2018,
          2019,
          2020,
          2021,
          2022,
          2023,
          2024,
          2025,
          2026,
          2027,
          2028,
          2029,
          2030,
          2031,
          2032,
          2033,
          2034,
          2035,
          2036,
          2037,
          2038,
          2039,
          2040
         ],
         "y": [
          13.350000000000001,
          12.75,
          12.299999999999999,
          11.7,
          11.25,
          10.649999999999999,
          10.2,
          9.600000000000001,
          9,
          8.55,
          7.949999999999999,
          7.5,
          6.8999999999999995,
          6.449999999999999,
          5.85,
          5.4,
          4.800000000000001,
          4.199999999999999,
          3.75,
          3.1500000000000004,
          2.7,
          2.0999999999999996,
          1.6500000000000001,
          1.0499999999999998,
          0.6000000000000001,
          0
         ]
        }
       ],
       "layout": {
        "barmode": "stack",
        "legend": {
         "bgcolor": "#FFFFFF",
         "font": {
          "color": "#4D5663"
         },
         "traceorder": "normal"
        },
        "paper_bgcolor": "#FFFFFF",
        "plot_bgcolor": "#FFFFFF",
        "title": {
         "font": {
          "color": "#4D5663"
         },
         "text": "Area by crop (South region)"
        },
        "xaxis": {
         "gridcolor": "#E1E5ED",
         "showgrid": true,
         "tickfont": {
          "color": "#4D5663"
         },
         "title": {
          "font": {
           "color": "#4D5663"
          },
          "text": "Year"
         },
         "zerolinecolor": "#E1E5ED"
        },
        "yaxis": {
         "gridcolor": "#E1E5ED",
         "showgrid": true,
         "tickfont": {
          "color": "#4D5663"
         },
         "title": {
          "font": {
           "color": "#4D5663"
          },
          "text": "Land area (kha)"
         },
         "zerolinecolor": "#E1E5ED"
        }
       }
      },
      "text/html": [
       "<div id=\"1397c745-9dd8-45a1-82a6-68402a949473\" style=\"height: 525px; width: 100%;\" class=\"plotly-graph-div\"></div><script type=\"text/javascript\">require([\"plotly\"], function(Plotly) { window.PLOTLYENV=window.PLOTLYENV || {};window.PLOTLYENV.BASE_URL=\"https://plot.ly\";\n",
       "if (document.getElementById(\"1397c745-9dd8-45a1-82a6-68402a949473\")) {\n",
       "    Plotly.newPlot(\"1397c745-9dd8-45a1-82a6-68402a949473\", [{\"marker\": {\"color\": \"rgba(165, 42, 42, 0.6)\", \"line\": {\"color\": \"rgba(165, 42, 42, 1.0)\", \"width\": 1}}, \"name\": \"Coffee\", \"orientation\": \"v\", \"text\": \"\", \"x\": [2015, 2016, 2017, 2018, 2019, 2020, 2021, 2022, 2023, 2024, 2025, 2026, 2027, 2028, 2029, 2030, 2031, 2032, 2033, 2034, 2035, 2036, 2037, 2038, 2039, 2040], \"y\": [38.0, 36.5, 47.3196453, 66.197733, 82.346265, 95.715339, 103.927655, 112.06254500000001, 120.239438, 128.33489, 140.25459, 150.08037000000002, 200.897132, 253.17318, 304.90002000000004, 407.98459, 451.85803999999996, 481.63005, 534.7250200000001, 579.58512, 597.77999, 606.72495, 621.71817, 639.26077, 677.49212, 713.3159899999999], \"type\": \"bar\", \"uid\": \"26a2f38f-6a5c-4f6b-b5d0-6bb5effd857b\"}, {\"marker\": {\"color\": \"rgba(128, 128, 128, 0.6)\", \"line\": {\"color\": \"rgba(128, 128, 128, 1.0)\", \"width\": 1}}, \"name\": \"Cotton\", \"orientation\": \"v\", \"text\": \"\", \"x\": [2015, 2016, 2017, 2018, 2019, 2020, 2021, 2022, 2023, 2024, 2025, 2026, 2027, 2028, 2029, 2030, 2031, 2032, 2033, 2034, 2035, 2036, 2037, 2038, 2039, 2040], \"y\": [24.558000000000003, 25.002567000000003, 25.237000000000002, 25.552, 25.817, 28.889169000000003, 31.622555, 32.961282999999995, 34.225841, 34.546153999999994, 34.63589700000001, 34.889672, 34.948717999999985, 35.242307999999994, 35.552564000000004, 28.868420999999998, 30.783046000000002, 33.998238, 33.48323799999999, 38.6294118, 57.390233, 69.557105, 75.41342300000001, 81.73858800000001, 85.8923, 87.902556], \"type\": \"bar\", \"uid\": \"b2d49dd4-ef6c-4d4b-9d23-dfe4ec8e4957\"}, {\"marker\": {\"color\": \"rgba(255, 153, 51, 0.6)\", \"line\": {\"color\": \"rgba(255, 153, 51, 1.0)\", \"width\": 1}}, \"name\": \"Peanuts\", \"orientation\": \"v\", \"text\": \"\", \"x\": [2015, 2016, 2017, 2018, 2019, 2020, 2021, 2022, 2023, 2024, 2025, 2026, 2027, 2028, 2029, 2030, 2031, 2032, 2033, 2034, 2035, 2036, 2037, 2038, 2039, 2040], \"y\": [200.36387, 200.99820000000003, 201.34296, 202.94797000000003, 205.19191999999998, 210.03973, 210.59782, 211.91525000000004, 213.17016, 214.95376, 216.78975, 218.25686, 219.86595, 221.65590999999998, 223.26042999999999, 229.74817, 229.21513000000002, 228.51611999999997, 228.87458, 229.19179999999997, 228.70621, 231.27749, 231.73467000000005, 232.09177, 232.58451999999997, 233.1785], \"type\": \"bar\", \"uid\": \"4cc0ea6c-a120-4a37-bd91-b09302bd2421\"}, {\"marker\": {\"color\": \"rgba(255, 215, 0, 0.6)\", \"line\": {\"color\": \"rgba(255, 215, 0, 1.0)\", \"width\": 1}}, \"name\": \"Maize\", \"orientation\": \"v\", \"text\": \"\", \"x\": [2015, 2016, 2017, 2018, 2019, 2020, 2021, 2022, 2023, 2024, 2025, 2026, 2027, 2028, 2029, 2030, 2031, 2032, 2033, 2034, 2035, 2036, 2037, 2038, 2039, 2040], \"y\": [48.3, 46.5, 44.5, 42.5, 40.699999999999996, 38.7, 36.8, 34.8, 32.9, 31.0, 29.0, 38.05, 35.4, 32.6, 29.9, 21.446253, 17.4, 21.75, 19.1, 16.3, 13.5, 10.950000000000001, 8.15, 5.35, 2.8, 0.0], \"type\": \"bar\", \"uid\": \"00033d53-2b38-4d68-8e83-e70ba639f50d\"}, {\"marker\": {\"color\": \"rgba(0, 128, 0, 0.6)\", \"line\": {\"color\": \"rgba(0, 128, 0, 1.0)\", \"width\": 1}}, \"name\": \"Rice\", \"orientation\": \"v\", \"text\": \"\", \"x\": [2015, 2016, 2017, 2018, 2019, 2020, 2021, 2022, 2023, 2024, 2025, 2026, 2027, 2028, 2029, 2030, 2031, 2032, 2033, 2034, 2035, 2036, 2037, 2038, 2039, 2040], \"y\": [4239.647800000001, 4255.5115000000005, 4262.4465, 4259.759, 4257.8759, 4259.5017, 4280.565995000001, 4301.913733, 4322.7234690000005, 4343.3218799999995, 4359.83943, 4361.4682, 4339.3850999999995, 4314.8836, 4290.5317000000005, 4221.9578, 4209.378299999999, 4199.522599999999, 4178.8659, 4157.968, 4145.1534, 4149.839201, 4156.892691000001, 4160.81778, 4145.0259399999995, 4134.067120000001], \"type\": \"bar\", \"uid\": \"87d4fbad-acd2-4cd3-bc1e-066ca80b84c0\"}, {\"marker\": {\"color\": \"rgba(178, 34, 34, 0.6)\", \"line\": {\"color\": \"rgba(178, 34, 34, 1.0)\", \"width\": 1}}, \"name\": \"Soybean\", \"orientation\": \"v\", \"text\": \"\", \"x\": [2015, 2016, 2017, 2018, 2019, 2020, 2021, 2022, 2023, 2024, 2025, 2026, 2027, 2028, 2029, 2030, 2031, 2032, 2033, 2034, 2035, 2036, 2037, 2038, 2039, 2040], \"y\": [6.4, 6.2, 5.9, 5.6, 5.4, 5.1, 6.289375, 7.445937499999999, 8.635312500000001, 9.795, 11.063437500000001, 12.254687, 13.41625, 14.579375, 15.679375, 14.079375, 13.779375, 13.579375, 13.279375, 12.979375, 13.15320155, 11.59, 9.8334375, 7.9940625, 6.234375000000001, 4.2159375], \"type\": \"bar\", \"uid\": \"e26552f1-d012-448c-8683-7ce796b3dfd9\"}, {\"marker\": {\"color\": \"rgba(128, 0, 128, 0.6)\", \"line\": {\"color\": \"rgba(128, 0, 128, 1.0)\", \"width\": 1}}, \"name\": \"Sugarcane\", \"orientation\": \"v\", \"text\": \"\", \"x\": [2015, 2016, 2017, 2018, 2019, 2020, 2021, 2022, 2023, 2024, 2025, 2026, 2027, 2028, 2029, 2030, 2031, 2032, 2033, 2034, 2035, 2036, 2037, 2038, 2039, 2040], \"y\": [119.48036849999998, 144.39014, 165.80364, 186.85047, 208.0583, 222.86508999999998, 225.58279000000005, 228.33012999999997, 230.90853000000004, 233.41936, 235.86397, 243.74369000000002, 245.65982000000002, 247.51361999999997, 249.45635000000001, 254.09759, 254.25109999999998, 255.59367, 253.49056999999996, 254.00798000000003, 259.14684, 260.6949, 262.0410099999999, 263.33619, 264.73145999999997, 265.92783], \"type\": \"bar\", \"uid\": \"8c489179-b3de-4deb-8a50-60e98dab2993\"}, {\"marker\": {\"color\": \"rgba(255, 0, 136, 0.6)\", \"line\": {\"color\": \"rgba(255, 0, 136, 1.0)\", \"width\": 1}}, \"name\": \"Tea\", \"orientation\": \"v\", \"text\": \"\", \"x\": [2015, 2016, 2017, 2018, 2019, 2020, 2021, 2022, 2023, 2024, 2025, 2026, 2027, 2028, 2029, 2030, 2031, 2032, 2033, 2034, 2035, 2036, 2037, 2038, 2039, 2040], \"y\": [13.350000000000001, 12.75, 12.299999999999999, 11.7, 11.25, 10.649999999999999, 10.2, 9.600000000000001, 9.0, 8.55, 7.949999999999999, 7.5, 6.8999999999999995, 6.449999999999999, 5.85, 5.4, 4.800000000000001, 4.199999999999999, 3.75, 3.1500000000000004, 2.7, 2.0999999999999996, 1.6500000000000001, 1.0499999999999998, 0.6000000000000001, 0.0], \"type\": \"bar\", \"uid\": \"0612865e-a5f4-4bac-8af0-c089cd67f3ec\"}], {\"barmode\": \"stack\", \"legend\": {\"bgcolor\": \"#FFFFFF\", \"font\": {\"color\": \"#4D5663\"}, \"traceorder\": \"normal\"}, \"paper_bgcolor\": \"#FFFFFF\", \"plot_bgcolor\": \"#FFFFFF\", \"title\": {\"text\": \"Area by crop (South region)\", \"font\": {\"color\": \"#4D5663\"}}, \"xaxis\": {\"gridcolor\": \"#E1E5ED\", \"showgrid\": true, \"tickfont\": {\"color\": \"#4D5663\"}, \"title\": {\"text\": \"Year\", \"font\": {\"color\": \"#4D5663\"}}, \"zerolinecolor\": \"#E1E5ED\"}, \"yaxis\": {\"gridcolor\": \"#E1E5ED\", \"showgrid\": true, \"tickfont\": {\"color\": \"#4D5663\"}, \"title\": {\"text\": \"Land area (kha)\", \"font\": {\"color\": \"#4D5663\"}}, \"zerolinecolor\": \"#E1E5ED\"}}, {\"showLink\": true, \"linkText\": \"Export to plot.ly\", \"plotlyServerURL\": \"https://plot.ly\"}); \n",
       "}\n",
       "});</script><script type=\"text/javascript\">window.addEventListener(\"resize\", function(){if (document.getElementById(\"1397c745-9dd8-45a1-82a6-68402a949473\")) {window._Plotly.Plots.resize(document.getElementById(\"1397c745-9dd8-45a1-82a6-68402a949473\"));};})</script>"
      ],
      "text/vnd.plotly.v1+html": [
       "<div id=\"1397c745-9dd8-45a1-82a6-68402a949473\" style=\"height: 525px; width: 100%;\" class=\"plotly-graph-div\"></div><script type=\"text/javascript\">require([\"plotly\"], function(Plotly) { window.PLOTLYENV=window.PLOTLYENV || {};window.PLOTLYENV.BASE_URL=\"https://plot.ly\";\n",
       "if (document.getElementById(\"1397c745-9dd8-45a1-82a6-68402a949473\")) {\n",
       "    Plotly.newPlot(\"1397c745-9dd8-45a1-82a6-68402a949473\", [{\"marker\": {\"color\": \"rgba(165, 42, 42, 0.6)\", \"line\": {\"color\": \"rgba(165, 42, 42, 1.0)\", \"width\": 1}}, \"name\": \"Coffee\", \"orientation\": \"v\", \"text\": \"\", \"x\": [2015, 2016, 2017, 2018, 2019, 2020, 2021, 2022, 2023, 2024, 2025, 2026, 2027, 2028, 2029, 2030, 2031, 2032, 2033, 2034, 2035, 2036, 2037, 2038, 2039, 2040], \"y\": [38.0, 36.5, 47.3196453, 66.197733, 82.346265, 95.715339, 103.927655, 112.06254500000001, 120.239438, 128.33489, 140.25459, 150.08037000000002, 200.897132, 253.17318, 304.90002000000004, 407.98459, 451.85803999999996, 481.63005, 534.7250200000001, 579.58512, 597.77999, 606.72495, 621.71817, 639.26077, 677.49212, 713.3159899999999], \"type\": \"bar\", \"uid\": \"26a2f38f-6a5c-4f6b-b5d0-6bb5effd857b\"}, {\"marker\": {\"color\": \"rgba(128, 128, 128, 0.6)\", \"line\": {\"color\": \"rgba(128, 128, 128, 1.0)\", \"width\": 1}}, \"name\": \"Cotton\", \"orientation\": \"v\", \"text\": \"\", \"x\": [2015, 2016, 2017, 2018, 2019, 2020, 2021, 2022, 2023, 2024, 2025, 2026, 2027, 2028, 2029, 2030, 2031, 2032, 2033, 2034, 2035, 2036, 2037, 2038, 2039, 2040], \"y\": [24.558000000000003, 25.002567000000003, 25.237000000000002, 25.552, 25.817, 28.889169000000003, 31.622555, 32.961282999999995, 34.225841, 34.546153999999994, 34.63589700000001, 34.889672, 34.948717999999985, 35.242307999999994, 35.552564000000004, 28.868420999999998, 30.783046000000002, 33.998238, 33.48323799999999, 38.6294118, 57.390233, 69.557105, 75.41342300000001, 81.73858800000001, 85.8923, 87.902556], \"type\": \"bar\", \"uid\": \"b2d49dd4-ef6c-4d4b-9d23-dfe4ec8e4957\"}, {\"marker\": {\"color\": \"rgba(255, 153, 51, 0.6)\", \"line\": {\"color\": \"rgba(255, 153, 51, 1.0)\", \"width\": 1}}, \"name\": \"Peanuts\", \"orientation\": \"v\", \"text\": \"\", \"x\": [2015, 2016, 2017, 2018, 2019, 2020, 2021, 2022, 2023, 2024, 2025, 2026, 2027, 2028, 2029, 2030, 2031, 2032, 2033, 2034, 2035, 2036, 2037, 2038, 2039, 2040], \"y\": [200.36387, 200.99820000000003, 201.34296, 202.94797000000003, 205.19191999999998, 210.03973, 210.59782, 211.91525000000004, 213.17016, 214.95376, 216.78975, 218.25686, 219.86595, 221.65590999999998, 223.26042999999999, 229.74817, 229.21513000000002, 228.51611999999997, 228.87458, 229.19179999999997, 228.70621, 231.27749, 231.73467000000005, 232.09177, 232.58451999999997, 233.1785], \"type\": \"bar\", \"uid\": \"4cc0ea6c-a120-4a37-bd91-b09302bd2421\"}, {\"marker\": {\"color\": \"rgba(255, 215, 0, 0.6)\", \"line\": {\"color\": \"rgba(255, 215, 0, 1.0)\", \"width\": 1}}, \"name\": \"Maize\", \"orientation\": \"v\", \"text\": \"\", \"x\": [2015, 2016, 2017, 2018, 2019, 2020, 2021, 2022, 2023, 2024, 2025, 2026, 2027, 2028, 2029, 2030, 2031, 2032, 2033, 2034, 2035, 2036, 2037, 2038, 2039, 2040], \"y\": [48.3, 46.5, 44.5, 42.5, 40.699999999999996, 38.7, 36.8, 34.8, 32.9, 31.0, 29.0, 38.05, 35.4, 32.6, 29.9, 21.446253, 17.4, 21.75, 19.1, 16.3, 13.5, 10.950000000000001, 8.15, 5.35, 2.8, 0.0], \"type\": \"bar\", \"uid\": \"00033d53-2b38-4d68-8e83-e70ba639f50d\"}, {\"marker\": {\"color\": \"rgba(0, 128, 0, 0.6)\", \"line\": {\"color\": \"rgba(0, 128, 0, 1.0)\", \"width\": 1}}, \"name\": \"Rice\", \"orientation\": \"v\", \"text\": \"\", \"x\": [2015, 2016, 2017, 2018, 2019, 2020, 2021, 2022, 2023, 2024, 2025, 2026, 2027, 2028, 2029, 2030, 2031, 2032, 2033, 2034, 2035, 2036, 2037, 2038, 2039, 2040], \"y\": [4239.647800000001, 4255.5115000000005, 4262.4465, 4259.759, 4257.8759, 4259.5017, 4280.565995000001, 4301.913733, 4322.7234690000005, 4343.3218799999995, 4359.83943, 4361.4682, 4339.3850999999995, 4314.8836, 4290.5317000000005, 4221.9578, 4209.378299999999, 4199.522599999999, 4178.8659, 4157.968, 4145.1534, 4149.839201, 4156.892691000001, 4160.81778, 4145.0259399999995, 4134.067120000001], \"type\": \"bar\", \"uid\": \"87d4fbad-acd2-4cd3-bc1e-066ca80b84c0\"}, {\"marker\": {\"color\": \"rgba(178, 34, 34, 0.6)\", \"line\": {\"color\": \"rgba(178, 34, 34, 1.0)\", \"width\": 1}}, \"name\": \"Soybean\", \"orientation\": \"v\", \"text\": \"\", \"x\": [2015, 2016, 2017, 2018, 2019, 2020, 2021, 2022, 2023, 2024, 2025, 2026, 2027, 2028, 2029, 2030, 2031, 2032, 2033, 2034, 2035, 2036, 2037, 2038, 2039, 2040], \"y\": [6.4, 6.2, 5.9, 5.6, 5.4, 5.1, 6.289375, 7.445937499999999, 8.635312500000001, 9.795, 11.063437500000001, 12.254687, 13.41625, 14.579375, 15.679375, 14.079375, 13.779375, 13.579375, 13.279375, 12.979375, 13.15320155, 11.59, 9.8334375, 7.9940625, 6.234375000000001, 4.2159375], \"type\": \"bar\", \"uid\": \"e26552f1-d012-448c-8683-7ce796b3dfd9\"}, {\"marker\": {\"color\": \"rgba(128, 0, 128, 0.6)\", \"line\": {\"color\": \"rgba(128, 0, 128, 1.0)\", \"width\": 1}}, \"name\": \"Sugarcane\", \"orientation\": \"v\", \"text\": \"\", \"x\": [2015, 2016, 2017, 2018, 2019, 2020, 2021, 2022, 2023, 2024, 2025, 2026, 2027, 2028, 2029, 2030, 2031, 2032, 2033, 2034, 2035, 2036, 2037, 2038, 2039, 2040], \"y\": [119.48036849999998, 144.39014, 165.80364, 186.85047, 208.0583, 222.86508999999998, 225.58279000000005, 228.33012999999997, 230.90853000000004, 233.41936, 235.86397, 243.74369000000002, 245.65982000000002, 247.51361999999997, 249.45635000000001, 254.09759, 254.25109999999998, 255.59367, 253.49056999999996, 254.00798000000003, 259.14684, 260.6949, 262.0410099999999, 263.33619, 264.73145999999997, 265.92783], \"type\": \"bar\", \"uid\": \"8c489179-b3de-4deb-8a50-60e98dab2993\"}, {\"marker\": {\"color\": \"rgba(255, 0, 136, 0.6)\", \"line\": {\"color\": \"rgba(255, 0, 136, 1.0)\", \"width\": 1}}, \"name\": \"Tea\", \"orientation\": \"v\", \"text\": \"\", \"x\": [2015, 2016, 2017, 2018, 2019, 2020, 2021, 2022, 2023, 2024, 2025, 2026, 2027, 2028, 2029, 2030, 2031, 2032, 2033, 2034, 2035, 2036, 2037, 2038, 2039, 2040], \"y\": [13.350000000000001, 12.75, 12.299999999999999, 11.7, 11.25, 10.649999999999999, 10.2, 9.600000000000001, 9.0, 8.55, 7.949999999999999, 7.5, 6.8999999999999995, 6.449999999999999, 5.85, 5.4, 4.800000000000001, 4.199999999999999, 3.75, 3.1500000000000004, 2.7, 2.0999999999999996, 1.6500000000000001, 1.0499999999999998, 0.6000000000000001, 0.0], \"type\": \"bar\", \"uid\": \"0612865e-a5f4-4bac-8af0-c089cd67f3ec\"}], {\"barmode\": \"stack\", \"legend\": {\"bgcolor\": \"#FFFFFF\", \"font\": {\"color\": \"#4D5663\"}, \"traceorder\": \"normal\"}, \"paper_bgcolor\": \"#FFFFFF\", \"plot_bgcolor\": \"#FFFFFF\", \"title\": {\"text\": \"Area by crop (South region)\", \"font\": {\"color\": \"#4D5663\"}}, \"xaxis\": {\"gridcolor\": \"#E1E5ED\", \"showgrid\": true, \"tickfont\": {\"color\": \"#4D5663\"}, \"title\": {\"text\": \"Year\", \"font\": {\"color\": \"#4D5663\"}}, \"zerolinecolor\": \"#E1E5ED\"}, \"yaxis\": {\"gridcolor\": \"#E1E5ED\", \"showgrid\": true, \"tickfont\": {\"color\": \"#4D5663\"}, \"title\": {\"text\": \"Land area (kha)\", \"font\": {\"color\": \"#4D5663\"}}, \"zerolinecolor\": \"#E1E5ED\"}}, {\"showLink\": true, \"linkText\": \"Export to plot.ly\", \"plotlyServerURL\": \"https://plot.ly\"}); \n",
       "}\n",
       "});</script><script type=\"text/javascript\">window.addEventListener(\"resize\", function(){if (document.getElementById(\"1397c745-9dd8-45a1-82a6-68402a949473\")) {window._Plotly.Plots.resize(document.getElementById(\"1397c745-9dd8-45a1-82a6-68402a949473\"));};})</script>"
      ]
     },
     "metadata": {},
     "output_type": "display_data"
    }
   ],
   "source": [
    "for each in regions.keys():\n",
    "    crops_region_df = all_params['TotalTechnologyAnnualActivity'][all_params['TotalTechnologyAnnualActivity'].t.str.startswith('LNDCP')].drop('r', axis=1)\n",
    "    crops_region_df = crops_region_df[crops_region_df.t.str[6:7] == each]\n",
    "    crops_region_df = df_filter(crops_region_df,3,6,[])\n",
    "    df_plot(crops_region_df,'Land area (kha)','Area by crop (' + regions[each] + ' region)')"
   ]
  },
  {
   "cell_type": "code",
   "execution_count": 252,
   "metadata": {},
   "outputs": [
    {
     "data": {
      "application/vnd.plotly.v1+json": {
       "config": {
        "linkText": "Export to plot.ly",
        "plotlyServerURL": "https://plot.ly",
        "showLink": true
       },
       "data": [
        {
         "marker": {
          "color": "rgba(128, 128, 128, 0.6)",
          "line": {
           "color": "rgba(128, 128, 128, 1.0)",
           "width": 1
          }
         },
         "name": "Barren land",
         "orientation": "v",
         "text": "",
         "type": "bar",
         "uid": "2bbe11a2-e531-4b50-b9de-0688fc0e9d7d",
         "x": [
          2015,
          2016,
          2017,
          2018,
          2019,
          2020,
          2021,
          2022,
          2023,
          2024,
          2025,
          2026,
          2027,
          2028,
          2029,
          2030,
          2031,
          2032,
          2033,
          2034,
          2035,
          2036,
          2037,
          2038,
          2039,
          2040
         ],
         "y": [
          0.73,
          0.73,
          0.73,
          0.73,
          0.73,
          0.73,
          0.73,
          0.73,
          0.73,
          0.73,
          0.73,
          0.73,
          0.73,
          0.73,
          0.73,
          0.73,
          0.73,
          0.73,
          0.73,
          0.73,
          0.73,
          0.73,
          0.73,
          0.73,
          0.73,
          0.73
         ]
        },
        {
         "marker": {
          "color": "rgba(34, 139, 34, 0.6)",
          "line": {
           "color": "rgba(34, 139, 34, 1.0)",
           "width": 1
          }
         },
         "name": "Forests",
         "orientation": "v",
         "text": "",
         "type": "bar",
         "uid": "3633491a-f3aa-419d-a096-58f077886676",
         "x": [
          2015,
          2016,
          2017,
          2018,
          2019,
          2020,
          2021,
          2022,
          2023,
          2024,
          2025,
          2026,
          2027,
          2028,
          2029,
          2030,
          2031,
          2032,
          2033,
          2034,
          2035,
          2036,
          2037,
          2038,
          2039,
          2040
         ],
         "y": [
          6145.4,
          6022.492,
          5902.0422,
          5784.0013,
          5668.3213,
          5554.9549,
          5443.8558,
          5334.9787,
          5228.2791,
          5123.7135,
          5021.2392,
          4920.8144,
          4822.3982,
          4725.9502,
          4631.4312,
          4538.8026,
          4538.8026,
          4538.8026,
          4527.7148,
          4507.3309,
          4482.2025,
          4466.4885,
          4459.906,
          4456.1184,
          4517.4913,
          4538.8026
         ]
        },
        {
         "marker": {
          "color": "rgba(0, 100, 0, 0.6)",
          "line": {
           "color": "rgba(0, 100, 0, 1.0)",
           "width": 1
          }
         },
         "name": "Grassland & woodland",
         "orientation": "v",
         "text": "",
         "type": "bar",
         "uid": "f24636d5-4495-451f-b856-70f20746abe2",
         "x": [
          2015,
          2016,
          2017,
          2018,
          2019,
          2020,
          2021,
          2022,
          2023,
          2024,
          2025,
          2026,
          2027,
          2028,
          2029,
          2030,
          2031,
          2032,
          2033,
          2034,
          2035,
          2036,
          2037,
          2038,
          2039,
          2040
         ],
         "y": [
          428.62,
          463.5446,
          497.82371,
          531.42123,
          566.06101,
          597.53065,
          685.17669,
          764.23014,
          841.03009,
          910.97844,
          1007.2444,
          1104.7108,
          1186.2829,
          1228.3206,
          1226.7933,
          1202.2574,
          1185.4532,
          1196.7263,
          1172.7918,
          1149.336,
          1126.3492,
          1103.8223,
          1081.7458,
          1060.1109,
          1038.9087,
          1070.6565
         ]
        },
        {
         "marker": {
          "color": "rgba(255, 215, 0, 0.6)",
          "line": {
           "color": "rgba(255, 215, 0, 1.0)",
           "width": 1
          }
         },
         "name": "Other agricultural land",
         "orientation": "v",
         "text": "",
         "type": "bar",
         "uid": "997c8592-aff6-40f2-946b-0f8b7c3a4bdd",
         "x": [
          2015,
          2016,
          2017,
          2018,
          2019,
          2020,
          2021,
          2022,
          2023,
          2024,
          2025,
          2026,
          2027,
          2028,
          2029,
          2030,
          2031,
          2032,
          2033,
          2034,
          2035,
          2036,
          2037,
          2038,
          2039,
          2040
         ],
         "y": [
          568,
          568,
          568,
          568,
          568,
          568,
          568,
          568,
          568,
          568,
          568,
          568,
          568,
          568,
          568,
          568,
          568,
          568,
          568,
          568,
          568,
          568,
          568,
          568,
          568,
          568
         ]
        },
        {
         "marker": {
          "color": "rgba(0, 0, 0, 0.6)",
          "line": {
           "color": "rgba(0, 0, 0, 1.0)",
           "width": 1
          }
         },
         "name": "Built-up land",
         "orientation": "v",
         "text": "",
         "type": "bar",
         "uid": "888ec0c3-f50b-46b5-9226-f08eb60edbd3",
         "x": [
          2015,
          2016,
          2017,
          2018,
          2019,
          2020,
          2021,
          2022,
          2023,
          2024,
          2025,
          2026,
          2027,
          2028,
          2029,
          2030,
          2031,
          2032,
          2033,
          2034,
          2035,
          2036,
          2037,
          2038,
          2039,
          2040
         ],
         "y": [
          462.2,
          462.2,
          462.2,
          462.2,
          462.2,
          462.2,
          462.2,
          462.2,
          462.2,
          462.2,
          462.2,
          462.2,
          462.2,
          462.2,
          462.2,
          462.2,
          462.2,
          462.2,
          462.2,
          462.2,
          462.2,
          462.2,
          462.2,
          462.2,
          462.2,
          462.2
         ]
        },
        {
         "marker": {
          "color": "rgba(55, 128, 191, 0.6)",
          "line": {
           "color": "rgba(55, 128, 191, 1.0)",
           "width": 1
          }
         },
         "name": "Water",
         "orientation": "v",
         "text": "",
         "type": "bar",
         "uid": "37369c55-4fea-41cf-b859-02217afbf988",
         "x": [
          2015,
          2016,
          2017,
          2018,
          2019,
          2020,
          2021,
          2022,
          2023,
          2024,
          2025,
          2026,
          2027,
          2028,
          2029,
          2030,
          2031,
          2032,
          2033,
          2034,
          2035,
          2036,
          2037,
          2038,
          2039,
          2040
         ],
         "y": [
          162.14,
          162.14,
          162.14,
          162.14,
          162.14,
          162.14,
          162.14,
          162.14,
          162.14,
          162.14,
          162.14,
          162.14,
          162.14,
          162.14,
          162.14,
          162.14,
          162.14,
          162.14,
          162.14,
          162.14,
          162.14,
          162.14,
          162.14,
          162.14,
          162.14,
          162.14
         ]
        },
        {
         "marker": {
          "color": "rgba(165, 42, 42, 0.6)",
          "line": {
           "color": "rgba(165, 42, 42, 1.0)",
           "width": 1
          }
         },
         "name": "Agriculture",
         "orientation": "v",
         "text": "",
         "type": "bar",
         "uid": "d281467c-8db4-4e50-b5b2-05f550468b9f",
         "x": [
          2015,
          2016,
          2017,
          2018,
          2019,
          2020,
          2021,
          2022,
          2023,
          2024,
          2025,
          2026,
          2027,
          2028,
          2029,
          2030,
          2031,
          2032,
          2033,
          2034,
          2035,
          2036,
          2037,
          2038,
          2039,
          2040
         ],
         "y": [
          5211.909991,
          5299.893470999999,
          5386.064207,
          5470.50753,
          5551.547676,
          5633.444470959999,
          5656.8975507999985,
          5686.721146999999,
          5716.62071,
          5751.238012999999,
          5757.446381,
          5760.404876,
          5777.248876,
          5831.659176000001,
          5884.748099,
          6044.8700229999995,
          6061.674309,
          6050.401126999999,
          6085.4234910000005,
          6129.263185,
          6177.378285,
          6215.619210999999,
          6244.278221999999,
          6269.700841000001,
          6229.5300050000005,
          6176.470971
         ]
        }
       ],
       "layout": {
        "barmode": "stack",
        "legend": {
         "bgcolor": "#FFFFFF",
         "font": {
          "color": "#4D5663"
         },
         "traceorder": "normal"
        },
        "paper_bgcolor": "#FFFFFF",
        "plot_bgcolor": "#FFFFFF",
        "title": {
         "font": {
          "color": "#4D5663"
         },
         "text": "Area by land cover type (Center region)"
        },
        "xaxis": {
         "gridcolor": "#E1E5ED",
         "showgrid": true,
         "tickfont": {
          "color": "#4D5663"
         },
         "title": {
          "font": {
           "color": "#4D5663"
          },
          "text": "Year"
         },
         "zerolinecolor": "#E1E5ED"
        },
        "yaxis": {
         "gridcolor": "#E1E5ED",
         "showgrid": true,
         "tickfont": {
          "color": "#4D5663"
         },
         "title": {
          "font": {
           "color": "#4D5663"
          },
          "text": "Land area (kha)"
         },
         "zerolinecolor": "#E1E5ED"
        }
       }
      },
      "text/html": [
       "<div id=\"22b79f60-667b-479b-8bff-93b02b608443\" style=\"height: 525px; width: 100%;\" class=\"plotly-graph-div\"></div><script type=\"text/javascript\">require([\"plotly\"], function(Plotly) { window.PLOTLYENV=window.PLOTLYENV || {};window.PLOTLYENV.BASE_URL=\"https://plot.ly\";\n",
       "if (document.getElementById(\"22b79f60-667b-479b-8bff-93b02b608443\")) {\n",
       "    Plotly.newPlot(\"22b79f60-667b-479b-8bff-93b02b608443\", [{\"marker\": {\"color\": \"rgba(128, 128, 128, 0.6)\", \"line\": {\"color\": \"rgba(128, 128, 128, 1.0)\", \"width\": 1}}, \"name\": \"Barren land\", \"orientation\": \"v\", \"text\": \"\", \"x\": [2015, 2016, 2017, 2018, 2019, 2020, 2021, 2022, 2023, 2024, 2025, 2026, 2027, 2028, 2029, 2030, 2031, 2032, 2033, 2034, 2035, 2036, 2037, 2038, 2039, 2040], \"y\": [0.73, 0.73, 0.73, 0.73, 0.73, 0.73, 0.73, 0.73, 0.73, 0.73, 0.73, 0.73, 0.73, 0.73, 0.73, 0.73, 0.73, 0.73, 0.73, 0.73, 0.73, 0.73, 0.73, 0.73, 0.73, 0.73], \"type\": \"bar\", \"uid\": \"ac3f65f3-3a76-4680-b817-e0812f2502ac\"}, {\"marker\": {\"color\": \"rgba(34, 139, 34, 0.6)\", \"line\": {\"color\": \"rgba(34, 139, 34, 1.0)\", \"width\": 1}}, \"name\": \"Forests\", \"orientation\": \"v\", \"text\": \"\", \"x\": [2015, 2016, 2017, 2018, 2019, 2020, 2021, 2022, 2023, 2024, 2025, 2026, 2027, 2028, 2029, 2030, 2031, 2032, 2033, 2034, 2035, 2036, 2037, 2038, 2039, 2040], \"y\": [6145.4, 6022.492, 5902.0422, 5784.0013, 5668.3213, 5554.9549, 5443.8558, 5334.9787, 5228.2791, 5123.7135, 5021.2392, 4920.8144, 4822.3982, 4725.9502, 4631.4312, 4538.8026, 4538.8026, 4538.8026, 4527.7148, 4507.3309, 4482.2025, 4466.4885, 4459.906, 4456.1184, 4517.4913, 4538.8026], \"type\": \"bar\", \"uid\": \"78358cb9-76d1-4a03-b17f-2263319f0cd9\"}, {\"marker\": {\"color\": \"rgba(0, 100, 0, 0.6)\", \"line\": {\"color\": \"rgba(0, 100, 0, 1.0)\", \"width\": 1}}, \"name\": \"Grassland & woodland\", \"orientation\": \"v\", \"text\": \"\", \"x\": [2015, 2016, 2017, 2018, 2019, 2020, 2021, 2022, 2023, 2024, 2025, 2026, 2027, 2028, 2029, 2030, 2031, 2032, 2033, 2034, 2035, 2036, 2037, 2038, 2039, 2040], \"y\": [428.62, 463.5446, 497.82371, 531.42123, 566.06101, 597.53065, 685.17669, 764.23014, 841.03009, 910.97844, 1007.2444, 1104.7108, 1186.2829, 1228.3206, 1226.7933, 1202.2574, 1185.4532, 1196.7263, 1172.7918, 1149.336, 1126.3492, 1103.8223, 1081.7458, 1060.1109, 1038.9087, 1070.6565], \"type\": \"bar\", \"uid\": \"4902425f-1d9a-452a-b62c-5fc871d8cc52\"}, {\"marker\": {\"color\": \"rgba(255, 215, 0, 0.6)\", \"line\": {\"color\": \"rgba(255, 215, 0, 1.0)\", \"width\": 1}}, \"name\": \"Other agricultural land\", \"orientation\": \"v\", \"text\": \"\", \"x\": [2015, 2016, 2017, 2018, 2019, 2020, 2021, 2022, 2023, 2024, 2025, 2026, 2027, 2028, 2029, 2030, 2031, 2032, 2033, 2034, 2035, 2036, 2037, 2038, 2039, 2040], \"y\": [568.0, 568.0, 568.0, 568.0, 568.0, 568.0, 568.0, 568.0, 568.0, 568.0, 568.0, 568.0, 568.0, 568.0, 568.0, 568.0, 568.0, 568.0, 568.0, 568.0, 568.0, 568.0, 568.0, 568.0, 568.0, 568.0], \"type\": \"bar\", \"uid\": \"5953f3ef-4e0f-47b6-9192-65327dc5caf5\"}, {\"marker\": {\"color\": \"rgba(0, 0, 0, 0.6)\", \"line\": {\"color\": \"rgba(0, 0, 0, 1.0)\", \"width\": 1}}, \"name\": \"Built-up land\", \"orientation\": \"v\", \"text\": \"\", \"x\": [2015, 2016, 2017, 2018, 2019, 2020, 2021, 2022, 2023, 2024, 2025, 2026, 2027, 2028, 2029, 2030, 2031, 2032, 2033, 2034, 2035, 2036, 2037, 2038, 2039, 2040], \"y\": [462.2, 462.2, 462.2, 462.2, 462.2, 462.2, 462.2, 462.2, 462.2, 462.2, 462.2, 462.2, 462.2, 462.2, 462.2, 462.2, 462.2, 462.2, 462.2, 462.2, 462.2, 462.2, 462.2, 462.2, 462.2, 462.2], \"type\": \"bar\", \"uid\": \"2196756f-0758-494f-a7fd-77bf17ada557\"}, {\"marker\": {\"color\": \"rgba(55, 128, 191, 0.6)\", \"line\": {\"color\": \"rgba(55, 128, 191, 1.0)\", \"width\": 1}}, \"name\": \"Water\", \"orientation\": \"v\", \"text\": \"\", \"x\": [2015, 2016, 2017, 2018, 2019, 2020, 2021, 2022, 2023, 2024, 2025, 2026, 2027, 2028, 2029, 2030, 2031, 2032, 2033, 2034, 2035, 2036, 2037, 2038, 2039, 2040], \"y\": [162.14, 162.14, 162.14, 162.14, 162.14, 162.14, 162.14, 162.14, 162.14, 162.14, 162.14, 162.14, 162.14, 162.14, 162.14, 162.14, 162.14, 162.14, 162.14, 162.14, 162.14, 162.14, 162.14, 162.14, 162.14, 162.14], \"type\": \"bar\", \"uid\": \"79cd5446-942e-4f79-b1f9-8ca4b4d01042\"}, {\"marker\": {\"color\": \"rgba(165, 42, 42, 0.6)\", \"line\": {\"color\": \"rgba(165, 42, 42, 1.0)\", \"width\": 1}}, \"name\": \"Agriculture\", \"orientation\": \"v\", \"text\": \"\", \"x\": [2015, 2016, 2017, 2018, 2019, 2020, 2021, 2022, 2023, 2024, 2025, 2026, 2027, 2028, 2029, 2030, 2031, 2032, 2033, 2034, 2035, 2036, 2037, 2038, 2039, 2040], \"y\": [5211.909991, 5299.893470999999, 5386.064207, 5470.50753, 5551.547676, 5633.444470959999, 5656.8975507999985, 5686.721146999999, 5716.62071, 5751.238012999999, 5757.446381, 5760.404876, 5777.248876, 5831.659176000001, 5884.748099, 6044.8700229999995, 6061.674309, 6050.401126999999, 6085.4234910000005, 6129.263185, 6177.378285, 6215.619210999999, 6244.278221999999, 6269.700841000001, 6229.5300050000005, 6176.470971], \"type\": \"bar\", \"uid\": \"03f195d1-db0a-4356-86cf-1242ec13acba\"}], {\"barmode\": \"stack\", \"legend\": {\"bgcolor\": \"#FFFFFF\", \"font\": {\"color\": \"#4D5663\"}, \"traceorder\": \"normal\"}, \"paper_bgcolor\": \"#FFFFFF\", \"plot_bgcolor\": \"#FFFFFF\", \"title\": {\"text\": \"Area by land cover type (Center region)\", \"font\": {\"color\": \"#4D5663\"}}, \"xaxis\": {\"gridcolor\": \"#E1E5ED\", \"showgrid\": true, \"tickfont\": {\"color\": \"#4D5663\"}, \"title\": {\"text\": \"Year\", \"font\": {\"color\": \"#4D5663\"}}, \"zerolinecolor\": \"#E1E5ED\"}, \"yaxis\": {\"gridcolor\": \"#E1E5ED\", \"showgrid\": true, \"tickfont\": {\"color\": \"#4D5663\"}, \"title\": {\"text\": \"Land area (kha)\", \"font\": {\"color\": \"#4D5663\"}}, \"zerolinecolor\": \"#E1E5ED\"}}, {\"showLink\": true, \"linkText\": \"Export to plot.ly\", \"plotlyServerURL\": \"https://plot.ly\"}); \n",
       "}\n",
       "});</script><script type=\"text/javascript\">window.addEventListener(\"resize\", function(){if (document.getElementById(\"22b79f60-667b-479b-8bff-93b02b608443\")) {window._Plotly.Plots.resize(document.getElementById(\"22b79f60-667b-479b-8bff-93b02b608443\"));};})</script>"
      ],
      "text/vnd.plotly.v1+html": [
       "<div id=\"22b79f60-667b-479b-8bff-93b02b608443\" style=\"height: 525px; width: 100%;\" class=\"plotly-graph-div\"></div><script type=\"text/javascript\">require([\"plotly\"], function(Plotly) { window.PLOTLYENV=window.PLOTLYENV || {};window.PLOTLYENV.BASE_URL=\"https://plot.ly\";\n",
       "if (document.getElementById(\"22b79f60-667b-479b-8bff-93b02b608443\")) {\n",
       "    Plotly.newPlot(\"22b79f60-667b-479b-8bff-93b02b608443\", [{\"marker\": {\"color\": \"rgba(128, 128, 128, 0.6)\", \"line\": {\"color\": \"rgba(128, 128, 128, 1.0)\", \"width\": 1}}, \"name\": \"Barren land\", \"orientation\": \"v\", \"text\": \"\", \"x\": [2015, 2016, 2017, 2018, 2019, 2020, 2021, 2022, 2023, 2024, 2025, 2026, 2027, 2028, 2029, 2030, 2031, 2032, 2033, 2034, 2035, 2036, 2037, 2038, 2039, 2040], \"y\": [0.73, 0.73, 0.73, 0.73, 0.73, 0.73, 0.73, 0.73, 0.73, 0.73, 0.73, 0.73, 0.73, 0.73, 0.73, 0.73, 0.73, 0.73, 0.73, 0.73, 0.73, 0.73, 0.73, 0.73, 0.73, 0.73], \"type\": \"bar\", \"uid\": \"ac3f65f3-3a76-4680-b817-e0812f2502ac\"}, {\"marker\": {\"color\": \"rgba(34, 139, 34, 0.6)\", \"line\": {\"color\": \"rgba(34, 139, 34, 1.0)\", \"width\": 1}}, \"name\": \"Forests\", \"orientation\": \"v\", \"text\": \"\", \"x\": [2015, 2016, 2017, 2018, 2019, 2020, 2021, 2022, 2023, 2024, 2025, 2026, 2027, 2028, 2029, 2030, 2031, 2032, 2033, 2034, 2035, 2036, 2037, 2038, 2039, 2040], \"y\": [6145.4, 6022.492, 5902.0422, 5784.0013, 5668.3213, 5554.9549, 5443.8558, 5334.9787, 5228.2791, 5123.7135, 5021.2392, 4920.8144, 4822.3982, 4725.9502, 4631.4312, 4538.8026, 4538.8026, 4538.8026, 4527.7148, 4507.3309, 4482.2025, 4466.4885, 4459.906, 4456.1184, 4517.4913, 4538.8026], \"type\": \"bar\", \"uid\": \"78358cb9-76d1-4a03-b17f-2263319f0cd9\"}, {\"marker\": {\"color\": \"rgba(0, 100, 0, 0.6)\", \"line\": {\"color\": \"rgba(0, 100, 0, 1.0)\", \"width\": 1}}, \"name\": \"Grassland & woodland\", \"orientation\": \"v\", \"text\": \"\", \"x\": [2015, 2016, 2017, 2018, 2019, 2020, 2021, 2022, 2023, 2024, 2025, 2026, 2027, 2028, 2029, 2030, 2031, 2032, 2033, 2034, 2035, 2036, 2037, 2038, 2039, 2040], \"y\": [428.62, 463.5446, 497.82371, 531.42123, 566.06101, 597.53065, 685.17669, 764.23014, 841.03009, 910.97844, 1007.2444, 1104.7108, 1186.2829, 1228.3206, 1226.7933, 1202.2574, 1185.4532, 1196.7263, 1172.7918, 1149.336, 1126.3492, 1103.8223, 1081.7458, 1060.1109, 1038.9087, 1070.6565], \"type\": \"bar\", \"uid\": \"4902425f-1d9a-452a-b62c-5fc871d8cc52\"}, {\"marker\": {\"color\": \"rgba(255, 215, 0, 0.6)\", \"line\": {\"color\": \"rgba(255, 215, 0, 1.0)\", \"width\": 1}}, \"name\": \"Other agricultural land\", \"orientation\": \"v\", \"text\": \"\", \"x\": [2015, 2016, 2017, 2018, 2019, 2020, 2021, 2022, 2023, 2024, 2025, 2026, 2027, 2028, 2029, 2030, 2031, 2032, 2033, 2034, 2035, 2036, 2037, 2038, 2039, 2040], \"y\": [568.0, 568.0, 568.0, 568.0, 568.0, 568.0, 568.0, 568.0, 568.0, 568.0, 568.0, 568.0, 568.0, 568.0, 568.0, 568.0, 568.0, 568.0, 568.0, 568.0, 568.0, 568.0, 568.0, 568.0, 568.0, 568.0], \"type\": \"bar\", \"uid\": \"5953f3ef-4e0f-47b6-9192-65327dc5caf5\"}, {\"marker\": {\"color\": \"rgba(0, 0, 0, 0.6)\", \"line\": {\"color\": \"rgba(0, 0, 0, 1.0)\", \"width\": 1}}, \"name\": \"Built-up land\", \"orientation\": \"v\", \"text\": \"\", \"x\": [2015, 2016, 2017, 2018, 2019, 2020, 2021, 2022, 2023, 2024, 2025, 2026, 2027, 2028, 2029, 2030, 2031, 2032, 2033, 2034, 2035, 2036, 2037, 2038, 2039, 2040], \"y\": [462.2, 462.2, 462.2, 462.2, 462.2, 462.2, 462.2, 462.2, 462.2, 462.2, 462.2, 462.2, 462.2, 462.2, 462.2, 462.2, 462.2, 462.2, 462.2, 462.2, 462.2, 462.2, 462.2, 462.2, 462.2, 462.2], \"type\": \"bar\", \"uid\": \"2196756f-0758-494f-a7fd-77bf17ada557\"}, {\"marker\": {\"color\": \"rgba(55, 128, 191, 0.6)\", \"line\": {\"color\": \"rgba(55, 128, 191, 1.0)\", \"width\": 1}}, \"name\": \"Water\", \"orientation\": \"v\", \"text\": \"\", \"x\": [2015, 2016, 2017, 2018, 2019, 2020, 2021, 2022, 2023, 2024, 2025, 2026, 2027, 2028, 2029, 2030, 2031, 2032, 2033, 2034, 2035, 2036, 2037, 2038, 2039, 2040], \"y\": [162.14, 162.14, 162.14, 162.14, 162.14, 162.14, 162.14, 162.14, 162.14, 162.14, 162.14, 162.14, 162.14, 162.14, 162.14, 162.14, 162.14, 162.14, 162.14, 162.14, 162.14, 162.14, 162.14, 162.14, 162.14, 162.14], \"type\": \"bar\", \"uid\": \"79cd5446-942e-4f79-b1f9-8ca4b4d01042\"}, {\"marker\": {\"color\": \"rgba(165, 42, 42, 0.6)\", \"line\": {\"color\": \"rgba(165, 42, 42, 1.0)\", \"width\": 1}}, \"name\": \"Agriculture\", \"orientation\": \"v\", \"text\": \"\", \"x\": [2015, 2016, 2017, 2018, 2019, 2020, 2021, 2022, 2023, 2024, 2025, 2026, 2027, 2028, 2029, 2030, 2031, 2032, 2033, 2034, 2035, 2036, 2037, 2038, 2039, 2040], \"y\": [5211.909991, 5299.893470999999, 5386.064207, 5470.50753, 5551.547676, 5633.444470959999, 5656.8975507999985, 5686.721146999999, 5716.62071, 5751.238012999999, 5757.446381, 5760.404876, 5777.248876, 5831.659176000001, 5884.748099, 6044.8700229999995, 6061.674309, 6050.401126999999, 6085.4234910000005, 6129.263185, 6177.378285, 6215.619210999999, 6244.278221999999, 6269.700841000001, 6229.5300050000005, 6176.470971], \"type\": \"bar\", \"uid\": \"03f195d1-db0a-4356-86cf-1242ec13acba\"}], {\"barmode\": \"stack\", \"legend\": {\"bgcolor\": \"#FFFFFF\", \"font\": {\"color\": \"#4D5663\"}, \"traceorder\": \"normal\"}, \"paper_bgcolor\": \"#FFFFFF\", \"plot_bgcolor\": \"#FFFFFF\", \"title\": {\"text\": \"Area by land cover type (Center region)\", \"font\": {\"color\": \"#4D5663\"}}, \"xaxis\": {\"gridcolor\": \"#E1E5ED\", \"showgrid\": true, \"tickfont\": {\"color\": \"#4D5663\"}, \"title\": {\"text\": \"Year\", \"font\": {\"color\": \"#4D5663\"}}, \"zerolinecolor\": \"#E1E5ED\"}, \"yaxis\": {\"gridcolor\": \"#E1E5ED\", \"showgrid\": true, \"tickfont\": {\"color\": \"#4D5663\"}, \"title\": {\"text\": \"Land area (kha)\", \"font\": {\"color\": \"#4D5663\"}}, \"zerolinecolor\": \"#E1E5ED\"}}, {\"showLink\": true, \"linkText\": \"Export to plot.ly\", \"plotlyServerURL\": \"https://plot.ly\"}); \n",
       "}\n",
       "});</script><script type=\"text/javascript\">window.addEventListener(\"resize\", function(){if (document.getElementById(\"22b79f60-667b-479b-8bff-93b02b608443\")) {window._Plotly.Plots.resize(document.getElementById(\"22b79f60-667b-479b-8bff-93b02b608443\"));};})</script>"
      ]
     },
     "metadata": {},
     "output_type": "display_data"
    },
    {
     "data": {
      "application/vnd.plotly.v1+json": {
       "config": {
        "linkText": "Export to plot.ly",
        "plotlyServerURL": "https://plot.ly",
        "showLink": true
       },
       "data": [
        {
         "marker": {
          "color": "rgba(128, 128, 128, 0.6)",
          "line": {
           "color": "rgba(128, 128, 128, 1.0)",
           "width": 1
          }
         },
         "name": "Barren land",
         "orientation": "v",
         "text": "",
         "type": "bar",
         "uid": "5a370dbd-1d34-455a-9e03-24c6b3b25e58",
         "x": [
          2015,
          2016,
          2017,
          2018,
          2019,
          2020,
          2021,
          2022,
          2023,
          2024,
          2025,
          2026,
          2027,
          2028,
          2029,
          2030,
          2031,
          2032,
          2033,
          2034,
          2035,
          2036,
          2037,
          2038,
          2039,
          2040
         ],
         "y": [
          0.41,
          0.41,
          0.41,
          0.41,
          0.41,
          0.41,
          0.41,
          0.41,
          0.41,
          0.41,
          0.41,
          0.41,
          0.41,
          0.41,
          0.41,
          0.41,
          0.41,
          0.41,
          0.41,
          0.41,
          0.41,
          0.41,
          0.41,
          0.41,
          0.41,
          0.41
         ]
        },
        {
         "marker": {
          "color": "rgba(34, 139, 34, 0.6)",
          "line": {
           "color": "rgba(34, 139, 34, 1.0)",
           "width": 1
          }
         },
         "name": "Forests",
         "orientation": "v",
         "text": "",
         "type": "bar",
         "uid": "06059fd6-a2fa-48a3-8b60-24949a2240a5",
         "x": [
          2015,
          2016,
          2017,
          2018,
          2019,
          2020,
          2021,
          2022,
          2023,
          2024,
          2025,
          2026,
          2027,
          2028,
          2029,
          2030,
          2031,
          2032,
          2033,
          2034,
          2035,
          2036,
          2037,
          2038,
          2039,
          2040
         ],
         "y": [
          3692.47,
          3618.6206,
          3546.2482,
          3475.3232,
          3405.8168,
          3337.7004,
          3270.9464,
          3205.5275,
          3141.4169,
          3078.5886,
          3017.0168,
          2956.6765,
          2897.543,
          2839.5921,
          2782.8003,
          2727.1443,
          2727.1443,
          2727.1443,
          2727.1443,
          2727.1443,
          2727.1443,
          2727.1443,
          2727.1443,
          2727.1443,
          2727.1443,
          2727.1443
         ]
        },
        {
         "marker": {
          "color": "rgba(0, 100, 0, 0.6)",
          "line": {
           "color": "rgba(0, 100, 0, 1.0)",
           "width": 1
          }
         },
         "name": "Grassland & woodland",
         "orientation": "v",
         "text": "",
         "type": "bar",
         "uid": "67df82d8-ddb9-4780-a03c-fb4e9f9a2569",
         "x": [
          2015,
          2016,
          2017,
          2018,
          2019,
          2020,
          2021,
          2022,
          2023,
          2024,
          2025,
          2026,
          2027,
          2028,
          2029,
          2030,
          2031,
          2032,
          2033,
          2034,
          2035,
          2036,
          2037,
          2038,
          2039,
          2040
         ],
         "y": [
          1498.8341,
          1513.4868,
          1587.8986,
          1682.5597,
          1786.0476,
          1887.9397,
          1988.463,
          2088.0939,
          2186.1581,
          2282.931,
          2378.0374,
          2472.4518,
          2565.9478,
          2679.1037,
          2791.1314,
          3379.1561,
          3420.3651,
          3454.859,
          3528.8121,
          3602.8005,
          3677.3097,
          3736.4662,
          3795.7376,
          3853.0637,
          3874.7123,
          3883.9329
         ]
        },
        {
         "marker": {
          "color": "rgba(255, 215, 0, 0.6)",
          "line": {
           "color": "rgba(255, 215, 0, 1.0)",
           "width": 1
          }
         },
         "name": "Other agricultural land",
         "orientation": "v",
         "text": "",
         "type": "bar",
         "uid": "02d2bd23-2dbf-4f2e-bd06-18dbedf58ea2",
         "x": [
          2015,
          2016,
          2017,
          2018,
          2019,
          2020,
          2021,
          2022,
          2023,
          2024,
          2025,
          2026,
          2027,
          2028,
          2029,
          2030,
          2031,
          2032,
          2033,
          2034,
          2035,
          2036,
          2037,
          2038,
          2039,
          2040
         ],
         "y": [
          869,
          869,
          869,
          869,
          869,
          869,
          869,
          869,
          869,
          869,
          869,
          869,
          869,
          869,
          869,
          869,
          869,
          869,
          869,
          869,
          869,
          869,
          869,
          869,
          869,
          869
         ]
        },
        {
         "marker": {
          "color": "rgba(0, 0, 0, 0.6)",
          "line": {
           "color": "rgba(0, 0, 0, 1.0)",
           "width": 1
          }
         },
         "name": "Built-up land",
         "orientation": "v",
         "text": "",
         "type": "bar",
         "uid": "84ef085d-cd62-44f1-98cc-0dda82aaf6e4",
         "x": [
          2015,
          2016,
          2017,
          2018,
          2019,
          2020,
          2021,
          2022,
          2023,
          2024,
          2025,
          2026,
          2027,
          2028,
          2029,
          2030,
          2031,
          2032,
          2033,
          2034,
          2035,
          2036,
          2037,
          2038,
          2039,
          2040
         ],
         "y": [
          594.19,
          594.19,
          594.19,
          594.19,
          594.19,
          594.19,
          594.19,
          594.19,
          594.19,
          594.19,
          594.19,
          594.19,
          594.19,
          594.19,
          594.19,
          594.19,
          594.19,
          594.19,
          594.19,
          594.19,
          594.19,
          594.19,
          594.19,
          594.19,
          594.19,
          594.19
         ]
        },
        {
         "marker": {
          "color": "rgba(55, 128, 191, 0.6)",
          "line": {
           "color": "rgba(55, 128, 191, 1.0)",
           "width": 1
          }
         },
         "name": "Water",
         "orientation": "v",
         "text": "",
         "type": "bar",
         "uid": "e98e1155-949d-4d0c-9578-bd3c541f2d23",
         "x": [
          2015,
          2016,
          2017,
          2018,
          2019,
          2020,
          2021,
          2022,
          2023,
          2024,
          2025,
          2026,
          2027,
          2028,
          2029,
          2030,
          2031,
          2032,
          2033,
          2034,
          2035,
          2036,
          2037,
          2038,
          2039,
          2040
         ],
         "y": [
          57.8,
          57.8,
          57.8,
          57.8,
          57.8,
          57.8,
          57.8,
          57.8,
          57.8,
          57.8,
          57.8,
          57.8,
          57.8,
          57.8,
          57.8,
          57.8,
          57.8,
          57.8,
          57.8,
          57.8,
          57.8,
          57.8,
          57.8,
          57.8,
          57.8,
          57.8
         ]
        },
        {
         "marker": {
          "color": "rgba(165, 42, 42, 0.6)",
          "line": {
           "color": "rgba(165, 42, 42, 1.0)",
           "width": 1
          }
         },
         "name": "Agriculture",
         "orientation": "v",
         "text": "",
         "type": "bar",
         "uid": "d6b79103-f3a3-4bfe-9c04-5b1b8381d546",
         "x": [
          2015,
          2016,
          2017,
          2018,
          2019,
          2020,
          2021,
          2022,
          2023,
          2024,
          2025,
          2026,
          2027,
          2028,
          2029,
          2030,
          2031,
          2032,
          2033,
          2034,
          2035,
          2036,
          2037,
          2038,
          2039,
          2040
         ],
         "y": [
          5139.295980000001,
          5198.49266588,
          5196.45323,
          5172.71709,
          5138.73567,
          5104.959869999999,
          5071.1906,
          5036.97871,
          5003.02505,
          4969.08047,
          4935.54578,
          4901.47179,
          4867.109270000001,
          4811.904199999999,
          4756.6684000000005,
          4224.29963,
          4183.09058,
          4148.59671,
          4074.64361,
          4000.6552300000003,
          3926.1459800000002,
          3866.9894699999995,
          3807.7180600000006,
          3750.39199,
          3728.74342,
          3719.5227800000002
         ]
        }
       ],
       "layout": {
        "barmode": "stack",
        "legend": {
         "bgcolor": "#FFFFFF",
         "font": {
          "color": "#4D5663"
         },
         "traceorder": "normal"
        },
        "paper_bgcolor": "#FFFFFF",
        "plot_bgcolor": "#FFFFFF",
        "title": {
         "font": {
          "color": "#4D5663"
         },
         "text": "Area by land cover type (North region)"
        },
        "xaxis": {
         "gridcolor": "#E1E5ED",
         "showgrid": true,
         "tickfont": {
          "color": "#4D5663"
         },
         "title": {
          "font": {
           "color": "#4D5663"
          },
          "text": "Year"
         },
         "zerolinecolor": "#E1E5ED"
        },
        "yaxis": {
         "gridcolor": "#E1E5ED",
         "showgrid": true,
         "tickfont": {
          "color": "#4D5663"
         },
         "title": {
          "font": {
           "color": "#4D5663"
          },
          "text": "Land area (kha)"
         },
         "zerolinecolor": "#E1E5ED"
        }
       }
      },
      "text/html": [
       "<div id=\"4e8eeaaf-8fb3-4b9b-a3c8-1821e7b9f07d\" style=\"height: 525px; width: 100%;\" class=\"plotly-graph-div\"></div><script type=\"text/javascript\">require([\"plotly\"], function(Plotly) { window.PLOTLYENV=window.PLOTLYENV || {};window.PLOTLYENV.BASE_URL=\"https://plot.ly\";\n",
       "if (document.getElementById(\"4e8eeaaf-8fb3-4b9b-a3c8-1821e7b9f07d\")) {\n",
       "    Plotly.newPlot(\"4e8eeaaf-8fb3-4b9b-a3c8-1821e7b9f07d\", [{\"marker\": {\"color\": \"rgba(128, 128, 128, 0.6)\", \"line\": {\"color\": \"rgba(128, 128, 128, 1.0)\", \"width\": 1}}, \"name\": \"Barren land\", \"orientation\": \"v\", \"text\": \"\", \"x\": [2015, 2016, 2017, 2018, 2019, 2020, 2021, 2022, 2023, 2024, 2025, 2026, 2027, 2028, 2029, 2030, 2031, 2032, 2033, 2034, 2035, 2036, 2037, 2038, 2039, 2040], \"y\": [0.41, 0.41, 0.41, 0.41, 0.41, 0.41, 0.41, 0.41, 0.41, 0.41, 0.41, 0.41, 0.41, 0.41, 0.41, 0.41, 0.41, 0.41, 0.41, 0.41, 0.41, 0.41, 0.41, 0.41, 0.41, 0.41], \"type\": \"bar\", \"uid\": \"a388ed67-8609-49f6-8f39-a536e98e3807\"}, {\"marker\": {\"color\": \"rgba(34, 139, 34, 0.6)\", \"line\": {\"color\": \"rgba(34, 139, 34, 1.0)\", \"width\": 1}}, \"name\": \"Forests\", \"orientation\": \"v\", \"text\": \"\", \"x\": [2015, 2016, 2017, 2018, 2019, 2020, 2021, 2022, 2023, 2024, 2025, 2026, 2027, 2028, 2029, 2030, 2031, 2032, 2033, 2034, 2035, 2036, 2037, 2038, 2039, 2040], \"y\": [3692.47, 3618.6206, 3546.2482, 3475.3232, 3405.8168, 3337.7004, 3270.9464, 3205.5275, 3141.4169, 3078.5886, 3017.0168, 2956.6765, 2897.543, 2839.5921, 2782.8003, 2727.1443, 2727.1443, 2727.1443, 2727.1443, 2727.1443, 2727.1443, 2727.1443, 2727.1443, 2727.1443, 2727.1443, 2727.1443], \"type\": \"bar\", \"uid\": \"b31304da-93d7-490b-a0d0-e05e248b9499\"}, {\"marker\": {\"color\": \"rgba(0, 100, 0, 0.6)\", \"line\": {\"color\": \"rgba(0, 100, 0, 1.0)\", \"width\": 1}}, \"name\": \"Grassland & woodland\", \"orientation\": \"v\", \"text\": \"\", \"x\": [2015, 2016, 2017, 2018, 2019, 2020, 2021, 2022, 2023, 2024, 2025, 2026, 2027, 2028, 2029, 2030, 2031, 2032, 2033, 2034, 2035, 2036, 2037, 2038, 2039, 2040], \"y\": [1498.8341, 1513.4868, 1587.8986, 1682.5597, 1786.0476, 1887.9397, 1988.463, 2088.0939, 2186.1581, 2282.931, 2378.0374, 2472.4518, 2565.9478, 2679.1037, 2791.1314, 3379.1561, 3420.3651, 3454.859, 3528.8121, 3602.8005, 3677.3097, 3736.4662, 3795.7376, 3853.0637, 3874.7123, 3883.9329], \"type\": \"bar\", \"uid\": \"eaa91f51-4a79-4f93-82ce-89d601ef33eb\"}, {\"marker\": {\"color\": \"rgba(255, 215, 0, 0.6)\", \"line\": {\"color\": \"rgba(255, 215, 0, 1.0)\", \"width\": 1}}, \"name\": \"Other agricultural land\", \"orientation\": \"v\", \"text\": \"\", \"x\": [2015, 2016, 2017, 2018, 2019, 2020, 2021, 2022, 2023, 2024, 2025, 2026, 2027, 2028, 2029, 2030, 2031, 2032, 2033, 2034, 2035, 2036, 2037, 2038, 2039, 2040], \"y\": [869.0, 869.0, 869.0, 869.0, 869.0, 869.0, 869.0, 869.0, 869.0, 869.0, 869.0, 869.0, 869.0, 869.0, 869.0, 869.0, 869.0, 869.0, 869.0, 869.0, 869.0, 869.0, 869.0, 869.0, 869.0, 869.0], \"type\": \"bar\", \"uid\": \"01250ec1-1e10-40c2-9525-49f5b080c7bd\"}, {\"marker\": {\"color\": \"rgba(0, 0, 0, 0.6)\", \"line\": {\"color\": \"rgba(0, 0, 0, 1.0)\", \"width\": 1}}, \"name\": \"Built-up land\", \"orientation\": \"v\", \"text\": \"\", \"x\": [2015, 2016, 2017, 2018, 2019, 2020, 2021, 2022, 2023, 2024, 2025, 2026, 2027, 2028, 2029, 2030, 2031, 2032, 2033, 2034, 2035, 2036, 2037, 2038, 2039, 2040], \"y\": [594.19, 594.19, 594.19, 594.19, 594.19, 594.19, 594.19, 594.19, 594.19, 594.19, 594.19, 594.19, 594.19, 594.19, 594.19, 594.19, 594.19, 594.19, 594.19, 594.19, 594.19, 594.19, 594.19, 594.19, 594.19, 594.19], \"type\": \"bar\", \"uid\": \"12151212-1aab-4af3-a021-7cfd708952b4\"}, {\"marker\": {\"color\": \"rgba(55, 128, 191, 0.6)\", \"line\": {\"color\": \"rgba(55, 128, 191, 1.0)\", \"width\": 1}}, \"name\": \"Water\", \"orientation\": \"v\", \"text\": \"\", \"x\": [2015, 2016, 2017, 2018, 2019, 2020, 2021, 2022, 2023, 2024, 2025, 2026, 2027, 2028, 2029, 2030, 2031, 2032, 2033, 2034, 2035, 2036, 2037, 2038, 2039, 2040], \"y\": [57.8, 57.8, 57.8, 57.8, 57.8, 57.8, 57.8, 57.8, 57.8, 57.8, 57.8, 57.8, 57.8, 57.8, 57.8, 57.8, 57.8, 57.8, 57.8, 57.8, 57.8, 57.8, 57.8, 57.8, 57.8, 57.8], \"type\": \"bar\", \"uid\": \"580d3793-d96a-47ab-828e-0f91f61e724c\"}, {\"marker\": {\"color\": \"rgba(165, 42, 42, 0.6)\", \"line\": {\"color\": \"rgba(165, 42, 42, 1.0)\", \"width\": 1}}, \"name\": \"Agriculture\", \"orientation\": \"v\", \"text\": \"\", \"x\": [2015, 2016, 2017, 2018, 2019, 2020, 2021, 2022, 2023, 2024, 2025, 2026, 2027, 2028, 2029, 2030, 2031, 2032, 2033, 2034, 2035, 2036, 2037, 2038, 2039, 2040], \"y\": [5139.295980000001, 5198.49266588, 5196.45323, 5172.71709, 5138.73567, 5104.959869999999, 5071.1906, 5036.97871, 5003.02505, 4969.08047, 4935.54578, 4901.47179, 4867.109270000001, 4811.904199999999, 4756.6684000000005, 4224.29963, 4183.09058, 4148.59671, 4074.64361, 4000.6552300000003, 3926.1459800000002, 3866.9894699999995, 3807.7180600000006, 3750.39199, 3728.74342, 3719.5227800000002], \"type\": \"bar\", \"uid\": \"1046bc50-e1a1-44cd-90c0-f76223917e2f\"}], {\"barmode\": \"stack\", \"legend\": {\"bgcolor\": \"#FFFFFF\", \"font\": {\"color\": \"#4D5663\"}, \"traceorder\": \"normal\"}, \"paper_bgcolor\": \"#FFFFFF\", \"plot_bgcolor\": \"#FFFFFF\", \"title\": {\"text\": \"Area by land cover type (North region)\", \"font\": {\"color\": \"#4D5663\"}}, \"xaxis\": {\"gridcolor\": \"#E1E5ED\", \"showgrid\": true, \"tickfont\": {\"color\": \"#4D5663\"}, \"title\": {\"text\": \"Year\", \"font\": {\"color\": \"#4D5663\"}}, \"zerolinecolor\": \"#E1E5ED\"}, \"yaxis\": {\"gridcolor\": \"#E1E5ED\", \"showgrid\": true, \"tickfont\": {\"color\": \"#4D5663\"}, \"title\": {\"text\": \"Land area (kha)\", \"font\": {\"color\": \"#4D5663\"}}, \"zerolinecolor\": \"#E1E5ED\"}}, {\"showLink\": true, \"linkText\": \"Export to plot.ly\", \"plotlyServerURL\": \"https://plot.ly\"}); \n",
       "}\n",
       "});</script><script type=\"text/javascript\">window.addEventListener(\"resize\", function(){if (document.getElementById(\"4e8eeaaf-8fb3-4b9b-a3c8-1821e7b9f07d\")) {window._Plotly.Plots.resize(document.getElementById(\"4e8eeaaf-8fb3-4b9b-a3c8-1821e7b9f07d\"));};})</script>"
      ],
      "text/vnd.plotly.v1+html": [
       "<div id=\"4e8eeaaf-8fb3-4b9b-a3c8-1821e7b9f07d\" style=\"height: 525px; width: 100%;\" class=\"plotly-graph-div\"></div><script type=\"text/javascript\">require([\"plotly\"], function(Plotly) { window.PLOTLYENV=window.PLOTLYENV || {};window.PLOTLYENV.BASE_URL=\"https://plot.ly\";\n",
       "if (document.getElementById(\"4e8eeaaf-8fb3-4b9b-a3c8-1821e7b9f07d\")) {\n",
       "    Plotly.newPlot(\"4e8eeaaf-8fb3-4b9b-a3c8-1821e7b9f07d\", [{\"marker\": {\"color\": \"rgba(128, 128, 128, 0.6)\", \"line\": {\"color\": \"rgba(128, 128, 128, 1.0)\", \"width\": 1}}, \"name\": \"Barren land\", \"orientation\": \"v\", \"text\": \"\", \"x\": [2015, 2016, 2017, 2018, 2019, 2020, 2021, 2022, 2023, 2024, 2025, 2026, 2027, 2028, 2029, 2030, 2031, 2032, 2033, 2034, 2035, 2036, 2037, 2038, 2039, 2040], \"y\": [0.41, 0.41, 0.41, 0.41, 0.41, 0.41, 0.41, 0.41, 0.41, 0.41, 0.41, 0.41, 0.41, 0.41, 0.41, 0.41, 0.41, 0.41, 0.41, 0.41, 0.41, 0.41, 0.41, 0.41, 0.41, 0.41], \"type\": \"bar\", \"uid\": \"a388ed67-8609-49f6-8f39-a536e98e3807\"}, {\"marker\": {\"color\": \"rgba(34, 139, 34, 0.6)\", \"line\": {\"color\": \"rgba(34, 139, 34, 1.0)\", \"width\": 1}}, \"name\": \"Forests\", \"orientation\": \"v\", \"text\": \"\", \"x\": [2015, 2016, 2017, 2018, 2019, 2020, 2021, 2022, 2023, 2024, 2025, 2026, 2027, 2028, 2029, 2030, 2031, 2032, 2033, 2034, 2035, 2036, 2037, 2038, 2039, 2040], \"y\": [3692.47, 3618.6206, 3546.2482, 3475.3232, 3405.8168, 3337.7004, 3270.9464, 3205.5275, 3141.4169, 3078.5886, 3017.0168, 2956.6765, 2897.543, 2839.5921, 2782.8003, 2727.1443, 2727.1443, 2727.1443, 2727.1443, 2727.1443, 2727.1443, 2727.1443, 2727.1443, 2727.1443, 2727.1443, 2727.1443], \"type\": \"bar\", \"uid\": \"b31304da-93d7-490b-a0d0-e05e248b9499\"}, {\"marker\": {\"color\": \"rgba(0, 100, 0, 0.6)\", \"line\": {\"color\": \"rgba(0, 100, 0, 1.0)\", \"width\": 1}}, \"name\": \"Grassland & woodland\", \"orientation\": \"v\", \"text\": \"\", \"x\": [2015, 2016, 2017, 2018, 2019, 2020, 2021, 2022, 2023, 2024, 2025, 2026, 2027, 2028, 2029, 2030, 2031, 2032, 2033, 2034, 2035, 2036, 2037, 2038, 2039, 2040], \"y\": [1498.8341, 1513.4868, 1587.8986, 1682.5597, 1786.0476, 1887.9397, 1988.463, 2088.0939, 2186.1581, 2282.931, 2378.0374, 2472.4518, 2565.9478, 2679.1037, 2791.1314, 3379.1561, 3420.3651, 3454.859, 3528.8121, 3602.8005, 3677.3097, 3736.4662, 3795.7376, 3853.0637, 3874.7123, 3883.9329], \"type\": \"bar\", \"uid\": \"eaa91f51-4a79-4f93-82ce-89d601ef33eb\"}, {\"marker\": {\"color\": \"rgba(255, 215, 0, 0.6)\", \"line\": {\"color\": \"rgba(255, 215, 0, 1.0)\", \"width\": 1}}, \"name\": \"Other agricultural land\", \"orientation\": \"v\", \"text\": \"\", \"x\": [2015, 2016, 2017, 2018, 2019, 2020, 2021, 2022, 2023, 2024, 2025, 2026, 2027, 2028, 2029, 2030, 2031, 2032, 2033, 2034, 2035, 2036, 2037, 2038, 2039, 2040], \"y\": [869.0, 869.0, 869.0, 869.0, 869.0, 869.0, 869.0, 869.0, 869.0, 869.0, 869.0, 869.0, 869.0, 869.0, 869.0, 869.0, 869.0, 869.0, 869.0, 869.0, 869.0, 869.0, 869.0, 869.0, 869.0, 869.0], \"type\": \"bar\", \"uid\": \"01250ec1-1e10-40c2-9525-49f5b080c7bd\"}, {\"marker\": {\"color\": \"rgba(0, 0, 0, 0.6)\", \"line\": {\"color\": \"rgba(0, 0, 0, 1.0)\", \"width\": 1}}, \"name\": \"Built-up land\", \"orientation\": \"v\", \"text\": \"\", \"x\": [2015, 2016, 2017, 2018, 2019, 2020, 2021, 2022, 2023, 2024, 2025, 2026, 2027, 2028, 2029, 2030, 2031, 2032, 2033, 2034, 2035, 2036, 2037, 2038, 2039, 2040], \"y\": [594.19, 594.19, 594.19, 594.19, 594.19, 594.19, 594.19, 594.19, 594.19, 594.19, 594.19, 594.19, 594.19, 594.19, 594.19, 594.19, 594.19, 594.19, 594.19, 594.19, 594.19, 594.19, 594.19, 594.19, 594.19, 594.19], \"type\": \"bar\", \"uid\": \"12151212-1aab-4af3-a021-7cfd708952b4\"}, {\"marker\": {\"color\": \"rgba(55, 128, 191, 0.6)\", \"line\": {\"color\": \"rgba(55, 128, 191, 1.0)\", \"width\": 1}}, \"name\": \"Water\", \"orientation\": \"v\", \"text\": \"\", \"x\": [2015, 2016, 2017, 2018, 2019, 2020, 2021, 2022, 2023, 2024, 2025, 2026, 2027, 2028, 2029, 2030, 2031, 2032, 2033, 2034, 2035, 2036, 2037, 2038, 2039, 2040], \"y\": [57.8, 57.8, 57.8, 57.8, 57.8, 57.8, 57.8, 57.8, 57.8, 57.8, 57.8, 57.8, 57.8, 57.8, 57.8, 57.8, 57.8, 57.8, 57.8, 57.8, 57.8, 57.8, 57.8, 57.8, 57.8, 57.8], \"type\": \"bar\", \"uid\": \"580d3793-d96a-47ab-828e-0f91f61e724c\"}, {\"marker\": {\"color\": \"rgba(165, 42, 42, 0.6)\", \"line\": {\"color\": \"rgba(165, 42, 42, 1.0)\", \"width\": 1}}, \"name\": \"Agriculture\", \"orientation\": \"v\", \"text\": \"\", \"x\": [2015, 2016, 2017, 2018, 2019, 2020, 2021, 2022, 2023, 2024, 2025, 2026, 2027, 2028, 2029, 2030, 2031, 2032, 2033, 2034, 2035, 2036, 2037, 2038, 2039, 2040], \"y\": [5139.295980000001, 5198.49266588, 5196.45323, 5172.71709, 5138.73567, 5104.959869999999, 5071.1906, 5036.97871, 5003.02505, 4969.08047, 4935.54578, 4901.47179, 4867.109270000001, 4811.904199999999, 4756.6684000000005, 4224.29963, 4183.09058, 4148.59671, 4074.64361, 4000.6552300000003, 3926.1459800000002, 3866.9894699999995, 3807.7180600000006, 3750.39199, 3728.74342, 3719.5227800000002], \"type\": \"bar\", \"uid\": \"1046bc50-e1a1-44cd-90c0-f76223917e2f\"}], {\"barmode\": \"stack\", \"legend\": {\"bgcolor\": \"#FFFFFF\", \"font\": {\"color\": \"#4D5663\"}, \"traceorder\": \"normal\"}, \"paper_bgcolor\": \"#FFFFFF\", \"plot_bgcolor\": \"#FFFFFF\", \"title\": {\"text\": \"Area by land cover type (North region)\", \"font\": {\"color\": \"#4D5663\"}}, \"xaxis\": {\"gridcolor\": \"#E1E5ED\", \"showgrid\": true, \"tickfont\": {\"color\": \"#4D5663\"}, \"title\": {\"text\": \"Year\", \"font\": {\"color\": \"#4D5663\"}}, \"zerolinecolor\": \"#E1E5ED\"}, \"yaxis\": {\"gridcolor\": \"#E1E5ED\", \"showgrid\": true, \"tickfont\": {\"color\": \"#4D5663\"}, \"title\": {\"text\": \"Land area (kha)\", \"font\": {\"color\": \"#4D5663\"}}, \"zerolinecolor\": \"#E1E5ED\"}}, {\"showLink\": true, \"linkText\": \"Export to plot.ly\", \"plotlyServerURL\": \"https://plot.ly\"}); \n",
       "}\n",
       "});</script><script type=\"text/javascript\">window.addEventListener(\"resize\", function(){if (document.getElementById(\"4e8eeaaf-8fb3-4b9b-a3c8-1821e7b9f07d\")) {window._Plotly.Plots.resize(document.getElementById(\"4e8eeaaf-8fb3-4b9b-a3c8-1821e7b9f07d\"));};})</script>"
      ]
     },
     "metadata": {},
     "output_type": "display_data"
    },
    {
     "data": {
      "application/vnd.plotly.v1+json": {
       "config": {
        "linkText": "Export to plot.ly",
        "plotlyServerURL": "https://plot.ly",
        "showLink": true
       },
       "data": [
        {
         "marker": {
          "color": "rgba(128, 128, 128, 0.6)",
          "line": {
           "color": "rgba(128, 128, 128, 1.0)",
           "width": 1
          }
         },
         "name": "Barren land",
         "orientation": "v",
         "text": "",
         "type": "bar",
         "uid": "cc2d0fe8-1202-4478-b917-14ce11999739",
         "x": [
          2015,
          2016,
          2017,
          2018,
          2019,
          2020,
          2021,
          2022,
          2023,
          2024,
          2025,
          2026,
          2027,
          2028,
          2029,
          2030,
          2031,
          2032,
          2033,
          2034,
          2035,
          2036,
          2037,
          2038,
          2039,
          2040
         ],
         "y": [
          8.58,
          8.58,
          8.58,
          8.58,
          8.58,
          8.58,
          8.58,
          8.58,
          8.58,
          8.58,
          8.58,
          8.58,
          8.58,
          8.58,
          8.58,
          8.58,
          8.58,
          8.58,
          8.58,
          8.58,
          8.58,
          8.58,
          8.58,
          8.58,
          8.58,
          8.58
         ]
        },
        {
         "marker": {
          "color": "rgba(34, 139, 34, 0.6)",
          "line": {
           "color": "rgba(34, 139, 34, 1.0)",
           "width": 1
          }
         },
         "name": "Forests",
         "orientation": "v",
         "text": "",
         "type": "bar",
         "uid": "a9a69653-b9ba-408e-b2b0-77a2142eb4fa",
         "x": [
          2015,
          2016,
          2017,
          2018,
          2019,
          2020,
          2021,
          2022,
          2023,
          2024,
          2025,
          2026,
          2027,
          2028,
          2029,
          2030,
          2031,
          2032,
          2033,
          2034,
          2035,
          2036,
          2037,
          2038,
          2039,
          2040
         ],
         "y": [
          1887.62,
          1849.8676,
          1812.8702,
          1776.6128,
          1741.0806,
          1706.259,
          1672.1338,
          1638.6911,
          1605.9173,
          1573.799,
          1542.323,
          1511.4765,
          1481.247,
          1451.622,
          1422.5896,
          1394.1378,
          1366.2551,
          1338.93,
          1312.1514,
          1285.9083,
          1260.1902,
          1234.9864,
          1210.2866,
          1186.0809,
          1162.3593,
          1139.1121
         ]
        },
        {
         "marker": {
          "color": "rgba(255, 215, 0, 0.6)",
          "line": {
           "color": "rgba(255, 215, 0, 1.0)",
           "width": 1
          }
         },
         "name": "Other agricultural land",
         "orientation": "v",
         "text": "",
         "type": "bar",
         "uid": "3da4cad6-21f9-46d3-b229-3dfb679cfd25",
         "x": [
          2015,
          2016,
          2017,
          2018,
          2019,
          2020,
          2021,
          2022,
          2023,
          2024,
          2025,
          2026,
          2027,
          2028,
          2029,
          2030,
          2031,
          2032,
          2033,
          2034,
          2035,
          2036,
          2037,
          2038,
          2039,
          2040
         ],
         "y": [
          1105.6,
          1105.6,
          1105.6,
          1105.6,
          1105.6,
          1105.6,
          1105.6,
          1105.6,
          1105.6,
          1105.6,
          1105.6,
          1105.6,
          1105.6,
          1105.6,
          1105.6,
          1105.6,
          1105.6,
          1105.6,
          1105.6,
          1105.6,
          1105.6,
          1105.6,
          1105.6,
          1105.6,
          1105.6,
          1105.6
         ]
        },
        {
         "marker": {
          "color": "rgba(0, 0, 0, 0.6)",
          "line": {
           "color": "rgba(0, 0, 0, 1.0)",
           "width": 1
          }
         },
         "name": "Built-up land",
         "orientation": "v",
         "text": "",
         "type": "bar",
         "uid": "8ff02fef-c0a4-4cd2-bdf5-c78662b7eae5",
         "x": [
          2015,
          2016,
          2017,
          2018,
          2019,
          2020,
          2021,
          2022,
          2023,
          2024,
          2025,
          2026,
          2027,
          2028,
          2029,
          2030,
          2031,
          2032,
          2033,
          2034,
          2035,
          2036,
          2037,
          2038,
          2039,
          2040
         ],
         "y": [
          569.92,
          569.92,
          569.92,
          569.92,
          569.92,
          569.92,
          569.92,
          569.92,
          569.92,
          569.92,
          569.92,
          569.92,
          569.92,
          569.92,
          569.92,
          569.92,
          569.92,
          569.92,
          569.92,
          569.92,
          569.92,
          569.92,
          569.92,
          569.92,
          569.92,
          569.92
         ]
        },
        {
         "marker": {
          "color": "rgba(55, 128, 191, 0.6)",
          "line": {
           "color": "rgba(55, 128, 191, 1.0)",
           "width": 1
          }
         },
         "name": "Water",
         "orientation": "v",
         "text": "",
         "type": "bar",
         "uid": "a3d6376e-851f-4702-af9d-8c0b4812cd2c",
         "x": [
          2015,
          2016,
          2017,
          2018,
          2019,
          2020,
          2021,
          2022,
          2023,
          2024,
          2025,
          2026,
          2027,
          2028,
          2029,
          2030,
          2031,
          2032,
          2033,
          2034,
          2035,
          2036,
          2037,
          2038,
          2039,
          2040
         ],
         "y": [
          100.18,
          100.18,
          100.18,
          100.18,
          100.18,
          100.18,
          100.18,
          100.18,
          100.18,
          100.18,
          100.18,
          100.18,
          100.18,
          100.18,
          100.18,
          100.18,
          100.18,
          100.18,
          100.18,
          100.18,
          100.18,
          100.18,
          100.18,
          100.18,
          100.18,
          100.18
         ]
        },
        {
         "marker": {
          "color": "rgba(165, 42, 42, 0.6)",
          "line": {
           "color": "rgba(165, 42, 42, 1.0)",
           "width": 1
          }
         },
         "name": "Agriculture",
         "orientation": "v",
         "text": "",
         "type": "bar",
         "uid": "b0c13c11-c363-4e4e-ae52-846f286bae1d",
         "x": [
          2015,
          2016,
          2017,
          2018,
          2019,
          2020,
          2021,
          2022,
          2023,
          2024,
          2025,
          2026,
          2027,
          2028,
          2029,
          2030,
          2031,
          2032,
          2033,
          2034,
          2035,
          2036,
          2037,
          2038,
          2039,
          2040
         ],
         "y": [
          4690.100038500001,
          4727.852407,
          4764.8497453,
          4801.107173,
          4836.6393849999995,
          4871.461028,
          4905.586190000001,
          4939.0288785,
          4971.8027505,
          5003.921044,
          5035.397074500001,
          5066.243479,
          5096.472969999999,
          5126.097992999999,
          5155.1304390000005,
          5183.582199,
          5211.464991,
          5238.790053,
          5265.5686829999995,
          5291.8116868,
          5317.52987455,
          5342.733646000001,
          5367.4334015,
          5391.639160500001,
          5415.360715,
          5438.6079335
         ]
        }
       ],
       "layout": {
        "barmode": "stack",
        "legend": {
         "bgcolor": "#FFFFFF",
         "font": {
          "color": "#4D5663"
         },
         "traceorder": "normal"
        },
        "paper_bgcolor": "#FFFFFF",
        "plot_bgcolor": "#FFFFFF",
        "title": {
         "font": {
          "color": "#4D5663"
         },
         "text": "Area by land cover type (South region)"
        },
        "xaxis": {
         "gridcolor": "#E1E5ED",
         "showgrid": true,
         "tickfont": {
          "color": "#4D5663"
         },
         "title": {
          "font": {
           "color": "#4D5663"
          },
          "text": "Year"
         },
         "zerolinecolor": "#E1E5ED"
        },
        "yaxis": {
         "gridcolor": "#E1E5ED",
         "showgrid": true,
         "tickfont": {
          "color": "#4D5663"
         },
         "title": {
          "font": {
           "color": "#4D5663"
          },
          "text": "Land area (kha)"
         },
         "zerolinecolor": "#E1E5ED"
        }
       }
      },
      "text/html": [
       "<div id=\"8b1adf1d-5313-487e-932c-be3dabb36c03\" style=\"height: 525px; width: 100%;\" class=\"plotly-graph-div\"></div><script type=\"text/javascript\">require([\"plotly\"], function(Plotly) { window.PLOTLYENV=window.PLOTLYENV || {};window.PLOTLYENV.BASE_URL=\"https://plot.ly\";\n",
       "if (document.getElementById(\"8b1adf1d-5313-487e-932c-be3dabb36c03\")) {\n",
       "    Plotly.newPlot(\"8b1adf1d-5313-487e-932c-be3dabb36c03\", [{\"marker\": {\"color\": \"rgba(128, 128, 128, 0.6)\", \"line\": {\"color\": \"rgba(128, 128, 128, 1.0)\", \"width\": 1}}, \"name\": \"Barren land\", \"orientation\": \"v\", \"text\": \"\", \"x\": [2015, 2016, 2017, 2018, 2019, 2020, 2021, 2022, 2023, 2024, 2025, 2026, 2027, 2028, 2029, 2030, 2031, 2032, 2033, 2034, 2035, 2036, 2037, 2038, 2039, 2040], \"y\": [8.58, 8.58, 8.58, 8.58, 8.58, 8.58, 8.58, 8.58, 8.58, 8.58, 8.58, 8.58, 8.58, 8.58, 8.58, 8.58, 8.58, 8.58, 8.58, 8.58, 8.58, 8.58, 8.58, 8.58, 8.58, 8.58], \"type\": \"bar\", \"uid\": \"acda611b-d008-4775-b81d-e779c079ae6d\"}, {\"marker\": {\"color\": \"rgba(34, 139, 34, 0.6)\", \"line\": {\"color\": \"rgba(34, 139, 34, 1.0)\", \"width\": 1}}, \"name\": \"Forests\", \"orientation\": \"v\", \"text\": \"\", \"x\": [2015, 2016, 2017, 2018, 2019, 2020, 2021, 2022, 2023, 2024, 2025, 2026, 2027, 2028, 2029, 2030, 2031, 2032, 2033, 2034, 2035, 2036, 2037, 2038, 2039, 2040], \"y\": [1887.62, 1849.8676, 1812.8702, 1776.6128, 1741.0806, 1706.259, 1672.1338, 1638.6911, 1605.9173, 1573.799, 1542.323, 1511.4765, 1481.247, 1451.622, 1422.5896, 1394.1378, 1366.2551, 1338.93, 1312.1514, 1285.9083, 1260.1902, 1234.9864, 1210.2866, 1186.0809, 1162.3593, 1139.1121], \"type\": \"bar\", \"uid\": \"6aa512ee-0a91-46a6-81ab-0f6244badede\"}, {\"marker\": {\"color\": \"rgba(255, 215, 0, 0.6)\", \"line\": {\"color\": \"rgba(255, 215, 0, 1.0)\", \"width\": 1}}, \"name\": \"Other agricultural land\", \"orientation\": \"v\", \"text\": \"\", \"x\": [2015, 2016, 2017, 2018, 2019, 2020, 2021, 2022, 2023, 2024, 2025, 2026, 2027, 2028, 2029, 2030, 2031, 2032, 2033, 2034, 2035, 2036, 2037, 2038, 2039, 2040], \"y\": [1105.6, 1105.6, 1105.6, 1105.6, 1105.6, 1105.6, 1105.6, 1105.6, 1105.6, 1105.6, 1105.6, 1105.6, 1105.6, 1105.6, 1105.6, 1105.6, 1105.6, 1105.6, 1105.6, 1105.6, 1105.6, 1105.6, 1105.6, 1105.6, 1105.6, 1105.6], \"type\": \"bar\", \"uid\": \"bcc53ad0-43ca-4377-ba14-b1d6fd689446\"}, {\"marker\": {\"color\": \"rgba(0, 0, 0, 0.6)\", \"line\": {\"color\": \"rgba(0, 0, 0, 1.0)\", \"width\": 1}}, \"name\": \"Built-up land\", \"orientation\": \"v\", \"text\": \"\", \"x\": [2015, 2016, 2017, 2018, 2019, 2020, 2021, 2022, 2023, 2024, 2025, 2026, 2027, 2028, 2029, 2030, 2031, 2032, 2033, 2034, 2035, 2036, 2037, 2038, 2039, 2040], \"y\": [569.92, 569.92, 569.92, 569.92, 569.92, 569.92, 569.92, 569.92, 569.92, 569.92, 569.92, 569.92, 569.92, 569.92, 569.92, 569.92, 569.92, 569.92, 569.92, 569.92, 569.92, 569.92, 569.92, 569.92, 569.92, 569.92], \"type\": \"bar\", \"uid\": \"9abfb187-8656-4724-8251-32a44e17dc2e\"}, {\"marker\": {\"color\": \"rgba(55, 128, 191, 0.6)\", \"line\": {\"color\": \"rgba(55, 128, 191, 1.0)\", \"width\": 1}}, \"name\": \"Water\", \"orientation\": \"v\", \"text\": \"\", \"x\": [2015, 2016, 2017, 2018, 2019, 2020, 2021, 2022, 2023, 2024, 2025, 2026, 2027, 2028, 2029, 2030, 2031, 2032, 2033, 2034, 2035, 2036, 2037, 2038, 2039, 2040], \"y\": [100.18, 100.18, 100.18, 100.18, 100.18, 100.18, 100.18, 100.18, 100.18, 100.18, 100.18, 100.18, 100.18, 100.18, 100.18, 100.18, 100.18, 100.18, 100.18, 100.18, 100.18, 100.18, 100.18, 100.18, 100.18, 100.18], \"type\": \"bar\", \"uid\": \"ee8a0384-e16d-4f1c-8080-d5394c1a8ee1\"}, {\"marker\": {\"color\": \"rgba(165, 42, 42, 0.6)\", \"line\": {\"color\": \"rgba(165, 42, 42, 1.0)\", \"width\": 1}}, \"name\": \"Agriculture\", \"orientation\": \"v\", \"text\": \"\", \"x\": [2015, 2016, 2017, 2018, 2019, 2020, 2021, 2022, 2023, 2024, 2025, 2026, 2027, 2028, 2029, 2030, 2031, 2032, 2033, 2034, 2035, 2036, 2037, 2038, 2039, 2040], \"y\": [4690.100038500001, 4727.852407, 4764.8497453, 4801.107173, 4836.6393849999995, 4871.461028, 4905.586190000001, 4939.0288785, 4971.8027505, 5003.921044, 5035.397074500001, 5066.243479, 5096.472969999999, 5126.097992999999, 5155.1304390000005, 5183.582199, 5211.464991, 5238.790053, 5265.5686829999995, 5291.8116868, 5317.52987455, 5342.733646000001, 5367.4334015, 5391.639160500001, 5415.360715, 5438.6079335], \"type\": \"bar\", \"uid\": \"20817066-43ba-42ce-ac2f-f2da851d2cbf\"}], {\"barmode\": \"stack\", \"legend\": {\"bgcolor\": \"#FFFFFF\", \"font\": {\"color\": \"#4D5663\"}, \"traceorder\": \"normal\"}, \"paper_bgcolor\": \"#FFFFFF\", \"plot_bgcolor\": \"#FFFFFF\", \"title\": {\"text\": \"Area by land cover type (South region)\", \"font\": {\"color\": \"#4D5663\"}}, \"xaxis\": {\"gridcolor\": \"#E1E5ED\", \"showgrid\": true, \"tickfont\": {\"color\": \"#4D5663\"}, \"title\": {\"text\": \"Year\", \"font\": {\"color\": \"#4D5663\"}}, \"zerolinecolor\": \"#E1E5ED\"}, \"yaxis\": {\"gridcolor\": \"#E1E5ED\", \"showgrid\": true, \"tickfont\": {\"color\": \"#4D5663\"}, \"title\": {\"text\": \"Land area (kha)\", \"font\": {\"color\": \"#4D5663\"}}, \"zerolinecolor\": \"#E1E5ED\"}}, {\"showLink\": true, \"linkText\": \"Export to plot.ly\", \"plotlyServerURL\": \"https://plot.ly\"}); \n",
       "}\n",
       "});</script><script type=\"text/javascript\">window.addEventListener(\"resize\", function(){if (document.getElementById(\"8b1adf1d-5313-487e-932c-be3dabb36c03\")) {window._Plotly.Plots.resize(document.getElementById(\"8b1adf1d-5313-487e-932c-be3dabb36c03\"));};})</script>"
      ],
      "text/vnd.plotly.v1+html": [
       "<div id=\"8b1adf1d-5313-487e-932c-be3dabb36c03\" style=\"height: 525px; width: 100%;\" class=\"plotly-graph-div\"></div><script type=\"text/javascript\">require([\"plotly\"], function(Plotly) { window.PLOTLYENV=window.PLOTLYENV || {};window.PLOTLYENV.BASE_URL=\"https://plot.ly\";\n",
       "if (document.getElementById(\"8b1adf1d-5313-487e-932c-be3dabb36c03\")) {\n",
       "    Plotly.newPlot(\"8b1adf1d-5313-487e-932c-be3dabb36c03\", [{\"marker\": {\"color\": \"rgba(128, 128, 128, 0.6)\", \"line\": {\"color\": \"rgba(128, 128, 128, 1.0)\", \"width\": 1}}, \"name\": \"Barren land\", \"orientation\": \"v\", \"text\": \"\", \"x\": [2015, 2016, 2017, 2018, 2019, 2020, 2021, 2022, 2023, 2024, 2025, 2026, 2027, 2028, 2029, 2030, 2031, 2032, 2033, 2034, 2035, 2036, 2037, 2038, 2039, 2040], \"y\": [8.58, 8.58, 8.58, 8.58, 8.58, 8.58, 8.58, 8.58, 8.58, 8.58, 8.58, 8.58, 8.58, 8.58, 8.58, 8.58, 8.58, 8.58, 8.58, 8.58, 8.58, 8.58, 8.58, 8.58, 8.58, 8.58], \"type\": \"bar\", \"uid\": \"acda611b-d008-4775-b81d-e779c079ae6d\"}, {\"marker\": {\"color\": \"rgba(34, 139, 34, 0.6)\", \"line\": {\"color\": \"rgba(34, 139, 34, 1.0)\", \"width\": 1}}, \"name\": \"Forests\", \"orientation\": \"v\", \"text\": \"\", \"x\": [2015, 2016, 2017, 2018, 2019, 2020, 2021, 2022, 2023, 2024, 2025, 2026, 2027, 2028, 2029, 2030, 2031, 2032, 2033, 2034, 2035, 2036, 2037, 2038, 2039, 2040], \"y\": [1887.62, 1849.8676, 1812.8702, 1776.6128, 1741.0806, 1706.259, 1672.1338, 1638.6911, 1605.9173, 1573.799, 1542.323, 1511.4765, 1481.247, 1451.622, 1422.5896, 1394.1378, 1366.2551, 1338.93, 1312.1514, 1285.9083, 1260.1902, 1234.9864, 1210.2866, 1186.0809, 1162.3593, 1139.1121], \"type\": \"bar\", \"uid\": \"6aa512ee-0a91-46a6-81ab-0f6244badede\"}, {\"marker\": {\"color\": \"rgba(255, 215, 0, 0.6)\", \"line\": {\"color\": \"rgba(255, 215, 0, 1.0)\", \"width\": 1}}, \"name\": \"Other agricultural land\", \"orientation\": \"v\", \"text\": \"\", \"x\": [2015, 2016, 2017, 2018, 2019, 2020, 2021, 2022, 2023, 2024, 2025, 2026, 2027, 2028, 2029, 2030, 2031, 2032, 2033, 2034, 2035, 2036, 2037, 2038, 2039, 2040], \"y\": [1105.6, 1105.6, 1105.6, 1105.6, 1105.6, 1105.6, 1105.6, 1105.6, 1105.6, 1105.6, 1105.6, 1105.6, 1105.6, 1105.6, 1105.6, 1105.6, 1105.6, 1105.6, 1105.6, 1105.6, 1105.6, 1105.6, 1105.6, 1105.6, 1105.6, 1105.6], \"type\": \"bar\", \"uid\": \"bcc53ad0-43ca-4377-ba14-b1d6fd689446\"}, {\"marker\": {\"color\": \"rgba(0, 0, 0, 0.6)\", \"line\": {\"color\": \"rgba(0, 0, 0, 1.0)\", \"width\": 1}}, \"name\": \"Built-up land\", \"orientation\": \"v\", \"text\": \"\", \"x\": [2015, 2016, 2017, 2018, 2019, 2020, 2021, 2022, 2023, 2024, 2025, 2026, 2027, 2028, 2029, 2030, 2031, 2032, 2033, 2034, 2035, 2036, 2037, 2038, 2039, 2040], \"y\": [569.92, 569.92, 569.92, 569.92, 569.92, 569.92, 569.92, 569.92, 569.92, 569.92, 569.92, 569.92, 569.92, 569.92, 569.92, 569.92, 569.92, 569.92, 569.92, 569.92, 569.92, 569.92, 569.92, 569.92, 569.92, 569.92], \"type\": \"bar\", \"uid\": \"9abfb187-8656-4724-8251-32a44e17dc2e\"}, {\"marker\": {\"color\": \"rgba(55, 128, 191, 0.6)\", \"line\": {\"color\": \"rgba(55, 128, 191, 1.0)\", \"width\": 1}}, \"name\": \"Water\", \"orientation\": \"v\", \"text\": \"\", \"x\": [2015, 2016, 2017, 2018, 2019, 2020, 2021, 2022, 2023, 2024, 2025, 2026, 2027, 2028, 2029, 2030, 2031, 2032, 2033, 2034, 2035, 2036, 2037, 2038, 2039, 2040], \"y\": [100.18, 100.18, 100.18, 100.18, 100.18, 100.18, 100.18, 100.18, 100.18, 100.18, 100.18, 100.18, 100.18, 100.18, 100.18, 100.18, 100.18, 100.18, 100.18, 100.18, 100.18, 100.18, 100.18, 100.18, 100.18, 100.18], \"type\": \"bar\", \"uid\": \"ee8a0384-e16d-4f1c-8080-d5394c1a8ee1\"}, {\"marker\": {\"color\": \"rgba(165, 42, 42, 0.6)\", \"line\": {\"color\": \"rgba(165, 42, 42, 1.0)\", \"width\": 1}}, \"name\": \"Agriculture\", \"orientation\": \"v\", \"text\": \"\", \"x\": [2015, 2016, 2017, 2018, 2019, 2020, 2021, 2022, 2023, 2024, 2025, 2026, 2027, 2028, 2029, 2030, 2031, 2032, 2033, 2034, 2035, 2036, 2037, 2038, 2039, 2040], \"y\": [4690.100038500001, 4727.852407, 4764.8497453, 4801.107173, 4836.6393849999995, 4871.461028, 4905.586190000001, 4939.0288785, 4971.8027505, 5003.921044, 5035.397074500001, 5066.243479, 5096.472969999999, 5126.097992999999, 5155.1304390000005, 5183.582199, 5211.464991, 5238.790053, 5265.5686829999995, 5291.8116868, 5317.52987455, 5342.733646000001, 5367.4334015, 5391.639160500001, 5415.360715, 5438.6079335], \"type\": \"bar\", \"uid\": \"20817066-43ba-42ce-ac2f-f2da851d2cbf\"}], {\"barmode\": \"stack\", \"legend\": {\"bgcolor\": \"#FFFFFF\", \"font\": {\"color\": \"#4D5663\"}, \"traceorder\": \"normal\"}, \"paper_bgcolor\": \"#FFFFFF\", \"plot_bgcolor\": \"#FFFFFF\", \"title\": {\"text\": \"Area by land cover type (South region)\", \"font\": {\"color\": \"#4D5663\"}}, \"xaxis\": {\"gridcolor\": \"#E1E5ED\", \"showgrid\": true, \"tickfont\": {\"color\": \"#4D5663\"}, \"title\": {\"text\": \"Year\", \"font\": {\"color\": \"#4D5663\"}}, \"zerolinecolor\": \"#E1E5ED\"}, \"yaxis\": {\"gridcolor\": \"#E1E5ED\", \"showgrid\": true, \"tickfont\": {\"color\": \"#4D5663\"}, \"title\": {\"text\": \"Land area (kha)\", \"font\": {\"color\": \"#4D5663\"}}, \"zerolinecolor\": \"#E1E5ED\"}}, {\"showLink\": true, \"linkText\": \"Export to plot.ly\", \"plotlyServerURL\": \"https://plot.ly\"}); \n",
       "}\n",
       "});</script><script type=\"text/javascript\">window.addEventListener(\"resize\", function(){if (document.getElementById(\"8b1adf1d-5313-487e-932c-be3dabb36c03\")) {window._Plotly.Plots.resize(document.getElementById(\"8b1adf1d-5313-487e-932c-be3dabb36c03\"));};})</script>"
      ]
     },
     "metadata": {},
     "output_type": "display_data"
    }
   ],
   "source": [
    "for each in regions.keys():\n",
    "    land_region_df = all_params['TotalTechnologyAnnualActivity'][all_params['TotalTechnologyAnnualActivity'].t.str.startswith('LND')].drop('r', axis=1)\n",
    "    land_region_df = land_region_df[land_region_df.t.str[6:7] == each]\n",
    "    land_region_df = df_filter(land_region_df,3,6,['AGR'])\n",
    "    land_region_df['Agriculture'] = 0\n",
    "    for crop in ['Coffee','Cotton','Peanuts','Maize','Rice','Soybean','Sugarcane','Tea']:\n",
    "        if crop in land_region_df:\n",
    "            land_region_df['Agriculture'] = land_region_df['Agriculture'] + land_region_df[crop]\n",
    "            land_region_df = land_region_df.drop(crop,axis=1)\n",
    "    df_plot(land_region_df,'Land area (kha)','Area by land cover type (' + regions[each] + ' region)')"
   ]
  },
  {
   "cell_type": "code",
   "execution_count": 253,
   "metadata": {},
   "outputs": [
    {
     "data": {
      "application/vnd.plotly.v1+json": {
       "config": {
        "linkText": "Export to plot.ly",
        "plotlyServerURL": "https://plot.ly",
        "showLink": true
       },
       "data": [
        {
         "marker": {
          "color": "rgba(128, 128, 128, 0.6)",
          "line": {
           "color": "rgba(128, 128, 128, 1.0)",
           "width": 1
          }
         },
         "name": "Cotton",
         "orientation": "v",
         "text": "",
         "type": "bar",
         "uid": "23e1a771-abb7-42b7-9612-07ffc95a2f72",
         "x": [
          2015,
          2016,
          2017,
          2018,
          2019,
          2020,
          2021,
          2022,
          2023,
          2024,
          2025,
          2026,
          2027,
          2028,
          2029,
          2030,
          2031,
          2032,
          2033,
          2034,
          2035,
          2036,
          2037,
          2038,
          2039,
          2040
         ],
         "y": [
          1.9,
          1.85,
          1.7,
          1.7,
          1.6,
          1.55,
          1.4,
          1.4,
          1.3,
          1.2000000000000002,
          1.1,
          1.1,
          1,
          0.8999999999999999,
          0.8,
          0.8,
          0.65,
          0.6000000000000001,
          0.6000000000000001,
          0.6000000000000001,
          0.35,
          0.35,
          0.25,
          0.25,
          0,
          0
         ]
        },
        {
         "marker": {
          "color": "rgba(255, 153, 51, 0.6)",
          "line": {
           "color": "rgba(255, 153, 51, 1.0)",
           "width": 1
          }
         },
         "name": "Peanuts",
         "orientation": "v",
         "text": "",
         "type": "bar",
         "uid": "4f0639dc-679c-46fc-8aa2-3d7f243bec79",
         "x": [
          2015,
          2016,
          2017,
          2018,
          2019,
          2020,
          2021,
          2022,
          2023,
          2024,
          2025,
          2026,
          2027,
          2028,
          2029,
          2030,
          2031,
          2032,
          2033,
          2034,
          2035,
          2036,
          2037,
          2038,
          2039,
          2040
         ],
         "y": [
          182.01387,
          183.3982,
          184.39296000000002,
          186.74797,
          189.74192,
          195.33973,
          197.49782000000002,
          199.51525,
          201.47016,
          203.95376000000002,
          206.48975,
          208.55686,
          210.86595,
          213.45591,
          215.76042999999999,
          222.84817,
          223.01513,
          223.01612,
          223.97457999999997,
          224.99179999999998,
          225.30621,
          226.82749,
          228.43467,
          229.94177000000002,
          231.43452,
          233.1785
         ]
        },
        {
         "marker": {
          "color": "rgba(255, 215, 0, 0.6)",
          "line": {
           "color": "rgba(255, 215, 0, 1.0)",
           "width": 1
          }
         },
         "name": "Maize",
         "orientation": "v",
         "text": "",
         "type": "bar",
         "uid": "bc673bc6-5c25-4865-8cf2-276cdaa83eb1",
         "x": [
          2015,
          2016,
          2017,
          2018,
          2019,
          2020,
          2021,
          2022,
          2023,
          2024,
          2025,
          2026,
          2027,
          2028,
          2029,
          2030,
          2031,
          2032,
          2033,
          2034,
          2035,
          2036,
          2037,
          2038,
          2039,
          2040
         ],
         "y": [
          54.5,
          52.400000000000006,
          50.2,
          47.99999999999999,
          45.8,
          43.60000000000001,
          41.4,
          39.199999999999996,
          37.099999999999994,
          34.900000000000006,
          32.7,
          30.5,
          28.4,
          26.2,
          24,
          21.800000000000004,
          19.599999999999994,
          17.5,
          15.3,
          13.1,
          10.9,
          8.7,
          6.5,
          4.3999999999999995,
          2.2,
          0
         ]
        },
        {
         "marker": {
          "color": "rgba(0, 128, 0, 0.6)",
          "line": {
           "color": "rgba(0, 128, 0, 1.0)",
           "width": 1
          }
         },
         "name": "Rice",
         "orientation": "v",
         "text": "",
         "type": "bar",
         "uid": "e0cc8689-1b62-445c-8611-6e55d746438d",
         "x": [
          2015,
          2016,
          2017,
          2018,
          2019,
          2020,
          2021,
          2022,
          2023,
          2024,
          2025,
          2026,
          2027,
          2028,
          2029,
          2030,
          2031,
          2032,
          2033,
          2034,
          2035,
          2036,
          2037,
          2038,
          2039,
          2040
         ],
         "y": [
          6240.96588,
          6324.12239,
          6408.65128,
          6491.0677399999995,
          6573.12777,
          6653.71199,
          6674.8543199999995,
          6694.91186,
          6715.5479000000005,
          6737.08784,
          6755.68482,
          6779.126020000001,
          6810.0831,
          6846.112300000001,
          6881.46311,
          6945.80888,
          6937.1977400000005,
          6928.735209999999,
          6927.942659999999,
          6930.63452,
          6934.1818,
          6935.58964,
          6938.21004,
          6941.92346,
          6950.96155,
          6962.56951
         ]
        },
        {
         "marker": {
          "color": "rgba(128, 0, 128, 0.6)",
          "line": {
           "color": "rgba(128, 0, 128, 1.0)",
           "width": 1
          }
         },
         "name": "Sugarcane",
         "orientation": "v",
         "text": "",
         "type": "bar",
         "uid": "7121c237-6a04-44d8-8d09-fbc5673fd830",
         "x": [
          2015,
          2016,
          2017,
          2018,
          2019,
          2020,
          2021,
          2022,
          2023,
          2024,
          2025,
          2026,
          2027,
          2028,
          2029,
          2030,
          2031,
          2032,
          2033,
          2034,
          2035,
          2036,
          2037,
          2038,
          2039,
          2040
         ],
         "y": [
          1751.2186359999998,
          1767.77312,
          1788.28662,
          1808.63345,
          1829.47488,
          1850.1572700000002,
          1858.47997,
          1867.81591,
          1877.07491,
          1886.3133399999997,
          1897.4942499999997,
          1907.6494700000003,
          1917.3022999999996,
          1922.2144,
          1929.4962300000002,
          1935.88797,
          1935.24148,
          1935.7840500000002,
          1932.88095,
          1929.76466,
          1927.92802,
          1926.2979799999996,
          1923.7476899999997,
          1921.4698700000004,
          1922.48054,
          1923.9598099999998
         ]
        }
       ],
       "layout": {
        "barmode": "stack",
        "legend": {
         "bgcolor": "#FFFFFF",
         "font": {
          "color": "#4D5663"
         },
         "traceorder": "normal"
        },
        "paper_bgcolor": "#FFFFFF",
        "plot_bgcolor": "#FFFFFF",
        "title": {
         "font": {
          "color": "#4D5663"
         },
         "text": "Area by crop (Irrigated)"
        },
        "xaxis": {
         "gridcolor": "#E1E5ED",
         "showgrid": true,
         "tickfont": {
          "color": "#4D5663"
         },
         "title": {
          "font": {
           "color": "#4D5663"
          },
          "text": "Year"
         },
         "zerolinecolor": "#E1E5ED"
        },
        "yaxis": {
         "gridcolor": "#E1E5ED",
         "showgrid": true,
         "tickfont": {
          "color": "#4D5663"
         },
         "title": {
          "font": {
           "color": "#4D5663"
          },
          "text": "Land area (kha)"
         },
         "zerolinecolor": "#E1E5ED"
        }
       }
      },
      "text/html": [
       "<div id=\"c08dad9e-b387-4470-8bb4-7e1550f7a293\" style=\"height: 525px; width: 100%;\" class=\"plotly-graph-div\"></div><script type=\"text/javascript\">require([\"plotly\"], function(Plotly) { window.PLOTLYENV=window.PLOTLYENV || {};window.PLOTLYENV.BASE_URL=\"https://plot.ly\";\n",
       "if (document.getElementById(\"c08dad9e-b387-4470-8bb4-7e1550f7a293\")) {\n",
       "    Plotly.newPlot(\"c08dad9e-b387-4470-8bb4-7e1550f7a293\", [{\"marker\": {\"color\": \"rgba(128, 128, 128, 0.6)\", \"line\": {\"color\": \"rgba(128, 128, 128, 1.0)\", \"width\": 1}}, \"name\": \"Cotton\", \"orientation\": \"v\", \"text\": \"\", \"x\": [2015, 2016, 2017, 2018, 2019, 2020, 2021, 2022, 2023, 2024, 2025, 2026, 2027, 2028, 2029, 2030, 2031, 2032, 2033, 2034, 2035, 2036, 2037, 2038, 2039, 2040], \"y\": [1.9, 1.85, 1.7, 1.7, 1.6, 1.55, 1.4, 1.4, 1.3, 1.2000000000000002, 1.1, 1.1, 1.0, 0.8999999999999999, 0.8, 0.8, 0.65, 0.6000000000000001, 0.6000000000000001, 0.6000000000000001, 0.35, 0.35, 0.25, 0.25, 0.0, 0.0], \"type\": \"bar\", \"uid\": \"76744577-879e-422a-9450-0905134a2d9b\"}, {\"marker\": {\"color\": \"rgba(255, 153, 51, 0.6)\", \"line\": {\"color\": \"rgba(255, 153, 51, 1.0)\", \"width\": 1}}, \"name\": \"Peanuts\", \"orientation\": \"v\", \"text\": \"\", \"x\": [2015, 2016, 2017, 2018, 2019, 2020, 2021, 2022, 2023, 2024, 2025, 2026, 2027, 2028, 2029, 2030, 2031, 2032, 2033, 2034, 2035, 2036, 2037, 2038, 2039, 2040], \"y\": [182.01387, 183.3982, 184.39296000000002, 186.74797, 189.74192, 195.33973, 197.49782000000002, 199.51525, 201.47016, 203.95376000000002, 206.48975, 208.55686, 210.86595, 213.45591, 215.76042999999999, 222.84817, 223.01513, 223.01612, 223.97457999999997, 224.99179999999998, 225.30621, 226.82749, 228.43467, 229.94177000000002, 231.43452, 233.1785], \"type\": \"bar\", \"uid\": \"3642e866-6e79-4c65-b8a1-1a03bcd9eb17\"}, {\"marker\": {\"color\": \"rgba(255, 215, 0, 0.6)\", \"line\": {\"color\": \"rgba(255, 215, 0, 1.0)\", \"width\": 1}}, \"name\": \"Maize\", \"orientation\": \"v\", \"text\": \"\", \"x\": [2015, 2016, 2017, 2018, 2019, 2020, 2021, 2022, 2023, 2024, 2025, 2026, 2027, 2028, 2029, 2030, 2031, 2032, 2033, 2034, 2035, 2036, 2037, 2038, 2039, 2040], \"y\": [54.5, 52.400000000000006, 50.2, 47.99999999999999, 45.8, 43.60000000000001, 41.4, 39.199999999999996, 37.099999999999994, 34.900000000000006, 32.7, 30.5, 28.4, 26.2, 24.0, 21.800000000000004, 19.599999999999994, 17.5, 15.3, 13.1, 10.9, 8.7, 6.5, 4.3999999999999995, 2.2, 0.0], \"type\": \"bar\", \"uid\": \"de886a06-da04-4adb-9df0-19488be0c021\"}, {\"marker\": {\"color\": \"rgba(0, 128, 0, 0.6)\", \"line\": {\"color\": \"rgba(0, 128, 0, 1.0)\", \"width\": 1}}, \"name\": \"Rice\", \"orientation\": \"v\", \"text\": \"\", \"x\": [2015, 2016, 2017, 2018, 2019, 2020, 2021, 2022, 2023, 2024, 2025, 2026, 2027, 2028, 2029, 2030, 2031, 2032, 2033, 2034, 2035, 2036, 2037, 2038, 2039, 2040], \"y\": [6240.96588, 6324.12239, 6408.65128, 6491.0677399999995, 6573.12777, 6653.71199, 6674.8543199999995, 6694.91186, 6715.5479000000005, 6737.08784, 6755.68482, 6779.126020000001, 6810.0831, 6846.112300000001, 6881.46311, 6945.80888, 6937.1977400000005, 6928.735209999999, 6927.942659999999, 6930.63452, 6934.1818, 6935.58964, 6938.21004, 6941.92346, 6950.96155, 6962.56951], \"type\": \"bar\", \"uid\": \"eda5461c-0565-4291-be55-47f995d7e324\"}, {\"marker\": {\"color\": \"rgba(128, 0, 128, 0.6)\", \"line\": {\"color\": \"rgba(128, 0, 128, 1.0)\", \"width\": 1}}, \"name\": \"Sugarcane\", \"orientation\": \"v\", \"text\": \"\", \"x\": [2015, 2016, 2017, 2018, 2019, 2020, 2021, 2022, 2023, 2024, 2025, 2026, 2027, 2028, 2029, 2030, 2031, 2032, 2033, 2034, 2035, 2036, 2037, 2038, 2039, 2040], \"y\": [1751.2186359999998, 1767.77312, 1788.28662, 1808.63345, 1829.47488, 1850.1572700000002, 1858.47997, 1867.81591, 1877.07491, 1886.3133399999997, 1897.4942499999997, 1907.6494700000003, 1917.3022999999996, 1922.2144, 1929.4962300000002, 1935.88797, 1935.24148, 1935.7840500000002, 1932.88095, 1929.76466, 1927.92802, 1926.2979799999996, 1923.7476899999997, 1921.4698700000004, 1922.48054, 1923.9598099999998], \"type\": \"bar\", \"uid\": \"f46db98e-0aaa-4404-ad68-36e32b82c508\"}], {\"barmode\": \"stack\", \"legend\": {\"bgcolor\": \"#FFFFFF\", \"font\": {\"color\": \"#4D5663\"}, \"traceorder\": \"normal\"}, \"paper_bgcolor\": \"#FFFFFF\", \"plot_bgcolor\": \"#FFFFFF\", \"title\": {\"text\": \"Area by crop (Irrigated)\", \"font\": {\"color\": \"#4D5663\"}}, \"xaxis\": {\"gridcolor\": \"#E1E5ED\", \"showgrid\": true, \"tickfont\": {\"color\": \"#4D5663\"}, \"title\": {\"text\": \"Year\", \"font\": {\"color\": \"#4D5663\"}}, \"zerolinecolor\": \"#E1E5ED\"}, \"yaxis\": {\"gridcolor\": \"#E1E5ED\", \"showgrid\": true, \"tickfont\": {\"color\": \"#4D5663\"}, \"title\": {\"text\": \"Land area (kha)\", \"font\": {\"color\": \"#4D5663\"}}, \"zerolinecolor\": \"#E1E5ED\"}}, {\"showLink\": true, \"linkText\": \"Export to plot.ly\", \"plotlyServerURL\": \"https://plot.ly\"}); \n",
       "}\n",
       "});</script><script type=\"text/javascript\">window.addEventListener(\"resize\", function(){if (document.getElementById(\"c08dad9e-b387-4470-8bb4-7e1550f7a293\")) {window._Plotly.Plots.resize(document.getElementById(\"c08dad9e-b387-4470-8bb4-7e1550f7a293\"));};})</script>"
      ],
      "text/vnd.plotly.v1+html": [
       "<div id=\"c08dad9e-b387-4470-8bb4-7e1550f7a293\" style=\"height: 525px; width: 100%;\" class=\"plotly-graph-div\"></div><script type=\"text/javascript\">require([\"plotly\"], function(Plotly) { window.PLOTLYENV=window.PLOTLYENV || {};window.PLOTLYENV.BASE_URL=\"https://plot.ly\";\n",
       "if (document.getElementById(\"c08dad9e-b387-4470-8bb4-7e1550f7a293\")) {\n",
       "    Plotly.newPlot(\"c08dad9e-b387-4470-8bb4-7e1550f7a293\", [{\"marker\": {\"color\": \"rgba(128, 128, 128, 0.6)\", \"line\": {\"color\": \"rgba(128, 128, 128, 1.0)\", \"width\": 1}}, \"name\": \"Cotton\", \"orientation\": \"v\", \"text\": \"\", \"x\": [2015, 2016, 2017, 2018, 2019, 2020, 2021, 2022, 2023, 2024, 2025, 2026, 2027, 2028, 2029, 2030, 2031, 2032, 2033, 2034, 2035, 2036, 2037, 2038, 2039, 2040], \"y\": [1.9, 1.85, 1.7, 1.7, 1.6, 1.55, 1.4, 1.4, 1.3, 1.2000000000000002, 1.1, 1.1, 1.0, 0.8999999999999999, 0.8, 0.8, 0.65, 0.6000000000000001, 0.6000000000000001, 0.6000000000000001, 0.35, 0.35, 0.25, 0.25, 0.0, 0.0], \"type\": \"bar\", \"uid\": \"76744577-879e-422a-9450-0905134a2d9b\"}, {\"marker\": {\"color\": \"rgba(255, 153, 51, 0.6)\", \"line\": {\"color\": \"rgba(255, 153, 51, 1.0)\", \"width\": 1}}, \"name\": \"Peanuts\", \"orientation\": \"v\", \"text\": \"\", \"x\": [2015, 2016, 2017, 2018, 2019, 2020, 2021, 2022, 2023, 2024, 2025, 2026, 2027, 2028, 2029, 2030, 2031, 2032, 2033, 2034, 2035, 2036, 2037, 2038, 2039, 2040], \"y\": [182.01387, 183.3982, 184.39296000000002, 186.74797, 189.74192, 195.33973, 197.49782000000002, 199.51525, 201.47016, 203.95376000000002, 206.48975, 208.55686, 210.86595, 213.45591, 215.76042999999999, 222.84817, 223.01513, 223.01612, 223.97457999999997, 224.99179999999998, 225.30621, 226.82749, 228.43467, 229.94177000000002, 231.43452, 233.1785], \"type\": \"bar\", \"uid\": \"3642e866-6e79-4c65-b8a1-1a03bcd9eb17\"}, {\"marker\": {\"color\": \"rgba(255, 215, 0, 0.6)\", \"line\": {\"color\": \"rgba(255, 215, 0, 1.0)\", \"width\": 1}}, \"name\": \"Maize\", \"orientation\": \"v\", \"text\": \"\", \"x\": [2015, 2016, 2017, 2018, 2019, 2020, 2021, 2022, 2023, 2024, 2025, 2026, 2027, 2028, 2029, 2030, 2031, 2032, 2033, 2034, 2035, 2036, 2037, 2038, 2039, 2040], \"y\": [54.5, 52.400000000000006, 50.2, 47.99999999999999, 45.8, 43.60000000000001, 41.4, 39.199999999999996, 37.099999999999994, 34.900000000000006, 32.7, 30.5, 28.4, 26.2, 24.0, 21.800000000000004, 19.599999999999994, 17.5, 15.3, 13.1, 10.9, 8.7, 6.5, 4.3999999999999995, 2.2, 0.0], \"type\": \"bar\", \"uid\": \"de886a06-da04-4adb-9df0-19488be0c021\"}, {\"marker\": {\"color\": \"rgba(0, 128, 0, 0.6)\", \"line\": {\"color\": \"rgba(0, 128, 0, 1.0)\", \"width\": 1}}, \"name\": \"Rice\", \"orientation\": \"v\", \"text\": \"\", \"x\": [2015, 2016, 2017, 2018, 2019, 2020, 2021, 2022, 2023, 2024, 2025, 2026, 2027, 2028, 2029, 2030, 2031, 2032, 2033, 2034, 2035, 2036, 2037, 2038, 2039, 2040], \"y\": [6240.96588, 6324.12239, 6408.65128, 6491.0677399999995, 6573.12777, 6653.71199, 6674.8543199999995, 6694.91186, 6715.5479000000005, 6737.08784, 6755.68482, 6779.126020000001, 6810.0831, 6846.112300000001, 6881.46311, 6945.80888, 6937.1977400000005, 6928.735209999999, 6927.942659999999, 6930.63452, 6934.1818, 6935.58964, 6938.21004, 6941.92346, 6950.96155, 6962.56951], \"type\": \"bar\", \"uid\": \"eda5461c-0565-4291-be55-47f995d7e324\"}, {\"marker\": {\"color\": \"rgba(128, 0, 128, 0.6)\", \"line\": {\"color\": \"rgba(128, 0, 128, 1.0)\", \"width\": 1}}, \"name\": \"Sugarcane\", \"orientation\": \"v\", \"text\": \"\", \"x\": [2015, 2016, 2017, 2018, 2019, 2020, 2021, 2022, 2023, 2024, 2025, 2026, 2027, 2028, 2029, 2030, 2031, 2032, 2033, 2034, 2035, 2036, 2037, 2038, 2039, 2040], \"y\": [1751.2186359999998, 1767.77312, 1788.28662, 1808.63345, 1829.47488, 1850.1572700000002, 1858.47997, 1867.81591, 1877.07491, 1886.3133399999997, 1897.4942499999997, 1907.6494700000003, 1917.3022999999996, 1922.2144, 1929.4962300000002, 1935.88797, 1935.24148, 1935.7840500000002, 1932.88095, 1929.76466, 1927.92802, 1926.2979799999996, 1923.7476899999997, 1921.4698700000004, 1922.48054, 1923.9598099999998], \"type\": \"bar\", \"uid\": \"f46db98e-0aaa-4404-ad68-36e32b82c508\"}], {\"barmode\": \"stack\", \"legend\": {\"bgcolor\": \"#FFFFFF\", \"font\": {\"color\": \"#4D5663\"}, \"traceorder\": \"normal\"}, \"paper_bgcolor\": \"#FFFFFF\", \"plot_bgcolor\": \"#FFFFFF\", \"title\": {\"text\": \"Area by crop (Irrigated)\", \"font\": {\"color\": \"#4D5663\"}}, \"xaxis\": {\"gridcolor\": \"#E1E5ED\", \"showgrid\": true, \"tickfont\": {\"color\": \"#4D5663\"}, \"title\": {\"text\": \"Year\", \"font\": {\"color\": \"#4D5663\"}}, \"zerolinecolor\": \"#E1E5ED\"}, \"yaxis\": {\"gridcolor\": \"#E1E5ED\", \"showgrid\": true, \"tickfont\": {\"color\": \"#4D5663\"}, \"title\": {\"text\": \"Land area (kha)\", \"font\": {\"color\": \"#4D5663\"}}, \"zerolinecolor\": \"#E1E5ED\"}}, {\"showLink\": true, \"linkText\": \"Export to plot.ly\", \"plotlyServerURL\": \"https://plot.ly\"}); \n",
       "}\n",
       "});</script><script type=\"text/javascript\">window.addEventListener(\"resize\", function(){if (document.getElementById(\"c08dad9e-b387-4470-8bb4-7e1550f7a293\")) {window._Plotly.Plots.resize(document.getElementById(\"c08dad9e-b387-4470-8bb4-7e1550f7a293\"));};})</script>"
      ]
     },
     "metadata": {},
     "output_type": "display_data"
    },
    {
     "data": {
      "application/vnd.plotly.v1+json": {
       "config": {
        "linkText": "Export to plot.ly",
        "plotlyServerURL": "https://plot.ly",
        "showLink": true
       },
       "data": [
        {
         "marker": {
          "color": "rgba(165, 42, 42, 0.6)",
          "line": {
           "color": "rgba(165, 42, 42, 1.0)",
           "width": 1
          }
         },
         "name": "Coffee",
         "orientation": "v",
         "text": "",
         "type": "bar",
         "uid": "5d925296-7062-41b1-8abc-95af597a66c6",
         "x": [
          2015,
          2016,
          2017,
          2018,
          2019,
          2020,
          2021,
          2022,
          2023,
          2024,
          2025,
          2026,
          2027,
          2028,
          2029,
          2030,
          2031,
          2032,
          2033,
          2034,
          2035,
          2036,
          2037,
          2038,
          2039,
          2040
         ],
         "y": [
          667.8810600000002,
          672.89667,
          685.2024153,
          698.6805030000002,
          709.5790350000002,
          717.548109,
          720.5104249999999,
          723.245315,
          726.0222080000001,
          728.8676600000001,
          735.38736,
          748.1474349999999,
          793.5641969999997,
          840.590245,
          886.9170850000003,
          885.4189550000001,
          915.4011150000001,
          980.6179910000001,
          1059.523642,
          1140.4341399999998,
          1211.5756299999998,
          1264.3053,
          1315.9649299999999,
          1367.33936,
          1400.3207100000002,
          1430.74458
         ]
        },
        {
         "marker": {
          "color": "rgba(128, 128, 128, 0.6)",
          "line": {
           "color": "rgba(128, 128, 128, 1.0)",
           "width": 1
          }
         },
         "name": "Cotton",
         "orientation": "v",
         "text": "",
         "type": "bar",
         "uid": "426c6b15-f46a-4db4-b069-d4d811b61391",
         "x": [
          2015,
          2016,
          2017,
          2018,
          2019,
          2020,
          2021,
          2022,
          2023,
          2024,
          2025,
          2026,
          2027,
          2028,
          2029,
          2030,
          2031,
          2032,
          2033,
          2034,
          2035,
          2036,
          2037,
          2038,
          2039,
          2040
         ],
         "y": [
          27.058,
          26.68027088,
          27.537,
          27.752,
          28.017,
          30.889169000000003,
          33.522555,
          34.761283,
          35.925841000000005,
          36.046153999999994,
          36.235897,
          36.289671999999996,
          36.24871799999999,
          36.442308,
          36.652564000000005,
          29.518420999999996,
          31.783046000000002,
          34.798238,
          34.583237999999994,
          39.4794118,
          58.090233,
          70.107105,
          75.963423,
          82.038588,
          86.1423,
          87.902556
         ]
        },
        {
         "marker": {
          "color": "rgba(255, 153, 51, 0.6)",
          "line": {
           "color": "rgba(255, 153, 51, 1.0)",
           "width": 1
          }
         },
         "name": "Peanuts",
         "orientation": "v",
         "text": "",
         "type": "bar",
         "uid": "d711603c-22f1-4076-9ed5-d2ab12472971",
         "x": [
          2015,
          2016,
          2017,
          2018,
          2019,
          2020,
          2021,
          2022,
          2023,
          2024,
          2025,
          2026,
          2027,
          2028,
          2029,
          2030,
          2031,
          2032,
          2033,
          2034,
          2035,
          2036,
          2037,
          2038,
          2039,
          2040
         ],
         "y": [
          67.35,
          64.6,
          62,
          68.8,
          65.6,
          62.60000000000001,
          59.4,
          56.19999999999999,
          53.199999999999996,
          50.00000000000001,
          46.9,
          43.900000000000006,
          40.699999999999996,
          37.5,
          42.050000000000004,
          31.300000000000004,
          28.099999999999994,
          24.9,
          21.900000000000002,
          18.700000000000003,
          15.600000000000001,
          14.35,
          10.700000000000001,
          7.049999999999999,
          4.1000000000000005,
          0
         ]
        },
        {
         "marker": {
          "color": "rgba(255, 215, 0, 0.6)",
          "line": {
           "color": "rgba(255, 215, 0, 1.0)",
           "width": 1
          }
         },
         "name": "Maize",
         "orientation": "v",
         "text": "",
         "type": "bar",
         "uid": "714061e7-61f9-415b-a20a-3c4f4b022a11",
         "x": [
          2015,
          2016,
          2017,
          2018,
          2019,
          2020,
          2021,
          2022,
          2023,
          2024,
          2025,
          2026,
          2027,
          2028,
          2029,
          2030,
          2031,
          2032,
          2033,
          2034,
          2035,
          2036,
          2037,
          2038,
          2039,
          2040
         ],
         "y": [
          655.8571199999999,
          684.403692,
          715.79377,
          719.8178700000001,
          724.1530200000002,
          726.6405,
          740.5095,
          738.2163700000001,
          735.76207,
          733.5090499999999,
          731.83748,
          741.5404900000001,
          738.4019900000002,
          735.1969199999999,
          731.8989100000001,
          713.429623,
          714.5104599999999,
          714.77182,
          708.95847,
          702.9535300000002,
          697.981,
          692.0970499999999,
          686.0377400000001,
          680.0305499999998,
          673.7001899999999,
          668.08729
         ]
        },
        {
         "marker": {
          "color": "rgba(0, 128, 0, 0.6)",
          "line": {
           "color": "rgba(0, 128, 0, 1.0)",
           "width": 1
          }
         },
         "name": "Rice",
         "orientation": "v",
         "text": "",
         "type": "bar",
         "uid": "c7a8d29d-2a80-4b7b-b2ba-7fded1d26a17",
         "x": [
          2015,
          2016,
          2017,
          2018,
          2019,
          2020,
          2021,
          2022,
          2023,
          2024,
          2025,
          2026,
          2027,
          2028,
          2029,
          2030,
          2031,
          2032,
          2033,
          2034,
          2035,
          2036,
          2037,
          2038,
          2039,
          2040
         ],
         "y": [
          1434.6599999999999,
          1439.1499999999999,
          1379.2499999999998,
          1319.2499999999998,
          1259.2000000000003,
          1199.3000000000002,
          1164.9912648000002,
          1160.099399,
          1154.278498,
          1152.2685119999999,
          1122.12733,
          1061.5500000000002,
          985.8,
          909.9,
          833.9999999999999,
          704.2500000000001,
          682.5,
          606.6000000000001,
          530.7,
          454.95,
          379.2,
          332.754901,
          288.97139100000004,
          242.21428000000003,
          176.97773999999998,
          114.62412
         ]
        },
        {
         "marker": {
          "color": "rgba(178, 34, 34, 0.6)",
          "line": {
           "color": "rgba(178, 34, 34, 1.0)",
           "width": 1
          }
         },
         "name": "Soybean",
         "orientation": "v",
         "text": "",
         "type": "bar",
         "uid": "54fa7428-f57d-425e-8f6a-b90cd8c6276e",
         "x": [
          2015,
          2016,
          2017,
          2018,
          2019,
          2020,
          2021,
          2022,
          2023,
          2024,
          2025,
          2026,
          2027,
          2028,
          2029,
          2030,
          2031,
          2032,
          2033,
          2034,
          2035,
          2036,
          2037,
          2038,
          2039,
          2040
         ],
         "y": [
          111.509431,
          111.72440099999997,
          111.906737,
          112.09505999999999,
          112.32200600000002,
          112.519311,
          112.20868599999999,
          111.8652485,
          111.55462349999999,
          111.21431100000001,
          110.98274850000001,
          110.67399799999997,
          110.33556100000001,
          109.99868599999999,
          114.108209,
          110.200333,
          108.362309,
          107.58626100000001,
          106.744644,
          106.49704,
          105.94064655000001,
          104.709461,
          103.75259950000002,
          102.7433135,
          102.35189000000003,
          100.77551849999999
         ]
        },
        {
         "marker": {
          "color": "rgba(128, 0, 128, 0.6)",
          "line": {
           "color": "rgba(128, 0, 128, 1.0)",
           "width": 1
          }
         },
         "name": "Sugarcane",
         "orientation": "v",
         "text": "",
         "type": "bar",
         "uid": "612090b9-9e94-4003-bf46-aa72ecdb5865",
         "x": [
          2015,
          2016,
          2017,
          2018,
          2019,
          2020,
          2021,
          2022,
          2023,
          2024,
          2025,
          2026,
          2027,
          2028,
          2029,
          2030,
          2031,
          2032,
          2033,
          2034,
          2035,
          2036,
          2037,
          2038,
          2039,
          2040
         ],
         "y": [
          48.6447125,
          53.85,
          51.6,
          49.35000000000001,
          47.1,
          45.62118996,
          49.55,
          46.900000000000006,
          44.3,
          41.699999999999996,
          39.099999999999994,
          41.849999999999994,
          38.849999999999994,
          35.85,
          32.849999999999994,
          22.35,
          23.549999999999997,
          20.900000000000002,
          18.299999999999997,
          18.000000000000004,
          15.000000000000002,
          12.000000000000002,
          9.000000000000002,
          6,
          2.9999999999999996,
          0
         ]
        },
        {
         "marker": {
          "color": "rgba(255, 0, 136, 0.6)",
          "line": {
           "color": "rgba(255, 0, 136, 1.0)",
           "width": 1
          }
         },
         "name": "Tea",
         "orientation": "v",
         "text": "",
         "type": "bar",
         "uid": "15341967-59cd-40d1-868d-586e878a27e1",
         "x": [
          2015,
          2016,
          2017,
          2018,
          2019,
          2020,
          2021,
          2022,
          2023,
          2024,
          2025,
          2026,
          2027,
          2028,
          2029,
          2030,
          2031,
          2032,
          2033,
          2034,
          2035,
          2036,
          2037,
          2038,
          2039,
          2040
         ],
         "y": [
          3797.7473,
          3843.3898,
          3880.8464,
          3912.4372000000003,
          3941.2071,
          3970.3881,
          3979.3498000000004,
          3988.5980999999997,
          3997.9123,
          4007.1788999999994,
          4012.3496,
          4017.2362000000003,
          4029.2793000000006,
          4055.3006,
          4066.5504,
          3829.139500000001,
          3836.3185999999996,
          3841.9782,
          3844.2276,
          3841.625000000001,
          3839.0006,
          3837.253399999999,
          3831.897200000001,
          3826.3307999999993,
          3819.9646999999995,
          3812.7598
         ]
        }
       ],
       "layout": {
        "barmode": "stack",
        "legend": {
         "bgcolor": "#FFFFFF",
         "font": {
          "color": "#4D5663"
         },
         "traceorder": "normal"
        },
        "paper_bgcolor": "#FFFFFF",
        "plot_bgcolor": "#FFFFFF",
        "title": {
         "font": {
          "color": "#4D5663"
         },
         "text": "Area by crop (Rain-fed)"
        },
        "xaxis": {
         "gridcolor": "#E1E5ED",
         "showgrid": true,
         "tickfont": {
          "color": "#4D5663"
         },
         "title": {
          "font": {
           "color": "#4D5663"
          },
          "text": "Year"
         },
         "zerolinecolor": "#E1E5ED"
        },
        "yaxis": {
         "gridcolor": "#E1E5ED",
         "showgrid": true,
         "tickfont": {
          "color": "#4D5663"
         },
         "title": {
          "font": {
           "color": "#4D5663"
          },
          "text": "Land area (kha)"
         },
         "zerolinecolor": "#E1E5ED"
        }
       }
      },
      "text/html": [
       "<div id=\"8ca72953-8009-4105-bb34-54d15d3b28a7\" style=\"height: 525px; width: 100%;\" class=\"plotly-graph-div\"></div><script type=\"text/javascript\">require([\"plotly\"], function(Plotly) { window.PLOTLYENV=window.PLOTLYENV || {};window.PLOTLYENV.BASE_URL=\"https://plot.ly\";\n",
       "if (document.getElementById(\"8ca72953-8009-4105-bb34-54d15d3b28a7\")) {\n",
       "    Plotly.newPlot(\"8ca72953-8009-4105-bb34-54d15d3b28a7\", [{\"marker\": {\"color\": \"rgba(165, 42, 42, 0.6)\", \"line\": {\"color\": \"rgba(165, 42, 42, 1.0)\", \"width\": 1}}, \"name\": \"Coffee\", \"orientation\": \"v\", \"text\": \"\", \"x\": [2015, 2016, 2017, 2018, 2019, 2020, 2021, 2022, 2023, 2024, 2025, 2026, 2027, 2028, 2029, 2030, 2031, 2032, 2033, 2034, 2035, 2036, 2037, 2038, 2039, 2040], \"y\": [667.8810600000002, 672.89667, 685.2024153, 698.6805030000002, 709.5790350000002, 717.548109, 720.5104249999999, 723.245315, 726.0222080000001, 728.8676600000001, 735.38736, 748.1474349999999, 793.5641969999997, 840.590245, 886.9170850000003, 885.4189550000001, 915.4011150000001, 980.6179910000001, 1059.523642, 1140.4341399999998, 1211.5756299999998, 1264.3053, 1315.9649299999999, 1367.33936, 1400.3207100000002, 1430.74458], \"type\": \"bar\", \"uid\": \"1d89d9fc-45df-4bf9-bd5a-57dc85101eca\"}, {\"marker\": {\"color\": \"rgba(128, 128, 128, 0.6)\", \"line\": {\"color\": \"rgba(128, 128, 128, 1.0)\", \"width\": 1}}, \"name\": \"Cotton\", \"orientation\": \"v\", \"text\": \"\", \"x\": [2015, 2016, 2017, 2018, 2019, 2020, 2021, 2022, 2023, 2024, 2025, 2026, 2027, 2028, 2029, 2030, 2031, 2032, 2033, 2034, 2035, 2036, 2037, 2038, 2039, 2040], \"y\": [27.058, 26.68027088, 27.537, 27.752, 28.017, 30.889169000000003, 33.522555, 34.761283, 35.925841000000005, 36.046153999999994, 36.235897, 36.289671999999996, 36.24871799999999, 36.442308, 36.652564000000005, 29.518420999999996, 31.783046000000002, 34.798238, 34.583237999999994, 39.4794118, 58.090233, 70.107105, 75.963423, 82.038588, 86.1423, 87.902556], \"type\": \"bar\", \"uid\": \"36a98a6f-aa6f-4c53-bcaf-5f1715206b0f\"}, {\"marker\": {\"color\": \"rgba(255, 153, 51, 0.6)\", \"line\": {\"color\": \"rgba(255, 153, 51, 1.0)\", \"width\": 1}}, \"name\": \"Peanuts\", \"orientation\": \"v\", \"text\": \"\", \"x\": [2015, 2016, 2017, 2018, 2019, 2020, 2021, 2022, 2023, 2024, 2025, 2026, 2027, 2028, 2029, 2030, 2031, 2032, 2033, 2034, 2035, 2036, 2037, 2038, 2039, 2040], \"y\": [67.35, 64.6, 62.0, 68.8, 65.6, 62.60000000000001, 59.4, 56.19999999999999, 53.199999999999996, 50.00000000000001, 46.9, 43.900000000000006, 40.699999999999996, 37.5, 42.050000000000004, 31.300000000000004, 28.099999999999994, 24.9, 21.900000000000002, 18.700000000000003, 15.600000000000001, 14.35, 10.700000000000001, 7.049999999999999, 4.1000000000000005, 0.0], \"type\": \"bar\", \"uid\": \"ddc2af8f-bd78-4124-b6fc-12788821fb12\"}, {\"marker\": {\"color\": \"rgba(255, 215, 0, 0.6)\", \"line\": {\"color\": \"rgba(255, 215, 0, 1.0)\", \"width\": 1}}, \"name\": \"Maize\", \"orientation\": \"v\", \"text\": \"\", \"x\": [2015, 2016, 2017, 2018, 2019, 2020, 2021, 2022, 2023, 2024, 2025, 2026, 2027, 2028, 2029, 2030, 2031, 2032, 2033, 2034, 2035, 2036, 2037, 2038, 2039, 2040], \"y\": [655.8571199999999, 684.403692, 715.79377, 719.8178700000001, 724.1530200000002, 726.6405, 740.5095, 738.2163700000001, 735.76207, 733.5090499999999, 731.83748, 741.5404900000001, 738.4019900000002, 735.1969199999999, 731.8989100000001, 713.429623, 714.5104599999999, 714.77182, 708.95847, 702.9535300000002, 697.981, 692.0970499999999, 686.0377400000001, 680.0305499999998, 673.7001899999999, 668.08729], \"type\": \"bar\", \"uid\": \"d1640c56-77bf-47f2-a4a5-941919e89c24\"}, {\"marker\": {\"color\": \"rgba(0, 128, 0, 0.6)\", \"line\": {\"color\": \"rgba(0, 128, 0, 1.0)\", \"width\": 1}}, \"name\": \"Rice\", \"orientation\": \"v\", \"text\": \"\", \"x\": [2015, 2016, 2017, 2018, 2019, 2020, 2021, 2022, 2023, 2024, 2025, 2026, 2027, 2028, 2029, 2030, 2031, 2032, 2033, 2034, 2035, 2036, 2037, 2038, 2039, 2040], \"y\": [1434.6599999999999, 1439.1499999999999, 1379.2499999999998, 1319.2499999999998, 1259.2000000000003, 1199.3000000000002, 1164.9912648000002, 1160.099399, 1154.278498, 1152.2685119999999, 1122.12733, 1061.5500000000002, 985.8, 909.9, 833.9999999999999, 704.2500000000001, 682.5, 606.6000000000001, 530.7, 454.95, 379.2, 332.754901, 288.97139100000004, 242.21428000000003, 176.97773999999998, 114.62412], \"type\": \"bar\", \"uid\": \"469386c9-8c8c-4867-a9e9-14499e495159\"}, {\"marker\": {\"color\": \"rgba(178, 34, 34, 0.6)\", \"line\": {\"color\": \"rgba(178, 34, 34, 1.0)\", \"width\": 1}}, \"name\": \"Soybean\", \"orientation\": \"v\", \"text\": \"\", \"x\": [2015, 2016, 2017, 2018, 2019, 2020, 2021, 2022, 2023, 2024, 2025, 2026, 2027, 2028, 2029, 2030, 2031, 2032, 2033, 2034, 2035, 2036, 2037, 2038, 2039, 2040], \"y\": [111.509431, 111.72440099999997, 111.906737, 112.09505999999999, 112.32200600000002, 112.519311, 112.20868599999999, 111.8652485, 111.55462349999999, 111.21431100000001, 110.98274850000001, 110.67399799999997, 110.33556100000001, 109.99868599999999, 114.108209, 110.200333, 108.362309, 107.58626100000001, 106.744644, 106.49704, 105.94064655000001, 104.709461, 103.75259950000002, 102.7433135, 102.35189000000003, 100.77551849999999], \"type\": \"bar\", \"uid\": \"1080e239-a8a5-4a82-9fed-9ac3540c4617\"}, {\"marker\": {\"color\": \"rgba(128, 0, 128, 0.6)\", \"line\": {\"color\": \"rgba(128, 0, 128, 1.0)\", \"width\": 1}}, \"name\": \"Sugarcane\", \"orientation\": \"v\", \"text\": \"\", \"x\": [2015, 2016, 2017, 2018, 2019, 2020, 2021, 2022, 2023, 2024, 2025, 2026, 2027, 2028, 2029, 2030, 2031, 2032, 2033, 2034, 2035, 2036, 2037, 2038, 2039, 2040], \"y\": [48.6447125, 53.85, 51.6, 49.35000000000001, 47.1, 45.62118996, 49.55, 46.900000000000006, 44.3, 41.699999999999996, 39.099999999999994, 41.849999999999994, 38.849999999999994, 35.85, 32.849999999999994, 22.35, 23.549999999999997, 20.900000000000002, 18.299999999999997, 18.000000000000004, 15.000000000000002, 12.000000000000002, 9.000000000000002, 6.0, 2.9999999999999996, 0.0], \"type\": \"bar\", \"uid\": \"39297cdd-a203-4452-b428-89aa9f740604\"}, {\"marker\": {\"color\": \"rgba(255, 0, 136, 0.6)\", \"line\": {\"color\": \"rgba(255, 0, 136, 1.0)\", \"width\": 1}}, \"name\": \"Tea\", \"orientation\": \"v\", \"text\": \"\", \"x\": [2015, 2016, 2017, 2018, 2019, 2020, 2021, 2022, 2023, 2024, 2025, 2026, 2027, 2028, 2029, 2030, 2031, 2032, 2033, 2034, 2035, 2036, 2037, 2038, 2039, 2040], \"y\": [3797.7473, 3843.3898, 3880.8464, 3912.4372000000003, 3941.2071, 3970.3881, 3979.3498000000004, 3988.5980999999997, 3997.9123, 4007.1788999999994, 4012.3496, 4017.2362000000003, 4029.2793000000006, 4055.3006, 4066.5504, 3829.139500000001, 3836.3185999999996, 3841.9782, 3844.2276, 3841.625000000001, 3839.0006, 3837.253399999999, 3831.897200000001, 3826.3307999999993, 3819.9646999999995, 3812.7598], \"type\": \"bar\", \"uid\": \"fb5ead34-7189-4de8-883b-fac603e4e2ca\"}], {\"barmode\": \"stack\", \"legend\": {\"bgcolor\": \"#FFFFFF\", \"font\": {\"color\": \"#4D5663\"}, \"traceorder\": \"normal\"}, \"paper_bgcolor\": \"#FFFFFF\", \"plot_bgcolor\": \"#FFFFFF\", \"title\": {\"text\": \"Area by crop (Rain-fed)\", \"font\": {\"color\": \"#4D5663\"}}, \"xaxis\": {\"gridcolor\": \"#E1E5ED\", \"showgrid\": true, \"tickfont\": {\"color\": \"#4D5663\"}, \"title\": {\"text\": \"Year\", \"font\": {\"color\": \"#4D5663\"}}, \"zerolinecolor\": \"#E1E5ED\"}, \"yaxis\": {\"gridcolor\": \"#E1E5ED\", \"showgrid\": true, \"tickfont\": {\"color\": \"#4D5663\"}, \"title\": {\"text\": \"Land area (kha)\", \"font\": {\"color\": \"#4D5663\"}}, \"zerolinecolor\": \"#E1E5ED\"}}, {\"showLink\": true, \"linkText\": \"Export to plot.ly\", \"plotlyServerURL\": \"https://plot.ly\"}); \n",
       "}\n",
       "});</script><script type=\"text/javascript\">window.addEventListener(\"resize\", function(){if (document.getElementById(\"8ca72953-8009-4105-bb34-54d15d3b28a7\")) {window._Plotly.Plots.resize(document.getElementById(\"8ca72953-8009-4105-bb34-54d15d3b28a7\"));};})</script>"
      ],
      "text/vnd.plotly.v1+html": [
       "<div id=\"8ca72953-8009-4105-bb34-54d15d3b28a7\" style=\"height: 525px; width: 100%;\" class=\"plotly-graph-div\"></div><script type=\"text/javascript\">require([\"plotly\"], function(Plotly) { window.PLOTLYENV=window.PLOTLYENV || {};window.PLOTLYENV.BASE_URL=\"https://plot.ly\";\n",
       "if (document.getElementById(\"8ca72953-8009-4105-bb34-54d15d3b28a7\")) {\n",
       "    Plotly.newPlot(\"8ca72953-8009-4105-bb34-54d15d3b28a7\", [{\"marker\": {\"color\": \"rgba(165, 42, 42, 0.6)\", \"line\": {\"color\": \"rgba(165, 42, 42, 1.0)\", \"width\": 1}}, \"name\": \"Coffee\", \"orientation\": \"v\", \"text\": \"\", \"x\": [2015, 2016, 2017, 2018, 2019, 2020, 2021, 2022, 2023, 2024, 2025, 2026, 2027, 2028, 2029, 2030, 2031, 2032, 2033, 2034, 2035, 2036, 2037, 2038, 2039, 2040], \"y\": [667.8810600000002, 672.89667, 685.2024153, 698.6805030000002, 709.5790350000002, 717.548109, 720.5104249999999, 723.245315, 726.0222080000001, 728.8676600000001, 735.38736, 748.1474349999999, 793.5641969999997, 840.590245, 886.9170850000003, 885.4189550000001, 915.4011150000001, 980.6179910000001, 1059.523642, 1140.4341399999998, 1211.5756299999998, 1264.3053, 1315.9649299999999, 1367.33936, 1400.3207100000002, 1430.74458], \"type\": \"bar\", \"uid\": \"1d89d9fc-45df-4bf9-bd5a-57dc85101eca\"}, {\"marker\": {\"color\": \"rgba(128, 128, 128, 0.6)\", \"line\": {\"color\": \"rgba(128, 128, 128, 1.0)\", \"width\": 1}}, \"name\": \"Cotton\", \"orientation\": \"v\", \"text\": \"\", \"x\": [2015, 2016, 2017, 2018, 2019, 2020, 2021, 2022, 2023, 2024, 2025, 2026, 2027, 2028, 2029, 2030, 2031, 2032, 2033, 2034, 2035, 2036, 2037, 2038, 2039, 2040], \"y\": [27.058, 26.68027088, 27.537, 27.752, 28.017, 30.889169000000003, 33.522555, 34.761283, 35.925841000000005, 36.046153999999994, 36.235897, 36.289671999999996, 36.24871799999999, 36.442308, 36.652564000000005, 29.518420999999996, 31.783046000000002, 34.798238, 34.583237999999994, 39.4794118, 58.090233, 70.107105, 75.963423, 82.038588, 86.1423, 87.902556], \"type\": \"bar\", \"uid\": \"36a98a6f-aa6f-4c53-bcaf-5f1715206b0f\"}, {\"marker\": {\"color\": \"rgba(255, 153, 51, 0.6)\", \"line\": {\"color\": \"rgba(255, 153, 51, 1.0)\", \"width\": 1}}, \"name\": \"Peanuts\", \"orientation\": \"v\", \"text\": \"\", \"x\": [2015, 2016, 2017, 2018, 2019, 2020, 2021, 2022, 2023, 2024, 2025, 2026, 2027, 2028, 2029, 2030, 2031, 2032, 2033, 2034, 2035, 2036, 2037, 2038, 2039, 2040], \"y\": [67.35, 64.6, 62.0, 68.8, 65.6, 62.60000000000001, 59.4, 56.19999999999999, 53.199999999999996, 50.00000000000001, 46.9, 43.900000000000006, 40.699999999999996, 37.5, 42.050000000000004, 31.300000000000004, 28.099999999999994, 24.9, 21.900000000000002, 18.700000000000003, 15.600000000000001, 14.35, 10.700000000000001, 7.049999999999999, 4.1000000000000005, 0.0], \"type\": \"bar\", \"uid\": \"ddc2af8f-bd78-4124-b6fc-12788821fb12\"}, {\"marker\": {\"color\": \"rgba(255, 215, 0, 0.6)\", \"line\": {\"color\": \"rgba(255, 215, 0, 1.0)\", \"width\": 1}}, \"name\": \"Maize\", \"orientation\": \"v\", \"text\": \"\", \"x\": [2015, 2016, 2017, 2018, 2019, 2020, 2021, 2022, 2023, 2024, 2025, 2026, 2027, 2028, 2029, 2030, 2031, 2032, 2033, 2034, 2035, 2036, 2037, 2038, 2039, 2040], \"y\": [655.8571199999999, 684.403692, 715.79377, 719.8178700000001, 724.1530200000002, 726.6405, 740.5095, 738.2163700000001, 735.76207, 733.5090499999999, 731.83748, 741.5404900000001, 738.4019900000002, 735.1969199999999, 731.8989100000001, 713.429623, 714.5104599999999, 714.77182, 708.95847, 702.9535300000002, 697.981, 692.0970499999999, 686.0377400000001, 680.0305499999998, 673.7001899999999, 668.08729], \"type\": \"bar\", \"uid\": \"d1640c56-77bf-47f2-a4a5-941919e89c24\"}, {\"marker\": {\"color\": \"rgba(0, 128, 0, 0.6)\", \"line\": {\"color\": \"rgba(0, 128, 0, 1.0)\", \"width\": 1}}, \"name\": \"Rice\", \"orientation\": \"v\", \"text\": \"\", \"x\": [2015, 2016, 2017, 2018, 2019, 2020, 2021, 2022, 2023, 2024, 2025, 2026, 2027, 2028, 2029, 2030, 2031, 2032, 2033, 2034, 2035, 2036, 2037, 2038, 2039, 2040], \"y\": [1434.6599999999999, 1439.1499999999999, 1379.2499999999998, 1319.2499999999998, 1259.2000000000003, 1199.3000000000002, 1164.9912648000002, 1160.099399, 1154.278498, 1152.2685119999999, 1122.12733, 1061.5500000000002, 985.8, 909.9, 833.9999999999999, 704.2500000000001, 682.5, 606.6000000000001, 530.7, 454.95, 379.2, 332.754901, 288.97139100000004, 242.21428000000003, 176.97773999999998, 114.62412], \"type\": \"bar\", \"uid\": \"469386c9-8c8c-4867-a9e9-14499e495159\"}, {\"marker\": {\"color\": \"rgba(178, 34, 34, 0.6)\", \"line\": {\"color\": \"rgba(178, 34, 34, 1.0)\", \"width\": 1}}, \"name\": \"Soybean\", \"orientation\": \"v\", \"text\": \"\", \"x\": [2015, 2016, 2017, 2018, 2019, 2020, 2021, 2022, 2023, 2024, 2025, 2026, 2027, 2028, 2029, 2030, 2031, 2032, 2033, 2034, 2035, 2036, 2037, 2038, 2039, 2040], \"y\": [111.509431, 111.72440099999997, 111.906737, 112.09505999999999, 112.32200600000002, 112.519311, 112.20868599999999, 111.8652485, 111.55462349999999, 111.21431100000001, 110.98274850000001, 110.67399799999997, 110.33556100000001, 109.99868599999999, 114.108209, 110.200333, 108.362309, 107.58626100000001, 106.744644, 106.49704, 105.94064655000001, 104.709461, 103.75259950000002, 102.7433135, 102.35189000000003, 100.77551849999999], \"type\": \"bar\", \"uid\": \"1080e239-a8a5-4a82-9fed-9ac3540c4617\"}, {\"marker\": {\"color\": \"rgba(128, 0, 128, 0.6)\", \"line\": {\"color\": \"rgba(128, 0, 128, 1.0)\", \"width\": 1}}, \"name\": \"Sugarcane\", \"orientation\": \"v\", \"text\": \"\", \"x\": [2015, 2016, 2017, 2018, 2019, 2020, 2021, 2022, 2023, 2024, 2025, 2026, 2027, 2028, 2029, 2030, 2031, 2032, 2033, 2034, 2035, 2036, 2037, 2038, 2039, 2040], \"y\": [48.6447125, 53.85, 51.6, 49.35000000000001, 47.1, 45.62118996, 49.55, 46.900000000000006, 44.3, 41.699999999999996, 39.099999999999994, 41.849999999999994, 38.849999999999994, 35.85, 32.849999999999994, 22.35, 23.549999999999997, 20.900000000000002, 18.299999999999997, 18.000000000000004, 15.000000000000002, 12.000000000000002, 9.000000000000002, 6.0, 2.9999999999999996, 0.0], \"type\": \"bar\", \"uid\": \"39297cdd-a203-4452-b428-89aa9f740604\"}, {\"marker\": {\"color\": \"rgba(255, 0, 136, 0.6)\", \"line\": {\"color\": \"rgba(255, 0, 136, 1.0)\", \"width\": 1}}, \"name\": \"Tea\", \"orientation\": \"v\", \"text\": \"\", \"x\": [2015, 2016, 2017, 2018, 2019, 2020, 2021, 2022, 2023, 2024, 2025, 2026, 2027, 2028, 2029, 2030, 2031, 2032, 2033, 2034, 2035, 2036, 2037, 2038, 2039, 2040], \"y\": [3797.7473, 3843.3898, 3880.8464, 3912.4372000000003, 3941.2071, 3970.3881, 3979.3498000000004, 3988.5980999999997, 3997.9123, 4007.1788999999994, 4012.3496, 4017.2362000000003, 4029.2793000000006, 4055.3006, 4066.5504, 3829.139500000001, 3836.3185999999996, 3841.9782, 3844.2276, 3841.625000000001, 3839.0006, 3837.253399999999, 3831.897200000001, 3826.3307999999993, 3819.9646999999995, 3812.7598], \"type\": \"bar\", \"uid\": \"fb5ead34-7189-4de8-883b-fac603e4e2ca\"}], {\"barmode\": \"stack\", \"legend\": {\"bgcolor\": \"#FFFFFF\", \"font\": {\"color\": \"#4D5663\"}, \"traceorder\": \"normal\"}, \"paper_bgcolor\": \"#FFFFFF\", \"plot_bgcolor\": \"#FFFFFF\", \"title\": {\"text\": \"Area by crop (Rain-fed)\", \"font\": {\"color\": \"#4D5663\"}}, \"xaxis\": {\"gridcolor\": \"#E1E5ED\", \"showgrid\": true, \"tickfont\": {\"color\": \"#4D5663\"}, \"title\": {\"text\": \"Year\", \"font\": {\"color\": \"#4D5663\"}}, \"zerolinecolor\": \"#E1E5ED\"}, \"yaxis\": {\"gridcolor\": \"#E1E5ED\", \"showgrid\": true, \"tickfont\": {\"color\": \"#4D5663\"}, \"title\": {\"text\": \"Land area (kha)\", \"font\": {\"color\": \"#4D5663\"}}, \"zerolinecolor\": \"#E1E5ED\"}}, {\"showLink\": true, \"linkText\": \"Export to plot.ly\", \"plotlyServerURL\": \"https://plot.ly\"}); \n",
       "}\n",
       "});</script><script type=\"text/javascript\">window.addEventListener(\"resize\", function(){if (document.getElementById(\"8ca72953-8009-4105-bb34-54d15d3b28a7\")) {window._Plotly.Plots.resize(document.getElementById(\"8ca72953-8009-4105-bb34-54d15d3b28a7\"));};})</script>"
      ]
     },
     "metadata": {},
     "output_type": "display_data"
    }
   ],
   "source": [
    "for each in water_supply.keys():\n",
    "    crops_ws_df = all_params['TotalTechnologyAnnualActivity'][all_params['TotalTechnologyAnnualActivity'].t.str.startswith('LNDCP')].drop('r', axis=1)\n",
    "    crops_ws_df = crops_ws_df[crops_ws_df.t.str[8:9] == each]\n",
    "    crops_ws_df = df_filter(crops_ws_df,3,6,[])\n",
    "    df_plot(crops_ws_df,'Land area (kha)','Area by crop (' + water_supply[each] + ')')"
   ]
  },
  {
   "cell_type": "code",
   "execution_count": 254,
   "metadata": {},
   "outputs": [
    {
     "data": {
      "application/vnd.plotly.v1+json": {
       "config": {
        "linkText": "Export to plot.ly",
        "plotlyServerURL": "https://plot.ly",
        "showLink": true
       },
       "data": [
        {
         "marker": {
          "color": "rgba(165, 42, 42, 0.6)",
          "line": {
           "color": "rgba(165, 42, 42, 1.0)",
           "width": 1
          }
         },
         "name": "Coffee",
         "orientation": "v",
         "text": "",
         "type": "bar",
         "uid": "a088fbf3-4982-4a08-9f2f-368ec765530a",
         "x": [
          2015,
          2016,
          2017,
          2018,
          2019,
          2020,
          2021,
          2022,
          2023,
          2024,
          2025,
          2026,
          2027,
          2028,
          2029,
          2030,
          2031,
          2032,
          2033,
          2034,
          2035,
          2036,
          2037,
          2038,
          2039,
          2040
         ],
         "y": [
          1100.4999953,
          1113.8000000000002,
          1127.1599954,
          1140.5700032999998,
          1154.029994,
          1167.540009,
          1173.6499999999999,
          1179.77,
          1185.9,
          1192.04,
          1198.2000028999998,
          1204.399997,
          1210.5000044,
          1216.700002,
          1222.9000059999998,
          1229.099999,
          1229.9999994,
          1230.900006,
          1231.799996,
          1232.700006,
          1233.599995,
          1234.59999,
          1235.499997,
          1236.3999950000002,
          1237.299998,
          1238.200005
         ]
        },
        {
         "marker": {
          "color": "rgba(128, 128, 128, 0.6)",
          "line": {
           "color": "rgba(128, 128, 128, 1.0)",
           "width": 1
          }
         },
         "name": "Cotton",
         "orientation": "v",
         "text": "",
         "type": "bar",
         "uid": "62a93bfd-5dae-45bc-b51c-eadafdc8ac4a",
         "x": [
          2015,
          2016,
          2017,
          2018,
          2019,
          2020,
          2021,
          2022,
          2023,
          2024,
          2025,
          2026,
          2027,
          2028,
          2029,
          2030,
          2031,
          2032,
          2033,
          2034,
          2035,
          2036,
          2037,
          2038,
          2039,
          2040
         ],
         "y": [
          12.5,
          12.650000310000001,
          12.799999999999999,
          12.96,
          13.110000000000001,
          13.26,
          13.330000000000002,
          13.400000299999999,
          13.470000059999998,
          13.54,
          13.61,
          13.6999997308,
          13.700000000000001,
          13.8,
          13.899999999999999,
          14.000000199999999,
          14.000000000000002,
          14.000000100000001,
          14,
          13.9999997,
          14.000000000000002,
          13.999999999999998,
          14,
          14,
          14.1,
          14.1
         ]
        },
        {
         "marker": {
          "color": "rgba(255, 153, 51, 0.6)",
          "line": {
           "color": "rgba(255, 153, 51, 1.0)",
           "width": 1
          }
         },
         "name": "Peanuts",
         "orientation": "v",
         "text": "",
         "type": "bar",
         "uid": "cf813f07-7a98-432d-a50d-f7c281d6e2eb",
         "x": [
          2015,
          2016,
          2017,
          2018,
          2019,
          2020,
          2021,
          2022,
          2023,
          2024,
          2025,
          2026,
          2027,
          2028,
          2029,
          2030,
          2031,
          2032,
          2033,
          2034,
          2035,
          2036,
          2037,
          2038,
          2039,
          2040
         ],
         "y": [
          487.19999999999993,
          493.090004,
          498.99999999999994,
          504.94,
          510.9,
          516.88,
          519.58,
          522.29,
          525.01,
          527.73,
          530.45,
          533.2,
          535.9000000000001,
          538.6,
          541.4000000000001,
          544.1,
          544.5,
          544.9000000000001,
          545.3000000000001,
          545.6999999999999,
          546.1,
          546.5,
          546.9,
          547.4,
          547.8,
          548.2
         ]
        },
        {
         "marker": {
          "color": "rgba(255, 215, 0, 0.6)",
          "line": {
           "color": "rgba(255, 215, 0, 1.0)",
           "width": 1
          }
         },
         "name": "Maize",
         "orientation": "v",
         "text": "",
         "type": "bar",
         "uid": "286de7c7-cae4-4578-980c-cf0a7405f20f",
         "x": [
          2015,
          2016,
          2017,
          2018,
          2019,
          2020,
          2021,
          2022,
          2023,
          2024,
          2025,
          2026,
          2027,
          2028,
          2029,
          2030,
          2031,
          2032,
          2033,
          2034,
          2035,
          2036,
          2037,
          2038,
          2039,
          2040
         ],
         "y": [
          4625.700000000001,
          4681.610000000001,
          4737.75,
          4794.109985,
          4850.69,
          4907.490000000001,
          4933.17,
          4958.89,
          4984.660000000001,
          5010.4800000000005,
          5036.34,
          5062.200011999999,
          5088.199999999999,
          5114.199999999999,
          5140.2,
          5166.299977299998,
          5170.1,
          5173.900000000001,
          5177.7,
          5181.5,
          5185.4,
          5189.2,
          5193,
          5196.8,
          5200.599999999999,
          5204.4
         ]
        },
        {
         "marker": {
          "color": "rgba(0, 128, 0, 0.6)",
          "line": {
           "color": "rgba(0, 128, 0, 1.0)",
           "width": 1
          }
         },
         "name": "Rice",
         "orientation": "v",
         "text": "",
         "type": "bar",
         "uid": "2fcbb4fe-175b-40f5-8878-7d2638d85920",
         "x": [
          2015,
          2016,
          2017,
          2018,
          2019,
          2020,
          2021,
          2022,
          2023,
          2024,
          2025,
          2026,
          2027,
          2028,
          2029,
          2030,
          2031,
          2032,
          2033,
          2034,
          2035,
          2036,
          2037,
          2038,
          2039,
          2040
         ],
         "y": [
          40005.599910000004,
          40489.159999999996,
          40974.64991,
          41462.07006300001,
          41951.410059999995,
          42442.64993,
          42664.75993200001,
          42887.24986,
          43110.120097,
          43333.39006554999,
          43557.02996,
          43781.09999799999,
          44005.500151,
          44230.29988300001,
          44455.399932,
          44680.99992,
          44713.89999000001,
          44746.900078000006,
          44779.799993,
          44812.800075600004,
          44845.800042,
          44878.79999000001,
          44911.70012,
          44944.7001,
          44977.69999,
          45010.79999
         ]
        },
        {
         "marker": {
          "color": "rgba(178, 34, 34, 0.6)",
          "line": {
           "color": "rgba(178, 34, 34, 1.0)",
           "width": 1
          }
         },
         "name": "Soybean",
         "orientation": "v",
         "text": "",
         "type": "bar",
         "uid": "2cee4b87-adc0-48b3-abd5-fec3e1d50f94",
         "x": [
          2015,
          2016,
          2017,
          2018,
          2019,
          2020,
          2021,
          2022,
          2023,
          2024,
          2025,
          2026,
          2027,
          2028,
          2029,
          2030,
          2031,
          2032,
          2033,
          2034,
          2035,
          2036,
          2037,
          2038,
          2039,
          2040
         ],
         "y": [
          298.59999999999997,
          302.21000000000004,
          305.83,
          309.4699999999999,
          313.12000000000006,
          316.79,
          318.45,
          320.10999999999996,
          321.77000000000004,
          323.44,
          325.10999999999996,
          326.8,
          328.49999999999994,
          330.1,
          331.800001,
          333.5,
          333.7,
          334,
          334.2,
          334.49999999999994,
          334.70000317000006,
          335,
          335.20000000000005,
          335.5,
          335.7,
          336
         ]
        },
        {
         "marker": {
          "color": "rgba(128, 0, 128, 0.6)",
          "line": {
           "color": "rgba(128, 0, 128, 1.0)",
           "width": 1
          }
         },
         "name": "Sugarcane",
         "orientation": "v",
         "text": "",
         "type": "bar",
         "uid": "9a2c403b-c711-4751-ad5a-7b5c470ae473",
         "x": [
          2015,
          2016,
          2017,
          2018,
          2019,
          2020,
          2021,
          2022,
          2023,
          2024,
          2025,
          2026,
          2027,
          2028,
          2029,
          2030,
          2031,
          2032,
          2033,
          2034,
          2035,
          2036,
          2037,
          2038,
          2039,
          2040
         ],
         "y": [
          16161.6999616,
          16357.049928000002,
          16553.180005,
          16750.0899,
          16947.77999536,
          17146.24003505,
          17235.96,
          17325.85,
          17415.88,
          17506.0799,
          17596.429989999997,
          17686.90003,
          17777.60001,
          17868.400114,
          17959.40003,
          18050.499978000003,
          18063.800102,
          18077.100056,
          18090.40004,
          18103.699999999997,
          18117.0999732,
          18130.400110000002,
          18143.7,
          18157.000006,
          18170.4,
          18183.7
         ]
        },
        {
         "marker": {
          "color": "rgba(255, 0, 136, 0.6)",
          "line": {
           "color": "rgba(255, 0, 136, 1.0)",
           "width": 1
          }
         },
         "name": "Tea",
         "orientation": "v",
         "text": "",
         "type": "bar",
         "uid": "c7e37c5f-6a3a-4f27-aec6-11e0315fcb50",
         "x": [
          2015,
          2016,
          2017,
          2018,
          2019,
          2020,
          2021,
          2022,
          2023,
          2024,
          2025,
          2026,
          2027,
          2028,
          2029,
          2030,
          2031,
          2032,
          2033,
          2034,
          2035,
          2036,
          2037,
          2038,
          2039,
          2040
         ],
         "y": [
          834.5999999999999,
          844.6899960000001,
          854.8200019999999,
          864.989996,
          875.1899870000001,
          885.4400046,
          890.0800069999999,
          894.720004,
          899.370005,
          904.0199980000001,
          908.689998,
          913.40001,
          918,
          922.700003,
          927.399999,
          932.0999899999999,
          932.799991,
          933.5000000000001,
          934.199988,
          934.8999970000001,
          935.599999,
          936.2999940000001,
          937.000001,
          937.599993,
          938.3,
          938.999997
         ]
        }
       ],
       "layout": {
        "barmode": "stack",
        "legend": {
         "bgcolor": "#FFFFFF",
         "font": {
          "color": "#4D5663"
         },
         "traceorder": "normal"
        },
        "paper_bgcolor": "#FFFFFF",
        "plot_bgcolor": "#FFFFFF",
        "title": {
         "font": {
          "color": "#4D5663"
         },
         "text": "Crop production"
        },
        "xaxis": {
         "gridcolor": "#E1E5ED",
         "showgrid": true,
         "tickfont": {
          "color": "#4D5663"
         },
         "title": {
          "font": {
           "color": "#4D5663"
          },
          "text": "Year"
         },
         "zerolinecolor": "#E1E5ED"
        },
        "yaxis": {
         "gridcolor": "#E1E5ED",
         "showgrid": true,
         "tickfont": {
          "color": "#4D5663"
         },
         "title": {
          "font": {
           "color": "#4D5663"
          },
          "text": "Production (kilotonnes)"
         },
         "zerolinecolor": "#E1E5ED"
        }
       }
      },
      "text/html": [
       "<div id=\"109951d9-6816-4396-8b2c-cd1c68969c9c\" style=\"height: 525px; width: 100%;\" class=\"plotly-graph-div\"></div><script type=\"text/javascript\">require([\"plotly\"], function(Plotly) { window.PLOTLYENV=window.PLOTLYENV || {};window.PLOTLYENV.BASE_URL=\"https://plot.ly\";\n",
       "if (document.getElementById(\"109951d9-6816-4396-8b2c-cd1c68969c9c\")) {\n",
       "    Plotly.newPlot(\"109951d9-6816-4396-8b2c-cd1c68969c9c\", [{\"marker\": {\"color\": \"rgba(165, 42, 42, 0.6)\", \"line\": {\"color\": \"rgba(165, 42, 42, 1.0)\", \"width\": 1}}, \"name\": \"Coffee\", \"orientation\": \"v\", \"text\": \"\", \"x\": [2015, 2016, 2017, 2018, 2019, 2020, 2021, 2022, 2023, 2024, 2025, 2026, 2027, 2028, 2029, 2030, 2031, 2032, 2033, 2034, 2035, 2036, 2037, 2038, 2039, 2040], \"y\": [1100.4999953, 1113.8000000000002, 1127.1599954, 1140.5700032999998, 1154.029994, 1167.540009, 1173.6499999999999, 1179.77, 1185.9, 1192.04, 1198.2000028999998, 1204.399997, 1210.5000044, 1216.700002, 1222.9000059999998, 1229.099999, 1229.9999994, 1230.900006, 1231.799996, 1232.700006, 1233.599995, 1234.59999, 1235.499997, 1236.3999950000002, 1237.299998, 1238.200005], \"type\": \"bar\", \"uid\": \"0cf13b10-d5ae-41ab-b9a9-ac65a2897c2b\"}, {\"marker\": {\"color\": \"rgba(128, 128, 128, 0.6)\", \"line\": {\"color\": \"rgba(128, 128, 128, 1.0)\", \"width\": 1}}, \"name\": \"Cotton\", \"orientation\": \"v\", \"text\": \"\", \"x\": [2015, 2016, 2017, 2018, 2019, 2020, 2021, 2022, 2023, 2024, 2025, 2026, 2027, 2028, 2029, 2030, 2031, 2032, 2033, 2034, 2035, 2036, 2037, 2038, 2039, 2040], \"y\": [12.5, 12.650000310000001, 12.799999999999999, 12.96, 13.110000000000001, 13.26, 13.330000000000002, 13.400000299999999, 13.470000059999998, 13.54, 13.61, 13.6999997308, 13.700000000000001, 13.8, 13.899999999999999, 14.000000199999999, 14.000000000000002, 14.000000100000001, 14.0, 13.9999997, 14.000000000000002, 13.999999999999998, 14.0, 14.0, 14.1, 14.1], \"type\": \"bar\", \"uid\": \"cc4fb70a-c6dd-4433-9535-f1d642167d62\"}, {\"marker\": {\"color\": \"rgba(255, 153, 51, 0.6)\", \"line\": {\"color\": \"rgba(255, 153, 51, 1.0)\", \"width\": 1}}, \"name\": \"Peanuts\", \"orientation\": \"v\", \"text\": \"\", \"x\": [2015, 2016, 2017, 2018, 2019, 2020, 2021, 2022, 2023, 2024, 2025, 2026, 2027, 2028, 2029, 2030, 2031, 2032, 2033, 2034, 2035, 2036, 2037, 2038, 2039, 2040], \"y\": [487.19999999999993, 493.090004, 498.99999999999994, 504.94, 510.9, 516.88, 519.58, 522.29, 525.01, 527.73, 530.45, 533.2, 535.9000000000001, 538.6, 541.4000000000001, 544.1, 544.5, 544.9000000000001, 545.3000000000001, 545.6999999999999, 546.1, 546.5, 546.9, 547.4, 547.8, 548.2], \"type\": \"bar\", \"uid\": \"a193e54d-f145-4fe9-8d0e-dbc8fee8469c\"}, {\"marker\": {\"color\": \"rgba(255, 215, 0, 0.6)\", \"line\": {\"color\": \"rgba(255, 215, 0, 1.0)\", \"width\": 1}}, \"name\": \"Maize\", \"orientation\": \"v\", \"text\": \"\", \"x\": [2015, 2016, 2017, 2018, 2019, 2020, 2021, 2022, 2023, 2024, 2025, 2026, 2027, 2028, 2029, 2030, 2031, 2032, 2033, 2034, 2035, 2036, 2037, 2038, 2039, 2040], \"y\": [4625.700000000001, 4681.610000000001, 4737.75, 4794.109985, 4850.69, 4907.490000000001, 4933.17, 4958.89, 4984.660000000001, 5010.4800000000005, 5036.34, 5062.200011999999, 5088.199999999999, 5114.199999999999, 5140.2, 5166.299977299998, 5170.1, 5173.900000000001, 5177.7, 5181.5, 5185.4, 5189.2, 5193.0, 5196.8, 5200.599999999999, 5204.4], \"type\": \"bar\", \"uid\": \"0e1ac28f-8b9b-4f22-b4ab-48107082806d\"}, {\"marker\": {\"color\": \"rgba(0, 128, 0, 0.6)\", \"line\": {\"color\": \"rgba(0, 128, 0, 1.0)\", \"width\": 1}}, \"name\": \"Rice\", \"orientation\": \"v\", \"text\": \"\", \"x\": [2015, 2016, 2017, 2018, 2019, 2020, 2021, 2022, 2023, 2024, 2025, 2026, 2027, 2028, 2029, 2030, 2031, 2032, 2033, 2034, 2035, 2036, 2037, 2038, 2039, 2040], \"y\": [40005.599910000004, 40489.159999999996, 40974.64991, 41462.07006300001, 41951.410059999995, 42442.64993, 42664.75993200001, 42887.24986, 43110.120097, 43333.39006554999, 43557.02996, 43781.09999799999, 44005.500151, 44230.29988300001, 44455.399932, 44680.99992, 44713.89999000001, 44746.900078000006, 44779.799993, 44812.800075600004, 44845.800042, 44878.79999000001, 44911.70012, 44944.7001, 44977.69999, 45010.79999], \"type\": \"bar\", \"uid\": \"c32cda58-7990-4e1a-a262-c4a6c0a76071\"}, {\"marker\": {\"color\": \"rgba(178, 34, 34, 0.6)\", \"line\": {\"color\": \"rgba(178, 34, 34, 1.0)\", \"width\": 1}}, \"name\": \"Soybean\", \"orientation\": \"v\", \"text\": \"\", \"x\": [2015, 2016, 2017, 2018, 2019, 2020, 2021, 2022, 2023, 2024, 2025, 2026, 2027, 2028, 2029, 2030, 2031, 2032, 2033, 2034, 2035, 2036, 2037, 2038, 2039, 2040], \"y\": [298.59999999999997, 302.21000000000004, 305.83, 309.4699999999999, 313.12000000000006, 316.79, 318.45, 320.10999999999996, 321.77000000000004, 323.44, 325.10999999999996, 326.8, 328.49999999999994, 330.1, 331.800001, 333.5, 333.7, 334.0, 334.2, 334.49999999999994, 334.70000317000006, 335.0, 335.20000000000005, 335.5, 335.7, 336.0], \"type\": \"bar\", \"uid\": \"3fb70351-8f04-4d07-825c-a2fded6cc1b5\"}, {\"marker\": {\"color\": \"rgba(128, 0, 128, 0.6)\", \"line\": {\"color\": \"rgba(128, 0, 128, 1.0)\", \"width\": 1}}, \"name\": \"Sugarcane\", \"orientation\": \"v\", \"text\": \"\", \"x\": [2015, 2016, 2017, 2018, 2019, 2020, 2021, 2022, 2023, 2024, 2025, 2026, 2027, 2028, 2029, 2030, 2031, 2032, 2033, 2034, 2035, 2036, 2037, 2038, 2039, 2040], \"y\": [16161.6999616, 16357.049928000002, 16553.180005, 16750.0899, 16947.77999536, 17146.24003505, 17235.96, 17325.85, 17415.88, 17506.0799, 17596.429989999997, 17686.90003, 17777.60001, 17868.400114, 17959.40003, 18050.499978000003, 18063.800102, 18077.100056, 18090.40004, 18103.699999999997, 18117.0999732, 18130.400110000002, 18143.7, 18157.000006, 18170.4, 18183.7], \"type\": \"bar\", \"uid\": \"f7dc2c65-1c42-48ba-bf79-df5e830b6eaf\"}, {\"marker\": {\"color\": \"rgba(255, 0, 136, 0.6)\", \"line\": {\"color\": \"rgba(255, 0, 136, 1.0)\", \"width\": 1}}, \"name\": \"Tea\", \"orientation\": \"v\", \"text\": \"\", \"x\": [2015, 2016, 2017, 2018, 2019, 2020, 2021, 2022, 2023, 2024, 2025, 2026, 2027, 2028, 2029, 2030, 2031, 2032, 2033, 2034, 2035, 2036, 2037, 2038, 2039, 2040], \"y\": [834.5999999999999, 844.6899960000001, 854.8200019999999, 864.989996, 875.1899870000001, 885.4400046, 890.0800069999999, 894.720004, 899.370005, 904.0199980000001, 908.689998, 913.40001, 918.0, 922.700003, 927.399999, 932.0999899999999, 932.799991, 933.5000000000001, 934.199988, 934.8999970000001, 935.599999, 936.2999940000001, 937.000001, 937.599993, 938.3, 938.999997], \"type\": \"bar\", \"uid\": \"fede234b-95bd-4535-8e63-e1a4ec228b88\"}], {\"barmode\": \"stack\", \"legend\": {\"bgcolor\": \"#FFFFFF\", \"font\": {\"color\": \"#4D5663\"}, \"traceorder\": \"normal\"}, \"paper_bgcolor\": \"#FFFFFF\", \"plot_bgcolor\": \"#FFFFFF\", \"title\": {\"text\": \"Crop production\", \"font\": {\"color\": \"#4D5663\"}}, \"xaxis\": {\"gridcolor\": \"#E1E5ED\", \"showgrid\": true, \"tickfont\": {\"color\": \"#4D5663\"}, \"title\": {\"text\": \"Year\", \"font\": {\"color\": \"#4D5663\"}}, \"zerolinecolor\": \"#E1E5ED\"}, \"yaxis\": {\"gridcolor\": \"#E1E5ED\", \"showgrid\": true, \"tickfont\": {\"color\": \"#4D5663\"}, \"title\": {\"text\": \"Production (kilotonnes)\", \"font\": {\"color\": \"#4D5663\"}}, \"zerolinecolor\": \"#E1E5ED\"}}, {\"showLink\": true, \"linkText\": \"Export to plot.ly\", \"plotlyServerURL\": \"https://plot.ly\"}); \n",
       "}\n",
       "});</script><script type=\"text/javascript\">window.addEventListener(\"resize\", function(){if (document.getElementById(\"109951d9-6816-4396-8b2c-cd1c68969c9c\")) {window._Plotly.Plots.resize(document.getElementById(\"109951d9-6816-4396-8b2c-cd1c68969c9c\"));};})</script>"
      ],
      "text/vnd.plotly.v1+html": [
       "<div id=\"109951d9-6816-4396-8b2c-cd1c68969c9c\" style=\"height: 525px; width: 100%;\" class=\"plotly-graph-div\"></div><script type=\"text/javascript\">require([\"plotly\"], function(Plotly) { window.PLOTLYENV=window.PLOTLYENV || {};window.PLOTLYENV.BASE_URL=\"https://plot.ly\";\n",
       "if (document.getElementById(\"109951d9-6816-4396-8b2c-cd1c68969c9c\")) {\n",
       "    Plotly.newPlot(\"109951d9-6816-4396-8b2c-cd1c68969c9c\", [{\"marker\": {\"color\": \"rgba(165, 42, 42, 0.6)\", \"line\": {\"color\": \"rgba(165, 42, 42, 1.0)\", \"width\": 1}}, \"name\": \"Coffee\", \"orientation\": \"v\", \"text\": \"\", \"x\": [2015, 2016, 2017, 2018, 2019, 2020, 2021, 2022, 2023, 2024, 2025, 2026, 2027, 2028, 2029, 2030, 2031, 2032, 2033, 2034, 2035, 2036, 2037, 2038, 2039, 2040], \"y\": [1100.4999953, 1113.8000000000002, 1127.1599954, 1140.5700032999998, 1154.029994, 1167.540009, 1173.6499999999999, 1179.77, 1185.9, 1192.04, 1198.2000028999998, 1204.399997, 1210.5000044, 1216.700002, 1222.9000059999998, 1229.099999, 1229.9999994, 1230.900006, 1231.799996, 1232.700006, 1233.599995, 1234.59999, 1235.499997, 1236.3999950000002, 1237.299998, 1238.200005], \"type\": \"bar\", \"uid\": \"0cf13b10-d5ae-41ab-b9a9-ac65a2897c2b\"}, {\"marker\": {\"color\": \"rgba(128, 128, 128, 0.6)\", \"line\": {\"color\": \"rgba(128, 128, 128, 1.0)\", \"width\": 1}}, \"name\": \"Cotton\", \"orientation\": \"v\", \"text\": \"\", \"x\": [2015, 2016, 2017, 2018, 2019, 2020, 2021, 2022, 2023, 2024, 2025, 2026, 2027, 2028, 2029, 2030, 2031, 2032, 2033, 2034, 2035, 2036, 2037, 2038, 2039, 2040], \"y\": [12.5, 12.650000310000001, 12.799999999999999, 12.96, 13.110000000000001, 13.26, 13.330000000000002, 13.400000299999999, 13.470000059999998, 13.54, 13.61, 13.6999997308, 13.700000000000001, 13.8, 13.899999999999999, 14.000000199999999, 14.000000000000002, 14.000000100000001, 14.0, 13.9999997, 14.000000000000002, 13.999999999999998, 14.0, 14.0, 14.1, 14.1], \"type\": \"bar\", \"uid\": \"cc4fb70a-c6dd-4433-9535-f1d642167d62\"}, {\"marker\": {\"color\": \"rgba(255, 153, 51, 0.6)\", \"line\": {\"color\": \"rgba(255, 153, 51, 1.0)\", \"width\": 1}}, \"name\": \"Peanuts\", \"orientation\": \"v\", \"text\": \"\", \"x\": [2015, 2016, 2017, 2018, 2019, 2020, 2021, 2022, 2023, 2024, 2025, 2026, 2027, 2028, 2029, 2030, 2031, 2032, 2033, 2034, 2035, 2036, 2037, 2038, 2039, 2040], \"y\": [487.19999999999993, 493.090004, 498.99999999999994, 504.94, 510.9, 516.88, 519.58, 522.29, 525.01, 527.73, 530.45, 533.2, 535.9000000000001, 538.6, 541.4000000000001, 544.1, 544.5, 544.9000000000001, 545.3000000000001, 545.6999999999999, 546.1, 546.5, 546.9, 547.4, 547.8, 548.2], \"type\": \"bar\", \"uid\": \"a193e54d-f145-4fe9-8d0e-dbc8fee8469c\"}, {\"marker\": {\"color\": \"rgba(255, 215, 0, 0.6)\", \"line\": {\"color\": \"rgba(255, 215, 0, 1.0)\", \"width\": 1}}, \"name\": \"Maize\", \"orientation\": \"v\", \"text\": \"\", \"x\": [2015, 2016, 2017, 2018, 2019, 2020, 2021, 2022, 2023, 2024, 2025, 2026, 2027, 2028, 2029, 2030, 2031, 2032, 2033, 2034, 2035, 2036, 2037, 2038, 2039, 2040], \"y\": [4625.700000000001, 4681.610000000001, 4737.75, 4794.109985, 4850.69, 4907.490000000001, 4933.17, 4958.89, 4984.660000000001, 5010.4800000000005, 5036.34, 5062.200011999999, 5088.199999999999, 5114.199999999999, 5140.2, 5166.299977299998, 5170.1, 5173.900000000001, 5177.7, 5181.5, 5185.4, 5189.2, 5193.0, 5196.8, 5200.599999999999, 5204.4], \"type\": \"bar\", \"uid\": \"0e1ac28f-8b9b-4f22-b4ab-48107082806d\"}, {\"marker\": {\"color\": \"rgba(0, 128, 0, 0.6)\", \"line\": {\"color\": \"rgba(0, 128, 0, 1.0)\", \"width\": 1}}, \"name\": \"Rice\", \"orientation\": \"v\", \"text\": \"\", \"x\": [2015, 2016, 2017, 2018, 2019, 2020, 2021, 2022, 2023, 2024, 2025, 2026, 2027, 2028, 2029, 2030, 2031, 2032, 2033, 2034, 2035, 2036, 2037, 2038, 2039, 2040], \"y\": [40005.599910000004, 40489.159999999996, 40974.64991, 41462.07006300001, 41951.410059999995, 42442.64993, 42664.75993200001, 42887.24986, 43110.120097, 43333.39006554999, 43557.02996, 43781.09999799999, 44005.500151, 44230.29988300001, 44455.399932, 44680.99992, 44713.89999000001, 44746.900078000006, 44779.799993, 44812.800075600004, 44845.800042, 44878.79999000001, 44911.70012, 44944.7001, 44977.69999, 45010.79999], \"type\": \"bar\", \"uid\": \"c32cda58-7990-4e1a-a262-c4a6c0a76071\"}, {\"marker\": {\"color\": \"rgba(178, 34, 34, 0.6)\", \"line\": {\"color\": \"rgba(178, 34, 34, 1.0)\", \"width\": 1}}, \"name\": \"Soybean\", \"orientation\": \"v\", \"text\": \"\", \"x\": [2015, 2016, 2017, 2018, 2019, 2020, 2021, 2022, 2023, 2024, 2025, 2026, 2027, 2028, 2029, 2030, 2031, 2032, 2033, 2034, 2035, 2036, 2037, 2038, 2039, 2040], \"y\": [298.59999999999997, 302.21000000000004, 305.83, 309.4699999999999, 313.12000000000006, 316.79, 318.45, 320.10999999999996, 321.77000000000004, 323.44, 325.10999999999996, 326.8, 328.49999999999994, 330.1, 331.800001, 333.5, 333.7, 334.0, 334.2, 334.49999999999994, 334.70000317000006, 335.0, 335.20000000000005, 335.5, 335.7, 336.0], \"type\": \"bar\", \"uid\": \"3fb70351-8f04-4d07-825c-a2fded6cc1b5\"}, {\"marker\": {\"color\": \"rgba(128, 0, 128, 0.6)\", \"line\": {\"color\": \"rgba(128, 0, 128, 1.0)\", \"width\": 1}}, \"name\": \"Sugarcane\", \"orientation\": \"v\", \"text\": \"\", \"x\": [2015, 2016, 2017, 2018, 2019, 2020, 2021, 2022, 2023, 2024, 2025, 2026, 2027, 2028, 2029, 2030, 2031, 2032, 2033, 2034, 2035, 2036, 2037, 2038, 2039, 2040], \"y\": [16161.6999616, 16357.049928000002, 16553.180005, 16750.0899, 16947.77999536, 17146.24003505, 17235.96, 17325.85, 17415.88, 17506.0799, 17596.429989999997, 17686.90003, 17777.60001, 17868.400114, 17959.40003, 18050.499978000003, 18063.800102, 18077.100056, 18090.40004, 18103.699999999997, 18117.0999732, 18130.400110000002, 18143.7, 18157.000006, 18170.4, 18183.7], \"type\": \"bar\", \"uid\": \"f7dc2c65-1c42-48ba-bf79-df5e830b6eaf\"}, {\"marker\": {\"color\": \"rgba(255, 0, 136, 0.6)\", \"line\": {\"color\": \"rgba(255, 0, 136, 1.0)\", \"width\": 1}}, \"name\": \"Tea\", \"orientation\": \"v\", \"text\": \"\", \"x\": [2015, 2016, 2017, 2018, 2019, 2020, 2021, 2022, 2023, 2024, 2025, 2026, 2027, 2028, 2029, 2030, 2031, 2032, 2033, 2034, 2035, 2036, 2037, 2038, 2039, 2040], \"y\": [834.5999999999999, 844.6899960000001, 854.8200019999999, 864.989996, 875.1899870000001, 885.4400046, 890.0800069999999, 894.720004, 899.370005, 904.0199980000001, 908.689998, 913.40001, 918.0, 922.700003, 927.399999, 932.0999899999999, 932.799991, 933.5000000000001, 934.199988, 934.8999970000001, 935.599999, 936.2999940000001, 937.000001, 937.599993, 938.3, 938.999997], \"type\": \"bar\", \"uid\": \"fede234b-95bd-4535-8e63-e1a4ec228b88\"}], {\"barmode\": \"stack\", \"legend\": {\"bgcolor\": \"#FFFFFF\", \"font\": {\"color\": \"#4D5663\"}, \"traceorder\": \"normal\"}, \"paper_bgcolor\": \"#FFFFFF\", \"plot_bgcolor\": \"#FFFFFF\", \"title\": {\"text\": \"Crop production\", \"font\": {\"color\": \"#4D5663\"}}, \"xaxis\": {\"gridcolor\": \"#E1E5ED\", \"showgrid\": true, \"tickfont\": {\"color\": \"#4D5663\"}, \"title\": {\"text\": \"Year\", \"font\": {\"color\": \"#4D5663\"}}, \"zerolinecolor\": \"#E1E5ED\"}, \"yaxis\": {\"gridcolor\": \"#E1E5ED\", \"showgrid\": true, \"tickfont\": {\"color\": \"#4D5663\"}, \"title\": {\"text\": \"Production (kilotonnes)\", \"font\": {\"color\": \"#4D5663\"}}, \"zerolinecolor\": \"#E1E5ED\"}}, {\"showLink\": true, \"linkText\": \"Export to plot.ly\", \"plotlyServerURL\": \"https://plot.ly\"}); \n",
       "}\n",
       "});</script><script type=\"text/javascript\">window.addEventListener(\"resize\", function(){if (document.getElementById(\"109951d9-6816-4396-8b2c-cd1c68969c9c\")) {window._Plotly.Plots.resize(document.getElementById(\"109951d9-6816-4396-8b2c-cd1c68969c9c\"));};})</script>"
      ]
     },
     "metadata": {},
     "output_type": "display_data"
    }
   ],
   "source": [
    "crops_prod_df = all_params['ProductionByTechnologyAnnual'][all_params['ProductionByTechnologyAnnual'].f.str.startswith('CRP')].drop('r', axis=1)\n",
    "crops_prod_df['f'] = crops_prod_df['f'].str[3:6]\n",
    "crops_prod_df['value'] = df['value'].astype('float64')\n",
    "\n",
    "crops_prod_df = crops_prod_df.pivot_table(index='y', \n",
    "                                          columns='f',\n",
    "                                          values='value',\n",
    "                                          aggfunc='sum').reset_index().fillna(0)\n",
    "crops_prod_df = crops_prod_df.reindex(sorted(crops_prod_df.columns), axis=1).set_index('y').reset_index().rename(columns=det_col)\n",
    "crops_prod_df['y'] = years\n",
    "df_plot(crops_prod_df,'Production (kilotonnes)','Crop production')"
   ]
  },
  {
   "cell_type": "code",
   "execution_count": 255,
   "metadata": {},
   "outputs": [
    {
     "data": {
      "application/vnd.plotly.v1+json": {
       "config": {
        "linkText": "Export to plot.ly",
        "plotlyServerURL": "https://plot.ly",
        "showLink": true
       },
       "data": [
        {
         "line": {
          "color": "rgba(165, 42, 42, 1.0)",
          "dash": "solid",
          "shape": "linear",
          "width": 1.3
         },
         "marker": {
          "size": 12,
          "symbol": "circle"
         },
         "mode": "lines+markers",
         "name": "Coffee",
         "text": "",
         "type": "scatter",
         "uid": "303a0c58-5d38-424d-9fe6-b54e75bd2847",
         "x": [
          2015,
          2016,
          2017,
          2018,
          2019,
          2020,
          2021,
          2022,
          2023,
          2024,
          2025,
          2026,
          2027,
          2028,
          2029,
          2030,
          2031,
          2032,
          2033,
          2034,
          2035,
          2036,
          2037,
          2038,
          2039,
          2040
         ],
         "y": [
          1.6477484708130512,
          1.6552318500847987,
          1.645002951290677,
          1.632462904578861,
          1.6263586395277303,
          1.627124361915084,
          1.6289146683755478,
          1.631216926721468,
          1.6334211087934103,
          1.6354683647234394,
          1.6293453873071737,
          1.6098431146796623,
          1.5253964442652401,
          1.4474353101730322,
          1.37882111719609,
          1.3881564112211715,
          1.3436732589079268,
          1.255228863122092,
          1.1625979328548102,
          1.080904159884235,
          1.018178283265734,
          0.9765046385552603,
          0.9388548044361639,
          0.9042378440711312,
          0.8835833028563862,
          0.8654235160548363
         ]
        },
        {
         "line": {
          "color": "rgba(128, 128, 128, 1.0)",
          "dash": "solid",
          "shape": "linear",
          "width": 1.3
         },
         "marker": {
          "size": 12,
          "symbol": "circle"
         },
         "mode": "lines+markers",
         "name": "Cotton",
         "text": "",
         "type": "scatter",
         "uid": "820097e6-34fd-4bcd-a5ee-c3cde8dd8701",
         "x": [
          2015,
          2016,
          2017,
          2018,
          2019,
          2020,
          2021,
          2022,
          2023,
          2024,
          2025,
          2026,
          2027,
          2028,
          2029,
          2030,
          2031,
          2032,
          2033,
          2034,
          2035,
          2036,
          2037,
          2038,
          2039,
          2040
         ],
         "y": [
          0.43165964500310794,
          0.44338872081539804,
          0.43780141601395484,
          0.4400380279777265,
          0.44265118006550297,
          0.4087650950614672,
          0.3817017397495687,
          0.37056208155003784,
          0.36184541969112255,
          0.3635274664868754,
          0.3645285393839607,
          0.36641133762286016,
          0.367797893071112,
          0.36955401899636203,
          0.37113613903710296,
          0.46176547914550037,
          0.4316585004072698,
          0.39549991443076915,
          0.39791675797435133,
          0.3493065160202775,
          0.23956098874554457,
          0.1987024587513211,
          0.18369467541170534,
          0.17013294723200256,
          0.16368265068381038,
          0.16040489198061544
         ]
        },
        {
         "line": {
          "color": "rgba(255, 153, 51, 1.0)",
          "dash": "solid",
          "shape": "linear",
          "width": 1.3
         },
         "marker": {
          "size": 12,
          "symbol": "circle"
         },
         "mode": "lines+markers",
         "name": "Peanuts",
         "text": "",
         "type": "scatter",
         "uid": "d3899c8a-192e-41b9-aa18-5b5e61348025",
         "x": [
          2015,
          2016,
          2017,
          2018,
          2019,
          2020,
          2021,
          2022,
          2023,
          2024,
          2025,
          2026,
          2027,
          2028,
          2029,
          2030,
          2031,
          2032,
          2033,
          2034,
          2035,
          2036,
          2037,
          2038,
          2039,
          2040
         ],
         "y": [
          1.9537714104292652,
          1.9882805762299887,
          2.0252202010966545,
          1.9759108241008525,
          2.00084655116559,
          2.003878968160508,
          2.022516189510678,
          2.0424671582942353,
          2.061529313053402,
          2.0780554696256517,
          2.093415380851041,
          2.1120440141733527,
          2.130256499339438,
          2.146193727814579,
          2.099992618607401,
          2.14087711117495,
          2.1683281290139704,
          2.197920812894297,
          2.2177973827143904,
          2.239303907640717,
          2.2668572968708447,
          2.265966031904553,
          2.2869958588606156,
          2.309784850334676,
          2.3257737337185227,
          2.350988620305903
         ]
        },
        {
         "line": {
          "color": "rgba(255, 215, 0, 1.0)",
          "dash": "solid",
          "shape": "linear",
          "width": 1.3
         },
         "marker": {
          "size": 12,
          "symbol": "circle"
         },
         "mode": "lines+markers",
         "name": "Maize",
         "text": "",
         "type": "scatter",
         "uid": "7213ee2f-8fee-46a1-be33-4b756b0b188a",
         "x": [
          2015,
          2016,
          2017,
          2018,
          2019,
          2020,
          2021,
          2022,
          2023,
          2024,
          2025,
          2026,
          2027,
          2028,
          2029,
          2030,
          2031,
          2032,
          2033,
          2034,
          2035,
          2036,
          2037,
          2038,
          2039,
          2040
         ],
         "y": [
          6.51179508132473,
          6.35394481709519,
          6.185102523745069,
          6.243811419757656,
          6.299981783304128,
          6.371373616422404,
          6.309131683398143,
          6.378679677146496,
          6.449611377616191,
          6.520589521947979,
          6.587433751449308,
          6.556910003515487,
          6.635611365588654,
          6.7168645757064525,
          6.800115639801623,
          7.026784307492461,
          7.042673114887917,
          7.065545687665545,
          7.148967136000494,
          7.236190847351871,
          7.314908990366507,
          7.404711535244049,
          7.498508312341216,
          7.592881410685132,
          7.694331318356339,
          7.790000016315232
         ]
        },
        {
         "line": {
          "color": "rgba(0, 128, 0, 1.0)",
          "dash": "solid",
          "shape": "linear",
          "width": 1.3
         },
         "marker": {
          "size": 12,
          "symbol": "circle"
         },
         "mode": "lines+markers",
         "name": "Rice",
         "text": "",
         "type": "scatter",
         "uid": "f7413e54-eebe-45c8-a198-58d480a2aabd",
         "x": [
          2015,
          2016,
          2017,
          2018,
          2019,
          2020,
          2021,
          2022,
          2023,
          2024,
          2025,
          2026,
          2027,
          2028,
          2029,
          2030,
          2031,
          2032,
          2033,
          2034,
          2035,
          2036,
          2037,
          2038,
          2039,
          2040
         ],
         "y": [
          5.2120309842407275,
          5.215475892892121,
          5.261321174579654,
          5.308627823251657,
          5.356186729146551,
          5.404633277530498,
          5.442040850232948,
          5.4598584834440915,
          5.47789975493688,
          5.49263946666127,
          5.52907699887208,
          5.583842501121477,
          5.644710110006652,
          5.702711415633006,
          5.761857622568555,
          5.840608630714224,
          5.868198649832535,
          5.938275979894996,
          6.003746530605342,
          6.067603715623039,
          6.132019531921607,
          6.174555944182779,
          6.214276000787451,
          6.256102225011071,
          6.310056547914286,
          6.3599785936618485
         ]
        },
        {
         "line": {
          "color": "rgba(178, 34, 34, 1.0)",
          "dash": "solid",
          "shape": "linear",
          "width": 1.3
         },
         "marker": {
          "size": 12,
          "symbol": "circle"
         },
         "mode": "lines+markers",
         "name": "Soybean",
         "text": "",
         "type": "scatter",
         "uid": "b8c471c4-c2d5-4bd8-a5f8-f0a88d9a1895",
         "x": [
          2015,
          2016,
          2017,
          2018,
          2019,
          2020,
          2021,
          2022,
          2023,
          2024,
          2025,
          2026,
          2027,
          2028,
          2029,
          2030,
          2031,
          2032,
          2033,
          2034,
          2035,
          2036,
          2037,
          2038,
          2039,
          2040
         ],
         "y": [
          2.677800409545628,
          2.704959680204507,
          2.732900701054307,
          2.7607817864587427,
          2.7876995003098504,
          2.815427833538725,
          2.838015588204999,
          2.861567862158729,
          2.8844165298088256,
          2.908258812123558,
          2.92937419909005,
          2.9528164329981115,
          2.9772812774296757,
          3.0009449385604485,
          2.9077662677187406,
          3.0263066446450755,
          3.0794840298207378,
          3.104485618289123,
          3.1308362413012496,
          3.1409323676977308,
          3.159316221579167,
          3.199328855297994,
          3.230762425379038,
          3.26541931120413,
          3.2798612707591417,
          3.334143103416531
         ]
        },
        {
         "line": {
          "color": "rgba(128, 0, 128, 1.0)",
          "dash": "solid",
          "shape": "linear",
          "width": 1.3
         },
         "marker": {
          "size": 12,
          "symbol": "circle"
         },
         "mode": "lines+markers",
         "name": "Sugarcane",
         "text": "",
         "type": "scatter",
         "uid": "06d2ef76-ba1f-4a33-bfb6-f7f18b54a5b1",
         "x": [
          2015,
          2016,
          2017,
          2018,
          2019,
          2020,
          2021,
          2022,
          2023,
          2024,
          2025,
          2026,
          2027,
          2028,
          2029,
          2030,
          2031,
          2032,
          2033,
          2034,
          2035,
          2036,
          2037,
          2038,
          2039,
          2040
         ],
         "y": [
          8.979403894784069,
          8.979382040342132,
          8.996847862831894,
          9.015198655294803,
          9.031230342036764,
          9.044432351769506,
          9.033380120334273,
          9.04878363913527,
          9.064279911930358,
          9.079854136278955,
          9.086276069445107,
          9.072533900201572,
          9.088044939036699,
          9.125542609323778,
          9.15200373687369,
          9.217725452438247,
          9.221910696691412,
          9.238640267957413,
          9.27151325457539,
          9.294603383963233,
          9.324637756369377,
          9.35377341207362,
          9.387516070449943,
          9.420121314788695,
          9.43681310848252,
          9.451184949648196
         ]
        },
        {
         "line": {
          "color": "rgba(255, 0, 136, 1.0)",
          "dash": "solid",
          "shape": "linear",
          "width": 1.3
         },
         "marker": {
          "size": 12,
          "symbol": "circle"
         },
         "mode": "lines+markers",
         "name": "Tea",
         "text": "",
         "type": "scatter",
         "uid": "a778ff86-1198-42be-a41d-6ba37399c07a",
         "x": [
          2015,
          2016,
          2017,
          2018,
          2019,
          2020,
          2021,
          2022,
          2023,
          2024,
          2025,
          2026,
          2027,
          2028,
          2029,
          2030,
          2031,
          2032,
          2033,
          2034,
          2035,
          2036,
          2037,
          2038,
          2039,
          2040
         ],
         "y": [
          0.21976185724626804,
          0.21977734238666088,
          0.22026638364249612,
          0.2210872537455681,
          0.22206140524815357,
          0.22301094560504045,
          0.223674733746704,
          0.22431941789271775,
          0.22495991345282887,
          0.22560010934375807,
          0.22647328587718277,
          0.22737025271254896,
          0.22783230738062757,
          0.227529373038339,
          0.228055700231823,
          0.24342283429475464,
          0.24314977150229392,
          0.24297378886741214,
          0.2430137039752797,
          0.2433605562750138,
          0.2437092609467162,
          0.24400264887380133,
          0.24452639308799823,
          0.24503892684866668,
          0.24563054208328158,
          0.24627829872734183
         ]
        }
       ],
       "layout": {
        "legend": {
         "bgcolor": "#FFFFFF",
         "font": {
          "color": "#4D5663"
         }
        },
        "paper_bgcolor": "#FFFFFF",
        "plot_bgcolor": "#FFFFFF",
        "title": {
         "font": {
          "color": "#4D5663"
         },
         "text": "Yield (tonnes/hectare)"
        },
        "xaxis": {
         "gridcolor": "#E1E5ED",
         "showgrid": true,
         "tickfont": {
          "color": "#4D5663"
         },
         "title": {
          "font": {
           "color": "#4D5663"
          },
          "text": "Year"
         },
         "zerolinecolor": "#E1E5ED"
        },
        "yaxis": {
         "gridcolor": "#E1E5ED",
         "showgrid": true,
         "tickfont": {
          "color": "#4D5663"
         },
         "title": {
          "font": {
           "color": "#4D5663"
          },
          "text": "Yield (t/ha)"
         },
         "zerolinecolor": "#E1E5ED"
        }
       }
      },
      "text/html": [
       "<div id=\"195cec46-381c-48a9-9203-3976bf88032e\" style=\"height: 525px; width: 100%;\" class=\"plotly-graph-div\"></div><script type=\"text/javascript\">require([\"plotly\"], function(Plotly) { window.PLOTLYENV=window.PLOTLYENV || {};window.PLOTLYENV.BASE_URL=\"https://plot.ly\";\n",
       "if (document.getElementById(\"195cec46-381c-48a9-9203-3976bf88032e\")) {\n",
       "    Plotly.newPlot(\"195cec46-381c-48a9-9203-3976bf88032e\", [{\"line\": {\"color\": \"rgba(165, 42, 42, 1.0)\", \"dash\": \"solid\", \"shape\": \"linear\", \"width\": 1.3}, \"marker\": {\"size\": 12, \"symbol\": \"circle\"}, \"mode\": \"lines+markers\", \"name\": \"Coffee\", \"text\": \"\", \"x\": [2015, 2016, 2017, 2018, 2019, 2020, 2021, 2022, 2023, 2024, 2025, 2026, 2027, 2028, 2029, 2030, 2031, 2032, 2033, 2034, 2035, 2036, 2037, 2038, 2039, 2040], \"y\": [1.6477484708130512, 1.6552318500847987, 1.645002951290677, 1.632462904578861, 1.6263586395277303, 1.627124361915084, 1.6289146683755478, 1.631216926721468, 1.6334211087934103, 1.6354683647234394, 1.6293453873071737, 1.6098431146796623, 1.5253964442652401, 1.4474353101730322, 1.37882111719609, 1.3881564112211715, 1.3436732589079268, 1.255228863122092, 1.1625979328548102, 1.080904159884235, 1.018178283265734, 0.9765046385552603, 0.9388548044361639, 0.9042378440711312, 0.8835833028563862, 0.8654235160548363], \"type\": \"scatter\", \"uid\": \"eabf8314-b0d9-4549-ad98-a8f10b5356dd\"}, {\"line\": {\"color\": \"rgba(128, 128, 128, 1.0)\", \"dash\": \"solid\", \"shape\": \"linear\", \"width\": 1.3}, \"marker\": {\"size\": 12, \"symbol\": \"circle\"}, \"mode\": \"lines+markers\", \"name\": \"Cotton\", \"text\": \"\", \"x\": [2015, 2016, 2017, 2018, 2019, 2020, 2021, 2022, 2023, 2024, 2025, 2026, 2027, 2028, 2029, 2030, 2031, 2032, 2033, 2034, 2035, 2036, 2037, 2038, 2039, 2040], \"y\": [0.43165964500310794, 0.44338872081539804, 0.43780141601395484, 0.4400380279777265, 0.44265118006550297, 0.4087650950614672, 0.3817017397495687, 0.37056208155003784, 0.36184541969112255, 0.3635274664868754, 0.3645285393839607, 0.36641133762286016, 0.367797893071112, 0.36955401899636203, 0.37113613903710296, 0.46176547914550037, 0.4316585004072698, 0.39549991443076915, 0.39791675797435133, 0.3493065160202775, 0.23956098874554457, 0.1987024587513211, 0.18369467541170534, 0.17013294723200256, 0.16368265068381038, 0.16040489198061544], \"type\": \"scatter\", \"uid\": \"a7c168e9-bdcb-488c-8348-2bfde73cefa5\"}, {\"line\": {\"color\": \"rgba(255, 153, 51, 1.0)\", \"dash\": \"solid\", \"shape\": \"linear\", \"width\": 1.3}, \"marker\": {\"size\": 12, \"symbol\": \"circle\"}, \"mode\": \"lines+markers\", \"name\": \"Peanuts\", \"text\": \"\", \"x\": [2015, 2016, 2017, 2018, 2019, 2020, 2021, 2022, 2023, 2024, 2025, 2026, 2027, 2028, 2029, 2030, 2031, 2032, 2033, 2034, 2035, 2036, 2037, 2038, 2039, 2040], \"y\": [1.9537714104292652, 1.9882805762299887, 2.0252202010966545, 1.9759108241008525, 2.00084655116559, 2.003878968160508, 2.022516189510678, 2.0424671582942353, 2.061529313053402, 2.0780554696256517, 2.093415380851041, 2.1120440141733527, 2.130256499339438, 2.146193727814579, 2.099992618607401, 2.14087711117495, 2.1683281290139704, 2.197920812894297, 2.2177973827143904, 2.239303907640717, 2.2668572968708447, 2.265966031904553, 2.2869958588606156, 2.309784850334676, 2.3257737337185227, 2.350988620305903], \"type\": \"scatter\", \"uid\": \"13d7ec06-5076-4a0d-a22c-ac9f64a2975b\"}, {\"line\": {\"color\": \"rgba(255, 215, 0, 1.0)\", \"dash\": \"solid\", \"shape\": \"linear\", \"width\": 1.3}, \"marker\": {\"size\": 12, \"symbol\": \"circle\"}, \"mode\": \"lines+markers\", \"name\": \"Maize\", \"text\": \"\", \"x\": [2015, 2016, 2017, 2018, 2019, 2020, 2021, 2022, 2023, 2024, 2025, 2026, 2027, 2028, 2029, 2030, 2031, 2032, 2033, 2034, 2035, 2036, 2037, 2038, 2039, 2040], \"y\": [6.51179508132473, 6.35394481709519, 6.185102523745069, 6.243811419757656, 6.299981783304128, 6.371373616422404, 6.309131683398143, 6.378679677146496, 6.449611377616191, 6.520589521947979, 6.587433751449308, 6.556910003515487, 6.635611365588654, 6.7168645757064525, 6.800115639801623, 7.026784307492461, 7.042673114887917, 7.065545687665545, 7.148967136000494, 7.236190847351871, 7.314908990366507, 7.404711535244049, 7.498508312341216, 7.592881410685132, 7.694331318356339, 7.790000016315232], \"type\": \"scatter\", \"uid\": \"2ca3a3a4-83b5-4266-9f24-95be562a9525\"}, {\"line\": {\"color\": \"rgba(0, 128, 0, 1.0)\", \"dash\": \"solid\", \"shape\": \"linear\", \"width\": 1.3}, \"marker\": {\"size\": 12, \"symbol\": \"circle\"}, \"mode\": \"lines+markers\", \"name\": \"Rice\", \"text\": \"\", \"x\": [2015, 2016, 2017, 2018, 2019, 2020, 2021, 2022, 2023, 2024, 2025, 2026, 2027, 2028, 2029, 2030, 2031, 2032, 2033, 2034, 2035, 2036, 2037, 2038, 2039, 2040], \"y\": [5.2120309842407275, 5.215475892892121, 5.261321174579654, 5.308627823251657, 5.356186729146551, 5.404633277530498, 5.442040850232948, 5.4598584834440915, 5.47789975493688, 5.49263946666127, 5.52907699887208, 5.583842501121477, 5.644710110006652, 5.702711415633006, 5.761857622568555, 5.840608630714224, 5.868198649832535, 5.938275979894996, 6.003746530605342, 6.067603715623039, 6.132019531921607, 6.174555944182779, 6.214276000787451, 6.256102225011071, 6.310056547914286, 6.3599785936618485], \"type\": \"scatter\", \"uid\": \"566408ae-112b-4a04-8828-7cacdc52a0ae\"}, {\"line\": {\"color\": \"rgba(178, 34, 34, 1.0)\", \"dash\": \"solid\", \"shape\": \"linear\", \"width\": 1.3}, \"marker\": {\"size\": 12, \"symbol\": \"circle\"}, \"mode\": \"lines+markers\", \"name\": \"Soybean\", \"text\": \"\", \"x\": [2015, 2016, 2017, 2018, 2019, 2020, 2021, 2022, 2023, 2024, 2025, 2026, 2027, 2028, 2029, 2030, 2031, 2032, 2033, 2034, 2035, 2036, 2037, 2038, 2039, 2040], \"y\": [2.677800409545628, 2.704959680204507, 2.732900701054307, 2.7607817864587427, 2.7876995003098504, 2.815427833538725, 2.838015588204999, 2.861567862158729, 2.8844165298088256, 2.908258812123558, 2.92937419909005, 2.9528164329981115, 2.9772812774296757, 3.0009449385604485, 2.9077662677187406, 3.0263066446450755, 3.0794840298207378, 3.104485618289123, 3.1308362413012496, 3.1409323676977308, 3.159316221579167, 3.199328855297994, 3.230762425379038, 3.26541931120413, 3.2798612707591417, 3.334143103416531], \"type\": \"scatter\", \"uid\": \"bfaf6d94-aa10-4db7-89ed-c19be8a2a974\"}, {\"line\": {\"color\": \"rgba(128, 0, 128, 1.0)\", \"dash\": \"solid\", \"shape\": \"linear\", \"width\": 1.3}, \"marker\": {\"size\": 12, \"symbol\": \"circle\"}, \"mode\": \"lines+markers\", \"name\": \"Sugarcane\", \"text\": \"\", \"x\": [2015, 2016, 2017, 2018, 2019, 2020, 2021, 2022, 2023, 2024, 2025, 2026, 2027, 2028, 2029, 2030, 2031, 2032, 2033, 2034, 2035, 2036, 2037, 2038, 2039, 2040], \"y\": [8.979403894784069, 8.979382040342132, 8.996847862831894, 9.015198655294803, 9.031230342036764, 9.044432351769506, 9.033380120334273, 9.04878363913527, 9.064279911930358, 9.079854136278955, 9.086276069445107, 9.072533900201572, 9.088044939036699, 9.125542609323778, 9.15200373687369, 9.217725452438247, 9.221910696691412, 9.238640267957413, 9.27151325457539, 9.294603383963233, 9.324637756369377, 9.35377341207362, 9.387516070449943, 9.420121314788695, 9.43681310848252, 9.451184949648196], \"type\": \"scatter\", \"uid\": \"7566eddf-b51a-4ac9-9fb1-1b71ab417b55\"}, {\"line\": {\"color\": \"rgba(255, 0, 136, 1.0)\", \"dash\": \"solid\", \"shape\": \"linear\", \"width\": 1.3}, \"marker\": {\"size\": 12, \"symbol\": \"circle\"}, \"mode\": \"lines+markers\", \"name\": \"Tea\", \"text\": \"\", \"x\": [2015, 2016, 2017, 2018, 2019, 2020, 2021, 2022, 2023, 2024, 2025, 2026, 2027, 2028, 2029, 2030, 2031, 2032, 2033, 2034, 2035, 2036, 2037, 2038, 2039, 2040], \"y\": [0.21976185724626804, 0.21977734238666088, 0.22026638364249612, 0.2210872537455681, 0.22206140524815357, 0.22301094560504045, 0.223674733746704, 0.22431941789271775, 0.22495991345282887, 0.22560010934375807, 0.22647328587718277, 0.22737025271254896, 0.22783230738062757, 0.227529373038339, 0.228055700231823, 0.24342283429475464, 0.24314977150229392, 0.24297378886741214, 0.2430137039752797, 0.2433605562750138, 0.2437092609467162, 0.24400264887380133, 0.24452639308799823, 0.24503892684866668, 0.24563054208328158, 0.24627829872734183], \"type\": \"scatter\", \"uid\": \"32f03fd6-12b7-4ea4-90b4-5604b51378a8\"}], {\"legend\": {\"bgcolor\": \"#FFFFFF\", \"font\": {\"color\": \"#4D5663\"}}, \"paper_bgcolor\": \"#FFFFFF\", \"plot_bgcolor\": \"#FFFFFF\", \"title\": {\"text\": \"Yield (tonnes/hectare)\", \"font\": {\"color\": \"#4D5663\"}}, \"xaxis\": {\"gridcolor\": \"#E1E5ED\", \"showgrid\": true, \"tickfont\": {\"color\": \"#4D5663\"}, \"title\": {\"text\": \"Year\", \"font\": {\"color\": \"#4D5663\"}}, \"zerolinecolor\": \"#E1E5ED\"}, \"yaxis\": {\"gridcolor\": \"#E1E5ED\", \"showgrid\": true, \"tickfont\": {\"color\": \"#4D5663\"}, \"title\": {\"text\": \"Yield (t/ha)\", \"font\": {\"color\": \"#4D5663\"}}, \"zerolinecolor\": \"#E1E5ED\"}}, {\"showLink\": true, \"linkText\": \"Export to plot.ly\", \"plotlyServerURL\": \"https://plot.ly\"}); \n",
       "}\n",
       "});</script><script type=\"text/javascript\">window.addEventListener(\"resize\", function(){if (document.getElementById(\"195cec46-381c-48a9-9203-3976bf88032e\")) {window._Plotly.Plots.resize(document.getElementById(\"195cec46-381c-48a9-9203-3976bf88032e\"));};})</script>"
      ],
      "text/vnd.plotly.v1+html": [
       "<div id=\"195cec46-381c-48a9-9203-3976bf88032e\" style=\"height: 525px; width: 100%;\" class=\"plotly-graph-div\"></div><script type=\"text/javascript\">require([\"plotly\"], function(Plotly) { window.PLOTLYENV=window.PLOTLYENV || {};window.PLOTLYENV.BASE_URL=\"https://plot.ly\";\n",
       "if (document.getElementById(\"195cec46-381c-48a9-9203-3976bf88032e\")) {\n",
       "    Plotly.newPlot(\"195cec46-381c-48a9-9203-3976bf88032e\", [{\"line\": {\"color\": \"rgba(165, 42, 42, 1.0)\", \"dash\": \"solid\", \"shape\": \"linear\", \"width\": 1.3}, \"marker\": {\"size\": 12, \"symbol\": \"circle\"}, \"mode\": \"lines+markers\", \"name\": \"Coffee\", \"text\": \"\", \"x\": [2015, 2016, 2017, 2018, 2019, 2020, 2021, 2022, 2023, 2024, 2025, 2026, 2027, 2028, 2029, 2030, 2031, 2032, 2033, 2034, 2035, 2036, 2037, 2038, 2039, 2040], \"y\": [1.6477484708130512, 1.6552318500847987, 1.645002951290677, 1.632462904578861, 1.6263586395277303, 1.627124361915084, 1.6289146683755478, 1.631216926721468, 1.6334211087934103, 1.6354683647234394, 1.6293453873071737, 1.6098431146796623, 1.5253964442652401, 1.4474353101730322, 1.37882111719609, 1.3881564112211715, 1.3436732589079268, 1.255228863122092, 1.1625979328548102, 1.080904159884235, 1.018178283265734, 0.9765046385552603, 0.9388548044361639, 0.9042378440711312, 0.8835833028563862, 0.8654235160548363], \"type\": \"scatter\", \"uid\": \"eabf8314-b0d9-4549-ad98-a8f10b5356dd\"}, {\"line\": {\"color\": \"rgba(128, 128, 128, 1.0)\", \"dash\": \"solid\", \"shape\": \"linear\", \"width\": 1.3}, \"marker\": {\"size\": 12, \"symbol\": \"circle\"}, \"mode\": \"lines+markers\", \"name\": \"Cotton\", \"text\": \"\", \"x\": [2015, 2016, 2017, 2018, 2019, 2020, 2021, 2022, 2023, 2024, 2025, 2026, 2027, 2028, 2029, 2030, 2031, 2032, 2033, 2034, 2035, 2036, 2037, 2038, 2039, 2040], \"y\": [0.43165964500310794, 0.44338872081539804, 0.43780141601395484, 0.4400380279777265, 0.44265118006550297, 0.4087650950614672, 0.3817017397495687, 0.37056208155003784, 0.36184541969112255, 0.3635274664868754, 0.3645285393839607, 0.36641133762286016, 0.367797893071112, 0.36955401899636203, 0.37113613903710296, 0.46176547914550037, 0.4316585004072698, 0.39549991443076915, 0.39791675797435133, 0.3493065160202775, 0.23956098874554457, 0.1987024587513211, 0.18369467541170534, 0.17013294723200256, 0.16368265068381038, 0.16040489198061544], \"type\": \"scatter\", \"uid\": \"a7c168e9-bdcb-488c-8348-2bfde73cefa5\"}, {\"line\": {\"color\": \"rgba(255, 153, 51, 1.0)\", \"dash\": \"solid\", \"shape\": \"linear\", \"width\": 1.3}, \"marker\": {\"size\": 12, \"symbol\": \"circle\"}, \"mode\": \"lines+markers\", \"name\": \"Peanuts\", \"text\": \"\", \"x\": [2015, 2016, 2017, 2018, 2019, 2020, 2021, 2022, 2023, 2024, 2025, 2026, 2027, 2028, 2029, 2030, 2031, 2032, 2033, 2034, 2035, 2036, 2037, 2038, 2039, 2040], \"y\": [1.9537714104292652, 1.9882805762299887, 2.0252202010966545, 1.9759108241008525, 2.00084655116559, 2.003878968160508, 2.022516189510678, 2.0424671582942353, 2.061529313053402, 2.0780554696256517, 2.093415380851041, 2.1120440141733527, 2.130256499339438, 2.146193727814579, 2.099992618607401, 2.14087711117495, 2.1683281290139704, 2.197920812894297, 2.2177973827143904, 2.239303907640717, 2.2668572968708447, 2.265966031904553, 2.2869958588606156, 2.309784850334676, 2.3257737337185227, 2.350988620305903], \"type\": \"scatter\", \"uid\": \"13d7ec06-5076-4a0d-a22c-ac9f64a2975b\"}, {\"line\": {\"color\": \"rgba(255, 215, 0, 1.0)\", \"dash\": \"solid\", \"shape\": \"linear\", \"width\": 1.3}, \"marker\": {\"size\": 12, \"symbol\": \"circle\"}, \"mode\": \"lines+markers\", \"name\": \"Maize\", \"text\": \"\", \"x\": [2015, 2016, 2017, 2018, 2019, 2020, 2021, 2022, 2023, 2024, 2025, 2026, 2027, 2028, 2029, 2030, 2031, 2032, 2033, 2034, 2035, 2036, 2037, 2038, 2039, 2040], \"y\": [6.51179508132473, 6.35394481709519, 6.185102523745069, 6.243811419757656, 6.299981783304128, 6.371373616422404, 6.309131683398143, 6.378679677146496, 6.449611377616191, 6.520589521947979, 6.587433751449308, 6.556910003515487, 6.635611365588654, 6.7168645757064525, 6.800115639801623, 7.026784307492461, 7.042673114887917, 7.065545687665545, 7.148967136000494, 7.236190847351871, 7.314908990366507, 7.404711535244049, 7.498508312341216, 7.592881410685132, 7.694331318356339, 7.790000016315232], \"type\": \"scatter\", \"uid\": \"2ca3a3a4-83b5-4266-9f24-95be562a9525\"}, {\"line\": {\"color\": \"rgba(0, 128, 0, 1.0)\", \"dash\": \"solid\", \"shape\": \"linear\", \"width\": 1.3}, \"marker\": {\"size\": 12, \"symbol\": \"circle\"}, \"mode\": \"lines+markers\", \"name\": \"Rice\", \"text\": \"\", \"x\": [2015, 2016, 2017, 2018, 2019, 2020, 2021, 2022, 2023, 2024, 2025, 2026, 2027, 2028, 2029, 2030, 2031, 2032, 2033, 2034, 2035, 2036, 2037, 2038, 2039, 2040], \"y\": [5.2120309842407275, 5.215475892892121, 5.261321174579654, 5.308627823251657, 5.356186729146551, 5.404633277530498, 5.442040850232948, 5.4598584834440915, 5.47789975493688, 5.49263946666127, 5.52907699887208, 5.583842501121477, 5.644710110006652, 5.702711415633006, 5.761857622568555, 5.840608630714224, 5.868198649832535, 5.938275979894996, 6.003746530605342, 6.067603715623039, 6.132019531921607, 6.174555944182779, 6.214276000787451, 6.256102225011071, 6.310056547914286, 6.3599785936618485], \"type\": \"scatter\", \"uid\": \"566408ae-112b-4a04-8828-7cacdc52a0ae\"}, {\"line\": {\"color\": \"rgba(178, 34, 34, 1.0)\", \"dash\": \"solid\", \"shape\": \"linear\", \"width\": 1.3}, \"marker\": {\"size\": 12, \"symbol\": \"circle\"}, \"mode\": \"lines+markers\", \"name\": \"Soybean\", \"text\": \"\", \"x\": [2015, 2016, 2017, 2018, 2019, 2020, 2021, 2022, 2023, 2024, 2025, 2026, 2027, 2028, 2029, 2030, 2031, 2032, 2033, 2034, 2035, 2036, 2037, 2038, 2039, 2040], \"y\": [2.677800409545628, 2.704959680204507, 2.732900701054307, 2.7607817864587427, 2.7876995003098504, 2.815427833538725, 2.838015588204999, 2.861567862158729, 2.8844165298088256, 2.908258812123558, 2.92937419909005, 2.9528164329981115, 2.9772812774296757, 3.0009449385604485, 2.9077662677187406, 3.0263066446450755, 3.0794840298207378, 3.104485618289123, 3.1308362413012496, 3.1409323676977308, 3.159316221579167, 3.199328855297994, 3.230762425379038, 3.26541931120413, 3.2798612707591417, 3.334143103416531], \"type\": \"scatter\", \"uid\": \"bfaf6d94-aa10-4db7-89ed-c19be8a2a974\"}, {\"line\": {\"color\": \"rgba(128, 0, 128, 1.0)\", \"dash\": \"solid\", \"shape\": \"linear\", \"width\": 1.3}, \"marker\": {\"size\": 12, \"symbol\": \"circle\"}, \"mode\": \"lines+markers\", \"name\": \"Sugarcane\", \"text\": \"\", \"x\": [2015, 2016, 2017, 2018, 2019, 2020, 2021, 2022, 2023, 2024, 2025, 2026, 2027, 2028, 2029, 2030, 2031, 2032, 2033, 2034, 2035, 2036, 2037, 2038, 2039, 2040], \"y\": [8.979403894784069, 8.979382040342132, 8.996847862831894, 9.015198655294803, 9.031230342036764, 9.044432351769506, 9.033380120334273, 9.04878363913527, 9.064279911930358, 9.079854136278955, 9.086276069445107, 9.072533900201572, 9.088044939036699, 9.125542609323778, 9.15200373687369, 9.217725452438247, 9.221910696691412, 9.238640267957413, 9.27151325457539, 9.294603383963233, 9.324637756369377, 9.35377341207362, 9.387516070449943, 9.420121314788695, 9.43681310848252, 9.451184949648196], \"type\": \"scatter\", \"uid\": \"7566eddf-b51a-4ac9-9fb1-1b71ab417b55\"}, {\"line\": {\"color\": \"rgba(255, 0, 136, 1.0)\", \"dash\": \"solid\", \"shape\": \"linear\", \"width\": 1.3}, \"marker\": {\"size\": 12, \"symbol\": \"circle\"}, \"mode\": \"lines+markers\", \"name\": \"Tea\", \"text\": \"\", \"x\": [2015, 2016, 2017, 2018, 2019, 2020, 2021, 2022, 2023, 2024, 2025, 2026, 2027, 2028, 2029, 2030, 2031, 2032, 2033, 2034, 2035, 2036, 2037, 2038, 2039, 2040], \"y\": [0.21976185724626804, 0.21977734238666088, 0.22026638364249612, 0.2210872537455681, 0.22206140524815357, 0.22301094560504045, 0.223674733746704, 0.22431941789271775, 0.22495991345282887, 0.22560010934375807, 0.22647328587718277, 0.22737025271254896, 0.22783230738062757, 0.227529373038339, 0.228055700231823, 0.24342283429475464, 0.24314977150229392, 0.24297378886741214, 0.2430137039752797, 0.2433605562750138, 0.2437092609467162, 0.24400264887380133, 0.24452639308799823, 0.24503892684866668, 0.24563054208328158, 0.24627829872734183], \"type\": \"scatter\", \"uid\": \"32f03fd6-12b7-4ea4-90b4-5604b51378a8\"}], {\"legend\": {\"bgcolor\": \"#FFFFFF\", \"font\": {\"color\": \"#4D5663\"}}, \"paper_bgcolor\": \"#FFFFFF\", \"plot_bgcolor\": \"#FFFFFF\", \"title\": {\"text\": \"Yield (tonnes/hectare)\", \"font\": {\"color\": \"#4D5663\"}}, \"xaxis\": {\"gridcolor\": \"#E1E5ED\", \"showgrid\": true, \"tickfont\": {\"color\": \"#4D5663\"}, \"title\": {\"text\": \"Year\", \"font\": {\"color\": \"#4D5663\"}}, \"zerolinecolor\": \"#E1E5ED\"}, \"yaxis\": {\"gridcolor\": \"#E1E5ED\", \"showgrid\": true, \"tickfont\": {\"color\": \"#4D5663\"}, \"title\": {\"text\": \"Yield (t/ha)\", \"font\": {\"color\": \"#4D5663\"}}, \"zerolinecolor\": \"#E1E5ED\"}}, {\"showLink\": true, \"linkText\": \"Export to plot.ly\", \"plotlyServerURL\": \"https://plot.ly\"}); \n",
       "}\n",
       "});</script><script type=\"text/javascript\">window.addEventListener(\"resize\", function(){if (document.getElementById(\"195cec46-381c-48a9-9203-3976bf88032e\")) {window._Plotly.Plots.resize(document.getElementById(\"195cec46-381c-48a9-9203-3976bf88032e\"));};})</script>"
      ]
     },
     "metadata": {},
     "output_type": "display_data"
    }
   ],
   "source": [
    "crops_yield_df = crops_prod_df/crops_total_df\n",
    "crops_yield_df['y'] = years\n",
    "\n",
    "crops_yield_df.iplot(x='y',\n",
    "                     mode='lines+markers', \n",
    "                     xTitle='Year',\n",
    "                     yTitle='Yield (t/ha)',\n",
    "                     color=[color_dict[x] for x in crops_yield_df.columns if x != 'y'],\n",
    "                     title='Yield (tonnes/hectare)')"
   ]
  },
  {
   "cell_type": "code",
   "execution_count": null,
   "metadata": {},
   "outputs": [],
   "source": []
  }
 ],
 "metadata": {
  "kernelspec": {
   "display_name": "Python 3",
   "language": "python",
   "name": "python3"
  },
  "language_info": {
   "codemirror_mode": {
    "name": "ipython",
    "version": 3
   },
   "file_extension": ".py",
   "mimetype": "text/x-python",
   "name": "python",
   "nbconvert_exporter": "python",
   "pygments_lexer": "ipython3",
   "version": "3.7.0"
  }
 },
 "nbformat": 4,
 "nbformat_minor": 1
}
